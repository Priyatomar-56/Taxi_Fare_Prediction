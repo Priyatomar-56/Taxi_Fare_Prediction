{
  "cells": [
    {
      "cell_type": "markdown",
      "metadata": {
        "id": "view-in-github",
        "colab_type": "text"
      },
      "source": [
        "<a href=\"https://colab.research.google.com/github/Priyatomar-56/Taxi_Fare_Prediction/blob/main/Taxi_Fare_Prediction.ipynb\" target=\"_parent\"><img src=\"https://colab.research.google.com/assets/colab-badge.svg\" alt=\"Open In Colab\"/></a>"
      ]
    },
    {
      "cell_type": "code",
      "execution_count": null,
      "metadata": {
        "id": "e62HW44B9wD5"
      },
      "outputs": [],
      "source": [
        "!pip install -q kaggle"
      ]
    },
    {
      "cell_type": "code",
      "execution_count": null,
      "metadata": {
        "colab": {
          "base_uri": "https://localhost:8080/",
          "height": 92
        },
        "id": "nRs7eojUiqv9",
        "outputId": "07f58b37-2407-411c-9dbe-596463ba9e2e"
      },
      "outputs": [
        {
          "output_type": "display_data",
          "data": {
            "text/plain": [
              "<IPython.core.display.HTML object>"
            ],
            "text/html": [
              "\n",
              "     <input type=\"file\" id=\"files-7c16452d-42a0-413f-a26b-6ed2cc0f6ccc\" name=\"files[]\" multiple disabled\n",
              "        style=\"border:none\" />\n",
              "     <output id=\"result-7c16452d-42a0-413f-a26b-6ed2cc0f6ccc\">\n",
              "      Upload widget is only available when the cell has been executed in the\n",
              "      current browser session. Please rerun this cell to enable.\n",
              "      </output>\n",
              "      <script>// Copyright 2017 Google LLC\n",
              "//\n",
              "// Licensed under the Apache License, Version 2.0 (the \"License\");\n",
              "// you may not use this file except in compliance with the License.\n",
              "// You may obtain a copy of the License at\n",
              "//\n",
              "//      http://www.apache.org/licenses/LICENSE-2.0\n",
              "//\n",
              "// Unless required by applicable law or agreed to in writing, software\n",
              "// distributed under the License is distributed on an \"AS IS\" BASIS,\n",
              "// WITHOUT WARRANTIES OR CONDITIONS OF ANY KIND, either express or implied.\n",
              "// See the License for the specific language governing permissions and\n",
              "// limitations under the License.\n",
              "\n",
              "/**\n",
              " * @fileoverview Helpers for google.colab Python module.\n",
              " */\n",
              "(function(scope) {\n",
              "function span(text, styleAttributes = {}) {\n",
              "  const element = document.createElement('span');\n",
              "  element.textContent = text;\n",
              "  for (const key of Object.keys(styleAttributes)) {\n",
              "    element.style[key] = styleAttributes[key];\n",
              "  }\n",
              "  return element;\n",
              "}\n",
              "\n",
              "// Max number of bytes which will be uploaded at a time.\n",
              "const MAX_PAYLOAD_SIZE = 100 * 1024;\n",
              "\n",
              "function _uploadFiles(inputId, outputId) {\n",
              "  const steps = uploadFilesStep(inputId, outputId);\n",
              "  const outputElement = document.getElementById(outputId);\n",
              "  // Cache steps on the outputElement to make it available for the next call\n",
              "  // to uploadFilesContinue from Python.\n",
              "  outputElement.steps = steps;\n",
              "\n",
              "  return _uploadFilesContinue(outputId);\n",
              "}\n",
              "\n",
              "// This is roughly an async generator (not supported in the browser yet),\n",
              "// where there are multiple asynchronous steps and the Python side is going\n",
              "// to poll for completion of each step.\n",
              "// This uses a Promise to block the python side on completion of each step,\n",
              "// then passes the result of the previous step as the input to the next step.\n",
              "function _uploadFilesContinue(outputId) {\n",
              "  const outputElement = document.getElementById(outputId);\n",
              "  const steps = outputElement.steps;\n",
              "\n",
              "  const next = steps.next(outputElement.lastPromiseValue);\n",
              "  return Promise.resolve(next.value.promise).then((value) => {\n",
              "    // Cache the last promise value to make it available to the next\n",
              "    // step of the generator.\n",
              "    outputElement.lastPromiseValue = value;\n",
              "    return next.value.response;\n",
              "  });\n",
              "}\n",
              "\n",
              "/**\n",
              " * Generator function which is called between each async step of the upload\n",
              " * process.\n",
              " * @param {string} inputId Element ID of the input file picker element.\n",
              " * @param {string} outputId Element ID of the output display.\n",
              " * @return {!Iterable<!Object>} Iterable of next steps.\n",
              " */\n",
              "function* uploadFilesStep(inputId, outputId) {\n",
              "  const inputElement = document.getElementById(inputId);\n",
              "  inputElement.disabled = false;\n",
              "\n",
              "  const outputElement = document.getElementById(outputId);\n",
              "  outputElement.innerHTML = '';\n",
              "\n",
              "  const pickedPromise = new Promise((resolve) => {\n",
              "    inputElement.addEventListener('change', (e) => {\n",
              "      resolve(e.target.files);\n",
              "    });\n",
              "  });\n",
              "\n",
              "  const cancel = document.createElement('button');\n",
              "  inputElement.parentElement.appendChild(cancel);\n",
              "  cancel.textContent = 'Cancel upload';\n",
              "  const cancelPromise = new Promise((resolve) => {\n",
              "    cancel.onclick = () => {\n",
              "      resolve(null);\n",
              "    };\n",
              "  });\n",
              "\n",
              "  // Wait for the user to pick the files.\n",
              "  const files = yield {\n",
              "    promise: Promise.race([pickedPromise, cancelPromise]),\n",
              "    response: {\n",
              "      action: 'starting',\n",
              "    }\n",
              "  };\n",
              "\n",
              "  cancel.remove();\n",
              "\n",
              "  // Disable the input element since further picks are not allowed.\n",
              "  inputElement.disabled = true;\n",
              "\n",
              "  if (!files) {\n",
              "    return {\n",
              "      response: {\n",
              "        action: 'complete',\n",
              "      }\n",
              "    };\n",
              "  }\n",
              "\n",
              "  for (const file of files) {\n",
              "    const li = document.createElement('li');\n",
              "    li.append(span(file.name, {fontWeight: 'bold'}));\n",
              "    li.append(span(\n",
              "        `(${file.type || 'n/a'}) - ${file.size} bytes, ` +\n",
              "        `last modified: ${\n",
              "            file.lastModifiedDate ? file.lastModifiedDate.toLocaleDateString() :\n",
              "                                    'n/a'} - `));\n",
              "    const percent = span('0% done');\n",
              "    li.appendChild(percent);\n",
              "\n",
              "    outputElement.appendChild(li);\n",
              "\n",
              "    const fileDataPromise = new Promise((resolve) => {\n",
              "      const reader = new FileReader();\n",
              "      reader.onload = (e) => {\n",
              "        resolve(e.target.result);\n",
              "      };\n",
              "      reader.readAsArrayBuffer(file);\n",
              "    });\n",
              "    // Wait for the data to be ready.\n",
              "    let fileData = yield {\n",
              "      promise: fileDataPromise,\n",
              "      response: {\n",
              "        action: 'continue',\n",
              "      }\n",
              "    };\n",
              "\n",
              "    // Use a chunked sending to avoid message size limits. See b/62115660.\n",
              "    let position = 0;\n",
              "    do {\n",
              "      const length = Math.min(fileData.byteLength - position, MAX_PAYLOAD_SIZE);\n",
              "      const chunk = new Uint8Array(fileData, position, length);\n",
              "      position += length;\n",
              "\n",
              "      const base64 = btoa(String.fromCharCode.apply(null, chunk));\n",
              "      yield {\n",
              "        response: {\n",
              "          action: 'append',\n",
              "          file: file.name,\n",
              "          data: base64,\n",
              "        },\n",
              "      };\n",
              "\n",
              "      let percentDone = fileData.byteLength === 0 ?\n",
              "          100 :\n",
              "          Math.round((position / fileData.byteLength) * 100);\n",
              "      percent.textContent = `${percentDone}% done`;\n",
              "\n",
              "    } while (position < fileData.byteLength);\n",
              "  }\n",
              "\n",
              "  // All done.\n",
              "  yield {\n",
              "    response: {\n",
              "      action: 'complete',\n",
              "    }\n",
              "  };\n",
              "}\n",
              "\n",
              "scope.google = scope.google || {};\n",
              "scope.google.colab = scope.google.colab || {};\n",
              "scope.google.colab._files = {\n",
              "  _uploadFiles,\n",
              "  _uploadFilesContinue,\n",
              "};\n",
              "})(self);\n",
              "</script> "
            ]
          },
          "metadata": {}
        },
        {
          "output_type": "stream",
          "name": "stdout",
          "text": [
            "Saving kaggle.json to kaggle.json\n"
          ]
        },
        {
          "output_type": "execute_result",
          "data": {
            "text/plain": [
              "{'kaggle.json': b'{\"username\":\"priyatomar1\",\"key\":\"aee8051608a703bca74cb7d4a1385e19\"}'}"
            ]
          },
          "metadata": {},
          "execution_count": 5
        }
      ],
      "source": [
        "from google.colab import files\n",
        "files.upload()"
      ]
    },
    {
      "cell_type": "code",
      "execution_count": null,
      "metadata": {
        "id": "OmTCbsdjjUgk"
      },
      "outputs": [],
      "source": [
        "!mkdir ~/.kaggle\n",
        "!cp kaggle.json ~/.kaggle/\n",
        "!chmod 600 ~/.kaggle/kaggle.json"
      ]
    },
    {
      "cell_type": "code",
      "execution_count": null,
      "metadata": {
        "colab": {
          "base_uri": "https://localhost:8080/"
        },
        "id": "YT0cvPaIp8ZG",
        "outputId": "bd0b0ecc-c0d9-438c-d006-65ba0cefb51b"
      },
      "outputs": [
        {
          "output_type": "stream",
          "name": "stdout",
          "text": [
            "Downloading new-york-city-taxi-fare-prediction.zip to /content\n",
            "100% 1.55G/1.56G [00:18<00:00, 103MB/s] \n",
            "100% 1.56G/1.56G [00:18<00:00, 91.3MB/s]\n"
          ]
        }
      ],
      "source": [
        "!kaggle competitions download -c new-york-city-taxi-fare-prediction"
      ]
    },
    {
      "cell_type": "code",
      "execution_count": null,
      "metadata": {
        "colab": {
          "base_uri": "https://localhost:8080/"
        },
        "id": "UCte2TAoqHRY",
        "outputId": "4720e4b0-df5e-493a-85d3-210b1f25b218"
      },
      "outputs": [
        {
          "output_type": "stream",
          "name": "stdout",
          "text": [
            "Archive:  new-york-city-taxi-fare-prediction.zip\n",
            "  inflating: GCP-Coupons-Instructions.rtf  \n",
            "  inflating: sample_submission.csv   \n",
            "  inflating: test.csv                \n",
            "  inflating: train.csv               "
          ]
        }
      ],
      "source": [
        "!unzip new-york-city-taxi-fare-prediction"
      ]
    },
    {
      "cell_type": "code",
      "execution_count": null,
      "metadata": {
        "id": "PFM1QpiiqfJy"
      },
      "outputs": [],
      "source": [
        "import numpy as np\n",
        "import pandas as pd\n",
        "import seaborn as sns\n",
        "import matplotlib.pyplot as plt"
      ]
    },
    {
      "cell_type": "code",
      "execution_count": null,
      "metadata": {
        "id": "NadG-Cw1qlXw"
      },
      "outputs": [],
      "source": [
        "train = pd.read_csv(\"/content/train.csv\", nrows = 1000000)\n",
        "test = pd.read_csv(\"/content/test.csv\")\n",
        "NYC_test=pd.read_csv(\"/content/CS550/Prog_Assignments/assignment_3_dataset/test_data_ny_taxi_fare_prediction.csv\")"
      ]
    },
    {
      "cell_type": "code",
      "execution_count": null,
      "metadata": {
        "colab": {
          "base_uri": "https://localhost:8080/"
        },
        "id": "UQHr-YFjZ0bl",
        "outputId": "f7b115e6-c028-4edd-abd2-b239c5652524"
      },
      "outputs": [
        {
          "output_type": "stream",
          "name": "stdout",
          "text": [
            "shape of the Train data: (1000000, 8)\n",
            "shape of the Test data: (9914, 7)\n"
          ]
        }
      ],
      "source": [
        "print(\"shape of the Train data:\", train.shape)\n",
        "print(\"shape of the Test data:\", test.shape)"
      ]
    },
    {
      "cell_type": "code",
      "source": [
        "NYC_test.shape"
      ],
      "metadata": {
        "colab": {
          "base_uri": "https://localhost:8080/"
        },
        "id": "NJLq4-Pbu3mG",
        "outputId": "d6c511f0-dd41-4c9b-81a6-99c296e5bee1"
      },
      "execution_count": null,
      "outputs": [
        {
          "output_type": "execute_result",
          "data": {
            "text/plain": [
              "(50, 8)"
            ]
          },
          "metadata": {},
          "execution_count": 217
        }
      ]
    },
    {
      "cell_type": "code",
      "execution_count": null,
      "metadata": {
        "colab": {
          "base_uri": "https://localhost:8080/",
          "height": 206
        },
        "id": "w7_1mxls9MRF",
        "outputId": "ef48ab73-6b5f-4bbb-f24b-b724ba9b662f"
      },
      "outputs": [
        {
          "output_type": "execute_result",
          "data": {
            "text/plain": [
              "                             key  fare_amount          pickup_datetime  \\\n",
              "0    2009-06-15 17:26:21.0000001          4.5  2009-06-15 17:26:21 UTC   \n",
              "1    2010-01-05 16:52:16.0000002         16.9  2010-01-05 16:52:16 UTC   \n",
              "2   2011-08-18 00:35:00.00000049          5.7  2011-08-18 00:35:00 UTC   \n",
              "3    2012-04-21 04:30:42.0000001          7.7  2012-04-21 04:30:42 UTC   \n",
              "4  2010-03-09 07:51:00.000000135          5.3  2010-03-09 07:51:00 UTC   \n",
              "\n",
              "   pickup_longitude  pickup_latitude  dropoff_longitude  dropoff_latitude  \\\n",
              "0        -73.844311        40.721319         -73.841610         40.712278   \n",
              "1        -74.016048        40.711303         -73.979268         40.782004   \n",
              "2        -73.982738        40.761270         -73.991242         40.750562   \n",
              "3        -73.987130        40.733143         -73.991567         40.758092   \n",
              "4        -73.968095        40.768008         -73.956655         40.783762   \n",
              "\n",
              "   passenger_count  \n",
              "0                1  \n",
              "1                1  \n",
              "2                2  \n",
              "3                1  \n",
              "4                1  "
            ],
            "text/html": [
              "\n",
              "  <div id=\"df-0a688fb3-27cf-4d2f-a965-2e020e8b6c1d\">\n",
              "    <div class=\"colab-df-container\">\n",
              "      <div>\n",
              "<style scoped>\n",
              "    .dataframe tbody tr th:only-of-type {\n",
              "        vertical-align: middle;\n",
              "    }\n",
              "\n",
              "    .dataframe tbody tr th {\n",
              "        vertical-align: top;\n",
              "    }\n",
              "\n",
              "    .dataframe thead th {\n",
              "        text-align: right;\n",
              "    }\n",
              "</style>\n",
              "<table border=\"1\" class=\"dataframe\">\n",
              "  <thead>\n",
              "    <tr style=\"text-align: right;\">\n",
              "      <th></th>\n",
              "      <th>key</th>\n",
              "      <th>fare_amount</th>\n",
              "      <th>pickup_datetime</th>\n",
              "      <th>pickup_longitude</th>\n",
              "      <th>pickup_latitude</th>\n",
              "      <th>dropoff_longitude</th>\n",
              "      <th>dropoff_latitude</th>\n",
              "      <th>passenger_count</th>\n",
              "    </tr>\n",
              "  </thead>\n",
              "  <tbody>\n",
              "    <tr>\n",
              "      <th>0</th>\n",
              "      <td>2009-06-15 17:26:21.0000001</td>\n",
              "      <td>4.5</td>\n",
              "      <td>2009-06-15 17:26:21 UTC</td>\n",
              "      <td>-73.844311</td>\n",
              "      <td>40.721319</td>\n",
              "      <td>-73.841610</td>\n",
              "      <td>40.712278</td>\n",
              "      <td>1</td>\n",
              "    </tr>\n",
              "    <tr>\n",
              "      <th>1</th>\n",
              "      <td>2010-01-05 16:52:16.0000002</td>\n",
              "      <td>16.9</td>\n",
              "      <td>2010-01-05 16:52:16 UTC</td>\n",
              "      <td>-74.016048</td>\n",
              "      <td>40.711303</td>\n",
              "      <td>-73.979268</td>\n",
              "      <td>40.782004</td>\n",
              "      <td>1</td>\n",
              "    </tr>\n",
              "    <tr>\n",
              "      <th>2</th>\n",
              "      <td>2011-08-18 00:35:00.00000049</td>\n",
              "      <td>5.7</td>\n",
              "      <td>2011-08-18 00:35:00 UTC</td>\n",
              "      <td>-73.982738</td>\n",
              "      <td>40.761270</td>\n",
              "      <td>-73.991242</td>\n",
              "      <td>40.750562</td>\n",
              "      <td>2</td>\n",
              "    </tr>\n",
              "    <tr>\n",
              "      <th>3</th>\n",
              "      <td>2012-04-21 04:30:42.0000001</td>\n",
              "      <td>7.7</td>\n",
              "      <td>2012-04-21 04:30:42 UTC</td>\n",
              "      <td>-73.987130</td>\n",
              "      <td>40.733143</td>\n",
              "      <td>-73.991567</td>\n",
              "      <td>40.758092</td>\n",
              "      <td>1</td>\n",
              "    </tr>\n",
              "    <tr>\n",
              "      <th>4</th>\n",
              "      <td>2010-03-09 07:51:00.000000135</td>\n",
              "      <td>5.3</td>\n",
              "      <td>2010-03-09 07:51:00 UTC</td>\n",
              "      <td>-73.968095</td>\n",
              "      <td>40.768008</td>\n",
              "      <td>-73.956655</td>\n",
              "      <td>40.783762</td>\n",
              "      <td>1</td>\n",
              "    </tr>\n",
              "  </tbody>\n",
              "</table>\n",
              "</div>\n",
              "      <button class=\"colab-df-convert\" onclick=\"convertToInteractive('df-0a688fb3-27cf-4d2f-a965-2e020e8b6c1d')\"\n",
              "              title=\"Convert this dataframe to an interactive table.\"\n",
              "              style=\"display:none;\">\n",
              "        \n",
              "  <svg xmlns=\"http://www.w3.org/2000/svg\" height=\"24px\"viewBox=\"0 0 24 24\"\n",
              "       width=\"24px\">\n",
              "    <path d=\"M0 0h24v24H0V0z\" fill=\"none\"/>\n",
              "    <path d=\"M18.56 5.44l.94 2.06.94-2.06 2.06-.94-2.06-.94-.94-2.06-.94 2.06-2.06.94zm-11 1L8.5 8.5l.94-2.06 2.06-.94-2.06-.94L8.5 2.5l-.94 2.06-2.06.94zm10 10l.94 2.06.94-2.06 2.06-.94-2.06-.94-.94-2.06-.94 2.06-2.06.94z\"/><path d=\"M17.41 7.96l-1.37-1.37c-.4-.4-.92-.59-1.43-.59-.52 0-1.04.2-1.43.59L10.3 9.45l-7.72 7.72c-.78.78-.78 2.05 0 2.83L4 21.41c.39.39.9.59 1.41.59.51 0 1.02-.2 1.41-.59l7.78-7.78 2.81-2.81c.8-.78.8-2.07 0-2.86zM5.41 20L4 18.59l7.72-7.72 1.47 1.35L5.41 20z\"/>\n",
              "  </svg>\n",
              "      </button>\n",
              "      \n",
              "  <style>\n",
              "    .colab-df-container {\n",
              "      display:flex;\n",
              "      flex-wrap:wrap;\n",
              "      gap: 12px;\n",
              "    }\n",
              "\n",
              "    .colab-df-convert {\n",
              "      background-color: #E8F0FE;\n",
              "      border: none;\n",
              "      border-radius: 50%;\n",
              "      cursor: pointer;\n",
              "      display: none;\n",
              "      fill: #1967D2;\n",
              "      height: 32px;\n",
              "      padding: 0 0 0 0;\n",
              "      width: 32px;\n",
              "    }\n",
              "\n",
              "    .colab-df-convert:hover {\n",
              "      background-color: #E2EBFA;\n",
              "      box-shadow: 0px 1px 2px rgba(60, 64, 67, 0.3), 0px 1px 3px 1px rgba(60, 64, 67, 0.15);\n",
              "      fill: #174EA6;\n",
              "    }\n",
              "\n",
              "    [theme=dark] .colab-df-convert {\n",
              "      background-color: #3B4455;\n",
              "      fill: #D2E3FC;\n",
              "    }\n",
              "\n",
              "    [theme=dark] .colab-df-convert:hover {\n",
              "      background-color: #434B5C;\n",
              "      box-shadow: 0px 1px 3px 1px rgba(0, 0, 0, 0.15);\n",
              "      filter: drop-shadow(0px 1px 2px rgba(0, 0, 0, 0.3));\n",
              "      fill: #FFFFFF;\n",
              "    }\n",
              "  </style>\n",
              "\n",
              "      <script>\n",
              "        const buttonEl =\n",
              "          document.querySelector('#df-0a688fb3-27cf-4d2f-a965-2e020e8b6c1d button.colab-df-convert');\n",
              "        buttonEl.style.display =\n",
              "          google.colab.kernel.accessAllowed ? 'block' : 'none';\n",
              "\n",
              "        async function convertToInteractive(key) {\n",
              "          const element = document.querySelector('#df-0a688fb3-27cf-4d2f-a965-2e020e8b6c1d');\n",
              "          const dataTable =\n",
              "            await google.colab.kernel.invokeFunction('convertToInteractive',\n",
              "                                                     [key], {});\n",
              "          if (!dataTable) return;\n",
              "\n",
              "          const docLinkHtml = 'Like what you see? Visit the ' +\n",
              "            '<a target=\"_blank\" href=https://colab.research.google.com/notebooks/data_table.ipynb>data table notebook</a>'\n",
              "            + ' to learn more about interactive tables.';\n",
              "          element.innerHTML = '';\n",
              "          dataTable['output_type'] = 'display_data';\n",
              "          await google.colab.output.renderOutput(dataTable, element);\n",
              "          const docLink = document.createElement('div');\n",
              "          docLink.innerHTML = docLinkHtml;\n",
              "          element.appendChild(docLink);\n",
              "        }\n",
              "      </script>\n",
              "    </div>\n",
              "  </div>\n",
              "  "
            ]
          },
          "metadata": {},
          "execution_count": 218
        }
      ],
      "source": [
        "train.head()# head function is to see how the cells/data is looking like.#Let’s take a look at the top five rows using the DataFrame’s head() method"
      ]
    },
    {
      "cell_type": "code",
      "execution_count": null,
      "metadata": {
        "colab": {
          "base_uri": "https://localhost:8080/",
          "height": 206
        },
        "id": "yXOKlNOWaGvo",
        "outputId": "04915f64-09bf-49d0-b68d-ccdbc0f5bbaa"
      },
      "outputs": [
        {
          "output_type": "execute_result",
          "data": {
            "text/plain": [
              "                           key          pickup_datetime  pickup_longitude  \\\n",
              "0  2015-01-27 13:08:24.0000002  2015-01-27 13:08:24 UTC        -73.973320   \n",
              "1  2015-01-27 13:08:24.0000003  2015-01-27 13:08:24 UTC        -73.986862   \n",
              "2  2011-10-08 11:53:44.0000002  2011-10-08 11:53:44 UTC        -73.982524   \n",
              "3  2012-12-01 21:12:12.0000002  2012-12-01 21:12:12 UTC        -73.981160   \n",
              "4  2012-12-01 21:12:12.0000003  2012-12-01 21:12:12 UTC        -73.966046   \n",
              "\n",
              "   pickup_latitude  dropoff_longitude  dropoff_latitude  passenger_count  \n",
              "0        40.763805         -73.981430         40.743835                1  \n",
              "1        40.719383         -73.998886         40.739201                1  \n",
              "2        40.751260         -73.979654         40.746139                1  \n",
              "3        40.767807         -73.990448         40.751635                1  \n",
              "4        40.789775         -73.988565         40.744427                1  "
            ],
            "text/html": [
              "\n",
              "  <div id=\"df-71b3aa5e-f2a6-47ae-b755-e267e9a75374\">\n",
              "    <div class=\"colab-df-container\">\n",
              "      <div>\n",
              "<style scoped>\n",
              "    .dataframe tbody tr th:only-of-type {\n",
              "        vertical-align: middle;\n",
              "    }\n",
              "\n",
              "    .dataframe tbody tr th {\n",
              "        vertical-align: top;\n",
              "    }\n",
              "\n",
              "    .dataframe thead th {\n",
              "        text-align: right;\n",
              "    }\n",
              "</style>\n",
              "<table border=\"1\" class=\"dataframe\">\n",
              "  <thead>\n",
              "    <tr style=\"text-align: right;\">\n",
              "      <th></th>\n",
              "      <th>key</th>\n",
              "      <th>pickup_datetime</th>\n",
              "      <th>pickup_longitude</th>\n",
              "      <th>pickup_latitude</th>\n",
              "      <th>dropoff_longitude</th>\n",
              "      <th>dropoff_latitude</th>\n",
              "      <th>passenger_count</th>\n",
              "    </tr>\n",
              "  </thead>\n",
              "  <tbody>\n",
              "    <tr>\n",
              "      <th>0</th>\n",
              "      <td>2015-01-27 13:08:24.0000002</td>\n",
              "      <td>2015-01-27 13:08:24 UTC</td>\n",
              "      <td>-73.973320</td>\n",
              "      <td>40.763805</td>\n",
              "      <td>-73.981430</td>\n",
              "      <td>40.743835</td>\n",
              "      <td>1</td>\n",
              "    </tr>\n",
              "    <tr>\n",
              "      <th>1</th>\n",
              "      <td>2015-01-27 13:08:24.0000003</td>\n",
              "      <td>2015-01-27 13:08:24 UTC</td>\n",
              "      <td>-73.986862</td>\n",
              "      <td>40.719383</td>\n",
              "      <td>-73.998886</td>\n",
              "      <td>40.739201</td>\n",
              "      <td>1</td>\n",
              "    </tr>\n",
              "    <tr>\n",
              "      <th>2</th>\n",
              "      <td>2011-10-08 11:53:44.0000002</td>\n",
              "      <td>2011-10-08 11:53:44 UTC</td>\n",
              "      <td>-73.982524</td>\n",
              "      <td>40.751260</td>\n",
              "      <td>-73.979654</td>\n",
              "      <td>40.746139</td>\n",
              "      <td>1</td>\n",
              "    </tr>\n",
              "    <tr>\n",
              "      <th>3</th>\n",
              "      <td>2012-12-01 21:12:12.0000002</td>\n",
              "      <td>2012-12-01 21:12:12 UTC</td>\n",
              "      <td>-73.981160</td>\n",
              "      <td>40.767807</td>\n",
              "      <td>-73.990448</td>\n",
              "      <td>40.751635</td>\n",
              "      <td>1</td>\n",
              "    </tr>\n",
              "    <tr>\n",
              "      <th>4</th>\n",
              "      <td>2012-12-01 21:12:12.0000003</td>\n",
              "      <td>2012-12-01 21:12:12 UTC</td>\n",
              "      <td>-73.966046</td>\n",
              "      <td>40.789775</td>\n",
              "      <td>-73.988565</td>\n",
              "      <td>40.744427</td>\n",
              "      <td>1</td>\n",
              "    </tr>\n",
              "  </tbody>\n",
              "</table>\n",
              "</div>\n",
              "      <button class=\"colab-df-convert\" onclick=\"convertToInteractive('df-71b3aa5e-f2a6-47ae-b755-e267e9a75374')\"\n",
              "              title=\"Convert this dataframe to an interactive table.\"\n",
              "              style=\"display:none;\">\n",
              "        \n",
              "  <svg xmlns=\"http://www.w3.org/2000/svg\" height=\"24px\"viewBox=\"0 0 24 24\"\n",
              "       width=\"24px\">\n",
              "    <path d=\"M0 0h24v24H0V0z\" fill=\"none\"/>\n",
              "    <path d=\"M18.56 5.44l.94 2.06.94-2.06 2.06-.94-2.06-.94-.94-2.06-.94 2.06-2.06.94zm-11 1L8.5 8.5l.94-2.06 2.06-.94-2.06-.94L8.5 2.5l-.94 2.06-2.06.94zm10 10l.94 2.06.94-2.06 2.06-.94-2.06-.94-.94-2.06-.94 2.06-2.06.94z\"/><path d=\"M17.41 7.96l-1.37-1.37c-.4-.4-.92-.59-1.43-.59-.52 0-1.04.2-1.43.59L10.3 9.45l-7.72 7.72c-.78.78-.78 2.05 0 2.83L4 21.41c.39.39.9.59 1.41.59.51 0 1.02-.2 1.41-.59l7.78-7.78 2.81-2.81c.8-.78.8-2.07 0-2.86zM5.41 20L4 18.59l7.72-7.72 1.47 1.35L5.41 20z\"/>\n",
              "  </svg>\n",
              "      </button>\n",
              "      \n",
              "  <style>\n",
              "    .colab-df-container {\n",
              "      display:flex;\n",
              "      flex-wrap:wrap;\n",
              "      gap: 12px;\n",
              "    }\n",
              "\n",
              "    .colab-df-convert {\n",
              "      background-color: #E8F0FE;\n",
              "      border: none;\n",
              "      border-radius: 50%;\n",
              "      cursor: pointer;\n",
              "      display: none;\n",
              "      fill: #1967D2;\n",
              "      height: 32px;\n",
              "      padding: 0 0 0 0;\n",
              "      width: 32px;\n",
              "    }\n",
              "\n",
              "    .colab-df-convert:hover {\n",
              "      background-color: #E2EBFA;\n",
              "      box-shadow: 0px 1px 2px rgba(60, 64, 67, 0.3), 0px 1px 3px 1px rgba(60, 64, 67, 0.15);\n",
              "      fill: #174EA6;\n",
              "    }\n",
              "\n",
              "    [theme=dark] .colab-df-convert {\n",
              "      background-color: #3B4455;\n",
              "      fill: #D2E3FC;\n",
              "    }\n",
              "\n",
              "    [theme=dark] .colab-df-convert:hover {\n",
              "      background-color: #434B5C;\n",
              "      box-shadow: 0px 1px 3px 1px rgba(0, 0, 0, 0.15);\n",
              "      filter: drop-shadow(0px 1px 2px rgba(0, 0, 0, 0.3));\n",
              "      fill: #FFFFFF;\n",
              "    }\n",
              "  </style>\n",
              "\n",
              "      <script>\n",
              "        const buttonEl =\n",
              "          document.querySelector('#df-71b3aa5e-f2a6-47ae-b755-e267e9a75374 button.colab-df-convert');\n",
              "        buttonEl.style.display =\n",
              "          google.colab.kernel.accessAllowed ? 'block' : 'none';\n",
              "\n",
              "        async function convertToInteractive(key) {\n",
              "          const element = document.querySelector('#df-71b3aa5e-f2a6-47ae-b755-e267e9a75374');\n",
              "          const dataTable =\n",
              "            await google.colab.kernel.invokeFunction('convertToInteractive',\n",
              "                                                     [key], {});\n",
              "          if (!dataTable) return;\n",
              "\n",
              "          const docLinkHtml = 'Like what you see? Visit the ' +\n",
              "            '<a target=\"_blank\" href=https://colab.research.google.com/notebooks/data_table.ipynb>data table notebook</a>'\n",
              "            + ' to learn more about interactive tables.';\n",
              "          element.innerHTML = '';\n",
              "          dataTable['output_type'] = 'display_data';\n",
              "          await google.colab.output.renderOutput(dataTable, element);\n",
              "          const docLink = document.createElement('div');\n",
              "          docLink.innerHTML = docLinkHtml;\n",
              "          element.appendChild(docLink);\n",
              "        }\n",
              "      </script>\n",
              "    </div>\n",
              "  </div>\n",
              "  "
            ]
          },
          "metadata": {},
          "execution_count": 219
        }
      ],
      "source": [
        "\n",
        "test.head()"
      ]
    },
    {
      "cell_type": "markdown",
      "metadata": {
        "id": "hSsKHYOIaULP"
      },
      "source": [
        "# Data Cleaning"
      ]
    },
    {
      "cell_type": "code",
      "execution_count": null,
      "metadata": {
        "colab": {
          "base_uri": "https://localhost:8080/"
        },
        "id": "5lkE_RUIaW91",
        "outputId": "89a170a7-790d-4d3e-c643-87509f78bc2c"
      },
      "outputs": [
        {
          "output_type": "execute_result",
          "data": {
            "text/plain": [
              "key                   0\n",
              "fare_amount           0\n",
              "pickup_datetime       0\n",
              "pickup_longitude      0\n",
              "pickup_latitude       0\n",
              "dropoff_longitude    10\n",
              "dropoff_latitude     10\n",
              "passenger_count       0\n",
              "dtype: int64"
            ]
          },
          "metadata": {},
          "execution_count": 220
        }
      ],
      "source": [
        "# Check for Missing Values\n",
        "train.isnull().sum()"
      ]
    },
    {
      "cell_type": "code",
      "execution_count": null,
      "metadata": {
        "colab": {
          "base_uri": "https://localhost:8080/"
        },
        "id": "JG7gifjFafX9",
        "outputId": "025cb542-2358-4f2c-87ef-84d93fbe67cb"
      },
      "outputs": [
        {
          "output_type": "execute_result",
          "data": {
            "text/plain": [
              "key                  0\n",
              "pickup_datetime      0\n",
              "pickup_longitude     0\n",
              "pickup_latitude      0\n",
              "dropoff_longitude    0\n",
              "dropoff_latitude     0\n",
              "passenger_count      0\n",
              "dtype: int64"
            ]
          },
          "metadata": {},
          "execution_count": 221
        }
      ],
      "source": [
        "test.isnull().sum()"
      ]
    },
    {
      "cell_type": "code",
      "execution_count": null,
      "metadata": {
        "id": "J5yeTqqsakLe"
      },
      "outputs": [],
      "source": [
        "#drop the missing values from the train dataframe\n",
        "train = train.drop(train[train.isnull().any(1)].index, axis = 0)"
      ]
    },
    {
      "cell_type": "code",
      "execution_count": null,
      "metadata": {
        "colab": {
          "base_uri": "https://localhost:8080/"
        },
        "id": "jdm2I6dVal_n",
        "outputId": "afee67d1-2b32-426e-d8cc-fa541bda00a9"
      },
      "outputs": [
        {
          "output_type": "execute_result",
          "data": {
            "text/plain": [
              "key                  0\n",
              "fare_amount          0\n",
              "pickup_datetime      0\n",
              "pickup_longitude     0\n",
              "pickup_latitude      0\n",
              "dropoff_longitude    0\n",
              "dropoff_latitude     0\n",
              "passenger_count      0\n",
              "dtype: int64"
            ]
          },
          "metadata": {},
          "execution_count": 223
        }
      ],
      "source": [
        "train.isnull().sum()"
      ]
    },
    {
      "cell_type": "markdown",
      "metadata": {
        "id": "VfxSWwqvauZk"
      },
      "source": [
        "Now, there are no missing values."
      ]
    },
    {
      "cell_type": "code",
      "execution_count": null,
      "metadata": {
        "colab": {
          "base_uri": "https://localhost:8080/"
        },
        "id": "GmBXn4KnbGoL",
        "outputId": "da709df2-55a4-47b6-d8fd-48451480fb04"
      },
      "outputs": [
        {
          "output_type": "execute_result",
          "data": {
            "text/plain": [
              "count    999990.000000\n",
              "mean         11.347953\n",
              "std           9.821790\n",
              "min         -44.900000\n",
              "25%           6.000000\n",
              "50%           8.500000\n",
              "75%          12.500000\n",
              "max         500.000000\n",
              "Name: fare_amount, dtype: float64"
            ]
          },
          "metadata": {},
          "execution_count": 224
        }
      ],
      "source": [
        "train['fare_amount'].describe()"
      ]
    },
    {
      "cell_type": "markdown",
      "metadata": {
        "id": "ft3Dtiu8bMsc"
      },
      "source": [
        "We See, fare amount has values less than or equal to 0 which is not possible so we remove those rows"
      ]
    },
    {
      "cell_type": "code",
      "execution_count": null,
      "metadata": {
        "colab": {
          "base_uri": "https://localhost:8080/"
        },
        "id": "1uYWPnZxbQko",
        "outputId": "bf7520fd-b0fc-4fa5-88d4-df91776791cf"
      },
      "outputs": [
        {
          "output_type": "stream",
          "name": "stdout",
          "text": [
            "Shape of Train:  (999923, 8)\n"
          ]
        }
      ],
      "source": [
        "train = train.drop(train[train['fare_amount']<=0].index, axis=0)\n",
        "print(\"Shape of Train: \", train.shape)"
      ]
    },
    {
      "cell_type": "code",
      "execution_count": null,
      "metadata": {
        "colab": {
          "base_uri": "https://localhost:8080/"
        },
        "id": "v1HfsjvmbVpJ",
        "outputId": "1cad0d46-5c35-4301-e23c-95a3f38f1f70"
      },
      "outputs": [
        {
          "output_type": "execute_result",
          "data": {
            "text/plain": [
              "count    999923.000000\n",
              "mean         11.348945\n",
              "std           9.821201\n",
              "min           0.010000\n",
              "25%           6.000000\n",
              "50%           8.500000\n",
              "75%          12.500000\n",
              "max         500.000000\n",
              "Name: fare_amount, dtype: float64"
            ]
          },
          "metadata": {},
          "execution_count": 234
        }
      ],
      "source": [
        "train['fare_amount'].describe()"
      ]
    },
    {
      "cell_type": "markdown",
      "metadata": {
        "id": "0keo1pZybYHd"
      },
      "source": [
        "lets check for passenger count"
      ]
    },
    {
      "cell_type": "code",
      "execution_count": null,
      "metadata": {
        "colab": {
          "base_uri": "https://localhost:8080/"
        },
        "id": "VJdeX5cxbcT2",
        "outputId": "0baf59b3-0a51-4f5b-8798-117cfe4b6471"
      },
      "outputs": [
        {
          "output_type": "execute_result",
          "data": {
            "text/plain": [
              "count    999923.000000\n",
              "mean          1.684955\n",
              "std           1.323921\n",
              "min           0.000000\n",
              "25%           1.000000\n",
              "50%           1.000000\n",
              "75%           2.000000\n",
              "max         208.000000\n",
              "Name: passenger_count, dtype: float64"
            ]
          },
          "metadata": {},
          "execution_count": 235
        }
      ],
      "source": [
        "train['passenger_count'].describe()"
      ]
    },
    {
      "cell_type": "code",
      "execution_count": null,
      "metadata": {
        "colab": {
          "base_uri": "https://localhost:8080/"
        },
        "id": "cs-N64hdbfjL",
        "outputId": "938a0b5b-226e-421f-dc89-a9dcc53a2f11"
      },
      "outputs": [
        {
          "output_type": "execute_result",
          "data": {
            "text/plain": [
              "count    9914.000000\n",
              "mean        1.671273\n",
              "std         1.278747\n",
              "min         1.000000\n",
              "25%         1.000000\n",
              "50%         1.000000\n",
              "75%         2.000000\n",
              "max         6.000000\n",
              "Name: passenger_count, dtype: float64"
            ]
          },
          "metadata": {},
          "execution_count": 236
        }
      ],
      "source": [
        "test['passenger_count'].describe()"
      ]
    },
    {
      "cell_type": "code",
      "execution_count": null,
      "metadata": {
        "colab": {
          "base_uri": "https://localhost:8080/"
        },
        "id": "XS6pzLurbib5",
        "outputId": "c04da585-70b0-47c2-8bd8-c3855c151583"
      },
      "outputs": [
        {
          "output_type": "execute_result",
          "data": {
            "text/plain": [
              "1      691292\n",
              "2      148098\n",
              "5       70593\n",
              "3       43762\n",
              "4       21427\n",
              "6       21195\n",
              "0        3555\n",
              "208         1\n",
              "Name: passenger_count, dtype: int64"
            ]
          },
          "metadata": {},
          "execution_count": 237
        }
      ],
      "source": [
        "train['passenger_count'].value_counts()"
      ]
    },
    {
      "cell_type": "markdown",
      "metadata": {
        "id": "f0lyTBiFbzUj"
      },
      "source": [
        "drop the irrelavnt value from the passenger count column."
      ]
    },
    {
      "cell_type": "code",
      "source": [
        "NY_test =pd.DataFrame(train['pickup_datetime'])"
      ],
      "metadata": {
        "id": "nBvxsb8-31a2"
      },
      "execution_count": null,
      "outputs": []
    },
    {
      "cell_type": "code",
      "source": [
        "NYC_test = NY_test + NYC_test\n"
      ],
      "metadata": {
        "id": "C6FOwIUl4lYr"
      },
      "execution_count": null,
      "outputs": []
    },
    {
      "cell_type": "code",
      "source": [
        "NYC_test.isnull().sum()"
      ],
      "metadata": {
        "colab": {
          "base_uri": "https://localhost:8080/"
        },
        "id": "OLc8UQk45Y7W",
        "outputId": "59ccc3ba-9e14-4dd4-ea64-ae1d0a5ec498"
      },
      "execution_count": null,
      "outputs": [
        {
          "output_type": "execute_result",
          "data": {
            "text/plain": [
              "dropoff_latitude     999923\n",
              "dropoff_longitude    999923\n",
              "key                  999923\n",
              "passenger_count      999923\n",
              "pickup_datetime      999923\n",
              "pickup_latitude      999923\n",
              "pickup_longitude     999923\n",
              "test_id              999923\n",
              "dtype: int64"
            ]
          },
          "metadata": {},
          "execution_count": 262
        }
      ]
    },
    {
      "cell_type": "code",
      "source": [
        "NYC_test = NYC_test.drop(NYC_test[NYC_test.isnull().any(1)].index, axis = 0)"
      ],
      "metadata": {
        "id": "LBftp4dz5iBf"
      },
      "execution_count": null,
      "outputs": []
    },
    {
      "cell_type": "code",
      "execution_count": null,
      "metadata": {
        "id": "EEkpGxXabtwC"
      },
      "outputs": [],
      "source": [
        "train = train.drop(train[train['passenger_count']<=0].index, axis=0)\n",
        "train = train.drop(train[train['passenger_count']>=7].index, axis=0)"
      ]
    },
    {
      "cell_type": "code",
      "execution_count": null,
      "metadata": {
        "colab": {
          "base_uri": "https://localhost:8080/"
        },
        "id": "JQSxch5_b8-c",
        "outputId": "865b3508-a542-4c3f-901f-0764f743e1ae"
      },
      "outputs": [
        {
          "output_type": "stream",
          "name": "stdout",
          "text": [
            "Shape of Train:  (996327, 8)\n"
          ]
        }
      ],
      "source": [
        "print(\"Shape of Train: \", train.shape)"
      ]
    },
    {
      "cell_type": "code",
      "execution_count": null,
      "metadata": {
        "colab": {
          "base_uri": "https://localhost:8080/"
        },
        "id": "cewn-6aXb_5Y",
        "outputId": "9dc54912-3240-44ee-c71d-937e9257e1e1"
      },
      "outputs": [
        {
          "output_type": "execute_result",
          "data": {
            "text/plain": [
              "Index(['key', 'fare_amount', 'pickup_datetime', 'pickup_longitude',\n",
              "       'pickup_latitude', 'dropoff_longitude', 'dropoff_latitude',\n",
              "       'passenger_count'],\n",
              "      dtype='object')"
            ]
          },
          "metadata": {},
          "execution_count": 203
        }
      ],
      "source": [
        "train.columns"
      ]
    },
    {
      "cell_type": "markdown",
      "metadata": {
        "id": "PqnIbRiEcVoH"
      },
      "source": [
        "Now, lets check lattitudes and longitudes\n",
        "\n",
        "We know that:\n",
        "\n",
        "Lattitudes range between -90 to 90\n",
        "Longitudes range between -180 to 180\n",
        "We can use this data to filter more data"
      ]
    },
    {
      "cell_type": "code",
      "execution_count": null,
      "metadata": {
        "id": "wSMiPsGucSo_"
      },
      "outputs": [],
      "source": [
        "train = train.drop(train[train['pickup_latitude']<-90].index, axis=0)\n",
        "train = train.drop(train[train['pickup_latitude']>90].index, axis=0)\n",
        "\n",
        "train = train.drop(train[train['dropoff_latitude']<-90].index, axis=0)\n",
        "train = train.drop(train[train['dropoff_latitude']>90].index, axis=0)\n",
        "train = train.drop(train[train['pickup_longitude']<-180].index, axis=0)\n",
        "train = train.drop(train[train['pickup_longitude']>180].index, axis=0)\n",
        "\n",
        "train = train.drop(train[train['dropoff_longitude']<-180].index, axis=0)\n",
        "train = train.drop(train[train['dropoff_longitude']>180].index, axis=0)"
      ]
    },
    {
      "cell_type": "code",
      "execution_count": null,
      "metadata": {
        "colab": {
          "base_uri": "https://localhost:8080/"
        },
        "id": "jOJT63nccjtm",
        "outputId": "43af139c-c7d8-49e2-f045-fba4de702ee0"
      },
      "outputs": [
        {
          "output_type": "stream",
          "name": "stdout",
          "text": [
            "Shape of Train:  (999883, 8)\n"
          ]
        }
      ],
      "source": [
        "print(\"Shape of Train: \", train.shape)"
      ]
    },
    {
      "cell_type": "code",
      "execution_count": null,
      "metadata": {
        "id": "qWJmFujBclnK"
      },
      "outputs": [],
      "source": [
        "test = test.drop(test[test['pickup_latitude']<-90].index, axis=0)\n",
        "test = test.drop(test[test['pickup_latitude']>90].index, axis=0)\n",
        "\n",
        "test = test.drop(test[test['dropoff_latitude']<-90].index, axis=0)\n",
        "test = test.drop(test[test['dropoff_latitude']>90].index, axis=0)\n",
        "test = test.drop(test[test['pickup_longitude']<-180].index, axis=0)\n",
        "test = test.drop(test[test['pickup_longitude']>180].index, axis=0)\n",
        "\n",
        "test = test.drop(test[test['dropoff_longitude']<-180].index, axis=0)\n",
        "test = test.drop(test[test['dropoff_longitude']>180].index, axis=0)\n"
      ]
    },
    {
      "cell_type": "code",
      "source": [
        "NYC_test = NYC_test.drop(NYC_test[NYC_test['pickup_latitude']<-90].index, axis=0)\n",
        "NYC_test = NYC_test.drop(test[test['pickup_latitude']>90].index, axis=0)\n",
        "\n",
        "NYC_test = NYC_test.drop(NYC_test[NYC_test['dropoff_latitude']<-90].index, axis=0)\n",
        "NYC_test = NYC_test.drop(NYC_test[NYC_test['dropoff_latitude']>90].index, axis=0)\n",
        "NYC_test = NYC_test.drop(NYC_test[NYC_test['pickup_longitude']<-180].index, axis=0)\n",
        "NYC_test = NYC_test.drop(NYC_test[NYC_test['pickup_longitude']>180].index, axis=0)\n",
        "\n",
        "NYC_test = NYC_test.drop(NYC_test[NYC_test['dropoff_longitude']<-180].index, axis=0)\n",
        "NYC_test = NYC_test.drop(NYC_test[NYC_test['dropoff_longitude']>180].index, axis=0)"
      ],
      "metadata": {
        "id": "Z6nSaTmdvy59"
      },
      "execution_count": null,
      "outputs": []
    },
    {
      "cell_type": "code",
      "execution_count": null,
      "metadata": {
        "colab": {
          "base_uri": "https://localhost:8080/"
        },
        "id": "g9xwDLNvcqNt",
        "outputId": "c0876d48-1fe1-439d-d692-be6f032c50d0"
      },
      "outputs": [
        {
          "output_type": "stream",
          "name": "stdout",
          "text": [
            "Shape of Test:  (9914, 7)\n"
          ]
        }
      ],
      "source": [
        "print(\"Shape of Test: \", test.shape)"
      ]
    },
    {
      "cell_type": "code",
      "execution_count": null,
      "metadata": {
        "colab": {
          "base_uri": "https://localhost:8080/",
          "height": 300
        },
        "id": "Coi5DpmRcuI-",
        "outputId": "80cbecf2-5f5e-4dbf-d4ff-a7bc81544b6c"
      },
      "outputs": [
        {
          "output_type": "execute_result",
          "data": {
            "text/plain": [
              "         fare_amount  pickup_longitude  pickup_latitude  dropoff_longitude  \\\n",
              "count  999883.000000     999883.000000    999883.000000      999883.000000   \n",
              "mean       11.348918        -72.517430        39.926812         -72.515719   \n",
              "std         9.821187         10.393175         6.089191          10.395685   \n",
              "min         0.010000       -128.175950       -74.016587        -121.391248   \n",
              "25%         6.000000        -73.992060        40.734965         -73.991385   \n",
              "50%         8.500000        -73.981792        40.752695         -73.980135   \n",
              "75%        12.500000        -73.967095        40.767153         -73.963654   \n",
              "max       500.000000         40.850357        69.400000          45.581619   \n",
              "\n",
              "       dropoff_latitude  passenger_count  \n",
              "count     999883.000000    999883.000000  \n",
              "mean          39.926137         1.684953  \n",
              "std            6.092901         1.323910  \n",
              "min          -74.035197         0.000000  \n",
              "25%           40.734047         1.000000  \n",
              "50%           40.753166         1.000000  \n",
              "75%           40.768129         2.000000  \n",
              "max           81.510177       208.000000  "
            ],
            "text/html": [
              "\n",
              "  <div id=\"df-458eaf6b-c169-4b28-99ac-61c8638a8a71\">\n",
              "    <div class=\"colab-df-container\">\n",
              "      <div>\n",
              "<style scoped>\n",
              "    .dataframe tbody tr th:only-of-type {\n",
              "        vertical-align: middle;\n",
              "    }\n",
              "\n",
              "    .dataframe tbody tr th {\n",
              "        vertical-align: top;\n",
              "    }\n",
              "\n",
              "    .dataframe thead th {\n",
              "        text-align: right;\n",
              "    }\n",
              "</style>\n",
              "<table border=\"1\" class=\"dataframe\">\n",
              "  <thead>\n",
              "    <tr style=\"text-align: right;\">\n",
              "      <th></th>\n",
              "      <th>fare_amount</th>\n",
              "      <th>pickup_longitude</th>\n",
              "      <th>pickup_latitude</th>\n",
              "      <th>dropoff_longitude</th>\n",
              "      <th>dropoff_latitude</th>\n",
              "      <th>passenger_count</th>\n",
              "    </tr>\n",
              "  </thead>\n",
              "  <tbody>\n",
              "    <tr>\n",
              "      <th>count</th>\n",
              "      <td>999883.000000</td>\n",
              "      <td>999883.000000</td>\n",
              "      <td>999883.000000</td>\n",
              "      <td>999883.000000</td>\n",
              "      <td>999883.000000</td>\n",
              "      <td>999883.000000</td>\n",
              "    </tr>\n",
              "    <tr>\n",
              "      <th>mean</th>\n",
              "      <td>11.348918</td>\n",
              "      <td>-72.517430</td>\n",
              "      <td>39.926812</td>\n",
              "      <td>-72.515719</td>\n",
              "      <td>39.926137</td>\n",
              "      <td>1.684953</td>\n",
              "    </tr>\n",
              "    <tr>\n",
              "      <th>std</th>\n",
              "      <td>9.821187</td>\n",
              "      <td>10.393175</td>\n",
              "      <td>6.089191</td>\n",
              "      <td>10.395685</td>\n",
              "      <td>6.092901</td>\n",
              "      <td>1.323910</td>\n",
              "    </tr>\n",
              "    <tr>\n",
              "      <th>min</th>\n",
              "      <td>0.010000</td>\n",
              "      <td>-128.175950</td>\n",
              "      <td>-74.016587</td>\n",
              "      <td>-121.391248</td>\n",
              "      <td>-74.035197</td>\n",
              "      <td>0.000000</td>\n",
              "    </tr>\n",
              "    <tr>\n",
              "      <th>25%</th>\n",
              "      <td>6.000000</td>\n",
              "      <td>-73.992060</td>\n",
              "      <td>40.734965</td>\n",
              "      <td>-73.991385</td>\n",
              "      <td>40.734047</td>\n",
              "      <td>1.000000</td>\n",
              "    </tr>\n",
              "    <tr>\n",
              "      <th>50%</th>\n",
              "      <td>8.500000</td>\n",
              "      <td>-73.981792</td>\n",
              "      <td>40.752695</td>\n",
              "      <td>-73.980135</td>\n",
              "      <td>40.753166</td>\n",
              "      <td>1.000000</td>\n",
              "    </tr>\n",
              "    <tr>\n",
              "      <th>75%</th>\n",
              "      <td>12.500000</td>\n",
              "      <td>-73.967095</td>\n",
              "      <td>40.767153</td>\n",
              "      <td>-73.963654</td>\n",
              "      <td>40.768129</td>\n",
              "      <td>2.000000</td>\n",
              "    </tr>\n",
              "    <tr>\n",
              "      <th>max</th>\n",
              "      <td>500.000000</td>\n",
              "      <td>40.850357</td>\n",
              "      <td>69.400000</td>\n",
              "      <td>45.581619</td>\n",
              "      <td>81.510177</td>\n",
              "      <td>208.000000</td>\n",
              "    </tr>\n",
              "  </tbody>\n",
              "</table>\n",
              "</div>\n",
              "      <button class=\"colab-df-convert\" onclick=\"convertToInteractive('df-458eaf6b-c169-4b28-99ac-61c8638a8a71')\"\n",
              "              title=\"Convert this dataframe to an interactive table.\"\n",
              "              style=\"display:none;\">\n",
              "        \n",
              "  <svg xmlns=\"http://www.w3.org/2000/svg\" height=\"24px\"viewBox=\"0 0 24 24\"\n",
              "       width=\"24px\">\n",
              "    <path d=\"M0 0h24v24H0V0z\" fill=\"none\"/>\n",
              "    <path d=\"M18.56 5.44l.94 2.06.94-2.06 2.06-.94-2.06-.94-.94-2.06-.94 2.06-2.06.94zm-11 1L8.5 8.5l.94-2.06 2.06-.94-2.06-.94L8.5 2.5l-.94 2.06-2.06.94zm10 10l.94 2.06.94-2.06 2.06-.94-2.06-.94-.94-2.06-.94 2.06-2.06.94z\"/><path d=\"M17.41 7.96l-1.37-1.37c-.4-.4-.92-.59-1.43-.59-.52 0-1.04.2-1.43.59L10.3 9.45l-7.72 7.72c-.78.78-.78 2.05 0 2.83L4 21.41c.39.39.9.59 1.41.59.51 0 1.02-.2 1.41-.59l7.78-7.78 2.81-2.81c.8-.78.8-2.07 0-2.86zM5.41 20L4 18.59l7.72-7.72 1.47 1.35L5.41 20z\"/>\n",
              "  </svg>\n",
              "      </button>\n",
              "      \n",
              "  <style>\n",
              "    .colab-df-container {\n",
              "      display:flex;\n",
              "      flex-wrap:wrap;\n",
              "      gap: 12px;\n",
              "    }\n",
              "\n",
              "    .colab-df-convert {\n",
              "      background-color: #E8F0FE;\n",
              "      border: none;\n",
              "      border-radius: 50%;\n",
              "      cursor: pointer;\n",
              "      display: none;\n",
              "      fill: #1967D2;\n",
              "      height: 32px;\n",
              "      padding: 0 0 0 0;\n",
              "      width: 32px;\n",
              "    }\n",
              "\n",
              "    .colab-df-convert:hover {\n",
              "      background-color: #E2EBFA;\n",
              "      box-shadow: 0px 1px 2px rgba(60, 64, 67, 0.3), 0px 1px 3px 1px rgba(60, 64, 67, 0.15);\n",
              "      fill: #174EA6;\n",
              "    }\n",
              "\n",
              "    [theme=dark] .colab-df-convert {\n",
              "      background-color: #3B4455;\n",
              "      fill: #D2E3FC;\n",
              "    }\n",
              "\n",
              "    [theme=dark] .colab-df-convert:hover {\n",
              "      background-color: #434B5C;\n",
              "      box-shadow: 0px 1px 3px 1px rgba(0, 0, 0, 0.15);\n",
              "      filter: drop-shadow(0px 1px 2px rgba(0, 0, 0, 0.3));\n",
              "      fill: #FFFFFF;\n",
              "    }\n",
              "  </style>\n",
              "\n",
              "      <script>\n",
              "        const buttonEl =\n",
              "          document.querySelector('#df-458eaf6b-c169-4b28-99ac-61c8638a8a71 button.colab-df-convert');\n",
              "        buttonEl.style.display =\n",
              "          google.colab.kernel.accessAllowed ? 'block' : 'none';\n",
              "\n",
              "        async function convertToInteractive(key) {\n",
              "          const element = document.querySelector('#df-458eaf6b-c169-4b28-99ac-61c8638a8a71');\n",
              "          const dataTable =\n",
              "            await google.colab.kernel.invokeFunction('convertToInteractive',\n",
              "                                                     [key], {});\n",
              "          if (!dataTable) return;\n",
              "\n",
              "          const docLinkHtml = 'Like what you see? Visit the ' +\n",
              "            '<a target=\"_blank\" href=https://colab.research.google.com/notebooks/data_table.ipynb>data table notebook</a>'\n",
              "            + ' to learn more about interactive tables.';\n",
              "          element.innerHTML = '';\n",
              "          dataTable['output_type'] = 'display_data';\n",
              "          await google.colab.output.renderOutput(dataTable, element);\n",
              "          const docLink = document.createElement('div');\n",
              "          docLink.innerHTML = docLinkHtml;\n",
              "          element.appendChild(docLink);\n",
              "        }\n",
              "      </script>\n",
              "    </div>\n",
              "  </div>\n",
              "  "
            ]
          },
          "metadata": {},
          "execution_count": 248
        }
      ],
      "source": [
        "train.describe()"
      ]
    },
    {
      "cell_type": "code",
      "execution_count": null,
      "metadata": {
        "colab": {
          "base_uri": "https://localhost:8080/",
          "height": 300
        },
        "id": "Zmx0Nc5-c85_",
        "outputId": "b4798716-6092-41ab-cabc-c76afd629aec"
      },
      "outputs": [
        {
          "output_type": "execute_result",
          "data": {
            "text/plain": [
              "       pickup_longitude  pickup_latitude  dropoff_longitude  dropoff_latitude  \\\n",
              "count       9914.000000      9914.000000        9914.000000       9914.000000   \n",
              "mean         -73.974722        40.751041         -73.973657         40.751743   \n",
              "std            0.042774         0.033541           0.039072          0.035435   \n",
              "min          -74.252193        40.573143         -74.263242         40.568973   \n",
              "25%          -73.992501        40.736125         -73.991247         40.735254   \n",
              "50%          -73.982326        40.753051         -73.980015         40.754065   \n",
              "75%          -73.968013        40.767113         -73.964059         40.768757   \n",
              "max          -72.986532        41.709555         -72.990963         41.696683   \n",
              "\n",
              "       passenger_count  \n",
              "count      9914.000000  \n",
              "mean          1.671273  \n",
              "std           1.278747  \n",
              "min           1.000000  \n",
              "25%           1.000000  \n",
              "50%           1.000000  \n",
              "75%           2.000000  \n",
              "max           6.000000  "
            ],
            "text/html": [
              "\n",
              "  <div id=\"df-700cae1e-7bf7-4e94-bce6-df01809cb0a2\">\n",
              "    <div class=\"colab-df-container\">\n",
              "      <div>\n",
              "<style scoped>\n",
              "    .dataframe tbody tr th:only-of-type {\n",
              "        vertical-align: middle;\n",
              "    }\n",
              "\n",
              "    .dataframe tbody tr th {\n",
              "        vertical-align: top;\n",
              "    }\n",
              "\n",
              "    .dataframe thead th {\n",
              "        text-align: right;\n",
              "    }\n",
              "</style>\n",
              "<table border=\"1\" class=\"dataframe\">\n",
              "  <thead>\n",
              "    <tr style=\"text-align: right;\">\n",
              "      <th></th>\n",
              "      <th>pickup_longitude</th>\n",
              "      <th>pickup_latitude</th>\n",
              "      <th>dropoff_longitude</th>\n",
              "      <th>dropoff_latitude</th>\n",
              "      <th>passenger_count</th>\n",
              "    </tr>\n",
              "  </thead>\n",
              "  <tbody>\n",
              "    <tr>\n",
              "      <th>count</th>\n",
              "      <td>9914.000000</td>\n",
              "      <td>9914.000000</td>\n",
              "      <td>9914.000000</td>\n",
              "      <td>9914.000000</td>\n",
              "      <td>9914.000000</td>\n",
              "    </tr>\n",
              "    <tr>\n",
              "      <th>mean</th>\n",
              "      <td>-73.974722</td>\n",
              "      <td>40.751041</td>\n",
              "      <td>-73.973657</td>\n",
              "      <td>40.751743</td>\n",
              "      <td>1.671273</td>\n",
              "    </tr>\n",
              "    <tr>\n",
              "      <th>std</th>\n",
              "      <td>0.042774</td>\n",
              "      <td>0.033541</td>\n",
              "      <td>0.039072</td>\n",
              "      <td>0.035435</td>\n",
              "      <td>1.278747</td>\n",
              "    </tr>\n",
              "    <tr>\n",
              "      <th>min</th>\n",
              "      <td>-74.252193</td>\n",
              "      <td>40.573143</td>\n",
              "      <td>-74.263242</td>\n",
              "      <td>40.568973</td>\n",
              "      <td>1.000000</td>\n",
              "    </tr>\n",
              "    <tr>\n",
              "      <th>25%</th>\n",
              "      <td>-73.992501</td>\n",
              "      <td>40.736125</td>\n",
              "      <td>-73.991247</td>\n",
              "      <td>40.735254</td>\n",
              "      <td>1.000000</td>\n",
              "    </tr>\n",
              "    <tr>\n",
              "      <th>50%</th>\n",
              "      <td>-73.982326</td>\n",
              "      <td>40.753051</td>\n",
              "      <td>-73.980015</td>\n",
              "      <td>40.754065</td>\n",
              "      <td>1.000000</td>\n",
              "    </tr>\n",
              "    <tr>\n",
              "      <th>75%</th>\n",
              "      <td>-73.968013</td>\n",
              "      <td>40.767113</td>\n",
              "      <td>-73.964059</td>\n",
              "      <td>40.768757</td>\n",
              "      <td>2.000000</td>\n",
              "    </tr>\n",
              "    <tr>\n",
              "      <th>max</th>\n",
              "      <td>-72.986532</td>\n",
              "      <td>41.709555</td>\n",
              "      <td>-72.990963</td>\n",
              "      <td>41.696683</td>\n",
              "      <td>6.000000</td>\n",
              "    </tr>\n",
              "  </tbody>\n",
              "</table>\n",
              "</div>\n",
              "      <button class=\"colab-df-convert\" onclick=\"convertToInteractive('df-700cae1e-7bf7-4e94-bce6-df01809cb0a2')\"\n",
              "              title=\"Convert this dataframe to an interactive table.\"\n",
              "              style=\"display:none;\">\n",
              "        \n",
              "  <svg xmlns=\"http://www.w3.org/2000/svg\" height=\"24px\"viewBox=\"0 0 24 24\"\n",
              "       width=\"24px\">\n",
              "    <path d=\"M0 0h24v24H0V0z\" fill=\"none\"/>\n",
              "    <path d=\"M18.56 5.44l.94 2.06.94-2.06 2.06-.94-2.06-.94-.94-2.06-.94 2.06-2.06.94zm-11 1L8.5 8.5l.94-2.06 2.06-.94-2.06-.94L8.5 2.5l-.94 2.06-2.06.94zm10 10l.94 2.06.94-2.06 2.06-.94-2.06-.94-.94-2.06-.94 2.06-2.06.94z\"/><path d=\"M17.41 7.96l-1.37-1.37c-.4-.4-.92-.59-1.43-.59-.52 0-1.04.2-1.43.59L10.3 9.45l-7.72 7.72c-.78.78-.78 2.05 0 2.83L4 21.41c.39.39.9.59 1.41.59.51 0 1.02-.2 1.41-.59l7.78-7.78 2.81-2.81c.8-.78.8-2.07 0-2.86zM5.41 20L4 18.59l7.72-7.72 1.47 1.35L5.41 20z\"/>\n",
              "  </svg>\n",
              "      </button>\n",
              "      \n",
              "  <style>\n",
              "    .colab-df-container {\n",
              "      display:flex;\n",
              "      flex-wrap:wrap;\n",
              "      gap: 12px;\n",
              "    }\n",
              "\n",
              "    .colab-df-convert {\n",
              "      background-color: #E8F0FE;\n",
              "      border: none;\n",
              "      border-radius: 50%;\n",
              "      cursor: pointer;\n",
              "      display: none;\n",
              "      fill: #1967D2;\n",
              "      height: 32px;\n",
              "      padding: 0 0 0 0;\n",
              "      width: 32px;\n",
              "    }\n",
              "\n",
              "    .colab-df-convert:hover {\n",
              "      background-color: #E2EBFA;\n",
              "      box-shadow: 0px 1px 2px rgba(60, 64, 67, 0.3), 0px 1px 3px 1px rgba(60, 64, 67, 0.15);\n",
              "      fill: #174EA6;\n",
              "    }\n",
              "\n",
              "    [theme=dark] .colab-df-convert {\n",
              "      background-color: #3B4455;\n",
              "      fill: #D2E3FC;\n",
              "    }\n",
              "\n",
              "    [theme=dark] .colab-df-convert:hover {\n",
              "      background-color: #434B5C;\n",
              "      box-shadow: 0px 1px 3px 1px rgba(0, 0, 0, 0.15);\n",
              "      filter: drop-shadow(0px 1px 2px rgba(0, 0, 0, 0.3));\n",
              "      fill: #FFFFFF;\n",
              "    }\n",
              "  </style>\n",
              "\n",
              "      <script>\n",
              "        const buttonEl =\n",
              "          document.querySelector('#df-700cae1e-7bf7-4e94-bce6-df01809cb0a2 button.colab-df-convert');\n",
              "        buttonEl.style.display =\n",
              "          google.colab.kernel.accessAllowed ? 'block' : 'none';\n",
              "\n",
              "        async function convertToInteractive(key) {\n",
              "          const element = document.querySelector('#df-700cae1e-7bf7-4e94-bce6-df01809cb0a2');\n",
              "          const dataTable =\n",
              "            await google.colab.kernel.invokeFunction('convertToInteractive',\n",
              "                                                     [key], {});\n",
              "          if (!dataTable) return;\n",
              "\n",
              "          const docLinkHtml = 'Like what you see? Visit the ' +\n",
              "            '<a target=\"_blank\" href=https://colab.research.google.com/notebooks/data_table.ipynb>data table notebook</a>'\n",
              "            + ' to learn more about interactive tables.';\n",
              "          element.innerHTML = '';\n",
              "          dataTable['output_type'] = 'display_data';\n",
              "          await google.colab.output.renderOutput(dataTable, element);\n",
              "          const docLink = document.createElement('div');\n",
              "          docLink.innerHTML = docLinkHtml;\n",
              "          element.appendChild(docLink);\n",
              "        }\n",
              "      </script>\n",
              "    </div>\n",
              "  </div>\n",
              "  "
            ]
          },
          "metadata": {},
          "execution_count": 249
        }
      ],
      "source": [
        "test.describe()"
      ]
    },
    {
      "cell_type": "code",
      "source": [
        "NYC_test.head()"
      ],
      "metadata": {
        "colab": {
          "base_uri": "https://localhost:8080/",
          "height": 49
        },
        "id": "wx5W4JXWwJUp",
        "outputId": "f16b9a2e-2c27-4759-fbc9-f19281b54b5d"
      },
      "execution_count": null,
      "outputs": [
        {
          "output_type": "execute_result",
          "data": {
            "text/plain": [
              "Empty DataFrame\n",
              "Columns: [dropoff_latitude, dropoff_longitude, key, passenger_count, pickup_datetime, pickup_latitude, pickup_longitude, test_id]\n",
              "Index: []"
            ],
            "text/html": [
              "\n",
              "  <div id=\"df-03773f96-126f-4ddb-a18e-67eae610514e\">\n",
              "    <div class=\"colab-df-container\">\n",
              "      <div>\n",
              "<style scoped>\n",
              "    .dataframe tbody tr th:only-of-type {\n",
              "        vertical-align: middle;\n",
              "    }\n",
              "\n",
              "    .dataframe tbody tr th {\n",
              "        vertical-align: top;\n",
              "    }\n",
              "\n",
              "    .dataframe thead th {\n",
              "        text-align: right;\n",
              "    }\n",
              "</style>\n",
              "<table border=\"1\" class=\"dataframe\">\n",
              "  <thead>\n",
              "    <tr style=\"text-align: right;\">\n",
              "      <th></th>\n",
              "      <th>dropoff_latitude</th>\n",
              "      <th>dropoff_longitude</th>\n",
              "      <th>key</th>\n",
              "      <th>passenger_count</th>\n",
              "      <th>pickup_datetime</th>\n",
              "      <th>pickup_latitude</th>\n",
              "      <th>pickup_longitude</th>\n",
              "      <th>test_id</th>\n",
              "    </tr>\n",
              "  </thead>\n",
              "  <tbody>\n",
              "  </tbody>\n",
              "</table>\n",
              "</div>\n",
              "      <button class=\"colab-df-convert\" onclick=\"convertToInteractive('df-03773f96-126f-4ddb-a18e-67eae610514e')\"\n",
              "              title=\"Convert this dataframe to an interactive table.\"\n",
              "              style=\"display:none;\">\n",
              "        \n",
              "  <svg xmlns=\"http://www.w3.org/2000/svg\" height=\"24px\"viewBox=\"0 0 24 24\"\n",
              "       width=\"24px\">\n",
              "    <path d=\"M0 0h24v24H0V0z\" fill=\"none\"/>\n",
              "    <path d=\"M18.56 5.44l.94 2.06.94-2.06 2.06-.94-2.06-.94-.94-2.06-.94 2.06-2.06.94zm-11 1L8.5 8.5l.94-2.06 2.06-.94-2.06-.94L8.5 2.5l-.94 2.06-2.06.94zm10 10l.94 2.06.94-2.06 2.06-.94-2.06-.94-.94-2.06-.94 2.06-2.06.94z\"/><path d=\"M17.41 7.96l-1.37-1.37c-.4-.4-.92-.59-1.43-.59-.52 0-1.04.2-1.43.59L10.3 9.45l-7.72 7.72c-.78.78-.78 2.05 0 2.83L4 21.41c.39.39.9.59 1.41.59.51 0 1.02-.2 1.41-.59l7.78-7.78 2.81-2.81c.8-.78.8-2.07 0-2.86zM5.41 20L4 18.59l7.72-7.72 1.47 1.35L5.41 20z\"/>\n",
              "  </svg>\n",
              "      </button>\n",
              "      \n",
              "  <style>\n",
              "    .colab-df-container {\n",
              "      display:flex;\n",
              "      flex-wrap:wrap;\n",
              "      gap: 12px;\n",
              "    }\n",
              "\n",
              "    .colab-df-convert {\n",
              "      background-color: #E8F0FE;\n",
              "      border: none;\n",
              "      border-radius: 50%;\n",
              "      cursor: pointer;\n",
              "      display: none;\n",
              "      fill: #1967D2;\n",
              "      height: 32px;\n",
              "      padding: 0 0 0 0;\n",
              "      width: 32px;\n",
              "    }\n",
              "\n",
              "    .colab-df-convert:hover {\n",
              "      background-color: #E2EBFA;\n",
              "      box-shadow: 0px 1px 2px rgba(60, 64, 67, 0.3), 0px 1px 3px 1px rgba(60, 64, 67, 0.15);\n",
              "      fill: #174EA6;\n",
              "    }\n",
              "\n",
              "    [theme=dark] .colab-df-convert {\n",
              "      background-color: #3B4455;\n",
              "      fill: #D2E3FC;\n",
              "    }\n",
              "\n",
              "    [theme=dark] .colab-df-convert:hover {\n",
              "      background-color: #434B5C;\n",
              "      box-shadow: 0px 1px 3px 1px rgba(0, 0, 0, 0.15);\n",
              "      filter: drop-shadow(0px 1px 2px rgba(0, 0, 0, 0.3));\n",
              "      fill: #FFFFFF;\n",
              "    }\n",
              "  </style>\n",
              "\n",
              "      <script>\n",
              "        const buttonEl =\n",
              "          document.querySelector('#df-03773f96-126f-4ddb-a18e-67eae610514e button.colab-df-convert');\n",
              "        buttonEl.style.display =\n",
              "          google.colab.kernel.accessAllowed ? 'block' : 'none';\n",
              "\n",
              "        async function convertToInteractive(key) {\n",
              "          const element = document.querySelector('#df-03773f96-126f-4ddb-a18e-67eae610514e');\n",
              "          const dataTable =\n",
              "            await google.colab.kernel.invokeFunction('convertToInteractive',\n",
              "                                                     [key], {});\n",
              "          if (!dataTable) return;\n",
              "\n",
              "          const docLinkHtml = 'Like what you see? Visit the ' +\n",
              "            '<a target=\"_blank\" href=https://colab.research.google.com/notebooks/data_table.ipynb>data table notebook</a>'\n",
              "            + ' to learn more about interactive tables.';\n",
              "          element.innerHTML = '';\n",
              "          dataTable['output_type'] = 'display_data';\n",
              "          await google.colab.output.renderOutput(dataTable, element);\n",
              "          const docLink = document.createElement('div');\n",
              "          docLink.innerHTML = docLinkHtml;\n",
              "          element.appendChild(docLink);\n",
              "        }\n",
              "      </script>\n",
              "    </div>\n",
              "  </div>\n",
              "  "
            ]
          },
          "metadata": {},
          "execution_count": 268
        }
      ]
    },
    {
      "cell_type": "markdown",
      "metadata": {
        "id": "eEXJzAnl5gKU"
      },
      "source": [
        "## conversion of object datatype in datatime format"
      ]
    },
    {
      "cell_type": "code",
      "source": [
        "NYC_test.describe()"
      ],
      "metadata": {
        "colab": {
          "base_uri": "https://localhost:8080/",
          "height": 300
        },
        "id": "kXrX03-KzmxV",
        "outputId": "1cbf08a3-01fc-4d6e-ad7a-5cc2b69acca5"
      },
      "execution_count": null,
      "outputs": [
        {
          "output_type": "execute_result",
          "data": {
            "text/plain": [
              "       dropoff_latitude  dropoff_longitude  key  passenger_count  \\\n",
              "count               0.0                0.0  0.0              0.0   \n",
              "mean                NaN                NaN  NaN              NaN   \n",
              "std                 NaN                NaN  NaN              NaN   \n",
              "min                 NaN                NaN  NaN              NaN   \n",
              "25%                 NaN                NaN  NaN              NaN   \n",
              "50%                 NaN                NaN  NaN              NaN   \n",
              "75%                 NaN                NaN  NaN              NaN   \n",
              "max                 NaN                NaN  NaN              NaN   \n",
              "\n",
              "       pickup_latitude  pickup_longitude  test_id  \n",
              "count              0.0               0.0      0.0  \n",
              "mean               NaN               NaN      NaN  \n",
              "std                NaN               NaN      NaN  \n",
              "min                NaN               NaN      NaN  \n",
              "25%                NaN               NaN      NaN  \n",
              "50%                NaN               NaN      NaN  \n",
              "75%                NaN               NaN      NaN  \n",
              "max                NaN               NaN      NaN  "
            ],
            "text/html": [
              "\n",
              "  <div id=\"df-158e7946-f765-40da-bd0a-833270b13af8\">\n",
              "    <div class=\"colab-df-container\">\n",
              "      <div>\n",
              "<style scoped>\n",
              "    .dataframe tbody tr th:only-of-type {\n",
              "        vertical-align: middle;\n",
              "    }\n",
              "\n",
              "    .dataframe tbody tr th {\n",
              "        vertical-align: top;\n",
              "    }\n",
              "\n",
              "    .dataframe thead th {\n",
              "        text-align: right;\n",
              "    }\n",
              "</style>\n",
              "<table border=\"1\" class=\"dataframe\">\n",
              "  <thead>\n",
              "    <tr style=\"text-align: right;\">\n",
              "      <th></th>\n",
              "      <th>dropoff_latitude</th>\n",
              "      <th>dropoff_longitude</th>\n",
              "      <th>key</th>\n",
              "      <th>passenger_count</th>\n",
              "      <th>pickup_latitude</th>\n",
              "      <th>pickup_longitude</th>\n",
              "      <th>test_id</th>\n",
              "    </tr>\n",
              "  </thead>\n",
              "  <tbody>\n",
              "    <tr>\n",
              "      <th>count</th>\n",
              "      <td>0.0</td>\n",
              "      <td>0.0</td>\n",
              "      <td>0.0</td>\n",
              "      <td>0.0</td>\n",
              "      <td>0.0</td>\n",
              "      <td>0.0</td>\n",
              "      <td>0.0</td>\n",
              "    </tr>\n",
              "    <tr>\n",
              "      <th>mean</th>\n",
              "      <td>NaN</td>\n",
              "      <td>NaN</td>\n",
              "      <td>NaN</td>\n",
              "      <td>NaN</td>\n",
              "      <td>NaN</td>\n",
              "      <td>NaN</td>\n",
              "      <td>NaN</td>\n",
              "    </tr>\n",
              "    <tr>\n",
              "      <th>std</th>\n",
              "      <td>NaN</td>\n",
              "      <td>NaN</td>\n",
              "      <td>NaN</td>\n",
              "      <td>NaN</td>\n",
              "      <td>NaN</td>\n",
              "      <td>NaN</td>\n",
              "      <td>NaN</td>\n",
              "    </tr>\n",
              "    <tr>\n",
              "      <th>min</th>\n",
              "      <td>NaN</td>\n",
              "      <td>NaN</td>\n",
              "      <td>NaN</td>\n",
              "      <td>NaN</td>\n",
              "      <td>NaN</td>\n",
              "      <td>NaN</td>\n",
              "      <td>NaN</td>\n",
              "    </tr>\n",
              "    <tr>\n",
              "      <th>25%</th>\n",
              "      <td>NaN</td>\n",
              "      <td>NaN</td>\n",
              "      <td>NaN</td>\n",
              "      <td>NaN</td>\n",
              "      <td>NaN</td>\n",
              "      <td>NaN</td>\n",
              "      <td>NaN</td>\n",
              "    </tr>\n",
              "    <tr>\n",
              "      <th>50%</th>\n",
              "      <td>NaN</td>\n",
              "      <td>NaN</td>\n",
              "      <td>NaN</td>\n",
              "      <td>NaN</td>\n",
              "      <td>NaN</td>\n",
              "      <td>NaN</td>\n",
              "      <td>NaN</td>\n",
              "    </tr>\n",
              "    <tr>\n",
              "      <th>75%</th>\n",
              "      <td>NaN</td>\n",
              "      <td>NaN</td>\n",
              "      <td>NaN</td>\n",
              "      <td>NaN</td>\n",
              "      <td>NaN</td>\n",
              "      <td>NaN</td>\n",
              "      <td>NaN</td>\n",
              "    </tr>\n",
              "    <tr>\n",
              "      <th>max</th>\n",
              "      <td>NaN</td>\n",
              "      <td>NaN</td>\n",
              "      <td>NaN</td>\n",
              "      <td>NaN</td>\n",
              "      <td>NaN</td>\n",
              "      <td>NaN</td>\n",
              "      <td>NaN</td>\n",
              "    </tr>\n",
              "  </tbody>\n",
              "</table>\n",
              "</div>\n",
              "      <button class=\"colab-df-convert\" onclick=\"convertToInteractive('df-158e7946-f765-40da-bd0a-833270b13af8')\"\n",
              "              title=\"Convert this dataframe to an interactive table.\"\n",
              "              style=\"display:none;\">\n",
              "        \n",
              "  <svg xmlns=\"http://www.w3.org/2000/svg\" height=\"24px\"viewBox=\"0 0 24 24\"\n",
              "       width=\"24px\">\n",
              "    <path d=\"M0 0h24v24H0V0z\" fill=\"none\"/>\n",
              "    <path d=\"M18.56 5.44l.94 2.06.94-2.06 2.06-.94-2.06-.94-.94-2.06-.94 2.06-2.06.94zm-11 1L8.5 8.5l.94-2.06 2.06-.94-2.06-.94L8.5 2.5l-.94 2.06-2.06.94zm10 10l.94 2.06.94-2.06 2.06-.94-2.06-.94-.94-2.06-.94 2.06-2.06.94z\"/><path d=\"M17.41 7.96l-1.37-1.37c-.4-.4-.92-.59-1.43-.59-.52 0-1.04.2-1.43.59L10.3 9.45l-7.72 7.72c-.78.78-.78 2.05 0 2.83L4 21.41c.39.39.9.59 1.41.59.51 0 1.02-.2 1.41-.59l7.78-7.78 2.81-2.81c.8-.78.8-2.07 0-2.86zM5.41 20L4 18.59l7.72-7.72 1.47 1.35L5.41 20z\"/>\n",
              "  </svg>\n",
              "      </button>\n",
              "      \n",
              "  <style>\n",
              "    .colab-df-container {\n",
              "      display:flex;\n",
              "      flex-wrap:wrap;\n",
              "      gap: 12px;\n",
              "    }\n",
              "\n",
              "    .colab-df-convert {\n",
              "      background-color: #E8F0FE;\n",
              "      border: none;\n",
              "      border-radius: 50%;\n",
              "      cursor: pointer;\n",
              "      display: none;\n",
              "      fill: #1967D2;\n",
              "      height: 32px;\n",
              "      padding: 0 0 0 0;\n",
              "      width: 32px;\n",
              "    }\n",
              "\n",
              "    .colab-df-convert:hover {\n",
              "      background-color: #E2EBFA;\n",
              "      box-shadow: 0px 1px 2px rgba(60, 64, 67, 0.3), 0px 1px 3px 1px rgba(60, 64, 67, 0.15);\n",
              "      fill: #174EA6;\n",
              "    }\n",
              "\n",
              "    [theme=dark] .colab-df-convert {\n",
              "      background-color: #3B4455;\n",
              "      fill: #D2E3FC;\n",
              "    }\n",
              "\n",
              "    [theme=dark] .colab-df-convert:hover {\n",
              "      background-color: #434B5C;\n",
              "      box-shadow: 0px 1px 3px 1px rgba(0, 0, 0, 0.15);\n",
              "      filter: drop-shadow(0px 1px 2px rgba(0, 0, 0, 0.3));\n",
              "      fill: #FFFFFF;\n",
              "    }\n",
              "  </style>\n",
              "\n",
              "      <script>\n",
              "        const buttonEl =\n",
              "          document.querySelector('#df-158e7946-f765-40da-bd0a-833270b13af8 button.colab-df-convert');\n",
              "        buttonEl.style.display =\n",
              "          google.colab.kernel.accessAllowed ? 'block' : 'none';\n",
              "\n",
              "        async function convertToInteractive(key) {\n",
              "          const element = document.querySelector('#df-158e7946-f765-40da-bd0a-833270b13af8');\n",
              "          const dataTable =\n",
              "            await google.colab.kernel.invokeFunction('convertToInteractive',\n",
              "                                                     [key], {});\n",
              "          if (!dataTable) return;\n",
              "\n",
              "          const docLinkHtml = 'Like what you see? Visit the ' +\n",
              "            '<a target=\"_blank\" href=https://colab.research.google.com/notebooks/data_table.ipynb>data table notebook</a>'\n",
              "            + ' to learn more about interactive tables.';\n",
              "          element.innerHTML = '';\n",
              "          dataTable['output_type'] = 'display_data';\n",
              "          await google.colab.output.renderOutput(dataTable, element);\n",
              "          const docLink = document.createElement('div');\n",
              "          docLink.innerHTML = docLinkHtml;\n",
              "          element.appendChild(docLink);\n",
              "        }\n",
              "      </script>\n",
              "    </div>\n",
              "  </div>\n",
              "  "
            ]
          },
          "metadata": {},
          "execution_count": 269
        }
      ]
    },
    {
      "cell_type": "code",
      "execution_count": null,
      "metadata": {
        "id": "fphCTbjQ5Wa8"
      },
      "outputs": [],
      "source": [
        "# here we are changing the datatype of the key and the pickup_datetime from object to datetime\n",
        "train['key'] = pd.to_datetime(train['key'])\n",
        "train['pickup_datetime']  = pd.to_datetime(train['pickup_datetime'])"
      ]
    },
    {
      "cell_type": "code",
      "execution_count": null,
      "metadata": {
        "id": "_x5x1fBRd3Hu"
      },
      "outputs": [],
      "source": [
        "# here we are changing the datatype of the key and the pickup_datetime from object to datetime\n",
        "test['key'] = pd.to_datetime(test['key'])\n",
        "test['pickup_datetime']  = pd.to_datetime(test['pickup_datetime'])"
      ]
    },
    {
      "cell_type": "code",
      "source": [
        "# here we are changing the datatype of the key and the pickup_datetime from object to datetime\n",
        "NYC_test['key'] = pd.to_datetime(NYC_test['key'])\n",
        "NYC_test['pickup_datetime']  = pd.to_datetime(NYC_test['pickup_datetime'])"
      ],
      "metadata": {
        "id": "3KLKcb-K6nVf"
      },
      "execution_count": null,
      "outputs": []
    },
    {
      "cell_type": "code",
      "execution_count": null,
      "metadata": {
        "colab": {
          "base_uri": "https://localhost:8080/"
        },
        "id": "8w8JXNAIeQnd",
        "outputId": "e6654120-ed6c-44c6-e289-31b4030cfe61"
      },
      "outputs": [
        {
          "output_type": "execute_result",
          "data": {
            "text/plain": [
              "(key                       datetime64[ns]\n",
              " fare_amount                      float64\n",
              " pickup_datetime      datetime64[ns, UTC]\n",
              " pickup_longitude                 float64\n",
              " pickup_latitude                  float64\n",
              " dropoff_longitude                float64\n",
              " dropoff_latitude                 float64\n",
              " passenger_count                    int64\n",
              " dtype: object, key                       datetime64[ns]\n",
              " pickup_datetime      datetime64[ns, UTC]\n",
              " pickup_longitude                 float64\n",
              " pickup_latitude                  float64\n",
              " dropoff_longitude                float64\n",
              " dropoff_latitude                 float64\n",
              " passenger_count                    int64\n",
              " dtype: object)"
            ]
          },
          "metadata": {},
          "execution_count": 274
        }
      ],
      "source": [
        "train.dtypes, test.dtypes"
      ]
    },
    {
      "cell_type": "code",
      "execution_count": null,
      "metadata": {
        "colab": {
          "base_uri": "https://localhost:8080/",
          "height": 300
        },
        "id": "R6B-PeDreTLw",
        "outputId": "ff5066cb-f36a-409c-d930-eff454520c52"
      },
      "outputs": [
        {
          "output_type": "execute_result",
          "data": {
            "text/plain": [
              "         fare_amount  pickup_longitude  pickup_latitude  dropoff_longitude  \\\n",
              "count  996327.000000     996327.000000    996327.000000      996327.000000   \n",
              "mean       11.358141        -72.516598        39.926279         -72.515035   \n",
              "std         9.831069         10.396380         6.092109          10.398391   \n",
              "min         0.010000       -128.175950       -74.016587        -121.391248   \n",
              "25%         6.000000        -73.992059        40.734960         -73.991383   \n",
              "50%         8.500000        -73.981792        40.752692         -73.980134   \n",
              "75%        12.500000        -73.967092        40.767152         -73.963650   \n",
              "max       500.000000         40.850357        69.400000          45.581619   \n",
              "\n",
              "       dropoff_latitude  passenger_count  \n",
              "count     996327.000000    996327.000000  \n",
              "mean          39.925683         1.690758  \n",
              "std            6.095567         1.306180  \n",
              "min          -74.035197         1.000000  \n",
              "25%           40.734043         1.000000  \n",
              "50%           40.753163         1.000000  \n",
              "75%           40.768127         2.000000  \n",
              "max           81.510177         6.000000  "
            ],
            "text/html": [
              "\n",
              "  <div id=\"df-d53b835e-34c6-4998-8291-4bcb0ea3cc9b\">\n",
              "    <div class=\"colab-df-container\">\n",
              "      <div>\n",
              "<style scoped>\n",
              "    .dataframe tbody tr th:only-of-type {\n",
              "        vertical-align: middle;\n",
              "    }\n",
              "\n",
              "    .dataframe tbody tr th {\n",
              "        vertical-align: top;\n",
              "    }\n",
              "\n",
              "    .dataframe thead th {\n",
              "        text-align: right;\n",
              "    }\n",
              "</style>\n",
              "<table border=\"1\" class=\"dataframe\">\n",
              "  <thead>\n",
              "    <tr style=\"text-align: right;\">\n",
              "      <th></th>\n",
              "      <th>fare_amount</th>\n",
              "      <th>pickup_longitude</th>\n",
              "      <th>pickup_latitude</th>\n",
              "      <th>dropoff_longitude</th>\n",
              "      <th>dropoff_latitude</th>\n",
              "      <th>passenger_count</th>\n",
              "    </tr>\n",
              "  </thead>\n",
              "  <tbody>\n",
              "    <tr>\n",
              "      <th>count</th>\n",
              "      <td>996327.000000</td>\n",
              "      <td>996327.000000</td>\n",
              "      <td>996327.000000</td>\n",
              "      <td>996327.000000</td>\n",
              "      <td>996327.000000</td>\n",
              "      <td>996327.000000</td>\n",
              "    </tr>\n",
              "    <tr>\n",
              "      <th>mean</th>\n",
              "      <td>11.358141</td>\n",
              "      <td>-72.516598</td>\n",
              "      <td>39.926279</td>\n",
              "      <td>-72.515035</td>\n",
              "      <td>39.925683</td>\n",
              "      <td>1.690758</td>\n",
              "    </tr>\n",
              "    <tr>\n",
              "      <th>std</th>\n",
              "      <td>9.831069</td>\n",
              "      <td>10.396380</td>\n",
              "      <td>6.092109</td>\n",
              "      <td>10.398391</td>\n",
              "      <td>6.095567</td>\n",
              "      <td>1.306180</td>\n",
              "    </tr>\n",
              "    <tr>\n",
              "      <th>min</th>\n",
              "      <td>0.010000</td>\n",
              "      <td>-128.175950</td>\n",
              "      <td>-74.016587</td>\n",
              "      <td>-121.391248</td>\n",
              "      <td>-74.035197</td>\n",
              "      <td>1.000000</td>\n",
              "    </tr>\n",
              "    <tr>\n",
              "      <th>25%</th>\n",
              "      <td>6.000000</td>\n",
              "      <td>-73.992059</td>\n",
              "      <td>40.734960</td>\n",
              "      <td>-73.991383</td>\n",
              "      <td>40.734043</td>\n",
              "      <td>1.000000</td>\n",
              "    </tr>\n",
              "    <tr>\n",
              "      <th>50%</th>\n",
              "      <td>8.500000</td>\n",
              "      <td>-73.981792</td>\n",
              "      <td>40.752692</td>\n",
              "      <td>-73.980134</td>\n",
              "      <td>40.753163</td>\n",
              "      <td>1.000000</td>\n",
              "    </tr>\n",
              "    <tr>\n",
              "      <th>75%</th>\n",
              "      <td>12.500000</td>\n",
              "      <td>-73.967092</td>\n",
              "      <td>40.767152</td>\n",
              "      <td>-73.963650</td>\n",
              "      <td>40.768127</td>\n",
              "      <td>2.000000</td>\n",
              "    </tr>\n",
              "    <tr>\n",
              "      <th>max</th>\n",
              "      <td>500.000000</td>\n",
              "      <td>40.850357</td>\n",
              "      <td>69.400000</td>\n",
              "      <td>45.581619</td>\n",
              "      <td>81.510177</td>\n",
              "      <td>6.000000</td>\n",
              "    </tr>\n",
              "  </tbody>\n",
              "</table>\n",
              "</div>\n",
              "      <button class=\"colab-df-convert\" onclick=\"convertToInteractive('df-d53b835e-34c6-4998-8291-4bcb0ea3cc9b')\"\n",
              "              title=\"Convert this dataframe to an interactive table.\"\n",
              "              style=\"display:none;\">\n",
              "        \n",
              "  <svg xmlns=\"http://www.w3.org/2000/svg\" height=\"24px\"viewBox=\"0 0 24 24\"\n",
              "       width=\"24px\">\n",
              "    <path d=\"M0 0h24v24H0V0z\" fill=\"none\"/>\n",
              "    <path d=\"M18.56 5.44l.94 2.06.94-2.06 2.06-.94-2.06-.94-.94-2.06-.94 2.06-2.06.94zm-11 1L8.5 8.5l.94-2.06 2.06-.94-2.06-.94L8.5 2.5l-.94 2.06-2.06.94zm10 10l.94 2.06.94-2.06 2.06-.94-2.06-.94-.94-2.06-.94 2.06-2.06.94z\"/><path d=\"M17.41 7.96l-1.37-1.37c-.4-.4-.92-.59-1.43-.59-.52 0-1.04.2-1.43.59L10.3 9.45l-7.72 7.72c-.78.78-.78 2.05 0 2.83L4 21.41c.39.39.9.59 1.41.59.51 0 1.02-.2 1.41-.59l7.78-7.78 2.81-2.81c.8-.78.8-2.07 0-2.86zM5.41 20L4 18.59l7.72-7.72 1.47 1.35L5.41 20z\"/>\n",
              "  </svg>\n",
              "      </button>\n",
              "      \n",
              "  <style>\n",
              "    .colab-df-container {\n",
              "      display:flex;\n",
              "      flex-wrap:wrap;\n",
              "      gap: 12px;\n",
              "    }\n",
              "\n",
              "    .colab-df-convert {\n",
              "      background-color: #E8F0FE;\n",
              "      border: none;\n",
              "      border-radius: 50%;\n",
              "      cursor: pointer;\n",
              "      display: none;\n",
              "      fill: #1967D2;\n",
              "      height: 32px;\n",
              "      padding: 0 0 0 0;\n",
              "      width: 32px;\n",
              "    }\n",
              "\n",
              "    .colab-df-convert:hover {\n",
              "      background-color: #E2EBFA;\n",
              "      box-shadow: 0px 1px 2px rgba(60, 64, 67, 0.3), 0px 1px 3px 1px rgba(60, 64, 67, 0.15);\n",
              "      fill: #174EA6;\n",
              "    }\n",
              "\n",
              "    [theme=dark] .colab-df-convert {\n",
              "      background-color: #3B4455;\n",
              "      fill: #D2E3FC;\n",
              "    }\n",
              "\n",
              "    [theme=dark] .colab-df-convert:hover {\n",
              "      background-color: #434B5C;\n",
              "      box-shadow: 0px 1px 3px 1px rgba(0, 0, 0, 0.15);\n",
              "      filter: drop-shadow(0px 1px 2px rgba(0, 0, 0, 0.3));\n",
              "      fill: #FFFFFF;\n",
              "    }\n",
              "  </style>\n",
              "\n",
              "      <script>\n",
              "        const buttonEl =\n",
              "          document.querySelector('#df-d53b835e-34c6-4998-8291-4bcb0ea3cc9b button.colab-df-convert');\n",
              "        buttonEl.style.display =\n",
              "          google.colab.kernel.accessAllowed ? 'block' : 'none';\n",
              "\n",
              "        async function convertToInteractive(key) {\n",
              "          const element = document.querySelector('#df-d53b835e-34c6-4998-8291-4bcb0ea3cc9b');\n",
              "          const dataTable =\n",
              "            await google.colab.kernel.invokeFunction('convertToInteractive',\n",
              "                                                     [key], {});\n",
              "          if (!dataTable) return;\n",
              "\n",
              "          const docLinkHtml = 'Like what you see? Visit the ' +\n",
              "            '<a target=\"_blank\" href=https://colab.research.google.com/notebooks/data_table.ipynb>data table notebook</a>'\n",
              "            + ' to learn more about interactive tables.';\n",
              "          element.innerHTML = '';\n",
              "          dataTable['output_type'] = 'display_data';\n",
              "          await google.colab.output.renderOutput(dataTable, element);\n",
              "          const docLink = document.createElement('div');\n",
              "          docLink.innerHTML = docLinkHtml;\n",
              "          element.appendChild(docLink);\n",
              "        }\n",
              "      </script>\n",
              "    </div>\n",
              "  </div>\n",
              "  "
            ]
          },
          "metadata": {},
          "execution_count": 275
        }
      ],
      "source": [
        "train.describe()"
      ]
    },
    {
      "cell_type": "code",
      "execution_count": null,
      "metadata": {
        "colab": {
          "base_uri": "https://localhost:8080/",
          "height": 300
        },
        "id": "Ea9k3pTkeWwE",
        "outputId": "f6c124d0-136b-4f00-c56f-72aa69a4aaeb"
      },
      "outputs": [
        {
          "output_type": "execute_result",
          "data": {
            "text/plain": [
              "       pickup_longitude  pickup_latitude  dropoff_longitude  dropoff_latitude  \\\n",
              "count       9914.000000      9914.000000        9914.000000       9914.000000   \n",
              "mean         -73.974722        40.751041         -73.973657         40.751743   \n",
              "std            0.042774         0.033541           0.039072          0.035435   \n",
              "min          -74.252193        40.573143         -74.263242         40.568973   \n",
              "25%          -73.992501        40.736125         -73.991247         40.735254   \n",
              "50%          -73.982326        40.753051         -73.980015         40.754065   \n",
              "75%          -73.968013        40.767113         -73.964059         40.768757   \n",
              "max          -72.986532        41.709555         -72.990963         41.696683   \n",
              "\n",
              "       passenger_count  \n",
              "count      9914.000000  \n",
              "mean          1.671273  \n",
              "std           1.278747  \n",
              "min           1.000000  \n",
              "25%           1.000000  \n",
              "50%           1.000000  \n",
              "75%           2.000000  \n",
              "max           6.000000  "
            ],
            "text/html": [
              "\n",
              "  <div id=\"df-b75ea3cc-89e3-40ea-bbd3-35adc391897a\">\n",
              "    <div class=\"colab-df-container\">\n",
              "      <div>\n",
              "<style scoped>\n",
              "    .dataframe tbody tr th:only-of-type {\n",
              "        vertical-align: middle;\n",
              "    }\n",
              "\n",
              "    .dataframe tbody tr th {\n",
              "        vertical-align: top;\n",
              "    }\n",
              "\n",
              "    .dataframe thead th {\n",
              "        text-align: right;\n",
              "    }\n",
              "</style>\n",
              "<table border=\"1\" class=\"dataframe\">\n",
              "  <thead>\n",
              "    <tr style=\"text-align: right;\">\n",
              "      <th></th>\n",
              "      <th>pickup_longitude</th>\n",
              "      <th>pickup_latitude</th>\n",
              "      <th>dropoff_longitude</th>\n",
              "      <th>dropoff_latitude</th>\n",
              "      <th>passenger_count</th>\n",
              "    </tr>\n",
              "  </thead>\n",
              "  <tbody>\n",
              "    <tr>\n",
              "      <th>count</th>\n",
              "      <td>9914.000000</td>\n",
              "      <td>9914.000000</td>\n",
              "      <td>9914.000000</td>\n",
              "      <td>9914.000000</td>\n",
              "      <td>9914.000000</td>\n",
              "    </tr>\n",
              "    <tr>\n",
              "      <th>mean</th>\n",
              "      <td>-73.974722</td>\n",
              "      <td>40.751041</td>\n",
              "      <td>-73.973657</td>\n",
              "      <td>40.751743</td>\n",
              "      <td>1.671273</td>\n",
              "    </tr>\n",
              "    <tr>\n",
              "      <th>std</th>\n",
              "      <td>0.042774</td>\n",
              "      <td>0.033541</td>\n",
              "      <td>0.039072</td>\n",
              "      <td>0.035435</td>\n",
              "      <td>1.278747</td>\n",
              "    </tr>\n",
              "    <tr>\n",
              "      <th>min</th>\n",
              "      <td>-74.252193</td>\n",
              "      <td>40.573143</td>\n",
              "      <td>-74.263242</td>\n",
              "      <td>40.568973</td>\n",
              "      <td>1.000000</td>\n",
              "    </tr>\n",
              "    <tr>\n",
              "      <th>25%</th>\n",
              "      <td>-73.992501</td>\n",
              "      <td>40.736125</td>\n",
              "      <td>-73.991247</td>\n",
              "      <td>40.735254</td>\n",
              "      <td>1.000000</td>\n",
              "    </tr>\n",
              "    <tr>\n",
              "      <th>50%</th>\n",
              "      <td>-73.982326</td>\n",
              "      <td>40.753051</td>\n",
              "      <td>-73.980015</td>\n",
              "      <td>40.754065</td>\n",
              "      <td>1.000000</td>\n",
              "    </tr>\n",
              "    <tr>\n",
              "      <th>75%</th>\n",
              "      <td>-73.968013</td>\n",
              "      <td>40.767113</td>\n",
              "      <td>-73.964059</td>\n",
              "      <td>40.768757</td>\n",
              "      <td>2.000000</td>\n",
              "    </tr>\n",
              "    <tr>\n",
              "      <th>max</th>\n",
              "      <td>-72.986532</td>\n",
              "      <td>41.709555</td>\n",
              "      <td>-72.990963</td>\n",
              "      <td>41.696683</td>\n",
              "      <td>6.000000</td>\n",
              "    </tr>\n",
              "  </tbody>\n",
              "</table>\n",
              "</div>\n",
              "      <button class=\"colab-df-convert\" onclick=\"convertToInteractive('df-b75ea3cc-89e3-40ea-bbd3-35adc391897a')\"\n",
              "              title=\"Convert this dataframe to an interactive table.\"\n",
              "              style=\"display:none;\">\n",
              "        \n",
              "  <svg xmlns=\"http://www.w3.org/2000/svg\" height=\"24px\"viewBox=\"0 0 24 24\"\n",
              "       width=\"24px\">\n",
              "    <path d=\"M0 0h24v24H0V0z\" fill=\"none\"/>\n",
              "    <path d=\"M18.56 5.44l.94 2.06.94-2.06 2.06-.94-2.06-.94-.94-2.06-.94 2.06-2.06.94zm-11 1L8.5 8.5l.94-2.06 2.06-.94-2.06-.94L8.5 2.5l-.94 2.06-2.06.94zm10 10l.94 2.06.94-2.06 2.06-.94-2.06-.94-.94-2.06-.94 2.06-2.06.94z\"/><path d=\"M17.41 7.96l-1.37-1.37c-.4-.4-.92-.59-1.43-.59-.52 0-1.04.2-1.43.59L10.3 9.45l-7.72 7.72c-.78.78-.78 2.05 0 2.83L4 21.41c.39.39.9.59 1.41.59.51 0 1.02-.2 1.41-.59l7.78-7.78 2.81-2.81c.8-.78.8-2.07 0-2.86zM5.41 20L4 18.59l7.72-7.72 1.47 1.35L5.41 20z\"/>\n",
              "  </svg>\n",
              "      </button>\n",
              "      \n",
              "  <style>\n",
              "    .colab-df-container {\n",
              "      display:flex;\n",
              "      flex-wrap:wrap;\n",
              "      gap: 12px;\n",
              "    }\n",
              "\n",
              "    .colab-df-convert {\n",
              "      background-color: #E8F0FE;\n",
              "      border: none;\n",
              "      border-radius: 50%;\n",
              "      cursor: pointer;\n",
              "      display: none;\n",
              "      fill: #1967D2;\n",
              "      height: 32px;\n",
              "      padding: 0 0 0 0;\n",
              "      width: 32px;\n",
              "    }\n",
              "\n",
              "    .colab-df-convert:hover {\n",
              "      background-color: #E2EBFA;\n",
              "      box-shadow: 0px 1px 2px rgba(60, 64, 67, 0.3), 0px 1px 3px 1px rgba(60, 64, 67, 0.15);\n",
              "      fill: #174EA6;\n",
              "    }\n",
              "\n",
              "    [theme=dark] .colab-df-convert {\n",
              "      background-color: #3B4455;\n",
              "      fill: #D2E3FC;\n",
              "    }\n",
              "\n",
              "    [theme=dark] .colab-df-convert:hover {\n",
              "      background-color: #434B5C;\n",
              "      box-shadow: 0px 1px 3px 1px rgba(0, 0, 0, 0.15);\n",
              "      filter: drop-shadow(0px 1px 2px rgba(0, 0, 0, 0.3));\n",
              "      fill: #FFFFFF;\n",
              "    }\n",
              "  </style>\n",
              "\n",
              "      <script>\n",
              "        const buttonEl =\n",
              "          document.querySelector('#df-b75ea3cc-89e3-40ea-bbd3-35adc391897a button.colab-df-convert');\n",
              "        buttonEl.style.display =\n",
              "          google.colab.kernel.accessAllowed ? 'block' : 'none';\n",
              "\n",
              "        async function convertToInteractive(key) {\n",
              "          const element = document.querySelector('#df-b75ea3cc-89e3-40ea-bbd3-35adc391897a');\n",
              "          const dataTable =\n",
              "            await google.colab.kernel.invokeFunction('convertToInteractive',\n",
              "                                                     [key], {});\n",
              "          if (!dataTable) return;\n",
              "\n",
              "          const docLinkHtml = 'Like what you see? Visit the ' +\n",
              "            '<a target=\"_blank\" href=https://colab.research.google.com/notebooks/data_table.ipynb>data table notebook</a>'\n",
              "            + ' to learn more about interactive tables.';\n",
              "          element.innerHTML = '';\n",
              "          dataTable['output_type'] = 'display_data';\n",
              "          await google.colab.output.renderOutput(dataTable, element);\n",
              "          const docLink = document.createElement('div');\n",
              "          docLink.innerHTML = docLinkHtml;\n",
              "          element.appendChild(docLink);\n",
              "        }\n",
              "      </script>\n",
              "    </div>\n",
              "  </div>\n",
              "  "
            ]
          },
          "metadata": {},
          "execution_count": 276
        }
      ],
      "source": [
        "test.describe()"
      ]
    },
    {
      "cell_type": "markdown",
      "metadata": {
        "id": "FVI9LSUKehFM"
      },
      "source": [
        "We can see that the data types are fixed\n",
        "We can also see that the pickup and dropoff location coordinates are coming to be from outside the city. We will remove such rows from the Training Set as we are only building a model for the city."
      ]
    },
    {
      "cell_type": "code",
      "execution_count": null,
      "metadata": {
        "id": "haoPFMWregPk"
      },
      "outputs": [],
      "source": [
        "def select_outside_boundingbox(df, BB):\n",
        "    filter_df = df.loc[(df['pickup_longitude'] < BB[0]) | (df['pickup_longitude'] > BB[1]) | \\\n",
        "           (df['pickup_latitude'] < BB[2]) | (df['pickup_latitude'] > BB[3]) | \\\n",
        "           (df['dropoff_longitude'] < BB[0]) | (df['dropoff_longitude'] > BB[1]) | \\\n",
        "           (df['dropoff_latitude'] < BB[2]) | (df['dropoff_latitude'] > BB[3])]\n",
        "    return filter_df\n",
        "\n",
        "NYC_BB = (-74.5, -72.8, 40.5, 41.8)"
      ]
    },
    {
      "cell_type": "code",
      "execution_count": null,
      "metadata": {
        "colab": {
          "base_uri": "https://localhost:8080/",
          "height": 423
        },
        "id": "ccD0aFAAevDZ",
        "outputId": "787eefb6-2f1c-45da-f112-ffca937771e2"
      },
      "outputs": [
        {
          "output_type": "execute_result",
          "data": {
            "text/plain": [
              "                                 key  fare_amount           pickup_datetime  \\\n",
              "11     2012-12-24 11:24:00.000000980          5.5 2012-12-24 11:24:00+00:00   \n",
              "15     2013-11-23 12:57:00.000000190          5.0 2013-11-23 12:57:00+00:00   \n",
              "26     2011-02-07 20:01:00.000000114          6.5 2011-02-07 20:01:00+00:00   \n",
              "124    2013-01-17 17:22:00.000000430          8.0 2013-01-17 17:22:00+00:00   \n",
              "192    2010-09-05 17:08:00.000000920          3.7 2010-09-05 17:08:00+00:00   \n",
              "...                              ...          ...                       ...   \n",
              "999713 2013-06-07 20:40:21.000000300          8.0 2013-06-07 20:40:21+00:00   \n",
              "999723 2013-03-03 13:18:00.000000227          3.5 2013-03-03 13:18:00+00:00   \n",
              "999731 2014-05-04 23:27:00.000000103          9.0 2014-05-04 23:27:00+00:00   \n",
              "999888 2010-04-28 21:08:00.000000380          9.3 2010-04-28 21:08:00+00:00   \n",
              "999915 2014-05-12 02:34:05.000000100          8.0 2014-05-12 02:34:05+00:00   \n",
              "\n",
              "        pickup_longitude  pickup_latitude  dropoff_longitude  \\\n",
              "11                   0.0              0.0                0.0   \n",
              "15                   0.0              0.0                0.0   \n",
              "26                   0.0              0.0                0.0   \n",
              "124                  0.0              0.0                0.0   \n",
              "192                  0.0              0.0                0.0   \n",
              "...                  ...              ...                ...   \n",
              "999713               0.0              0.0                0.0   \n",
              "999723               0.0              0.0                0.0   \n",
              "999731               0.0              0.0                0.0   \n",
              "999888               0.0              0.0                0.0   \n",
              "999915               0.0              0.0                0.0   \n",
              "\n",
              "        dropoff_latitude  passenger_count  \n",
              "11                   0.0                3  \n",
              "15                   0.0                1  \n",
              "26                   0.0                1  \n",
              "124                  0.0                2  \n",
              "192                  0.0                5  \n",
              "...                  ...              ...  \n",
              "999713               0.0                2  \n",
              "999723               0.0                6  \n",
              "999731               0.0                6  \n",
              "999888               0.0                3  \n",
              "999915               0.0                2  \n",
              "\n",
              "[20815 rows x 8 columns]"
            ],
            "text/html": [
              "\n",
              "  <div id=\"df-4249ea70-080b-4fd1-b38b-38556cdf897f\">\n",
              "    <div class=\"colab-df-container\">\n",
              "      <div>\n",
              "<style scoped>\n",
              "    .dataframe tbody tr th:only-of-type {\n",
              "        vertical-align: middle;\n",
              "    }\n",
              "\n",
              "    .dataframe tbody tr th {\n",
              "        vertical-align: top;\n",
              "    }\n",
              "\n",
              "    .dataframe thead th {\n",
              "        text-align: right;\n",
              "    }\n",
              "</style>\n",
              "<table border=\"1\" class=\"dataframe\">\n",
              "  <thead>\n",
              "    <tr style=\"text-align: right;\">\n",
              "      <th></th>\n",
              "      <th>key</th>\n",
              "      <th>fare_amount</th>\n",
              "      <th>pickup_datetime</th>\n",
              "      <th>pickup_longitude</th>\n",
              "      <th>pickup_latitude</th>\n",
              "      <th>dropoff_longitude</th>\n",
              "      <th>dropoff_latitude</th>\n",
              "      <th>passenger_count</th>\n",
              "    </tr>\n",
              "  </thead>\n",
              "  <tbody>\n",
              "    <tr>\n",
              "      <th>11</th>\n",
              "      <td>2012-12-24 11:24:00.000000980</td>\n",
              "      <td>5.5</td>\n",
              "      <td>2012-12-24 11:24:00+00:00</td>\n",
              "      <td>0.0</td>\n",
              "      <td>0.0</td>\n",
              "      <td>0.0</td>\n",
              "      <td>0.0</td>\n",
              "      <td>3</td>\n",
              "    </tr>\n",
              "    <tr>\n",
              "      <th>15</th>\n",
              "      <td>2013-11-23 12:57:00.000000190</td>\n",
              "      <td>5.0</td>\n",
              "      <td>2013-11-23 12:57:00+00:00</td>\n",
              "      <td>0.0</td>\n",
              "      <td>0.0</td>\n",
              "      <td>0.0</td>\n",
              "      <td>0.0</td>\n",
              "      <td>1</td>\n",
              "    </tr>\n",
              "    <tr>\n",
              "      <th>26</th>\n",
              "      <td>2011-02-07 20:01:00.000000114</td>\n",
              "      <td>6.5</td>\n",
              "      <td>2011-02-07 20:01:00+00:00</td>\n",
              "      <td>0.0</td>\n",
              "      <td>0.0</td>\n",
              "      <td>0.0</td>\n",
              "      <td>0.0</td>\n",
              "      <td>1</td>\n",
              "    </tr>\n",
              "    <tr>\n",
              "      <th>124</th>\n",
              "      <td>2013-01-17 17:22:00.000000430</td>\n",
              "      <td>8.0</td>\n",
              "      <td>2013-01-17 17:22:00+00:00</td>\n",
              "      <td>0.0</td>\n",
              "      <td>0.0</td>\n",
              "      <td>0.0</td>\n",
              "      <td>0.0</td>\n",
              "      <td>2</td>\n",
              "    </tr>\n",
              "    <tr>\n",
              "      <th>192</th>\n",
              "      <td>2010-09-05 17:08:00.000000920</td>\n",
              "      <td>3.7</td>\n",
              "      <td>2010-09-05 17:08:00+00:00</td>\n",
              "      <td>0.0</td>\n",
              "      <td>0.0</td>\n",
              "      <td>0.0</td>\n",
              "      <td>0.0</td>\n",
              "      <td>5</td>\n",
              "    </tr>\n",
              "    <tr>\n",
              "      <th>...</th>\n",
              "      <td>...</td>\n",
              "      <td>...</td>\n",
              "      <td>...</td>\n",
              "      <td>...</td>\n",
              "      <td>...</td>\n",
              "      <td>...</td>\n",
              "      <td>...</td>\n",
              "      <td>...</td>\n",
              "    </tr>\n",
              "    <tr>\n",
              "      <th>999713</th>\n",
              "      <td>2013-06-07 20:40:21.000000300</td>\n",
              "      <td>8.0</td>\n",
              "      <td>2013-06-07 20:40:21+00:00</td>\n",
              "      <td>0.0</td>\n",
              "      <td>0.0</td>\n",
              "      <td>0.0</td>\n",
              "      <td>0.0</td>\n",
              "      <td>2</td>\n",
              "    </tr>\n",
              "    <tr>\n",
              "      <th>999723</th>\n",
              "      <td>2013-03-03 13:18:00.000000227</td>\n",
              "      <td>3.5</td>\n",
              "      <td>2013-03-03 13:18:00+00:00</td>\n",
              "      <td>0.0</td>\n",
              "      <td>0.0</td>\n",
              "      <td>0.0</td>\n",
              "      <td>0.0</td>\n",
              "      <td>6</td>\n",
              "    </tr>\n",
              "    <tr>\n",
              "      <th>999731</th>\n",
              "      <td>2014-05-04 23:27:00.000000103</td>\n",
              "      <td>9.0</td>\n",
              "      <td>2014-05-04 23:27:00+00:00</td>\n",
              "      <td>0.0</td>\n",
              "      <td>0.0</td>\n",
              "      <td>0.0</td>\n",
              "      <td>0.0</td>\n",
              "      <td>6</td>\n",
              "    </tr>\n",
              "    <tr>\n",
              "      <th>999888</th>\n",
              "      <td>2010-04-28 21:08:00.000000380</td>\n",
              "      <td>9.3</td>\n",
              "      <td>2010-04-28 21:08:00+00:00</td>\n",
              "      <td>0.0</td>\n",
              "      <td>0.0</td>\n",
              "      <td>0.0</td>\n",
              "      <td>0.0</td>\n",
              "      <td>3</td>\n",
              "    </tr>\n",
              "    <tr>\n",
              "      <th>999915</th>\n",
              "      <td>2014-05-12 02:34:05.000000100</td>\n",
              "      <td>8.0</td>\n",
              "      <td>2014-05-12 02:34:05+00:00</td>\n",
              "      <td>0.0</td>\n",
              "      <td>0.0</td>\n",
              "      <td>0.0</td>\n",
              "      <td>0.0</td>\n",
              "      <td>2</td>\n",
              "    </tr>\n",
              "  </tbody>\n",
              "</table>\n",
              "<p>20815 rows × 8 columns</p>\n",
              "</div>\n",
              "      <button class=\"colab-df-convert\" onclick=\"convertToInteractive('df-4249ea70-080b-4fd1-b38b-38556cdf897f')\"\n",
              "              title=\"Convert this dataframe to an interactive table.\"\n",
              "              style=\"display:none;\">\n",
              "        \n",
              "  <svg xmlns=\"http://www.w3.org/2000/svg\" height=\"24px\"viewBox=\"0 0 24 24\"\n",
              "       width=\"24px\">\n",
              "    <path d=\"M0 0h24v24H0V0z\" fill=\"none\"/>\n",
              "    <path d=\"M18.56 5.44l.94 2.06.94-2.06 2.06-.94-2.06-.94-.94-2.06-.94 2.06-2.06.94zm-11 1L8.5 8.5l.94-2.06 2.06-.94-2.06-.94L8.5 2.5l-.94 2.06-2.06.94zm10 10l.94 2.06.94-2.06 2.06-.94-2.06-.94-.94-2.06-.94 2.06-2.06.94z\"/><path d=\"M17.41 7.96l-1.37-1.37c-.4-.4-.92-.59-1.43-.59-.52 0-1.04.2-1.43.59L10.3 9.45l-7.72 7.72c-.78.78-.78 2.05 0 2.83L4 21.41c.39.39.9.59 1.41.59.51 0 1.02-.2 1.41-.59l7.78-7.78 2.81-2.81c.8-.78.8-2.07 0-2.86zM5.41 20L4 18.59l7.72-7.72 1.47 1.35L5.41 20z\"/>\n",
              "  </svg>\n",
              "      </button>\n",
              "      \n",
              "  <style>\n",
              "    .colab-df-container {\n",
              "      display:flex;\n",
              "      flex-wrap:wrap;\n",
              "      gap: 12px;\n",
              "    }\n",
              "\n",
              "    .colab-df-convert {\n",
              "      background-color: #E8F0FE;\n",
              "      border: none;\n",
              "      border-radius: 50%;\n",
              "      cursor: pointer;\n",
              "      display: none;\n",
              "      fill: #1967D2;\n",
              "      height: 32px;\n",
              "      padding: 0 0 0 0;\n",
              "      width: 32px;\n",
              "    }\n",
              "\n",
              "    .colab-df-convert:hover {\n",
              "      background-color: #E2EBFA;\n",
              "      box-shadow: 0px 1px 2px rgba(60, 64, 67, 0.3), 0px 1px 3px 1px rgba(60, 64, 67, 0.15);\n",
              "      fill: #174EA6;\n",
              "    }\n",
              "\n",
              "    [theme=dark] .colab-df-convert {\n",
              "      background-color: #3B4455;\n",
              "      fill: #D2E3FC;\n",
              "    }\n",
              "\n",
              "    [theme=dark] .colab-df-convert:hover {\n",
              "      background-color: #434B5C;\n",
              "      box-shadow: 0px 1px 3px 1px rgba(0, 0, 0, 0.15);\n",
              "      filter: drop-shadow(0px 1px 2px rgba(0, 0, 0, 0.3));\n",
              "      fill: #FFFFFF;\n",
              "    }\n",
              "  </style>\n",
              "\n",
              "      <script>\n",
              "        const buttonEl =\n",
              "          document.querySelector('#df-4249ea70-080b-4fd1-b38b-38556cdf897f button.colab-df-convert');\n",
              "        buttonEl.style.display =\n",
              "          google.colab.kernel.accessAllowed ? 'block' : 'none';\n",
              "\n",
              "        async function convertToInteractive(key) {\n",
              "          const element = document.querySelector('#df-4249ea70-080b-4fd1-b38b-38556cdf897f');\n",
              "          const dataTable =\n",
              "            await google.colab.kernel.invokeFunction('convertToInteractive',\n",
              "                                                     [key], {});\n",
              "          if (!dataTable) return;\n",
              "\n",
              "          const docLinkHtml = 'Like what you see? Visit the ' +\n",
              "            '<a target=\"_blank\" href=https://colab.research.google.com/notebooks/data_table.ipynb>data table notebook</a>'\n",
              "            + ' to learn more about interactive tables.';\n",
              "          element.innerHTML = '';\n",
              "          dataTable['output_type'] = 'display_data';\n",
              "          await google.colab.output.renderOutput(dataTable, element);\n",
              "          const docLink = document.createElement('div');\n",
              "          docLink.innerHTML = docLinkHtml;\n",
              "          element.appendChild(docLink);\n",
              "        }\n",
              "      </script>\n",
              "    </div>\n",
              "  </div>\n",
              "  "
            ]
          },
          "metadata": {},
          "execution_count": 278
        }
      ],
      "source": [
        "Train_outliers = select_outside_boundingbox(train, NYC_BB)\n",
        "Train_outliers"
      ]
    },
    {
      "cell_type": "code",
      "execution_count": null,
      "metadata": {
        "id": "fuDx0oXdey_r"
      },
      "outputs": [],
      "source": [
        "# Remove the outliers from the train dataframe\n",
        "train = train.drop(Train_outliers.index, axis=0)"
      ]
    },
    {
      "cell_type": "code",
      "execution_count": null,
      "metadata": {
        "colab": {
          "base_uri": "https://localhost:8080/",
          "height": 49
        },
        "id": "Hmbyfi_We_9W",
        "outputId": "450d79a4-3b7a-4775-9287-b78ef110846f"
      },
      "outputs": [
        {
          "output_type": "execute_result",
          "data": {
            "text/plain": [
              "Empty DataFrame\n",
              "Columns: [key, pickup_datetime, pickup_longitude, pickup_latitude, dropoff_longitude, dropoff_latitude, passenger_count]\n",
              "Index: []"
            ],
            "text/html": [
              "\n",
              "  <div id=\"df-fa337854-64b0-416f-abbb-518b809208d6\">\n",
              "    <div class=\"colab-df-container\">\n",
              "      <div>\n",
              "<style scoped>\n",
              "    .dataframe tbody tr th:only-of-type {\n",
              "        vertical-align: middle;\n",
              "    }\n",
              "\n",
              "    .dataframe tbody tr th {\n",
              "        vertical-align: top;\n",
              "    }\n",
              "\n",
              "    .dataframe thead th {\n",
              "        text-align: right;\n",
              "    }\n",
              "</style>\n",
              "<table border=\"1\" class=\"dataframe\">\n",
              "  <thead>\n",
              "    <tr style=\"text-align: right;\">\n",
              "      <th></th>\n",
              "      <th>key</th>\n",
              "      <th>pickup_datetime</th>\n",
              "      <th>pickup_longitude</th>\n",
              "      <th>pickup_latitude</th>\n",
              "      <th>dropoff_longitude</th>\n",
              "      <th>dropoff_latitude</th>\n",
              "      <th>passenger_count</th>\n",
              "    </tr>\n",
              "  </thead>\n",
              "  <tbody>\n",
              "  </tbody>\n",
              "</table>\n",
              "</div>\n",
              "      <button class=\"colab-df-convert\" onclick=\"convertToInteractive('df-fa337854-64b0-416f-abbb-518b809208d6')\"\n",
              "              title=\"Convert this dataframe to an interactive table.\"\n",
              "              style=\"display:none;\">\n",
              "        \n",
              "  <svg xmlns=\"http://www.w3.org/2000/svg\" height=\"24px\"viewBox=\"0 0 24 24\"\n",
              "       width=\"24px\">\n",
              "    <path d=\"M0 0h24v24H0V0z\" fill=\"none\"/>\n",
              "    <path d=\"M18.56 5.44l.94 2.06.94-2.06 2.06-.94-2.06-.94-.94-2.06-.94 2.06-2.06.94zm-11 1L8.5 8.5l.94-2.06 2.06-.94-2.06-.94L8.5 2.5l-.94 2.06-2.06.94zm10 10l.94 2.06.94-2.06 2.06-.94-2.06-.94-.94-2.06-.94 2.06-2.06.94z\"/><path d=\"M17.41 7.96l-1.37-1.37c-.4-.4-.92-.59-1.43-.59-.52 0-1.04.2-1.43.59L10.3 9.45l-7.72 7.72c-.78.78-.78 2.05 0 2.83L4 21.41c.39.39.9.59 1.41.59.51 0 1.02-.2 1.41-.59l7.78-7.78 2.81-2.81c.8-.78.8-2.07 0-2.86zM5.41 20L4 18.59l7.72-7.72 1.47 1.35L5.41 20z\"/>\n",
              "  </svg>\n",
              "      </button>\n",
              "      \n",
              "  <style>\n",
              "    .colab-df-container {\n",
              "      display:flex;\n",
              "      flex-wrap:wrap;\n",
              "      gap: 12px;\n",
              "    }\n",
              "\n",
              "    .colab-df-convert {\n",
              "      background-color: #E8F0FE;\n",
              "      border: none;\n",
              "      border-radius: 50%;\n",
              "      cursor: pointer;\n",
              "      display: none;\n",
              "      fill: #1967D2;\n",
              "      height: 32px;\n",
              "      padding: 0 0 0 0;\n",
              "      width: 32px;\n",
              "    }\n",
              "\n",
              "    .colab-df-convert:hover {\n",
              "      background-color: #E2EBFA;\n",
              "      box-shadow: 0px 1px 2px rgba(60, 64, 67, 0.3), 0px 1px 3px 1px rgba(60, 64, 67, 0.15);\n",
              "      fill: #174EA6;\n",
              "    }\n",
              "\n",
              "    [theme=dark] .colab-df-convert {\n",
              "      background-color: #3B4455;\n",
              "      fill: #D2E3FC;\n",
              "    }\n",
              "\n",
              "    [theme=dark] .colab-df-convert:hover {\n",
              "      background-color: #434B5C;\n",
              "      box-shadow: 0px 1px 3px 1px rgba(0, 0, 0, 0.15);\n",
              "      filter: drop-shadow(0px 1px 2px rgba(0, 0, 0, 0.3));\n",
              "      fill: #FFFFFF;\n",
              "    }\n",
              "  </style>\n",
              "\n",
              "      <script>\n",
              "        const buttonEl =\n",
              "          document.querySelector('#df-fa337854-64b0-416f-abbb-518b809208d6 button.colab-df-convert');\n",
              "        buttonEl.style.display =\n",
              "          google.colab.kernel.accessAllowed ? 'block' : 'none';\n",
              "\n",
              "        async function convertToInteractive(key) {\n",
              "          const element = document.querySelector('#df-fa337854-64b0-416f-abbb-518b809208d6');\n",
              "          const dataTable =\n",
              "            await google.colab.kernel.invokeFunction('convertToInteractive',\n",
              "                                                     [key], {});\n",
              "          if (!dataTable) return;\n",
              "\n",
              "          const docLinkHtml = 'Like what you see? Visit the ' +\n",
              "            '<a target=\"_blank\" href=https://colab.research.google.com/notebooks/data_table.ipynb>data table notebook</a>'\n",
              "            + ' to learn more about interactive tables.';\n",
              "          element.innerHTML = '';\n",
              "          dataTable['output_type'] = 'display_data';\n",
              "          await google.colab.output.renderOutput(dataTable, element);\n",
              "          const docLink = document.createElement('div');\n",
              "          docLink.innerHTML = docLinkHtml;\n",
              "          element.appendChild(docLink);\n",
              "        }\n",
              "      </script>\n",
              "    </div>\n",
              "  </div>\n",
              "  "
            ]
          },
          "metadata": {},
          "execution_count": 280
        }
      ],
      "source": [
        "#Doing the same for test set\n",
        "\n",
        "test_outliers = select_outside_boundingbox(test, NYC_BB)\n",
        "test_outliers"
      ]
    },
    {
      "cell_type": "code",
      "source": [
        "test = test.drop(test_outliers.index, axis=0)"
      ],
      "metadata": {
        "id": "wekGsKPb7Ljq"
      },
      "execution_count": null,
      "outputs": []
    },
    {
      "cell_type": "code",
      "source": [
        "NYC_outliers = select_outside_boundingbox(NYC_test, NYC_BB)\n",
        "NYC_outliers"
      ],
      "metadata": {
        "colab": {
          "base_uri": "https://localhost:8080/",
          "height": 49
        },
        "id": "CZE0HP5Q7Vgm",
        "outputId": "e0abc95c-6a3b-4c06-807f-044bcc7b4949"
      },
      "execution_count": null,
      "outputs": [
        {
          "output_type": "execute_result",
          "data": {
            "text/plain": [
              "Empty DataFrame\n",
              "Columns: [dropoff_latitude, dropoff_longitude, key, passenger_count, pickup_datetime, pickup_latitude, pickup_longitude, test_id]\n",
              "Index: []"
            ],
            "text/html": [
              "\n",
              "  <div id=\"df-b6bc9ee2-2c5f-4db7-b445-599410838ca9\">\n",
              "    <div class=\"colab-df-container\">\n",
              "      <div>\n",
              "<style scoped>\n",
              "    .dataframe tbody tr th:only-of-type {\n",
              "        vertical-align: middle;\n",
              "    }\n",
              "\n",
              "    .dataframe tbody tr th {\n",
              "        vertical-align: top;\n",
              "    }\n",
              "\n",
              "    .dataframe thead th {\n",
              "        text-align: right;\n",
              "    }\n",
              "</style>\n",
              "<table border=\"1\" class=\"dataframe\">\n",
              "  <thead>\n",
              "    <tr style=\"text-align: right;\">\n",
              "      <th></th>\n",
              "      <th>dropoff_latitude</th>\n",
              "      <th>dropoff_longitude</th>\n",
              "      <th>key</th>\n",
              "      <th>passenger_count</th>\n",
              "      <th>pickup_datetime</th>\n",
              "      <th>pickup_latitude</th>\n",
              "      <th>pickup_longitude</th>\n",
              "      <th>test_id</th>\n",
              "    </tr>\n",
              "  </thead>\n",
              "  <tbody>\n",
              "  </tbody>\n",
              "</table>\n",
              "</div>\n",
              "      <button class=\"colab-df-convert\" onclick=\"convertToInteractive('df-b6bc9ee2-2c5f-4db7-b445-599410838ca9')\"\n",
              "              title=\"Convert this dataframe to an interactive table.\"\n",
              "              style=\"display:none;\">\n",
              "        \n",
              "  <svg xmlns=\"http://www.w3.org/2000/svg\" height=\"24px\"viewBox=\"0 0 24 24\"\n",
              "       width=\"24px\">\n",
              "    <path d=\"M0 0h24v24H0V0z\" fill=\"none\"/>\n",
              "    <path d=\"M18.56 5.44l.94 2.06.94-2.06 2.06-.94-2.06-.94-.94-2.06-.94 2.06-2.06.94zm-11 1L8.5 8.5l.94-2.06 2.06-.94-2.06-.94L8.5 2.5l-.94 2.06-2.06.94zm10 10l.94 2.06.94-2.06 2.06-.94-2.06-.94-.94-2.06-.94 2.06-2.06.94z\"/><path d=\"M17.41 7.96l-1.37-1.37c-.4-.4-.92-.59-1.43-.59-.52 0-1.04.2-1.43.59L10.3 9.45l-7.72 7.72c-.78.78-.78 2.05 0 2.83L4 21.41c.39.39.9.59 1.41.59.51 0 1.02-.2 1.41-.59l7.78-7.78 2.81-2.81c.8-.78.8-2.07 0-2.86zM5.41 20L4 18.59l7.72-7.72 1.47 1.35L5.41 20z\"/>\n",
              "  </svg>\n",
              "      </button>\n",
              "      \n",
              "  <style>\n",
              "    .colab-df-container {\n",
              "      display:flex;\n",
              "      flex-wrap:wrap;\n",
              "      gap: 12px;\n",
              "    }\n",
              "\n",
              "    .colab-df-convert {\n",
              "      background-color: #E8F0FE;\n",
              "      border: none;\n",
              "      border-radius: 50%;\n",
              "      cursor: pointer;\n",
              "      display: none;\n",
              "      fill: #1967D2;\n",
              "      height: 32px;\n",
              "      padding: 0 0 0 0;\n",
              "      width: 32px;\n",
              "    }\n",
              "\n",
              "    .colab-df-convert:hover {\n",
              "      background-color: #E2EBFA;\n",
              "      box-shadow: 0px 1px 2px rgba(60, 64, 67, 0.3), 0px 1px 3px 1px rgba(60, 64, 67, 0.15);\n",
              "      fill: #174EA6;\n",
              "    }\n",
              "\n",
              "    [theme=dark] .colab-df-convert {\n",
              "      background-color: #3B4455;\n",
              "      fill: #D2E3FC;\n",
              "    }\n",
              "\n",
              "    [theme=dark] .colab-df-convert:hover {\n",
              "      background-color: #434B5C;\n",
              "      box-shadow: 0px 1px 3px 1px rgba(0, 0, 0, 0.15);\n",
              "      filter: drop-shadow(0px 1px 2px rgba(0, 0, 0, 0.3));\n",
              "      fill: #FFFFFF;\n",
              "    }\n",
              "  </style>\n",
              "\n",
              "      <script>\n",
              "        const buttonEl =\n",
              "          document.querySelector('#df-b6bc9ee2-2c5f-4db7-b445-599410838ca9 button.colab-df-convert');\n",
              "        buttonEl.style.display =\n",
              "          google.colab.kernel.accessAllowed ? 'block' : 'none';\n",
              "\n",
              "        async function convertToInteractive(key) {\n",
              "          const element = document.querySelector('#df-b6bc9ee2-2c5f-4db7-b445-599410838ca9');\n",
              "          const dataTable =\n",
              "            await google.colab.kernel.invokeFunction('convertToInteractive',\n",
              "                                                     [key], {});\n",
              "          if (!dataTable) return;\n",
              "\n",
              "          const docLinkHtml = 'Like what you see? Visit the ' +\n",
              "            '<a target=\"_blank\" href=https://colab.research.google.com/notebooks/data_table.ipynb>data table notebook</a>'\n",
              "            + ' to learn more about interactive tables.';\n",
              "          element.innerHTML = '';\n",
              "          dataTable['output_type'] = 'display_data';\n",
              "          await google.colab.output.renderOutput(dataTable, element);\n",
              "          const docLink = document.createElement('div');\n",
              "          docLink.innerHTML = docLinkHtml;\n",
              "          element.appendChild(docLink);\n",
              "        }\n",
              "      </script>\n",
              "    </div>\n",
              "  </div>\n",
              "  "
            ]
          },
          "metadata": {},
          "execution_count": 282
        }
      ]
    },
    {
      "cell_type": "code",
      "source": [
        "NYC_test = NYC_test.drop(NYC_outliers.index, axis=0)"
      ],
      "metadata": {
        "id": "gwUQBglU7elM"
      },
      "execution_count": null,
      "outputs": []
    },
    {
      "cell_type": "code",
      "execution_count": null,
      "metadata": {
        "colab": {
          "base_uri": "https://localhost:8080/"
        },
        "id": "Apa861LzfKqo",
        "outputId": "9c450b87-e08c-4ce0-c54f-6876be0c6b4b"
      },
      "outputs": [
        {
          "output_type": "stream",
          "name": "stdout",
          "text": [
            "Shape of Train:  (975512, 8)\n",
            "Shape of Test:  (9914, 7)\n"
          ]
        }
      ],
      "source": [
        "print(\"Shape of Train: \", train.shape)\n",
        "print(\"Shape of Test: \", test.shape)"
      ]
    },
    {
      "cell_type": "code",
      "source": [
        "print(\"Shape of Test: \", NYC_test.shape)"
      ],
      "metadata": {
        "id": "UJh3AxC07pQ-"
      },
      "execution_count": null,
      "outputs": []
    },
    {
      "cell_type": "markdown",
      "metadata": {
        "id": "5UEk9C3IfcTe"
      },
      "source": [
        "splitting the pickup_datetime in hour, weekday, monthday,week,year, month"
      ]
    },
    {
      "cell_type": "code",
      "execution_count": null,
      "metadata": {
        "id": "d5wPgLfgfY2A"
      },
      "outputs": [],
      "source": [
        "\n",
        "data = [train,test]\n",
        "\n",
        "for i in data:\n",
        "    i[\"Hour\"] = i.pickup_datetime.dt.hour\n",
        "    i[\"week_day\"] = i.pickup_datetime.dt.weekday\n",
        "    i[\"Day_of_month\"] = i.pickup_datetime.dt.day\n",
        "    i[\"Week\"] = i.pickup_datetime.dt.isocalendar().week\n",
        "    i[\"Month\"] = i.pickup_datetime.dt.month\n",
        "    i[\"Year\"] = i.pickup_datetime.dt.year"
      ]
    },
    {
      "cell_type": "code",
      "source": [
        "data = [train,test,NYC_test]\n",
        "\n",
        "for i in data:\n",
        "    i[\"Hour\"] = i.pickup_datetime.dt.hour\n",
        "    i[\"week_day\"] = i.pickup_datetime.dt.weekday\n",
        "    i[\"Day_of_month\"] = i.pickup_datetime.dt.day\n",
        "    i[\"Week\"] = i.pickup_datetime.dt.isocalendar().week\n",
        "    i[\"Month\"] = i.pickup_datetime.dt.month\n",
        "    i[\"Year\"] = i.pickup_datetime.dt.year"
      ],
      "metadata": {
        "id": "pKY_J4T3y5tC"
      },
      "execution_count": null,
      "outputs": []
    },
    {
      "cell_type": "code",
      "execution_count": null,
      "metadata": {
        "id": "MWF9AXEgf4-o"
      },
      "outputs": [],
      "source": [
        "\n",
        "# Remove the pickup_datetime column since it's no longer needed\n",
        "train = train.drop(['pickup_datetime'], axis=1)\n",
        "test = test.drop(['pickup_datetime'], axis=1)"
      ]
    },
    {
      "cell_type": "code",
      "source": [
        "NYC_test = NYC_test.drop(['pickup_datetime'], axis=1)"
      ],
      "metadata": {
        "id": "Li4HKGnI75u9"
      },
      "execution_count": null,
      "outputs": []
    },
    {
      "cell_type": "markdown",
      "metadata": {
        "id": "juLp905if8pw"
      },
      "source": [
        "the key column is of no use we can drop it."
      ]
    },
    {
      "cell_type": "code",
      "execution_count": null,
      "metadata": {
        "id": "92YtvMytgCWE"
      },
      "outputs": [],
      "source": [
        "train = train.drop(['key'], axis=1)\n",
        "test = test.drop(['key'], axis=1)"
      ]
    },
    {
      "cell_type": "code",
      "source": [
        "NYC_test.columns"
      ],
      "metadata": {
        "colab": {
          "base_uri": "https://localhost:8080/"
        },
        "id": "Sm3dtvE68Pl1",
        "outputId": "328e5eda-d0c4-4514-c8d7-3202f4ee78d7"
      },
      "execution_count": null,
      "outputs": [
        {
          "output_type": "execute_result",
          "data": {
            "text/plain": [
              "Index(['dropoff_latitude', 'dropoff_longitude', 'key', 'passenger_count',\n",
              "       'pickup_latitude', 'pickup_longitude', 'test_id', 'Hour', 'week_day',\n",
              "       'Day_of_month', 'Week', 'Month', 'Year'],\n",
              "      dtype='object')"
            ]
          },
          "metadata": {},
          "execution_count": 293
        }
      ]
    },
    {
      "cell_type": "code",
      "source": [
        "NYC_test = NYC_test.drop(['key'], axis=1)"
      ],
      "metadata": {
        "id": "FM_3R38y8Hwt"
      },
      "execution_count": null,
      "outputs": []
    },
    {
      "cell_type": "code",
      "execution_count": null,
      "metadata": {
        "colab": {
          "base_uri": "https://localhost:8080/",
          "height": 206
        },
        "id": "vpEA-zaFgF81",
        "outputId": "23116ed8-6565-43ba-c015-0df7aa57f9bf"
      },
      "outputs": [
        {
          "output_type": "execute_result",
          "data": {
            "text/plain": [
              "   fare_amount  pickup_longitude  pickup_latitude  dropoff_longitude  \\\n",
              "0          4.5        -73.844311        40.721319         -73.841610   \n",
              "1         16.9        -74.016048        40.711303         -73.979268   \n",
              "2          5.7        -73.982738        40.761270         -73.991242   \n",
              "3          7.7        -73.987130        40.733143         -73.991567   \n",
              "4          5.3        -73.968095        40.768008         -73.956655   \n",
              "\n",
              "   dropoff_latitude  passenger_count  Hour  week_day  Day_of_month  Week  \\\n",
              "0         40.712278                1    17         0            15    25   \n",
              "1         40.782004                1    16         1             5     1   \n",
              "2         40.750562                2     0         3            18    33   \n",
              "3         40.758092                1     4         5            21    16   \n",
              "4         40.783762                1     7         1             9    10   \n",
              "\n",
              "   Month  Year  \n",
              "0      6  2009  \n",
              "1      1  2010  \n",
              "2      8  2011  \n",
              "3      4  2012  \n",
              "4      3  2010  "
            ],
            "text/html": [
              "\n",
              "  <div id=\"df-9138d499-0ebd-4221-bd67-b58cb9a87afc\">\n",
              "    <div class=\"colab-df-container\">\n",
              "      <div>\n",
              "<style scoped>\n",
              "    .dataframe tbody tr th:only-of-type {\n",
              "        vertical-align: middle;\n",
              "    }\n",
              "\n",
              "    .dataframe tbody tr th {\n",
              "        vertical-align: top;\n",
              "    }\n",
              "\n",
              "    .dataframe thead th {\n",
              "        text-align: right;\n",
              "    }\n",
              "</style>\n",
              "<table border=\"1\" class=\"dataframe\">\n",
              "  <thead>\n",
              "    <tr style=\"text-align: right;\">\n",
              "      <th></th>\n",
              "      <th>fare_amount</th>\n",
              "      <th>pickup_longitude</th>\n",
              "      <th>pickup_latitude</th>\n",
              "      <th>dropoff_longitude</th>\n",
              "      <th>dropoff_latitude</th>\n",
              "      <th>passenger_count</th>\n",
              "      <th>Hour</th>\n",
              "      <th>week_day</th>\n",
              "      <th>Day_of_month</th>\n",
              "      <th>Week</th>\n",
              "      <th>Month</th>\n",
              "      <th>Year</th>\n",
              "    </tr>\n",
              "  </thead>\n",
              "  <tbody>\n",
              "    <tr>\n",
              "      <th>0</th>\n",
              "      <td>4.5</td>\n",
              "      <td>-73.844311</td>\n",
              "      <td>40.721319</td>\n",
              "      <td>-73.841610</td>\n",
              "      <td>40.712278</td>\n",
              "      <td>1</td>\n",
              "      <td>17</td>\n",
              "      <td>0</td>\n",
              "      <td>15</td>\n",
              "      <td>25</td>\n",
              "      <td>6</td>\n",
              "      <td>2009</td>\n",
              "    </tr>\n",
              "    <tr>\n",
              "      <th>1</th>\n",
              "      <td>16.9</td>\n",
              "      <td>-74.016048</td>\n",
              "      <td>40.711303</td>\n",
              "      <td>-73.979268</td>\n",
              "      <td>40.782004</td>\n",
              "      <td>1</td>\n",
              "      <td>16</td>\n",
              "      <td>1</td>\n",
              "      <td>5</td>\n",
              "      <td>1</td>\n",
              "      <td>1</td>\n",
              "      <td>2010</td>\n",
              "    </tr>\n",
              "    <tr>\n",
              "      <th>2</th>\n",
              "      <td>5.7</td>\n",
              "      <td>-73.982738</td>\n",
              "      <td>40.761270</td>\n",
              "      <td>-73.991242</td>\n",
              "      <td>40.750562</td>\n",
              "      <td>2</td>\n",
              "      <td>0</td>\n",
              "      <td>3</td>\n",
              "      <td>18</td>\n",
              "      <td>33</td>\n",
              "      <td>8</td>\n",
              "      <td>2011</td>\n",
              "    </tr>\n",
              "    <tr>\n",
              "      <th>3</th>\n",
              "      <td>7.7</td>\n",
              "      <td>-73.987130</td>\n",
              "      <td>40.733143</td>\n",
              "      <td>-73.991567</td>\n",
              "      <td>40.758092</td>\n",
              "      <td>1</td>\n",
              "      <td>4</td>\n",
              "      <td>5</td>\n",
              "      <td>21</td>\n",
              "      <td>16</td>\n",
              "      <td>4</td>\n",
              "      <td>2012</td>\n",
              "    </tr>\n",
              "    <tr>\n",
              "      <th>4</th>\n",
              "      <td>5.3</td>\n",
              "      <td>-73.968095</td>\n",
              "      <td>40.768008</td>\n",
              "      <td>-73.956655</td>\n",
              "      <td>40.783762</td>\n",
              "      <td>1</td>\n",
              "      <td>7</td>\n",
              "      <td>1</td>\n",
              "      <td>9</td>\n",
              "      <td>10</td>\n",
              "      <td>3</td>\n",
              "      <td>2010</td>\n",
              "    </tr>\n",
              "  </tbody>\n",
              "</table>\n",
              "</div>\n",
              "      <button class=\"colab-df-convert\" onclick=\"convertToInteractive('df-9138d499-0ebd-4221-bd67-b58cb9a87afc')\"\n",
              "              title=\"Convert this dataframe to an interactive table.\"\n",
              "              style=\"display:none;\">\n",
              "        \n",
              "  <svg xmlns=\"http://www.w3.org/2000/svg\" height=\"24px\"viewBox=\"0 0 24 24\"\n",
              "       width=\"24px\">\n",
              "    <path d=\"M0 0h24v24H0V0z\" fill=\"none\"/>\n",
              "    <path d=\"M18.56 5.44l.94 2.06.94-2.06 2.06-.94-2.06-.94-.94-2.06-.94 2.06-2.06.94zm-11 1L8.5 8.5l.94-2.06 2.06-.94-2.06-.94L8.5 2.5l-.94 2.06-2.06.94zm10 10l.94 2.06.94-2.06 2.06-.94-2.06-.94-.94-2.06-.94 2.06-2.06.94z\"/><path d=\"M17.41 7.96l-1.37-1.37c-.4-.4-.92-.59-1.43-.59-.52 0-1.04.2-1.43.59L10.3 9.45l-7.72 7.72c-.78.78-.78 2.05 0 2.83L4 21.41c.39.39.9.59 1.41.59.51 0 1.02-.2 1.41-.59l7.78-7.78 2.81-2.81c.8-.78.8-2.07 0-2.86zM5.41 20L4 18.59l7.72-7.72 1.47 1.35L5.41 20z\"/>\n",
              "  </svg>\n",
              "      </button>\n",
              "      \n",
              "  <style>\n",
              "    .colab-df-container {\n",
              "      display:flex;\n",
              "      flex-wrap:wrap;\n",
              "      gap: 12px;\n",
              "    }\n",
              "\n",
              "    .colab-df-convert {\n",
              "      background-color: #E8F0FE;\n",
              "      border: none;\n",
              "      border-radius: 50%;\n",
              "      cursor: pointer;\n",
              "      display: none;\n",
              "      fill: #1967D2;\n",
              "      height: 32px;\n",
              "      padding: 0 0 0 0;\n",
              "      width: 32px;\n",
              "    }\n",
              "\n",
              "    .colab-df-convert:hover {\n",
              "      background-color: #E2EBFA;\n",
              "      box-shadow: 0px 1px 2px rgba(60, 64, 67, 0.3), 0px 1px 3px 1px rgba(60, 64, 67, 0.15);\n",
              "      fill: #174EA6;\n",
              "    }\n",
              "\n",
              "    [theme=dark] .colab-df-convert {\n",
              "      background-color: #3B4455;\n",
              "      fill: #D2E3FC;\n",
              "    }\n",
              "\n",
              "    [theme=dark] .colab-df-convert:hover {\n",
              "      background-color: #434B5C;\n",
              "      box-shadow: 0px 1px 3px 1px rgba(0, 0, 0, 0.15);\n",
              "      filter: drop-shadow(0px 1px 2px rgba(0, 0, 0, 0.3));\n",
              "      fill: #FFFFFF;\n",
              "    }\n",
              "  </style>\n",
              "\n",
              "      <script>\n",
              "        const buttonEl =\n",
              "          document.querySelector('#df-9138d499-0ebd-4221-bd67-b58cb9a87afc button.colab-df-convert');\n",
              "        buttonEl.style.display =\n",
              "          google.colab.kernel.accessAllowed ? 'block' : 'none';\n",
              "\n",
              "        async function convertToInteractive(key) {\n",
              "          const element = document.querySelector('#df-9138d499-0ebd-4221-bd67-b58cb9a87afc');\n",
              "          const dataTable =\n",
              "            await google.colab.kernel.invokeFunction('convertToInteractive',\n",
              "                                                     [key], {});\n",
              "          if (!dataTable) return;\n",
              "\n",
              "          const docLinkHtml = 'Like what you see? Visit the ' +\n",
              "            '<a target=\"_blank\" href=https://colab.research.google.com/notebooks/data_table.ipynb>data table notebook</a>'\n",
              "            + ' to learn more about interactive tables.';\n",
              "          element.innerHTML = '';\n",
              "          dataTable['output_type'] = 'display_data';\n",
              "          await google.colab.output.renderOutput(dataTable, element);\n",
              "          const docLink = document.createElement('div');\n",
              "          docLink.innerHTML = docLinkHtml;\n",
              "          element.appendChild(docLink);\n",
              "        }\n",
              "      </script>\n",
              "    </div>\n",
              "  </div>\n",
              "  "
            ]
          },
          "metadata": {},
          "execution_count": 295
        }
      ],
      "source": [
        "train.head()"
      ]
    },
    {
      "cell_type": "code",
      "execution_count": null,
      "metadata": {
        "colab": {
          "base_uri": "https://localhost:8080/",
          "height": 206
        },
        "id": "KIAb0-1ygK0V",
        "outputId": "f463431b-3394-42a2-a8d6-2e0a4a3623c5"
      },
      "outputs": [
        {
          "output_type": "execute_result",
          "data": {
            "text/plain": [
              "   pickup_longitude  pickup_latitude  dropoff_longitude  dropoff_latitude  \\\n",
              "0        -73.973320        40.763805         -73.981430         40.743835   \n",
              "1        -73.986862        40.719383         -73.998886         40.739201   \n",
              "2        -73.982524        40.751260         -73.979654         40.746139   \n",
              "3        -73.981160        40.767807         -73.990448         40.751635   \n",
              "4        -73.966046        40.789775         -73.988565         40.744427   \n",
              "\n",
              "   passenger_count  Hour  week_day  Day_of_month  Week  Month  Year  \n",
              "0                1    13         1            27     5      1  2015  \n",
              "1                1    13         1            27     5      1  2015  \n",
              "2                1    11         5             8    40     10  2011  \n",
              "3                1    21         5             1    48     12  2012  \n",
              "4                1    21         5             1    48     12  2012  "
            ],
            "text/html": [
              "\n",
              "  <div id=\"df-27e9157b-7028-4c8c-b463-7c0bb4f3ad75\">\n",
              "    <div class=\"colab-df-container\">\n",
              "      <div>\n",
              "<style scoped>\n",
              "    .dataframe tbody tr th:only-of-type {\n",
              "        vertical-align: middle;\n",
              "    }\n",
              "\n",
              "    .dataframe tbody tr th {\n",
              "        vertical-align: top;\n",
              "    }\n",
              "\n",
              "    .dataframe thead th {\n",
              "        text-align: right;\n",
              "    }\n",
              "</style>\n",
              "<table border=\"1\" class=\"dataframe\">\n",
              "  <thead>\n",
              "    <tr style=\"text-align: right;\">\n",
              "      <th></th>\n",
              "      <th>pickup_longitude</th>\n",
              "      <th>pickup_latitude</th>\n",
              "      <th>dropoff_longitude</th>\n",
              "      <th>dropoff_latitude</th>\n",
              "      <th>passenger_count</th>\n",
              "      <th>Hour</th>\n",
              "      <th>week_day</th>\n",
              "      <th>Day_of_month</th>\n",
              "      <th>Week</th>\n",
              "      <th>Month</th>\n",
              "      <th>Year</th>\n",
              "    </tr>\n",
              "  </thead>\n",
              "  <tbody>\n",
              "    <tr>\n",
              "      <th>0</th>\n",
              "      <td>-73.973320</td>\n",
              "      <td>40.763805</td>\n",
              "      <td>-73.981430</td>\n",
              "      <td>40.743835</td>\n",
              "      <td>1</td>\n",
              "      <td>13</td>\n",
              "      <td>1</td>\n",
              "      <td>27</td>\n",
              "      <td>5</td>\n",
              "      <td>1</td>\n",
              "      <td>2015</td>\n",
              "    </tr>\n",
              "    <tr>\n",
              "      <th>1</th>\n",
              "      <td>-73.986862</td>\n",
              "      <td>40.719383</td>\n",
              "      <td>-73.998886</td>\n",
              "      <td>40.739201</td>\n",
              "      <td>1</td>\n",
              "      <td>13</td>\n",
              "      <td>1</td>\n",
              "      <td>27</td>\n",
              "      <td>5</td>\n",
              "      <td>1</td>\n",
              "      <td>2015</td>\n",
              "    </tr>\n",
              "    <tr>\n",
              "      <th>2</th>\n",
              "      <td>-73.982524</td>\n",
              "      <td>40.751260</td>\n",
              "      <td>-73.979654</td>\n",
              "      <td>40.746139</td>\n",
              "      <td>1</td>\n",
              "      <td>11</td>\n",
              "      <td>5</td>\n",
              "      <td>8</td>\n",
              "      <td>40</td>\n",
              "      <td>10</td>\n",
              "      <td>2011</td>\n",
              "    </tr>\n",
              "    <tr>\n",
              "      <th>3</th>\n",
              "      <td>-73.981160</td>\n",
              "      <td>40.767807</td>\n",
              "      <td>-73.990448</td>\n",
              "      <td>40.751635</td>\n",
              "      <td>1</td>\n",
              "      <td>21</td>\n",
              "      <td>5</td>\n",
              "      <td>1</td>\n",
              "      <td>48</td>\n",
              "      <td>12</td>\n",
              "      <td>2012</td>\n",
              "    </tr>\n",
              "    <tr>\n",
              "      <th>4</th>\n",
              "      <td>-73.966046</td>\n",
              "      <td>40.789775</td>\n",
              "      <td>-73.988565</td>\n",
              "      <td>40.744427</td>\n",
              "      <td>1</td>\n",
              "      <td>21</td>\n",
              "      <td>5</td>\n",
              "      <td>1</td>\n",
              "      <td>48</td>\n",
              "      <td>12</td>\n",
              "      <td>2012</td>\n",
              "    </tr>\n",
              "  </tbody>\n",
              "</table>\n",
              "</div>\n",
              "      <button class=\"colab-df-convert\" onclick=\"convertToInteractive('df-27e9157b-7028-4c8c-b463-7c0bb4f3ad75')\"\n",
              "              title=\"Convert this dataframe to an interactive table.\"\n",
              "              style=\"display:none;\">\n",
              "        \n",
              "  <svg xmlns=\"http://www.w3.org/2000/svg\" height=\"24px\"viewBox=\"0 0 24 24\"\n",
              "       width=\"24px\">\n",
              "    <path d=\"M0 0h24v24H0V0z\" fill=\"none\"/>\n",
              "    <path d=\"M18.56 5.44l.94 2.06.94-2.06 2.06-.94-2.06-.94-.94-2.06-.94 2.06-2.06.94zm-11 1L8.5 8.5l.94-2.06 2.06-.94-2.06-.94L8.5 2.5l-.94 2.06-2.06.94zm10 10l.94 2.06.94-2.06 2.06-.94-2.06-.94-.94-2.06-.94 2.06-2.06.94z\"/><path d=\"M17.41 7.96l-1.37-1.37c-.4-.4-.92-.59-1.43-.59-.52 0-1.04.2-1.43.59L10.3 9.45l-7.72 7.72c-.78.78-.78 2.05 0 2.83L4 21.41c.39.39.9.59 1.41.59.51 0 1.02-.2 1.41-.59l7.78-7.78 2.81-2.81c.8-.78.8-2.07 0-2.86zM5.41 20L4 18.59l7.72-7.72 1.47 1.35L5.41 20z\"/>\n",
              "  </svg>\n",
              "      </button>\n",
              "      \n",
              "  <style>\n",
              "    .colab-df-container {\n",
              "      display:flex;\n",
              "      flex-wrap:wrap;\n",
              "      gap: 12px;\n",
              "    }\n",
              "\n",
              "    .colab-df-convert {\n",
              "      background-color: #E8F0FE;\n",
              "      border: none;\n",
              "      border-radius: 50%;\n",
              "      cursor: pointer;\n",
              "      display: none;\n",
              "      fill: #1967D2;\n",
              "      height: 32px;\n",
              "      padding: 0 0 0 0;\n",
              "      width: 32px;\n",
              "    }\n",
              "\n",
              "    .colab-df-convert:hover {\n",
              "      background-color: #E2EBFA;\n",
              "      box-shadow: 0px 1px 2px rgba(60, 64, 67, 0.3), 0px 1px 3px 1px rgba(60, 64, 67, 0.15);\n",
              "      fill: #174EA6;\n",
              "    }\n",
              "\n",
              "    [theme=dark] .colab-df-convert {\n",
              "      background-color: #3B4455;\n",
              "      fill: #D2E3FC;\n",
              "    }\n",
              "\n",
              "    [theme=dark] .colab-df-convert:hover {\n",
              "      background-color: #434B5C;\n",
              "      box-shadow: 0px 1px 3px 1px rgba(0, 0, 0, 0.15);\n",
              "      filter: drop-shadow(0px 1px 2px rgba(0, 0, 0, 0.3));\n",
              "      fill: #FFFFFF;\n",
              "    }\n",
              "  </style>\n",
              "\n",
              "      <script>\n",
              "        const buttonEl =\n",
              "          document.querySelector('#df-27e9157b-7028-4c8c-b463-7c0bb4f3ad75 button.colab-df-convert');\n",
              "        buttonEl.style.display =\n",
              "          google.colab.kernel.accessAllowed ? 'block' : 'none';\n",
              "\n",
              "        async function convertToInteractive(key) {\n",
              "          const element = document.querySelector('#df-27e9157b-7028-4c8c-b463-7c0bb4f3ad75');\n",
              "          const dataTable =\n",
              "            await google.colab.kernel.invokeFunction('convertToInteractive',\n",
              "                                                     [key], {});\n",
              "          if (!dataTable) return;\n",
              "\n",
              "          const docLinkHtml = 'Like what you see? Visit the ' +\n",
              "            '<a target=\"_blank\" href=https://colab.research.google.com/notebooks/data_table.ipynb>data table notebook</a>'\n",
              "            + ' to learn more about interactive tables.';\n",
              "          element.innerHTML = '';\n",
              "          dataTable['output_type'] = 'display_data';\n",
              "          await google.colab.output.renderOutput(dataTable, element);\n",
              "          const docLink = document.createElement('div');\n",
              "          docLink.innerHTML = docLinkHtml;\n",
              "          element.appendChild(docLink);\n",
              "        }\n",
              "      </script>\n",
              "    </div>\n",
              "  </div>\n",
              "  "
            ]
          },
          "metadata": {},
          "execution_count": 296
        }
      ],
      "source": [
        "test.head()"
      ]
    },
    {
      "cell_type": "code",
      "source": [
        "NYC_test.head()"
      ],
      "metadata": {
        "colab": {
          "base_uri": "https://localhost:8080/",
          "height": 49
        },
        "id": "E0fB4dLv8XLD",
        "outputId": "bf6df395-68e3-4e50-eabc-c49a4a19426b"
      },
      "execution_count": null,
      "outputs": [
        {
          "output_type": "execute_result",
          "data": {
            "text/plain": [
              "Empty DataFrame\n",
              "Columns: [dropoff_latitude, dropoff_longitude, passenger_count, pickup_latitude, pickup_longitude, test_id, Hour, week_day, Day_of_month, Week, Month, Year]\n",
              "Index: []"
            ],
            "text/html": [
              "\n",
              "  <div id=\"df-071f9e21-5df1-4f74-a387-4e9219382c17\">\n",
              "    <div class=\"colab-df-container\">\n",
              "      <div>\n",
              "<style scoped>\n",
              "    .dataframe tbody tr th:only-of-type {\n",
              "        vertical-align: middle;\n",
              "    }\n",
              "\n",
              "    .dataframe tbody tr th {\n",
              "        vertical-align: top;\n",
              "    }\n",
              "\n",
              "    .dataframe thead th {\n",
              "        text-align: right;\n",
              "    }\n",
              "</style>\n",
              "<table border=\"1\" class=\"dataframe\">\n",
              "  <thead>\n",
              "    <tr style=\"text-align: right;\">\n",
              "      <th></th>\n",
              "      <th>dropoff_latitude</th>\n",
              "      <th>dropoff_longitude</th>\n",
              "      <th>passenger_count</th>\n",
              "      <th>pickup_latitude</th>\n",
              "      <th>pickup_longitude</th>\n",
              "      <th>test_id</th>\n",
              "      <th>Hour</th>\n",
              "      <th>week_day</th>\n",
              "      <th>Day_of_month</th>\n",
              "      <th>Week</th>\n",
              "      <th>Month</th>\n",
              "      <th>Year</th>\n",
              "    </tr>\n",
              "  </thead>\n",
              "  <tbody>\n",
              "  </tbody>\n",
              "</table>\n",
              "</div>\n",
              "      <button class=\"colab-df-convert\" onclick=\"convertToInteractive('df-071f9e21-5df1-4f74-a387-4e9219382c17')\"\n",
              "              title=\"Convert this dataframe to an interactive table.\"\n",
              "              style=\"display:none;\">\n",
              "        \n",
              "  <svg xmlns=\"http://www.w3.org/2000/svg\" height=\"24px\"viewBox=\"0 0 24 24\"\n",
              "       width=\"24px\">\n",
              "    <path d=\"M0 0h24v24H0V0z\" fill=\"none\"/>\n",
              "    <path d=\"M18.56 5.44l.94 2.06.94-2.06 2.06-.94-2.06-.94-.94-2.06-.94 2.06-2.06.94zm-11 1L8.5 8.5l.94-2.06 2.06-.94-2.06-.94L8.5 2.5l-.94 2.06-2.06.94zm10 10l.94 2.06.94-2.06 2.06-.94-2.06-.94-.94-2.06-.94 2.06-2.06.94z\"/><path d=\"M17.41 7.96l-1.37-1.37c-.4-.4-.92-.59-1.43-.59-.52 0-1.04.2-1.43.59L10.3 9.45l-7.72 7.72c-.78.78-.78 2.05 0 2.83L4 21.41c.39.39.9.59 1.41.59.51 0 1.02-.2 1.41-.59l7.78-7.78 2.81-2.81c.8-.78.8-2.07 0-2.86zM5.41 20L4 18.59l7.72-7.72 1.47 1.35L5.41 20z\"/>\n",
              "  </svg>\n",
              "      </button>\n",
              "      \n",
              "  <style>\n",
              "    .colab-df-container {\n",
              "      display:flex;\n",
              "      flex-wrap:wrap;\n",
              "      gap: 12px;\n",
              "    }\n",
              "\n",
              "    .colab-df-convert {\n",
              "      background-color: #E8F0FE;\n",
              "      border: none;\n",
              "      border-radius: 50%;\n",
              "      cursor: pointer;\n",
              "      display: none;\n",
              "      fill: #1967D2;\n",
              "      height: 32px;\n",
              "      padding: 0 0 0 0;\n",
              "      width: 32px;\n",
              "    }\n",
              "\n",
              "    .colab-df-convert:hover {\n",
              "      background-color: #E2EBFA;\n",
              "      box-shadow: 0px 1px 2px rgba(60, 64, 67, 0.3), 0px 1px 3px 1px rgba(60, 64, 67, 0.15);\n",
              "      fill: #174EA6;\n",
              "    }\n",
              "\n",
              "    [theme=dark] .colab-df-convert {\n",
              "      background-color: #3B4455;\n",
              "      fill: #D2E3FC;\n",
              "    }\n",
              "\n",
              "    [theme=dark] .colab-df-convert:hover {\n",
              "      background-color: #434B5C;\n",
              "      box-shadow: 0px 1px 3px 1px rgba(0, 0, 0, 0.15);\n",
              "      filter: drop-shadow(0px 1px 2px rgba(0, 0, 0, 0.3));\n",
              "      fill: #FFFFFF;\n",
              "    }\n",
              "  </style>\n",
              "\n",
              "      <script>\n",
              "        const buttonEl =\n",
              "          document.querySelector('#df-071f9e21-5df1-4f74-a387-4e9219382c17 button.colab-df-convert');\n",
              "        buttonEl.style.display =\n",
              "          google.colab.kernel.accessAllowed ? 'block' : 'none';\n",
              "\n",
              "        async function convertToInteractive(key) {\n",
              "          const element = document.querySelector('#df-071f9e21-5df1-4f74-a387-4e9219382c17');\n",
              "          const dataTable =\n",
              "            await google.colab.kernel.invokeFunction('convertToInteractive',\n",
              "                                                     [key], {});\n",
              "          if (!dataTable) return;\n",
              "\n",
              "          const docLinkHtml = 'Like what you see? Visit the ' +\n",
              "            '<a target=\"_blank\" href=https://colab.research.google.com/notebooks/data_table.ipynb>data table notebook</a>'\n",
              "            + ' to learn more about interactive tables.';\n",
              "          element.innerHTML = '';\n",
              "          dataTable['output_type'] = 'display_data';\n",
              "          await google.colab.output.renderOutput(dataTable, element);\n",
              "          const docLink = document.createElement('div');\n",
              "          docLink.innerHTML = docLinkHtml;\n",
              "          element.appendChild(docLink);\n",
              "        }\n",
              "      </script>\n",
              "    </div>\n",
              "  </div>\n",
              "  "
            ]
          },
          "metadata": {},
          "execution_count": 297
        }
      ]
    },
    {
      "cell_type": "markdown",
      "metadata": {
        "id": "rEmy02e_gTtr"
      },
      "source": [
        "We can also add a new column distance , for predicting fare amount distance is important."
      ]
    },
    {
      "cell_type": "code",
      "execution_count": null,
      "metadata": {
        "id": "oH1XpPOmEV3A"
      },
      "outputs": [],
      "source": [
        "def haversine_distance(lat1, long1, lat2, long2):\n",
        "    data = [train, test]\n",
        "    for i in data:\n",
        "        R = 6371  #radius of earth in kilometers\n",
        "        phi1 = np.radians(i[lat1])\n",
        "        phi2 = np.radians(i[lat2])\n",
        "\n",
        "        delta_phi = np.radians(i[lat2]-i[lat1])\n",
        "        delta_lambda = np.radians(i[long2]-i[long1])\n",
        "\n",
        "        #a = sin²((φB - φA)/2) + cos φA . cos φB . sin²((λB - λA)/2)\n",
        "        a = np.sin(delta_phi / 2.0) ** 2 + np.cos(phi1) * np.cos(phi2) * np.sin(delta_lambda / 2.0) ** 2\n",
        "\n",
        "        #c = 2 * atan2( √a, √(1−a) )\n",
        "        c = 2 * np.arctan2(np.sqrt(a), np.sqrt(1-a))\n",
        "\n",
        "        #d = R*c\n",
        "        d = (R * c) #in kilometers\n",
        "        i['Distance'] = d\n",
        "    return d"
      ]
    },
    {
      "cell_type": "code",
      "source": [
        "def haversine_distance(lat1, long1, lat2, long2):\n",
        "    data = [train, test,NYC_test]\n",
        "    for i in data:\n",
        "        R = 6371  #radius of earth in kilometers\n",
        "        phi1 = np.radians(i[lat1])\n",
        "        phi2 = np.radians(i[lat2])\n",
        "\n",
        "        delta_phi = np.radians(i[lat2]-i[lat1])\n",
        "        delta_lambda = np.radians(i[long2]-i[long1])\n",
        "\n",
        "        #a = sin²((φB - φA)/2) + cos φA . cos φB . sin²((λB - λA)/2)\n",
        "        a = np.sin(delta_phi / 2.0) ** 2 + np.cos(phi1) * np.cos(phi2) * np.sin(delta_lambda / 2.0) ** 2\n",
        "\n",
        "        #c = 2 * atan2( √a, √(1−a) )\n",
        "        c = 2 * np.arctan2(np.sqrt(a), np.sqrt(1-a))\n",
        "\n",
        "        #d = R*c\n",
        "        d = (R * c) #in kilometers\n",
        "        i['Distance'] = d\n",
        "    return d"
      ],
      "metadata": {
        "id": "nmc3tPHu8dok"
      },
      "execution_count": null,
      "outputs": []
    },
    {
      "cell_type": "code",
      "execution_count": null,
      "metadata": {
        "id": "DUu9TfynGLHN"
      },
      "outputs": [],
      "source": [
        "haversine_distance('pickup_latitude', 'pickup_longitude', 'dropoff_latitude', 'dropoff_longitude')"
      ]
    },
    {
      "cell_type": "code",
      "execution_count": null,
      "metadata": {
        "colab": {
          "base_uri": "https://localhost:8080/",
          "height": 206
        },
        "id": "PXNbzG-w-9ir",
        "outputId": "4252ee37-eb18-4514-f825-a1cd43a52c83"
      },
      "outputs": [
        {
          "output_type": "execute_result",
          "data": {
            "text/plain": [
              "   fare_amount  pickup_longitude  pickup_latitude  dropoff_longitude  \\\n",
              "0          4.5        -73.844311        40.721319         -73.841610   \n",
              "1         16.9        -74.016048        40.711303         -73.979268   \n",
              "2          5.7        -73.982738        40.761270         -73.991242   \n",
              "3          7.7        -73.987130        40.733143         -73.991567   \n",
              "4          5.3        -73.968095        40.768008         -73.956655   \n",
              "\n",
              "   dropoff_latitude  passenger_count  Hour  week_day  Day_of_month  Week  \\\n",
              "0         40.712278                1    17         0            15    25   \n",
              "1         40.782004                1    16         1             5     1   \n",
              "2         40.750562                2     0         3            18    33   \n",
              "3         40.758092                1     4         5            21    16   \n",
              "4         40.783762                1     7         1             9    10   \n",
              "\n",
              "   Month  Year  Distance  \n",
              "0      6  2009  1.030764  \n",
              "1      1  2010  8.450134  \n",
              "2      8  2011  1.389525  \n",
              "3      4  2012  2.799270  \n",
              "4      3  2010  1.999157  "
            ],
            "text/html": [
              "\n",
              "  <div id=\"df-17c29fa7-de38-404e-82d6-b3d1b7ed5823\">\n",
              "    <div class=\"colab-df-container\">\n",
              "      <div>\n",
              "<style scoped>\n",
              "    .dataframe tbody tr th:only-of-type {\n",
              "        vertical-align: middle;\n",
              "    }\n",
              "\n",
              "    .dataframe tbody tr th {\n",
              "        vertical-align: top;\n",
              "    }\n",
              "\n",
              "    .dataframe thead th {\n",
              "        text-align: right;\n",
              "    }\n",
              "</style>\n",
              "<table border=\"1\" class=\"dataframe\">\n",
              "  <thead>\n",
              "    <tr style=\"text-align: right;\">\n",
              "      <th></th>\n",
              "      <th>fare_amount</th>\n",
              "      <th>pickup_longitude</th>\n",
              "      <th>pickup_latitude</th>\n",
              "      <th>dropoff_longitude</th>\n",
              "      <th>dropoff_latitude</th>\n",
              "      <th>passenger_count</th>\n",
              "      <th>Hour</th>\n",
              "      <th>week_day</th>\n",
              "      <th>Day_of_month</th>\n",
              "      <th>Week</th>\n",
              "      <th>Month</th>\n",
              "      <th>Year</th>\n",
              "      <th>Distance</th>\n",
              "    </tr>\n",
              "  </thead>\n",
              "  <tbody>\n",
              "    <tr>\n",
              "      <th>0</th>\n",
              "      <td>4.5</td>\n",
              "      <td>-73.844311</td>\n",
              "      <td>40.721319</td>\n",
              "      <td>-73.841610</td>\n",
              "      <td>40.712278</td>\n",
              "      <td>1</td>\n",
              "      <td>17</td>\n",
              "      <td>0</td>\n",
              "      <td>15</td>\n",
              "      <td>25</td>\n",
              "      <td>6</td>\n",
              "      <td>2009</td>\n",
              "      <td>1.030764</td>\n",
              "    </tr>\n",
              "    <tr>\n",
              "      <th>1</th>\n",
              "      <td>16.9</td>\n",
              "      <td>-74.016048</td>\n",
              "      <td>40.711303</td>\n",
              "      <td>-73.979268</td>\n",
              "      <td>40.782004</td>\n",
              "      <td>1</td>\n",
              "      <td>16</td>\n",
              "      <td>1</td>\n",
              "      <td>5</td>\n",
              "      <td>1</td>\n",
              "      <td>1</td>\n",
              "      <td>2010</td>\n",
              "      <td>8.450134</td>\n",
              "    </tr>\n",
              "    <tr>\n",
              "      <th>2</th>\n",
              "      <td>5.7</td>\n",
              "      <td>-73.982738</td>\n",
              "      <td>40.761270</td>\n",
              "      <td>-73.991242</td>\n",
              "      <td>40.750562</td>\n",
              "      <td>2</td>\n",
              "      <td>0</td>\n",
              "      <td>3</td>\n",
              "      <td>18</td>\n",
              "      <td>33</td>\n",
              "      <td>8</td>\n",
              "      <td>2011</td>\n",
              "      <td>1.389525</td>\n",
              "    </tr>\n",
              "    <tr>\n",
              "      <th>3</th>\n",
              "      <td>7.7</td>\n",
              "      <td>-73.987130</td>\n",
              "      <td>40.733143</td>\n",
              "      <td>-73.991567</td>\n",
              "      <td>40.758092</td>\n",
              "      <td>1</td>\n",
              "      <td>4</td>\n",
              "      <td>5</td>\n",
              "      <td>21</td>\n",
              "      <td>16</td>\n",
              "      <td>4</td>\n",
              "      <td>2012</td>\n",
              "      <td>2.799270</td>\n",
              "    </tr>\n",
              "    <tr>\n",
              "      <th>4</th>\n",
              "      <td>5.3</td>\n",
              "      <td>-73.968095</td>\n",
              "      <td>40.768008</td>\n",
              "      <td>-73.956655</td>\n",
              "      <td>40.783762</td>\n",
              "      <td>1</td>\n",
              "      <td>7</td>\n",
              "      <td>1</td>\n",
              "      <td>9</td>\n",
              "      <td>10</td>\n",
              "      <td>3</td>\n",
              "      <td>2010</td>\n",
              "      <td>1.999157</td>\n",
              "    </tr>\n",
              "  </tbody>\n",
              "</table>\n",
              "</div>\n",
              "      <button class=\"colab-df-convert\" onclick=\"convertToInteractive('df-17c29fa7-de38-404e-82d6-b3d1b7ed5823')\"\n",
              "              title=\"Convert this dataframe to an interactive table.\"\n",
              "              style=\"display:none;\">\n",
              "        \n",
              "  <svg xmlns=\"http://www.w3.org/2000/svg\" height=\"24px\"viewBox=\"0 0 24 24\"\n",
              "       width=\"24px\">\n",
              "    <path d=\"M0 0h24v24H0V0z\" fill=\"none\"/>\n",
              "    <path d=\"M18.56 5.44l.94 2.06.94-2.06 2.06-.94-2.06-.94-.94-2.06-.94 2.06-2.06.94zm-11 1L8.5 8.5l.94-2.06 2.06-.94-2.06-.94L8.5 2.5l-.94 2.06-2.06.94zm10 10l.94 2.06.94-2.06 2.06-.94-2.06-.94-.94-2.06-.94 2.06-2.06.94z\"/><path d=\"M17.41 7.96l-1.37-1.37c-.4-.4-.92-.59-1.43-.59-.52 0-1.04.2-1.43.59L10.3 9.45l-7.72 7.72c-.78.78-.78 2.05 0 2.83L4 21.41c.39.39.9.59 1.41.59.51 0 1.02-.2 1.41-.59l7.78-7.78 2.81-2.81c.8-.78.8-2.07 0-2.86zM5.41 20L4 18.59l7.72-7.72 1.47 1.35L5.41 20z\"/>\n",
              "  </svg>\n",
              "      </button>\n",
              "      \n",
              "  <style>\n",
              "    .colab-df-container {\n",
              "      display:flex;\n",
              "      flex-wrap:wrap;\n",
              "      gap: 12px;\n",
              "    }\n",
              "\n",
              "    .colab-df-convert {\n",
              "      background-color: #E8F0FE;\n",
              "      border: none;\n",
              "      border-radius: 50%;\n",
              "      cursor: pointer;\n",
              "      display: none;\n",
              "      fill: #1967D2;\n",
              "      height: 32px;\n",
              "      padding: 0 0 0 0;\n",
              "      width: 32px;\n",
              "    }\n",
              "\n",
              "    .colab-df-convert:hover {\n",
              "      background-color: #E2EBFA;\n",
              "      box-shadow: 0px 1px 2px rgba(60, 64, 67, 0.3), 0px 1px 3px 1px rgba(60, 64, 67, 0.15);\n",
              "      fill: #174EA6;\n",
              "    }\n",
              "\n",
              "    [theme=dark] .colab-df-convert {\n",
              "      background-color: #3B4455;\n",
              "      fill: #D2E3FC;\n",
              "    }\n",
              "\n",
              "    [theme=dark] .colab-df-convert:hover {\n",
              "      background-color: #434B5C;\n",
              "      box-shadow: 0px 1px 3px 1px rgba(0, 0, 0, 0.15);\n",
              "      filter: drop-shadow(0px 1px 2px rgba(0, 0, 0, 0.3));\n",
              "      fill: #FFFFFF;\n",
              "    }\n",
              "  </style>\n",
              "\n",
              "      <script>\n",
              "        const buttonEl =\n",
              "          document.querySelector('#df-17c29fa7-de38-404e-82d6-b3d1b7ed5823 button.colab-df-convert');\n",
              "        buttonEl.style.display =\n",
              "          google.colab.kernel.accessAllowed ? 'block' : 'none';\n",
              "\n",
              "        async function convertToInteractive(key) {\n",
              "          const element = document.querySelector('#df-17c29fa7-de38-404e-82d6-b3d1b7ed5823');\n",
              "          const dataTable =\n",
              "            await google.colab.kernel.invokeFunction('convertToInteractive',\n",
              "                                                     [key], {});\n",
              "          if (!dataTable) return;\n",
              "\n",
              "          const docLinkHtml = 'Like what you see? Visit the ' +\n",
              "            '<a target=\"_blank\" href=https://colab.research.google.com/notebooks/data_table.ipynb>data table notebook</a>'\n",
              "            + ' to learn more about interactive tables.';\n",
              "          element.innerHTML = '';\n",
              "          dataTable['output_type'] = 'display_data';\n",
              "          await google.colab.output.renderOutput(dataTable, element);\n",
              "          const docLink = document.createElement('div');\n",
              "          docLink.innerHTML = docLinkHtml;\n",
              "          element.appendChild(docLink);\n",
              "        }\n",
              "      </script>\n",
              "    </div>\n",
              "  </div>\n",
              "  "
            ]
          },
          "metadata": {},
          "execution_count": 300
        }
      ],
      "source": [
        "train.head()"
      ]
    },
    {
      "cell_type": "code",
      "execution_count": null,
      "metadata": {
        "colab": {
          "base_uri": "https://localhost:8080/",
          "height": 206
        },
        "id": "haOXomU3gqO_",
        "outputId": "eca3dbc1-9070-4fcc-a066-ce76889204dc"
      },
      "outputs": [
        {
          "output_type": "execute_result",
          "data": {
            "text/plain": [
              "   pickup_longitude  pickup_latitude  dropoff_longitude  dropoff_latitude  \\\n",
              "0        -73.973320        40.763805         -73.981430         40.743835   \n",
              "1        -73.986862        40.719383         -73.998886         40.739201   \n",
              "2        -73.982524        40.751260         -73.979654         40.746139   \n",
              "3        -73.981160        40.767807         -73.990448         40.751635   \n",
              "4        -73.966046        40.789775         -73.988565         40.744427   \n",
              "\n",
              "   passenger_count  Hour  week_day  Day_of_month  Week  Month  Year  Distance  \n",
              "0                1    13         1            27     5      1  2015  2.323260  \n",
              "1                1    13         1            27     5      1  2015  2.425353  \n",
              "2                1    11         5             8    40     10  2011  0.618628  \n",
              "3                1    21         5             1    48     12  2012  1.961033  \n",
              "4                1    21         5             1    48     12  2012  5.387301  "
            ],
            "text/html": [
              "\n",
              "  <div id=\"df-1d348261-95e3-400a-ab25-93d9057779fa\">\n",
              "    <div class=\"colab-df-container\">\n",
              "      <div>\n",
              "<style scoped>\n",
              "    .dataframe tbody tr th:only-of-type {\n",
              "        vertical-align: middle;\n",
              "    }\n",
              "\n",
              "    .dataframe tbody tr th {\n",
              "        vertical-align: top;\n",
              "    }\n",
              "\n",
              "    .dataframe thead th {\n",
              "        text-align: right;\n",
              "    }\n",
              "</style>\n",
              "<table border=\"1\" class=\"dataframe\">\n",
              "  <thead>\n",
              "    <tr style=\"text-align: right;\">\n",
              "      <th></th>\n",
              "      <th>pickup_longitude</th>\n",
              "      <th>pickup_latitude</th>\n",
              "      <th>dropoff_longitude</th>\n",
              "      <th>dropoff_latitude</th>\n",
              "      <th>passenger_count</th>\n",
              "      <th>Hour</th>\n",
              "      <th>week_day</th>\n",
              "      <th>Day_of_month</th>\n",
              "      <th>Week</th>\n",
              "      <th>Month</th>\n",
              "      <th>Year</th>\n",
              "      <th>Distance</th>\n",
              "    </tr>\n",
              "  </thead>\n",
              "  <tbody>\n",
              "    <tr>\n",
              "      <th>0</th>\n",
              "      <td>-73.973320</td>\n",
              "      <td>40.763805</td>\n",
              "      <td>-73.981430</td>\n",
              "      <td>40.743835</td>\n",
              "      <td>1</td>\n",
              "      <td>13</td>\n",
              "      <td>1</td>\n",
              "      <td>27</td>\n",
              "      <td>5</td>\n",
              "      <td>1</td>\n",
              "      <td>2015</td>\n",
              "      <td>2.323260</td>\n",
              "    </tr>\n",
              "    <tr>\n",
              "      <th>1</th>\n",
              "      <td>-73.986862</td>\n",
              "      <td>40.719383</td>\n",
              "      <td>-73.998886</td>\n",
              "      <td>40.739201</td>\n",
              "      <td>1</td>\n",
              "      <td>13</td>\n",
              "      <td>1</td>\n",
              "      <td>27</td>\n",
              "      <td>5</td>\n",
              "      <td>1</td>\n",
              "      <td>2015</td>\n",
              "      <td>2.425353</td>\n",
              "    </tr>\n",
              "    <tr>\n",
              "      <th>2</th>\n",
              "      <td>-73.982524</td>\n",
              "      <td>40.751260</td>\n",
              "      <td>-73.979654</td>\n",
              "      <td>40.746139</td>\n",
              "      <td>1</td>\n",
              "      <td>11</td>\n",
              "      <td>5</td>\n",
              "      <td>8</td>\n",
              "      <td>40</td>\n",
              "      <td>10</td>\n",
              "      <td>2011</td>\n",
              "      <td>0.618628</td>\n",
              "    </tr>\n",
              "    <tr>\n",
              "      <th>3</th>\n",
              "      <td>-73.981160</td>\n",
              "      <td>40.767807</td>\n",
              "      <td>-73.990448</td>\n",
              "      <td>40.751635</td>\n",
              "      <td>1</td>\n",
              "      <td>21</td>\n",
              "      <td>5</td>\n",
              "      <td>1</td>\n",
              "      <td>48</td>\n",
              "      <td>12</td>\n",
              "      <td>2012</td>\n",
              "      <td>1.961033</td>\n",
              "    </tr>\n",
              "    <tr>\n",
              "      <th>4</th>\n",
              "      <td>-73.966046</td>\n",
              "      <td>40.789775</td>\n",
              "      <td>-73.988565</td>\n",
              "      <td>40.744427</td>\n",
              "      <td>1</td>\n",
              "      <td>21</td>\n",
              "      <td>5</td>\n",
              "      <td>1</td>\n",
              "      <td>48</td>\n",
              "      <td>12</td>\n",
              "      <td>2012</td>\n",
              "      <td>5.387301</td>\n",
              "    </tr>\n",
              "  </tbody>\n",
              "</table>\n",
              "</div>\n",
              "      <button class=\"colab-df-convert\" onclick=\"convertToInteractive('df-1d348261-95e3-400a-ab25-93d9057779fa')\"\n",
              "              title=\"Convert this dataframe to an interactive table.\"\n",
              "              style=\"display:none;\">\n",
              "        \n",
              "  <svg xmlns=\"http://www.w3.org/2000/svg\" height=\"24px\"viewBox=\"0 0 24 24\"\n",
              "       width=\"24px\">\n",
              "    <path d=\"M0 0h24v24H0V0z\" fill=\"none\"/>\n",
              "    <path d=\"M18.56 5.44l.94 2.06.94-2.06 2.06-.94-2.06-.94-.94-2.06-.94 2.06-2.06.94zm-11 1L8.5 8.5l.94-2.06 2.06-.94-2.06-.94L8.5 2.5l-.94 2.06-2.06.94zm10 10l.94 2.06.94-2.06 2.06-.94-2.06-.94-.94-2.06-.94 2.06-2.06.94z\"/><path d=\"M17.41 7.96l-1.37-1.37c-.4-.4-.92-.59-1.43-.59-.52 0-1.04.2-1.43.59L10.3 9.45l-7.72 7.72c-.78.78-.78 2.05 0 2.83L4 21.41c.39.39.9.59 1.41.59.51 0 1.02-.2 1.41-.59l7.78-7.78 2.81-2.81c.8-.78.8-2.07 0-2.86zM5.41 20L4 18.59l7.72-7.72 1.47 1.35L5.41 20z\"/>\n",
              "  </svg>\n",
              "      </button>\n",
              "      \n",
              "  <style>\n",
              "    .colab-df-container {\n",
              "      display:flex;\n",
              "      flex-wrap:wrap;\n",
              "      gap: 12px;\n",
              "    }\n",
              "\n",
              "    .colab-df-convert {\n",
              "      background-color: #E8F0FE;\n",
              "      border: none;\n",
              "      border-radius: 50%;\n",
              "      cursor: pointer;\n",
              "      display: none;\n",
              "      fill: #1967D2;\n",
              "      height: 32px;\n",
              "      padding: 0 0 0 0;\n",
              "      width: 32px;\n",
              "    }\n",
              "\n",
              "    .colab-df-convert:hover {\n",
              "      background-color: #E2EBFA;\n",
              "      box-shadow: 0px 1px 2px rgba(60, 64, 67, 0.3), 0px 1px 3px 1px rgba(60, 64, 67, 0.15);\n",
              "      fill: #174EA6;\n",
              "    }\n",
              "\n",
              "    [theme=dark] .colab-df-convert {\n",
              "      background-color: #3B4455;\n",
              "      fill: #D2E3FC;\n",
              "    }\n",
              "\n",
              "    [theme=dark] .colab-df-convert:hover {\n",
              "      background-color: #434B5C;\n",
              "      box-shadow: 0px 1px 3px 1px rgba(0, 0, 0, 0.15);\n",
              "      filter: drop-shadow(0px 1px 2px rgba(0, 0, 0, 0.3));\n",
              "      fill: #FFFFFF;\n",
              "    }\n",
              "  </style>\n",
              "\n",
              "      <script>\n",
              "        const buttonEl =\n",
              "          document.querySelector('#df-1d348261-95e3-400a-ab25-93d9057779fa button.colab-df-convert');\n",
              "        buttonEl.style.display =\n",
              "          google.colab.kernel.accessAllowed ? 'block' : 'none';\n",
              "\n",
              "        async function convertToInteractive(key) {\n",
              "          const element = document.querySelector('#df-1d348261-95e3-400a-ab25-93d9057779fa');\n",
              "          const dataTable =\n",
              "            await google.colab.kernel.invokeFunction('convertToInteractive',\n",
              "                                                     [key], {});\n",
              "          if (!dataTable) return;\n",
              "\n",
              "          const docLinkHtml = 'Like what you see? Visit the ' +\n",
              "            '<a target=\"_blank\" href=https://colab.research.google.com/notebooks/data_table.ipynb>data table notebook</a>'\n",
              "            + ' to learn more about interactive tables.';\n",
              "          element.innerHTML = '';\n",
              "          dataTable['output_type'] = 'display_data';\n",
              "          await google.colab.output.renderOutput(dataTable, element);\n",
              "          const docLink = document.createElement('div');\n",
              "          docLink.innerHTML = docLinkHtml;\n",
              "          element.appendChild(docLink);\n",
              "        }\n",
              "      </script>\n",
              "    </div>\n",
              "  </div>\n",
              "  "
            ]
          },
          "metadata": {},
          "execution_count": 301
        }
      ],
      "source": [
        "test.head()"
      ]
    },
    {
      "cell_type": "markdown",
      "metadata": {
        "id": "SmnUsPKVg6tl"
      },
      "source": [
        "Checking Irrelevant Distance Values"
      ]
    },
    {
      "cell_type": "code",
      "execution_count": null,
      "metadata": {
        "colab": {
          "base_uri": "https://localhost:8080/",
          "height": 467
        },
        "id": "T-xqyd6Eg07f",
        "outputId": "d29d9737-6d29-43a3-af13-b1f84a6250d4"
      },
      "outputs": [
        {
          "output_type": "execute_result",
          "data": {
            "text/plain": [
              "        fare_amount  pickup_longitude  pickup_latitude  dropoff_longitude  \\\n",
              "105            52.0        -74.035839        40.747320         -74.035839   \n",
              "191             6.5        -73.998488        40.726303         -73.998488   \n",
              "270             7.5        -73.995892        40.746454         -73.995892   \n",
              "290             6.9        -73.982432        40.745747         -73.982432   \n",
              "396            12.0        -73.844904        40.736318         -73.844904   \n",
              "...             ...               ...              ...                ...   \n",
              "999727          6.5        -73.992938        40.766027         -73.992938   \n",
              "999827          4.9        -73.953462        40.779228         -73.953462   \n",
              "999931          6.9        -73.970005        40.713008         -73.970005   \n",
              "999988         25.3        -73.937393        40.757975         -73.937393   \n",
              "999996          7.3        -73.992103        40.671385         -73.992103   \n",
              "\n",
              "        dropoff_latitude  passenger_count  Hour  week_day  Day_of_month  Week  \\\n",
              "105            40.747320                1     0         2            25    13   \n",
              "191            40.726303                1    21         2             8     2   \n",
              "270            40.746454                1     1         5            25    34   \n",
              "290            40.745747                1    12         0            14    51   \n",
              "396            40.736318                1    18         2            12    11   \n",
              "...                  ...              ...   ...       ...           ...   ...   \n",
              "999727         40.766027                5    18         0             2    14   \n",
              "999827         40.779228                5    10         4            19    46   \n",
              "999931         40.713008                5    22         0             5    10   \n",
              "999988         40.757975                5     7         5            14    19   \n",
              "999996         40.671385                2    14         0            20    38   \n",
              "\n",
              "        Month  Year  Distance  \n",
              "105         3  2009       0.0  \n",
              "191         1  2014       0.0  \n",
              "270         8  2012       0.0  \n",
              "290        12  2009       0.0  \n",
              "396         3  2014       0.0  \n",
              "...       ...   ...       ...  \n",
              "999727      4  2012       0.0  \n",
              "999827     11  2010       0.0  \n",
              "999931      3  2012       0.0  \n",
              "999988      5  2011       0.0  \n",
              "999996      9  2010       0.0  \n",
              "\n",
              "[10469 rows x 13 columns]"
            ],
            "text/html": [
              "\n",
              "  <div id=\"df-9a4eadf0-7f86-4199-b849-afc16947f7ac\">\n",
              "    <div class=\"colab-df-container\">\n",
              "      <div>\n",
              "<style scoped>\n",
              "    .dataframe tbody tr th:only-of-type {\n",
              "        vertical-align: middle;\n",
              "    }\n",
              "\n",
              "    .dataframe tbody tr th {\n",
              "        vertical-align: top;\n",
              "    }\n",
              "\n",
              "    .dataframe thead th {\n",
              "        text-align: right;\n",
              "    }\n",
              "</style>\n",
              "<table border=\"1\" class=\"dataframe\">\n",
              "  <thead>\n",
              "    <tr style=\"text-align: right;\">\n",
              "      <th></th>\n",
              "      <th>fare_amount</th>\n",
              "      <th>pickup_longitude</th>\n",
              "      <th>pickup_latitude</th>\n",
              "      <th>dropoff_longitude</th>\n",
              "      <th>dropoff_latitude</th>\n",
              "      <th>passenger_count</th>\n",
              "      <th>Hour</th>\n",
              "      <th>week_day</th>\n",
              "      <th>Day_of_month</th>\n",
              "      <th>Week</th>\n",
              "      <th>Month</th>\n",
              "      <th>Year</th>\n",
              "      <th>Distance</th>\n",
              "    </tr>\n",
              "  </thead>\n",
              "  <tbody>\n",
              "    <tr>\n",
              "      <th>105</th>\n",
              "      <td>52.0</td>\n",
              "      <td>-74.035839</td>\n",
              "      <td>40.747320</td>\n",
              "      <td>-74.035839</td>\n",
              "      <td>40.747320</td>\n",
              "      <td>1</td>\n",
              "      <td>0</td>\n",
              "      <td>2</td>\n",
              "      <td>25</td>\n",
              "      <td>13</td>\n",
              "      <td>3</td>\n",
              "      <td>2009</td>\n",
              "      <td>0.0</td>\n",
              "    </tr>\n",
              "    <tr>\n",
              "      <th>191</th>\n",
              "      <td>6.5</td>\n",
              "      <td>-73.998488</td>\n",
              "      <td>40.726303</td>\n",
              "      <td>-73.998488</td>\n",
              "      <td>40.726303</td>\n",
              "      <td>1</td>\n",
              "      <td>21</td>\n",
              "      <td>2</td>\n",
              "      <td>8</td>\n",
              "      <td>2</td>\n",
              "      <td>1</td>\n",
              "      <td>2014</td>\n",
              "      <td>0.0</td>\n",
              "    </tr>\n",
              "    <tr>\n",
              "      <th>270</th>\n",
              "      <td>7.5</td>\n",
              "      <td>-73.995892</td>\n",
              "      <td>40.746454</td>\n",
              "      <td>-73.995892</td>\n",
              "      <td>40.746454</td>\n",
              "      <td>1</td>\n",
              "      <td>1</td>\n",
              "      <td>5</td>\n",
              "      <td>25</td>\n",
              "      <td>34</td>\n",
              "      <td>8</td>\n",
              "      <td>2012</td>\n",
              "      <td>0.0</td>\n",
              "    </tr>\n",
              "    <tr>\n",
              "      <th>290</th>\n",
              "      <td>6.9</td>\n",
              "      <td>-73.982432</td>\n",
              "      <td>40.745747</td>\n",
              "      <td>-73.982432</td>\n",
              "      <td>40.745747</td>\n",
              "      <td>1</td>\n",
              "      <td>12</td>\n",
              "      <td>0</td>\n",
              "      <td>14</td>\n",
              "      <td>51</td>\n",
              "      <td>12</td>\n",
              "      <td>2009</td>\n",
              "      <td>0.0</td>\n",
              "    </tr>\n",
              "    <tr>\n",
              "      <th>396</th>\n",
              "      <td>12.0</td>\n",
              "      <td>-73.844904</td>\n",
              "      <td>40.736318</td>\n",
              "      <td>-73.844904</td>\n",
              "      <td>40.736318</td>\n",
              "      <td>1</td>\n",
              "      <td>18</td>\n",
              "      <td>2</td>\n",
              "      <td>12</td>\n",
              "      <td>11</td>\n",
              "      <td>3</td>\n",
              "      <td>2014</td>\n",
              "      <td>0.0</td>\n",
              "    </tr>\n",
              "    <tr>\n",
              "      <th>...</th>\n",
              "      <td>...</td>\n",
              "      <td>...</td>\n",
              "      <td>...</td>\n",
              "      <td>...</td>\n",
              "      <td>...</td>\n",
              "      <td>...</td>\n",
              "      <td>...</td>\n",
              "      <td>...</td>\n",
              "      <td>...</td>\n",
              "      <td>...</td>\n",
              "      <td>...</td>\n",
              "      <td>...</td>\n",
              "      <td>...</td>\n",
              "    </tr>\n",
              "    <tr>\n",
              "      <th>999727</th>\n",
              "      <td>6.5</td>\n",
              "      <td>-73.992938</td>\n",
              "      <td>40.766027</td>\n",
              "      <td>-73.992938</td>\n",
              "      <td>40.766027</td>\n",
              "      <td>5</td>\n",
              "      <td>18</td>\n",
              "      <td>0</td>\n",
              "      <td>2</td>\n",
              "      <td>14</td>\n",
              "      <td>4</td>\n",
              "      <td>2012</td>\n",
              "      <td>0.0</td>\n",
              "    </tr>\n",
              "    <tr>\n",
              "      <th>999827</th>\n",
              "      <td>4.9</td>\n",
              "      <td>-73.953462</td>\n",
              "      <td>40.779228</td>\n",
              "      <td>-73.953462</td>\n",
              "      <td>40.779228</td>\n",
              "      <td>5</td>\n",
              "      <td>10</td>\n",
              "      <td>4</td>\n",
              "      <td>19</td>\n",
              "      <td>46</td>\n",
              "      <td>11</td>\n",
              "      <td>2010</td>\n",
              "      <td>0.0</td>\n",
              "    </tr>\n",
              "    <tr>\n",
              "      <th>999931</th>\n",
              "      <td>6.9</td>\n",
              "      <td>-73.970005</td>\n",
              "      <td>40.713008</td>\n",
              "      <td>-73.970005</td>\n",
              "      <td>40.713008</td>\n",
              "      <td>5</td>\n",
              "      <td>22</td>\n",
              "      <td>0</td>\n",
              "      <td>5</td>\n",
              "      <td>10</td>\n",
              "      <td>3</td>\n",
              "      <td>2012</td>\n",
              "      <td>0.0</td>\n",
              "    </tr>\n",
              "    <tr>\n",
              "      <th>999988</th>\n",
              "      <td>25.3</td>\n",
              "      <td>-73.937393</td>\n",
              "      <td>40.757975</td>\n",
              "      <td>-73.937393</td>\n",
              "      <td>40.757975</td>\n",
              "      <td>5</td>\n",
              "      <td>7</td>\n",
              "      <td>5</td>\n",
              "      <td>14</td>\n",
              "      <td>19</td>\n",
              "      <td>5</td>\n",
              "      <td>2011</td>\n",
              "      <td>0.0</td>\n",
              "    </tr>\n",
              "    <tr>\n",
              "      <th>999996</th>\n",
              "      <td>7.3</td>\n",
              "      <td>-73.992103</td>\n",
              "      <td>40.671385</td>\n",
              "      <td>-73.992103</td>\n",
              "      <td>40.671385</td>\n",
              "      <td>2</td>\n",
              "      <td>14</td>\n",
              "      <td>0</td>\n",
              "      <td>20</td>\n",
              "      <td>38</td>\n",
              "      <td>9</td>\n",
              "      <td>2010</td>\n",
              "      <td>0.0</td>\n",
              "    </tr>\n",
              "  </tbody>\n",
              "</table>\n",
              "<p>10469 rows × 13 columns</p>\n",
              "</div>\n",
              "      <button class=\"colab-df-convert\" onclick=\"convertToInteractive('df-9a4eadf0-7f86-4199-b849-afc16947f7ac')\"\n",
              "              title=\"Convert this dataframe to an interactive table.\"\n",
              "              style=\"display:none;\">\n",
              "        \n",
              "  <svg xmlns=\"http://www.w3.org/2000/svg\" height=\"24px\"viewBox=\"0 0 24 24\"\n",
              "       width=\"24px\">\n",
              "    <path d=\"M0 0h24v24H0V0z\" fill=\"none\"/>\n",
              "    <path d=\"M18.56 5.44l.94 2.06.94-2.06 2.06-.94-2.06-.94-.94-2.06-.94 2.06-2.06.94zm-11 1L8.5 8.5l.94-2.06 2.06-.94-2.06-.94L8.5 2.5l-.94 2.06-2.06.94zm10 10l.94 2.06.94-2.06 2.06-.94-2.06-.94-.94-2.06-.94 2.06-2.06.94z\"/><path d=\"M17.41 7.96l-1.37-1.37c-.4-.4-.92-.59-1.43-.59-.52 0-1.04.2-1.43.59L10.3 9.45l-7.72 7.72c-.78.78-.78 2.05 0 2.83L4 21.41c.39.39.9.59 1.41.59.51 0 1.02-.2 1.41-.59l7.78-7.78 2.81-2.81c.8-.78.8-2.07 0-2.86zM5.41 20L4 18.59l7.72-7.72 1.47 1.35L5.41 20z\"/>\n",
              "  </svg>\n",
              "      </button>\n",
              "      \n",
              "  <style>\n",
              "    .colab-df-container {\n",
              "      display:flex;\n",
              "      flex-wrap:wrap;\n",
              "      gap: 12px;\n",
              "    }\n",
              "\n",
              "    .colab-df-convert {\n",
              "      background-color: #E8F0FE;\n",
              "      border: none;\n",
              "      border-radius: 50%;\n",
              "      cursor: pointer;\n",
              "      display: none;\n",
              "      fill: #1967D2;\n",
              "      height: 32px;\n",
              "      padding: 0 0 0 0;\n",
              "      width: 32px;\n",
              "    }\n",
              "\n",
              "    .colab-df-convert:hover {\n",
              "      background-color: #E2EBFA;\n",
              "      box-shadow: 0px 1px 2px rgba(60, 64, 67, 0.3), 0px 1px 3px 1px rgba(60, 64, 67, 0.15);\n",
              "      fill: #174EA6;\n",
              "    }\n",
              "\n",
              "    [theme=dark] .colab-df-convert {\n",
              "      background-color: #3B4455;\n",
              "      fill: #D2E3FC;\n",
              "    }\n",
              "\n",
              "    [theme=dark] .colab-df-convert:hover {\n",
              "      background-color: #434B5C;\n",
              "      box-shadow: 0px 1px 3px 1px rgba(0, 0, 0, 0.15);\n",
              "      filter: drop-shadow(0px 1px 2px rgba(0, 0, 0, 0.3));\n",
              "      fill: #FFFFFF;\n",
              "    }\n",
              "  </style>\n",
              "\n",
              "      <script>\n",
              "        const buttonEl =\n",
              "          document.querySelector('#df-9a4eadf0-7f86-4199-b849-afc16947f7ac button.colab-df-convert');\n",
              "        buttonEl.style.display =\n",
              "          google.colab.kernel.accessAllowed ? 'block' : 'none';\n",
              "\n",
              "        async function convertToInteractive(key) {\n",
              "          const element = document.querySelector('#df-9a4eadf0-7f86-4199-b849-afc16947f7ac');\n",
              "          const dataTable =\n",
              "            await google.colab.kernel.invokeFunction('convertToInteractive',\n",
              "                                                     [key], {});\n",
              "          if (!dataTable) return;\n",
              "\n",
              "          const docLinkHtml = 'Like what you see? Visit the ' +\n",
              "            '<a target=\"_blank\" href=https://colab.research.google.com/notebooks/data_table.ipynb>data table notebook</a>'\n",
              "            + ' to learn more about interactive tables.';\n",
              "          element.innerHTML = '';\n",
              "          dataTable['output_type'] = 'display_data';\n",
              "          await google.colab.output.renderOutput(dataTable, element);\n",
              "          const docLink = document.createElement('div');\n",
              "          docLink.innerHTML = docLinkHtml;\n",
              "          element.appendChild(docLink);\n",
              "        }\n",
              "      </script>\n",
              "    </div>\n",
              "  </div>\n",
              "  "
            ]
          },
          "metadata": {},
          "execution_count": 302
        }
      ],
      "source": [
        "train[train['Distance'] <= 0]"
      ]
    },
    {
      "cell_type": "code",
      "execution_count": null,
      "metadata": {
        "id": "N6yRGfnvhflp"
      },
      "outputs": [],
      "source": [
        "# Lets filter the rows where both distance and fare are available\n",
        "filtered = train[(train['Distance'] > 0) & (train['fare_amount'])]"
      ]
    },
    {
      "cell_type": "code",
      "execution_count": null,
      "metadata": {
        "id": "sad6Lgwbhreg"
      },
      "outputs": [],
      "source": [
        "# We need a column with fare_amount / H_Distance\n",
        "Fare_per_km = (filtered['fare_amount'] / filtered['Distance']).mean()"
      ]
    },
    {
      "cell_type": "code",
      "execution_count": null,
      "metadata": {
        "colab": {
          "base_uri": "https://localhost:8080/"
        },
        "id": "RuO-rEa_h7nf",
        "outputId": "176e4eb7-f708-42b2-aab0-36c64611ee6d"
      },
      "outputs": [
        {
          "output_type": "execute_result",
          "data": {
            "text/plain": [
              "87.11394133206247"
            ]
          },
          "metadata": {},
          "execution_count": 305
        }
      ],
      "source": [
        "Fare_per_km"
      ]
    },
    {
      "cell_type": "code",
      "execution_count": null,
      "metadata": {
        "colab": {
          "base_uri": "https://localhost:8080/",
          "height": 279
        },
        "id": "wvzcRntoijyB",
        "outputId": "3a821902-86c3-4599-cdc4-4556bd5baf42"
      },
      "outputs": [
        {
          "output_type": "display_data",
          "data": {
            "text/plain": [
              "<Figure size 432x288 with 1 Axes>"
            ],
            "image/png": "[encoded data removed]"
          },
          "metadata": {
            "needs_background": "light"
          }
        }
      ],
      "source": [
        "# Plot Fare_Amount vs Distance\n",
        "plt.scatter(filtered['Distance'], filtered['fare_amount'])\n",
        "plt.xlabel('Distance')\n",
        "plt.ylabel('Fare_Amount')\n",
        "plt.show()"
      ]
    },
    {
      "cell_type": "code",
      "execution_count": null,
      "metadata": {
        "colab": {
          "base_uri": "https://localhost:8080/",
          "height": 467
        },
        "id": "2s221qrbiw4v",
        "outputId": "a47fb9c7-f8cc-42b2-d19d-f2459fb640c7"
      },
      "outputs": [
        {
          "output_type": "execute_result",
          "data": {
            "text/plain": [
              "        fare_amount  pickup_longitude  pickup_latitude  dropoff_longitude  \\\n",
              "105            52.0        -74.035839        40.747320         -74.035839   \n",
              "191             6.5        -73.998488        40.726303         -73.998488   \n",
              "270             7.5        -73.995892        40.746454         -73.995892   \n",
              "290             6.9        -73.982432        40.745747         -73.982432   \n",
              "396            12.0        -73.844904        40.736318         -73.844904   \n",
              "...             ...               ...              ...                ...   \n",
              "999727          6.5        -73.992938        40.766027         -73.992938   \n",
              "999827          4.9        -73.953462        40.779228         -73.953462   \n",
              "999931          6.9        -73.970005        40.713008         -73.970005   \n",
              "999988         25.3        -73.937393        40.757975         -73.937393   \n",
              "999996          7.3        -73.992103        40.671385         -73.992103   \n",
              "\n",
              "        dropoff_latitude  passenger_count  Hour  week_day  Day_of_month  Week  \\\n",
              "105            40.747320                1     0         2            25    13   \n",
              "191            40.726303                1    21         2             8     2   \n",
              "270            40.746454                1     1         5            25    34   \n",
              "290            40.745747                1    12         0            14    51   \n",
              "396            40.736318                1    18         2            12    11   \n",
              "...                  ...              ...   ...       ...           ...   ...   \n",
              "999727         40.766027                5    18         0             2    14   \n",
              "999827         40.779228                5    10         4            19    46   \n",
              "999931         40.713008                5    22         0             5    10   \n",
              "999988         40.757975                5     7         5            14    19   \n",
              "999996         40.671385                2    14         0            20    38   \n",
              "\n",
              "        Month  Year  Distance  \n",
              "105         3  2009       0.0  \n",
              "191         1  2014       0.0  \n",
              "270         8  2012       0.0  \n",
              "290        12  2009       0.0  \n",
              "396         3  2014       0.0  \n",
              "...       ...   ...       ...  \n",
              "999727      4  2012       0.0  \n",
              "999827     11  2010       0.0  \n",
              "999931      3  2012       0.0  \n",
              "999988      5  2011       0.0  \n",
              "999996      9  2010       0.0  \n",
              "\n",
              "[10469 rows x 13 columns]"
            ],
            "text/html": [
              "\n",
              "  <div id=\"df-c5d1f25b-2a87-4b20-922c-42498a82513c\">\n",
              "    <div class=\"colab-df-container\">\n",
              "      <div>\n",
              "<style scoped>\n",
              "    .dataframe tbody tr th:only-of-type {\n",
              "        vertical-align: middle;\n",
              "    }\n",
              "\n",
              "    .dataframe tbody tr th {\n",
              "        vertical-align: top;\n",
              "    }\n",
              "\n",
              "    .dataframe thead th {\n",
              "        text-align: right;\n",
              "    }\n",
              "</style>\n",
              "<table border=\"1\" class=\"dataframe\">\n",
              "  <thead>\n",
              "    <tr style=\"text-align: right;\">\n",
              "      <th></th>\n",
              "      <th>fare_amount</th>\n",
              "      <th>pickup_longitude</th>\n",
              "      <th>pickup_latitude</th>\n",
              "      <th>dropoff_longitude</th>\n",
              "      <th>dropoff_latitude</th>\n",
              "      <th>passenger_count</th>\n",
              "      <th>Hour</th>\n",
              "      <th>week_day</th>\n",
              "      <th>Day_of_month</th>\n",
              "      <th>Week</th>\n",
              "      <th>Month</th>\n",
              "      <th>Year</th>\n",
              "      <th>Distance</th>\n",
              "    </tr>\n",
              "  </thead>\n",
              "  <tbody>\n",
              "    <tr>\n",
              "      <th>105</th>\n",
              "      <td>52.0</td>\n",
              "      <td>-74.035839</td>\n",
              "      <td>40.747320</td>\n",
              "      <td>-74.035839</td>\n",
              "      <td>40.747320</td>\n",
              "      <td>1</td>\n",
              "      <td>0</td>\n",
              "      <td>2</td>\n",
              "      <td>25</td>\n",
              "      <td>13</td>\n",
              "      <td>3</td>\n",
              "      <td>2009</td>\n",
              "      <td>0.0</td>\n",
              "    </tr>\n",
              "    <tr>\n",
              "      <th>191</th>\n",
              "      <td>6.5</td>\n",
              "      <td>-73.998488</td>\n",
              "      <td>40.726303</td>\n",
              "      <td>-73.998488</td>\n",
              "      <td>40.726303</td>\n",
              "      <td>1</td>\n",
              "      <td>21</td>\n",
              "      <td>2</td>\n",
              "      <td>8</td>\n",
              "      <td>2</td>\n",
              "      <td>1</td>\n",
              "      <td>2014</td>\n",
              "      <td>0.0</td>\n",
              "    </tr>\n",
              "    <tr>\n",
              "      <th>270</th>\n",
              "      <td>7.5</td>\n",
              "      <td>-73.995892</td>\n",
              "      <td>40.746454</td>\n",
              "      <td>-73.995892</td>\n",
              "      <td>40.746454</td>\n",
              "      <td>1</td>\n",
              "      <td>1</td>\n",
              "      <td>5</td>\n",
              "      <td>25</td>\n",
              "      <td>34</td>\n",
              "      <td>8</td>\n",
              "      <td>2012</td>\n",
              "      <td>0.0</td>\n",
              "    </tr>\n",
              "    <tr>\n",
              "      <th>290</th>\n",
              "      <td>6.9</td>\n",
              "      <td>-73.982432</td>\n",
              "      <td>40.745747</td>\n",
              "      <td>-73.982432</td>\n",
              "      <td>40.745747</td>\n",
              "      <td>1</td>\n",
              "      <td>12</td>\n",
              "      <td>0</td>\n",
              "      <td>14</td>\n",
              "      <td>51</td>\n",
              "      <td>12</td>\n",
              "      <td>2009</td>\n",
              "      <td>0.0</td>\n",
              "    </tr>\n",
              "    <tr>\n",
              "      <th>396</th>\n",
              "      <td>12.0</td>\n",
              "      <td>-73.844904</td>\n",
              "      <td>40.736318</td>\n",
              "      <td>-73.844904</td>\n",
              "      <td>40.736318</td>\n",
              "      <td>1</td>\n",
              "      <td>18</td>\n",
              "      <td>2</td>\n",
              "      <td>12</td>\n",
              "      <td>11</td>\n",
              "      <td>3</td>\n",
              "      <td>2014</td>\n",
              "      <td>0.0</td>\n",
              "    </tr>\n",
              "    <tr>\n",
              "      <th>...</th>\n",
              "      <td>...</td>\n",
              "      <td>...</td>\n",
              "      <td>...</td>\n",
              "      <td>...</td>\n",
              "      <td>...</td>\n",
              "      <td>...</td>\n",
              "      <td>...</td>\n",
              "      <td>...</td>\n",
              "      <td>...</td>\n",
              "      <td>...</td>\n",
              "      <td>...</td>\n",
              "      <td>...</td>\n",
              "      <td>...</td>\n",
              "    </tr>\n",
              "    <tr>\n",
              "      <th>999727</th>\n",
              "      <td>6.5</td>\n",
              "      <td>-73.992938</td>\n",
              "      <td>40.766027</td>\n",
              "      <td>-73.992938</td>\n",
              "      <td>40.766027</td>\n",
              "      <td>5</td>\n",
              "      <td>18</td>\n",
              "      <td>0</td>\n",
              "      <td>2</td>\n",
              "      <td>14</td>\n",
              "      <td>4</td>\n",
              "      <td>2012</td>\n",
              "      <td>0.0</td>\n",
              "    </tr>\n",
              "    <tr>\n",
              "      <th>999827</th>\n",
              "      <td>4.9</td>\n",
              "      <td>-73.953462</td>\n",
              "      <td>40.779228</td>\n",
              "      <td>-73.953462</td>\n",
              "      <td>40.779228</td>\n",
              "      <td>5</td>\n",
              "      <td>10</td>\n",
              "      <td>4</td>\n",
              "      <td>19</td>\n",
              "      <td>46</td>\n",
              "      <td>11</td>\n",
              "      <td>2010</td>\n",
              "      <td>0.0</td>\n",
              "    </tr>\n",
              "    <tr>\n",
              "      <th>999931</th>\n",
              "      <td>6.9</td>\n",
              "      <td>-73.970005</td>\n",
              "      <td>40.713008</td>\n",
              "      <td>-73.970005</td>\n",
              "      <td>40.713008</td>\n",
              "      <td>5</td>\n",
              "      <td>22</td>\n",
              "      <td>0</td>\n",
              "      <td>5</td>\n",
              "      <td>10</td>\n",
              "      <td>3</td>\n",
              "      <td>2012</td>\n",
              "      <td>0.0</td>\n",
              "    </tr>\n",
              "    <tr>\n",
              "      <th>999988</th>\n",
              "      <td>25.3</td>\n",
              "      <td>-73.937393</td>\n",
              "      <td>40.757975</td>\n",
              "      <td>-73.937393</td>\n",
              "      <td>40.757975</td>\n",
              "      <td>5</td>\n",
              "      <td>7</td>\n",
              "      <td>5</td>\n",
              "      <td>14</td>\n",
              "      <td>19</td>\n",
              "      <td>5</td>\n",
              "      <td>2011</td>\n",
              "      <td>0.0</td>\n",
              "    </tr>\n",
              "    <tr>\n",
              "      <th>999996</th>\n",
              "      <td>7.3</td>\n",
              "      <td>-73.992103</td>\n",
              "      <td>40.671385</td>\n",
              "      <td>-73.992103</td>\n",
              "      <td>40.671385</td>\n",
              "      <td>2</td>\n",
              "      <td>14</td>\n",
              "      <td>0</td>\n",
              "      <td>20</td>\n",
              "      <td>38</td>\n",
              "      <td>9</td>\n",
              "      <td>2010</td>\n",
              "      <td>0.0</td>\n",
              "    </tr>\n",
              "  </tbody>\n",
              "</table>\n",
              "<p>10469 rows × 13 columns</p>\n",
              "</div>\n",
              "      <button class=\"colab-df-convert\" onclick=\"convertToInteractive('df-c5d1f25b-2a87-4b20-922c-42498a82513c')\"\n",
              "              title=\"Convert this dataframe to an interactive table.\"\n",
              "              style=\"display:none;\">\n",
              "        \n",
              "  <svg xmlns=\"http://www.w3.org/2000/svg\" height=\"24px\"viewBox=\"0 0 24 24\"\n",
              "       width=\"24px\">\n",
              "    <path d=\"M0 0h24v24H0V0z\" fill=\"none\"/>\n",
              "    <path d=\"M18.56 5.44l.94 2.06.94-2.06 2.06-.94-2.06-.94-.94-2.06-.94 2.06-2.06.94zm-11 1L8.5 8.5l.94-2.06 2.06-.94-2.06-.94L8.5 2.5l-.94 2.06-2.06.94zm10 10l.94 2.06.94-2.06 2.06-.94-2.06-.94-.94-2.06-.94 2.06-2.06.94z\"/><path d=\"M17.41 7.96l-1.37-1.37c-.4-.4-.92-.59-1.43-.59-.52 0-1.04.2-1.43.59L10.3 9.45l-7.72 7.72c-.78.78-.78 2.05 0 2.83L4 21.41c.39.39.9.59 1.41.59.51 0 1.02-.2 1.41-.59l7.78-7.78 2.81-2.81c.8-.78.8-2.07 0-2.86zM5.41 20L4 18.59l7.72-7.72 1.47 1.35L5.41 20z\"/>\n",
              "  </svg>\n",
              "      </button>\n",
              "      \n",
              "  <style>\n",
              "    .colab-df-container {\n",
              "      display:flex;\n",
              "      flex-wrap:wrap;\n",
              "      gap: 12px;\n",
              "    }\n",
              "\n",
              "    .colab-df-convert {\n",
              "      background-color: #E8F0FE;\n",
              "      border: none;\n",
              "      border-radius: 50%;\n",
              "      cursor: pointer;\n",
              "      display: none;\n",
              "      fill: #1967D2;\n",
              "      height: 32px;\n",
              "      padding: 0 0 0 0;\n",
              "      width: 32px;\n",
              "    }\n",
              "\n",
              "    .colab-df-convert:hover {\n",
              "      background-color: #E2EBFA;\n",
              "      box-shadow: 0px 1px 2px rgba(60, 64, 67, 0.3), 0px 1px 3px 1px rgba(60, 64, 67, 0.15);\n",
              "      fill: #174EA6;\n",
              "    }\n",
              "\n",
              "    [theme=dark] .colab-df-convert {\n",
              "      background-color: #3B4455;\n",
              "      fill: #D2E3FC;\n",
              "    }\n",
              "\n",
              "    [theme=dark] .colab-df-convert:hover {\n",
              "      background-color: #434B5C;\n",
              "      box-shadow: 0px 1px 3px 1px rgba(0, 0, 0, 0.15);\n",
              "      filter: drop-shadow(0px 1px 2px rgba(0, 0, 0, 0.3));\n",
              "      fill: #FFFFFF;\n",
              "    }\n",
              "  </style>\n",
              "\n",
              "      <script>\n",
              "        const buttonEl =\n",
              "          document.querySelector('#df-c5d1f25b-2a87-4b20-922c-42498a82513c button.colab-df-convert');\n",
              "        buttonEl.style.display =\n",
              "          google.colab.kernel.accessAllowed ? 'block' : 'none';\n",
              "\n",
              "        async function convertToInteractive(key) {\n",
              "          const element = document.querySelector('#df-c5d1f25b-2a87-4b20-922c-42498a82513c');\n",
              "          const dataTable =\n",
              "            await google.colab.kernel.invokeFunction('convertToInteractive',\n",
              "                                                     [key], {});\n",
              "          if (!dataTable) return;\n",
              "\n",
              "          const docLinkHtml = 'Like what you see? Visit the ' +\n",
              "            '<a target=\"_blank\" href=https://colab.research.google.com/notebooks/data_table.ipynb>data table notebook</a>'\n",
              "            + ' to learn more about interactive tables.';\n",
              "          element.innerHTML = '';\n",
              "          dataTable['output_type'] = 'display_data';\n",
              "          await google.colab.output.renderOutput(dataTable, element);\n",
              "          const docLink = document.createElement('div');\n",
              "          docLink.innerHTML = docLinkHtml;\n",
              "          element.appendChild(docLink);\n",
              "        }\n",
              "      </script>\n",
              "    </div>\n",
              "  </div>\n",
              "  "
            ]
          },
          "metadata": {},
          "execution_count": 306
        }
      ],
      "source": [
        "train[train['Distance'] <= 0]"
      ]
    },
    {
      "cell_type": "markdown",
      "metadata": {
        "id": "oWI4zISXjZRc"
      },
      "source": [
        "In New York, the Base Fee of a Taxi is 2.5 and after that the fare is 1.56  per km.\n",
        "Hence, we will Impute Distance values by:\n",
        "distance = (fare_amount-2.50)/1.56"
      ]
    },
    {
      "cell_type": "code",
      "execution_count": null,
      "metadata": {
        "colab": {
          "base_uri": "https://localhost:8080/"
        },
        "id": "MjE_GgkTjnOa",
        "outputId": "17a76e7d-9daa-4fe5-87d2-7542758d832f"
      },
      "outputs": [
        {
          "output_type": "execute_result",
          "data": {
            "text/plain": [
              "(10469, 13)"
            ]
          },
          "metadata": {},
          "execution_count": 307
        }
      ],
      "source": [
        "train[train['Distance'] <= 0].shape"
      ]
    },
    {
      "cell_type": "code",
      "execution_count": null,
      "metadata": {
        "id": "h_5tQlc0jshB"
      },
      "outputs": [],
      "source": [
        "# Now imputing these,\n",
        "# Fill All Zeros in H_Distance by (Fare_Amount-2.50)/1.56\n",
        "train.loc[train['Distance'] == 0, 'Distance'] = (train['fare_amount'] - 2.50) / 1.56"
      ]
    },
    {
      "cell_type": "code",
      "execution_count": null,
      "metadata": {
        "colab": {
          "base_uri": "https://localhost:8080/"
        },
        "id": "0r80TSQrj_bd",
        "outputId": "a2aa01a5-5f3c-4f76-a227-f8b0b40d58a0"
      },
      "outputs": [
        {
          "output_type": "stream",
          "name": "stdout",
          "text": [
            "Shape of Train:  (975512, 13)\n",
            "Shape of Test:  (9914, 12)\n"
          ]
        }
      ],
      "source": [
        "print(\"Shape of Train: \", train.shape)\n",
        "print(\"Shape of Test: \", test.shape)"
      ]
    },
    {
      "cell_type": "code",
      "execution_count": null,
      "metadata": {
        "colab": {
          "base_uri": "https://localhost:8080/"
        },
        "id": "uDuUE9nfkD-F",
        "outputId": "a5f3e7c6-6565-4bc7-d2a4-51380d0eea2c"
      },
      "outputs": [
        {
          "output_type": "execute_result",
          "data": {
            "text/plain": [
              "(718, 13)"
            ]
          },
          "metadata": {},
          "execution_count": 310
        }
      ],
      "source": [
        "train[train['Distance'] <= 0].shape\n"
      ]
    },
    {
      "cell_type": "code",
      "execution_count": null,
      "metadata": {
        "colab": {
          "base_uri": "https://localhost:8080/"
        },
        "id": "HQ-TpUgvkMGF",
        "outputId": "7c6ab8d4-65be-46ca-9143-299b6c6d019d"
      },
      "outputs": [
        {
          "output_type": "execute_result",
          "data": {
            "text/plain": [
              "((975512, 13), (9914, 12))"
            ]
          },
          "metadata": {},
          "execution_count": 311
        }
      ],
      "source": [
        "train.shape, test.shape"
      ]
    },
    {
      "cell_type": "code",
      "execution_count": null,
      "metadata": {
        "colab": {
          "base_uri": "https://localhost:8080/",
          "height": 460
        },
        "id": "LWYhS33Pkct_",
        "outputId": "c937fc21-69e8-4055-9b15-ed881d514762"
      },
      "outputs": [
        {
          "output_type": "execute_result",
          "data": {
            "text/plain": [
              "Text(0, 0.5, 'Frequency')"
            ]
          },
          "metadata": {},
          "execution_count": 77
        },
        {
          "output_type": "display_data",
          "data": {
            "text/plain": [
              "<Figure size 1080x504 with 1 Axes>"
            ],
            "image/png": "[encoded data removed]"
          },
          "metadata": {
            "needs_background": "light"
          }
        }
      ],
      "source": [
        "plt.figure(figsize=(15,7))\n",
        "plt.hist(train['passenger_count'], bins=15)\n",
        "plt.xlabel('No. of Passengers')\n",
        "plt.ylabel('Frequency')"
      ]
    },
    {
      "cell_type": "code",
      "execution_count": null,
      "metadata": {
        "colab": {
          "base_uri": "https://localhost:8080/",
          "height": 460
        },
        "id": "cGDHCtzUkd6c",
        "outputId": "ff424b63-ad55-4f23-9b4c-c97e288fd1a5"
      },
      "outputs": [
        {
          "output_type": "execute_result",
          "data": {
            "text/plain": [
              "Text(0, 0.5, 'Fare')"
            ]
          },
          "metadata": {},
          "execution_count": 144
        },
        {
          "output_type": "display_data",
          "data": {
            "text/plain": [
              "<Figure size 1080x504 with 1 Axes>"
            ],
            "image/png": "[encoded data removed]"
          },
          "metadata": {
            "needs_background": "light"
          }
        }
      ],
      "source": [
        "plt.figure(figsize=(15,7))\n",
        "plt.scatter(x=train['passenger_count'], y=train['fare_amount'], s=1.5)\n",
        "plt.xlabel('No. of Passengers')\n",
        "plt.ylabel('Fare')"
      ]
    },
    {
      "cell_type": "code",
      "execution_count": null,
      "metadata": {
        "colab": {
          "base_uri": "https://localhost:8080/",
          "height": 1000
        },
        "id": "lua7R93ileft",
        "outputId": "0c8c8386-b547-4813-c0a8-35ddc2cb6282"
      },
      "outputs": [
        {
          "output_type": "display_data",
          "data": {
            "text/plain": [
              "<Figure size 2880x2448 with 16 Axes>"
            ],
            "image/png": "[encoded data removed]"
          },
          "metadata": {
            "needs_background": "light"
          }
        }
      ],
      "source": [
        "train.hist(bins=50, figsize=(40,34))\n",
        "plt.show()"
      ]
    },
    {
      "cell_type": "code",
      "execution_count": null,
      "metadata": {
        "colab": {
          "base_uri": "https://localhost:8080/"
        },
        "id": "ItRA2H0x1iV_",
        "outputId": "3beb39d4-6bfb-4472-f826-f7daacfcb9e2"
      },
      "outputs": [
        {
          "output_type": "execute_result",
          "data": {
            "text/plain": [
              "Index(['fare_amount', 'pickup_longitude', 'pickup_latitude',\n",
              "       'dropoff_longitude', 'dropoff_latitude', 'passenger_count', 'Hour',\n",
              "       'week_day', 'Day_of_month', 'Week', 'Month', 'Year', 'Distance'],\n",
              "      dtype='object')"
            ]
          },
          "metadata": {},
          "execution_count": 313
        }
      ],
      "source": [
        "train.columns"
      ]
    },
    {
      "cell_type": "code",
      "execution_count": null,
      "metadata": {
        "colab": {
          "base_uri": "https://localhost:8080/"
        },
        "id": "U1uLlCrZ3s5Q",
        "outputId": "f68748fd-5d9b-4205-f6d8-4c2bf50482d7"
      },
      "outputs": [
        {
          "output_type": "execute_result",
          "data": {
            "text/plain": [
              "Index(['pickup_longitude', 'pickup_latitude', 'dropoff_longitude',\n",
              "       'dropoff_latitude', 'passenger_count', 'Hour', 'week_day',\n",
              "       'Day_of_month', 'Week', 'Month', 'Year', 'Distance'],\n",
              "      dtype='object')"
            ]
          },
          "metadata": {},
          "execution_count": 314
        }
      ],
      "source": [
        "test.columns"
      ]
    },
    {
      "cell_type": "code",
      "source": [
        "NYC_test.columns"
      ],
      "metadata": {
        "colab": {
          "base_uri": "https://localhost:8080/"
        },
        "id": "Xd4Th6ksxzrX",
        "outputId": "bdfa25a7-9aec-47fb-cb69-4697157b7530"
      },
      "execution_count": null,
      "outputs": [
        {
          "output_type": "execute_result",
          "data": {
            "text/plain": [
              "Index(['dropoff_latitude', 'dropoff_longitude', 'passenger_count',\n",
              "       'pickup_latitude', 'pickup_longitude', 'test_id', 'Hour', 'week_day',\n",
              "       'Day_of_month', 'Week', 'Month', 'Year', 'Distance'],\n",
              "      dtype='object')"
            ]
          },
          "metadata": {},
          "execution_count": 315
        }
      ]
    },
    {
      "cell_type": "code",
      "source": [
        "NYC_test.describe()"
      ],
      "metadata": {
        "colab": {
          "base_uri": "https://localhost:8080/",
          "height": 300
        },
        "id": "HPXs0grcyX15",
        "outputId": "c24bf55d-0995-4e45-89d7-bb2fa08d5f69"
      },
      "execution_count": null,
      "outputs": [
        {
          "output_type": "execute_result",
          "data": {
            "text/plain": [
              "       dropoff_latitude  dropoff_longitude  passenger_count  pickup_latitude  \\\n",
              "count               0.0                0.0              0.0              0.0   \n",
              "mean                NaN                NaN              NaN              NaN   \n",
              "std                 NaN                NaN              NaN              NaN   \n",
              "min                 NaN                NaN              NaN              NaN   \n",
              "25%                 NaN                NaN              NaN              NaN   \n",
              "50%                 NaN                NaN              NaN              NaN   \n",
              "75%                 NaN                NaN              NaN              NaN   \n",
              "max                 NaN                NaN              NaN              NaN   \n",
              "\n",
              "       pickup_longitude  test_id  Hour  week_day  Day_of_month  Week  Month  \\\n",
              "count               0.0      0.0   0.0       0.0           0.0     0    0.0   \n",
              "mean                NaN      NaN   NaN       NaN           NaN  <NA>    NaN   \n",
              "std                 NaN      NaN   NaN       NaN           NaN  <NA>    NaN   \n",
              "min                 NaN      NaN   NaN       NaN           NaN  <NA>    NaN   \n",
              "25%                 NaN      NaN   NaN       NaN           NaN  <NA>    NaN   \n",
              "50%                 NaN      NaN   NaN       NaN           NaN  <NA>    NaN   \n",
              "75%                 NaN      NaN   NaN       NaN           NaN  <NA>    NaN   \n",
              "max                 NaN      NaN   NaN       NaN           NaN  <NA>    NaN   \n",
              "\n",
              "       Year  Distance  \n",
              "count   0.0       0.0  \n",
              "mean    NaN       NaN  \n",
              "std     NaN       NaN  \n",
              "min     NaN       NaN  \n",
              "25%     NaN       NaN  \n",
              "50%     NaN       NaN  \n",
              "75%     NaN       NaN  \n",
              "max     NaN       NaN  "
            ],
            "text/html": [
              "\n",
              "  <div id=\"df-6fb7d727-9184-454d-b1c3-5b20c7217d2e\">\n",
              "    <div class=\"colab-df-container\">\n",
              "      <div>\n",
              "<style scoped>\n",
              "    .dataframe tbody tr th:only-of-type {\n",
              "        vertical-align: middle;\n",
              "    }\n",
              "\n",
              "    .dataframe tbody tr th {\n",
              "        vertical-align: top;\n",
              "    }\n",
              "\n",
              "    .dataframe thead th {\n",
              "        text-align: right;\n",
              "    }\n",
              "</style>\n",
              "<table border=\"1\" class=\"dataframe\">\n",
              "  <thead>\n",
              "    <tr style=\"text-align: right;\">\n",
              "      <th></th>\n",
              "      <th>dropoff_latitude</th>\n",
              "      <th>dropoff_longitude</th>\n",
              "      <th>passenger_count</th>\n",
              "      <th>pickup_latitude</th>\n",
              "      <th>pickup_longitude</th>\n",
              "      <th>test_id</th>\n",
              "      <th>Hour</th>\n",
              "      <th>week_day</th>\n",
              "      <th>Day_of_month</th>\n",
              "      <th>Week</th>\n",
              "      <th>Month</th>\n",
              "      <th>Year</th>\n",
              "      <th>Distance</th>\n",
              "    </tr>\n",
              "  </thead>\n",
              "  <tbody>\n",
              "    <tr>\n",
              "      <th>count</th>\n",
              "      <td>0.0</td>\n",
              "      <td>0.0</td>\n",
              "      <td>0.0</td>\n",
              "      <td>0.0</td>\n",
              "      <td>0.0</td>\n",
              "      <td>0.0</td>\n",
              "      <td>0.0</td>\n",
              "      <td>0.0</td>\n",
              "      <td>0.0</td>\n",
              "      <td>0</td>\n",
              "      <td>0.0</td>\n",
              "      <td>0.0</td>\n",
              "      <td>0.0</td>\n",
              "    </tr>\n",
              "    <tr>\n",
              "      <th>mean</th>\n",
              "      <td>NaN</td>\n",
              "      <td>NaN</td>\n",
              "      <td>NaN</td>\n",
              "      <td>NaN</td>\n",
              "      <td>NaN</td>\n",
              "      <td>NaN</td>\n",
              "      <td>NaN</td>\n",
              "      <td>NaN</td>\n",
              "      <td>NaN</td>\n",
              "      <td>&lt;NA&gt;</td>\n",
              "      <td>NaN</td>\n",
              "      <td>NaN</td>\n",
              "      <td>NaN</td>\n",
              "    </tr>\n",
              "    <tr>\n",
              "      <th>std</th>\n",
              "      <td>NaN</td>\n",
              "      <td>NaN</td>\n",
              "      <td>NaN</td>\n",
              "      <td>NaN</td>\n",
              "      <td>NaN</td>\n",
              "      <td>NaN</td>\n",
              "      <td>NaN</td>\n",
              "      <td>NaN</td>\n",
              "      <td>NaN</td>\n",
              "      <td>&lt;NA&gt;</td>\n",
              "      <td>NaN</td>\n",
              "      <td>NaN</td>\n",
              "      <td>NaN</td>\n",
              "    </tr>\n",
              "    <tr>\n",
              "      <th>min</th>\n",
              "      <td>NaN</td>\n",
              "      <td>NaN</td>\n",
              "      <td>NaN</td>\n",
              "      <td>NaN</td>\n",
              "      <td>NaN</td>\n",
              "      <td>NaN</td>\n",
              "      <td>NaN</td>\n",
              "      <td>NaN</td>\n",
              "      <td>NaN</td>\n",
              "      <td>&lt;NA&gt;</td>\n",
              "      <td>NaN</td>\n",
              "      <td>NaN</td>\n",
              "      <td>NaN</td>\n",
              "    </tr>\n",
              "    <tr>\n",
              "      <th>25%</th>\n",
              "      <td>NaN</td>\n",
              "      <td>NaN</td>\n",
              "      <td>NaN</td>\n",
              "      <td>NaN</td>\n",
              "      <td>NaN</td>\n",
              "      <td>NaN</td>\n",
              "      <td>NaN</td>\n",
              "      <td>NaN</td>\n",
              "      <td>NaN</td>\n",
              "      <td>&lt;NA&gt;</td>\n",
              "      <td>NaN</td>\n",
              "      <td>NaN</td>\n",
              "      <td>NaN</td>\n",
              "    </tr>\n",
              "    <tr>\n",
              "      <th>50%</th>\n",
              "      <td>NaN</td>\n",
              "      <td>NaN</td>\n",
              "      <td>NaN</td>\n",
              "      <td>NaN</td>\n",
              "      <td>NaN</td>\n",
              "      <td>NaN</td>\n",
              "      <td>NaN</td>\n",
              "      <td>NaN</td>\n",
              "      <td>NaN</td>\n",
              "      <td>&lt;NA&gt;</td>\n",
              "      <td>NaN</td>\n",
              "      <td>NaN</td>\n",
              "      <td>NaN</td>\n",
              "    </tr>\n",
              "    <tr>\n",
              "      <th>75%</th>\n",
              "      <td>NaN</td>\n",
              "      <td>NaN</td>\n",
              "      <td>NaN</td>\n",
              "      <td>NaN</td>\n",
              "      <td>NaN</td>\n",
              "      <td>NaN</td>\n",
              "      <td>NaN</td>\n",
              "      <td>NaN</td>\n",
              "      <td>NaN</td>\n",
              "      <td>&lt;NA&gt;</td>\n",
              "      <td>NaN</td>\n",
              "      <td>NaN</td>\n",
              "      <td>NaN</td>\n",
              "    </tr>\n",
              "    <tr>\n",
              "      <th>max</th>\n",
              "      <td>NaN</td>\n",
              "      <td>NaN</td>\n",
              "      <td>NaN</td>\n",
              "      <td>NaN</td>\n",
              "      <td>NaN</td>\n",
              "      <td>NaN</td>\n",
              "      <td>NaN</td>\n",
              "      <td>NaN</td>\n",
              "      <td>NaN</td>\n",
              "      <td>&lt;NA&gt;</td>\n",
              "      <td>NaN</td>\n",
              "      <td>NaN</td>\n",
              "      <td>NaN</td>\n",
              "    </tr>\n",
              "  </tbody>\n",
              "</table>\n",
              "</div>\n",
              "      <button class=\"colab-df-convert\" onclick=\"convertToInteractive('df-6fb7d727-9184-454d-b1c3-5b20c7217d2e')\"\n",
              "              title=\"Convert this dataframe to an interactive table.\"\n",
              "              style=\"display:none;\">\n",
              "        \n",
              "  <svg xmlns=\"http://www.w3.org/2000/svg\" height=\"24px\"viewBox=\"0 0 24 24\"\n",
              "       width=\"24px\">\n",
              "    <path d=\"M0 0h24v24H0V0z\" fill=\"none\"/>\n",
              "    <path d=\"M18.56 5.44l.94 2.06.94-2.06 2.06-.94-2.06-.94-.94-2.06-.94 2.06-2.06.94zm-11 1L8.5 8.5l.94-2.06 2.06-.94-2.06-.94L8.5 2.5l-.94 2.06-2.06.94zm10 10l.94 2.06.94-2.06 2.06-.94-2.06-.94-.94-2.06-.94 2.06-2.06.94z\"/><path d=\"M17.41 7.96l-1.37-1.37c-.4-.4-.92-.59-1.43-.59-.52 0-1.04.2-1.43.59L10.3 9.45l-7.72 7.72c-.78.78-.78 2.05 0 2.83L4 21.41c.39.39.9.59 1.41.59.51 0 1.02-.2 1.41-.59l7.78-7.78 2.81-2.81c.8-.78.8-2.07 0-2.86zM5.41 20L4 18.59l7.72-7.72 1.47 1.35L5.41 20z\"/>\n",
              "  </svg>\n",
              "      </button>\n",
              "      \n",
              "  <style>\n",
              "    .colab-df-container {\n",
              "      display:flex;\n",
              "      flex-wrap:wrap;\n",
              "      gap: 12px;\n",
              "    }\n",
              "\n",
              "    .colab-df-convert {\n",
              "      background-color: #E8F0FE;\n",
              "      border: none;\n",
              "      border-radius: 50%;\n",
              "      cursor: pointer;\n",
              "      display: none;\n",
              "      fill: #1967D2;\n",
              "      height: 32px;\n",
              "      padding: 0 0 0 0;\n",
              "      width: 32px;\n",
              "    }\n",
              "\n",
              "    .colab-df-convert:hover {\n",
              "      background-color: #E2EBFA;\n",
              "      box-shadow: 0px 1px 2px rgba(60, 64, 67, 0.3), 0px 1px 3px 1px rgba(60, 64, 67, 0.15);\n",
              "      fill: #174EA6;\n",
              "    }\n",
              "\n",
              "    [theme=dark] .colab-df-convert {\n",
              "      background-color: #3B4455;\n",
              "      fill: #D2E3FC;\n",
              "    }\n",
              "\n",
              "    [theme=dark] .colab-df-convert:hover {\n",
              "      background-color: #434B5C;\n",
              "      box-shadow: 0px 1px 3px 1px rgba(0, 0, 0, 0.15);\n",
              "      filter: drop-shadow(0px 1px 2px rgba(0, 0, 0, 0.3));\n",
              "      fill: #FFFFFF;\n",
              "    }\n",
              "  </style>\n",
              "\n",
              "      <script>\n",
              "        const buttonEl =\n",
              "          document.querySelector('#df-6fb7d727-9184-454d-b1c3-5b20c7217d2e button.colab-df-convert');\n",
              "        buttonEl.style.display =\n",
              "          google.colab.kernel.accessAllowed ? 'block' : 'none';\n",
              "\n",
              "        async function convertToInteractive(key) {\n",
              "          const element = document.querySelector('#df-6fb7d727-9184-454d-b1c3-5b20c7217d2e');\n",
              "          const dataTable =\n",
              "            await google.colab.kernel.invokeFunction('convertToInteractive',\n",
              "                                                     [key], {});\n",
              "          if (!dataTable) return;\n",
              "\n",
              "          const docLinkHtml = 'Like what you see? Visit the ' +\n",
              "            '<a target=\"_blank\" href=https://colab.research.google.com/notebooks/data_table.ipynb>data table notebook</a>'\n",
              "            + ' to learn more about interactive tables.';\n",
              "          element.innerHTML = '';\n",
              "          dataTable['output_type'] = 'display_data';\n",
              "          await google.colab.output.renderOutput(dataTable, element);\n",
              "          const docLink = document.createElement('div');\n",
              "          docLink.innerHTML = docLinkHtml;\n",
              "          element.appendChild(docLink);\n",
              "        }\n",
              "      </script>\n",
              "    </div>\n",
              "  </div>\n",
              "  "
            ]
          },
          "metadata": {},
          "execution_count": 316
        }
      ]
    },
    {
      "cell_type": "markdown",
      "source": [
        "# Scaling of the data"
      ],
      "metadata": {
        "id": "c9Mhb21Baga5"
      }
    },
    {
      "cell_type": "code",
      "execution_count": null,
      "metadata": {
        "id": "T2l1I2vQ1XXo"
      },
      "outputs": [],
      "source": [
        "from sklearn.preprocessing import StandardScaler\n",
        "scaler = StandardScaler()\n",
        "train[['pickup_latitude', 'pickup_longitude', 'dropoff_latitude', 'dropoff_longitude','Year','Month','Distance','Hour','passenger_count','week_day','Day_of_month','Week']] = scaler.fit_transform(train[['pickup_latitude', 'pickup_longitude', 'dropoff_latitude', 'dropoff_longitude','Year','Month','Distance','Hour','passenger_count','week_day','Day_of_month','Week']])"
      ]
    },
    {
      "cell_type": "code",
      "execution_count": null,
      "metadata": {
        "colab": {
          "base_uri": "https://localhost:8080/",
          "height": 270
        },
        "id": "gDbKzDxg1rme",
        "outputId": "6b2e6d87-adeb-41c6-d426-45315e3eed11"
      },
      "outputs": [
        {
          "output_type": "execute_result",
          "data": {
            "text/plain": [
              "   fare_amount  pickup_longitude  pickup_latitude  dropoff_longitude  \\\n",
              "0          4.5          3.390636        -1.007170           3.512777   \n",
              "1         16.9         -1.061899        -1.345765          -0.134079   \n",
              "2          5.7         -0.198288         0.343393          -0.451296   \n",
              "3          7.7         -0.312157        -0.607454          -0.459906   \n",
              "4          5.3          0.181354         0.571175           0.464988   \n",
              "\n",
              "   dropoff_latitude  passenger_count      Hour  week_day  Day_of_month  \\\n",
              "0         -1.195810        -0.529065  0.536072 -1.558900     -0.079732   \n",
              "1          0.932715        -0.529065  0.382506 -1.046031     -1.231497   \n",
              "2         -0.027115         0.236527 -2.074546 -0.020294      0.265797   \n",
              "3          0.202753        -0.529065 -1.460283  1.005444      0.611326   \n",
              "4          0.986381        -0.529065 -0.999585 -1.046031     -0.770791   \n",
              "\n",
              "       Week     Month      Year  Distance  \n",
              "0 -0.031513 -0.078833 -1.468136 -0.606562  \n",
              "1 -1.636648 -1.533415 -0.932315  1.302363  \n",
              "2  0.503532  0.503000 -0.396493 -0.514257  \n",
              "3 -0.633439 -0.660666  0.139329 -0.151544  \n",
              "4 -1.034723 -0.951582 -0.932315 -0.357405  "
            ],
            "text/html": [
              "\n",
              "  <div id=\"df-3b5c10bb-2759-4547-8ef2-19b6e90c034c\">\n",
              "    <div class=\"colab-df-container\">\n",
              "      <div>\n",
              "<style scoped>\n",
              "    .dataframe tbody tr th:only-of-type {\n",
              "        vertical-align: middle;\n",
              "    }\n",
              "\n",
              "    .dataframe tbody tr th {\n",
              "        vertical-align: top;\n",
              "    }\n",
              "\n",
              "    .dataframe thead th {\n",
              "        text-align: right;\n",
              "    }\n",
              "</style>\n",
              "<table border=\"1\" class=\"dataframe\">\n",
              "  <thead>\n",
              "    <tr style=\"text-align: right;\">\n",
              "      <th></th>\n",
              "      <th>fare_amount</th>\n",
              "      <th>pickup_longitude</th>\n",
              "      <th>pickup_latitude</th>\n",
              "      <th>dropoff_longitude</th>\n",
              "      <th>dropoff_latitude</th>\n",
              "      <th>passenger_count</th>\n",
              "      <th>Hour</th>\n",
              "      <th>week_day</th>\n",
              "      <th>Day_of_month</th>\n",
              "      <th>Week</th>\n",
              "      <th>Month</th>\n",
              "      <th>Year</th>\n",
              "      <th>Distance</th>\n",
              "    </tr>\n",
              "  </thead>\n",
              "  <tbody>\n",
              "    <tr>\n",
              "      <th>0</th>\n",
              "      <td>4.5</td>\n",
              "      <td>3.390636</td>\n",
              "      <td>-1.007170</td>\n",
              "      <td>3.512777</td>\n",
              "      <td>-1.195810</td>\n",
              "      <td>-0.529065</td>\n",
              "      <td>0.536072</td>\n",
              "      <td>-1.558900</td>\n",
              "      <td>-0.079732</td>\n",
              "      <td>-0.031513</td>\n",
              "      <td>-0.078833</td>\n",
              "      <td>-1.468136</td>\n",
              "      <td>-0.606562</td>\n",
              "    </tr>\n",
              "    <tr>\n",
              "      <th>1</th>\n",
              "      <td>16.9</td>\n",
              "      <td>-1.061899</td>\n",
              "      <td>-1.345765</td>\n",
              "      <td>-0.134079</td>\n",
              "      <td>0.932715</td>\n",
              "      <td>-0.529065</td>\n",
              "      <td>0.382506</td>\n",
              "      <td>-1.046031</td>\n",
              "      <td>-1.231497</td>\n",
              "      <td>-1.636648</td>\n",
              "      <td>-1.533415</td>\n",
              "      <td>-0.932315</td>\n",
              "      <td>1.302363</td>\n",
              "    </tr>\n",
              "    <tr>\n",
              "      <th>2</th>\n",
              "      <td>5.7</td>\n",
              "      <td>-0.198288</td>\n",
              "      <td>0.343393</td>\n",
              "      <td>-0.451296</td>\n",
              "      <td>-0.027115</td>\n",
              "      <td>0.236527</td>\n",
              "      <td>-2.074546</td>\n",
              "      <td>-0.020294</td>\n",
              "      <td>0.265797</td>\n",
              "      <td>0.503532</td>\n",
              "      <td>0.503000</td>\n",
              "      <td>-0.396493</td>\n",
              "      <td>-0.514257</td>\n",
              "    </tr>\n",
              "    <tr>\n",
              "      <th>3</th>\n",
              "      <td>7.7</td>\n",
              "      <td>-0.312157</td>\n",
              "      <td>-0.607454</td>\n",
              "      <td>-0.459906</td>\n",
              "      <td>0.202753</td>\n",
              "      <td>-0.529065</td>\n",
              "      <td>-1.460283</td>\n",
              "      <td>1.005444</td>\n",
              "      <td>0.611326</td>\n",
              "      <td>-0.633439</td>\n",
              "      <td>-0.660666</td>\n",
              "      <td>0.139329</td>\n",
              "      <td>-0.151544</td>\n",
              "    </tr>\n",
              "    <tr>\n",
              "      <th>4</th>\n",
              "      <td>5.3</td>\n",
              "      <td>0.181354</td>\n",
              "      <td>0.571175</td>\n",
              "      <td>0.464988</td>\n",
              "      <td>0.986381</td>\n",
              "      <td>-0.529065</td>\n",
              "      <td>-0.999585</td>\n",
              "      <td>-1.046031</td>\n",
              "      <td>-0.770791</td>\n",
              "      <td>-1.034723</td>\n",
              "      <td>-0.951582</td>\n",
              "      <td>-0.932315</td>\n",
              "      <td>-0.357405</td>\n",
              "    </tr>\n",
              "  </tbody>\n",
              "</table>\n",
              "</div>\n",
              "      <button class=\"colab-df-convert\" onclick=\"convertToInteractive('df-3b5c10bb-2759-4547-8ef2-19b6e90c034c')\"\n",
              "              title=\"Convert this dataframe to an interactive table.\"\n",
              "              style=\"display:none;\">\n",
              "        \n",
              "  <svg xmlns=\"http://www.w3.org/2000/svg\" height=\"24px\"viewBox=\"0 0 24 24\"\n",
              "       width=\"24px\">\n",
              "    <path d=\"M0 0h24v24H0V0z\" fill=\"none\"/>\n",
              "    <path d=\"M18.56 5.44l.94 2.06.94-2.06 2.06-.94-2.06-.94-.94-2.06-.94 2.06-2.06.94zm-11 1L8.5 8.5l.94-2.06 2.06-.94-2.06-.94L8.5 2.5l-.94 2.06-2.06.94zm10 10l.94 2.06.94-2.06 2.06-.94-2.06-.94-.94-2.06-.94 2.06-2.06.94z\"/><path d=\"M17.41 7.96l-1.37-1.37c-.4-.4-.92-.59-1.43-.59-.52 0-1.04.2-1.43.59L10.3 9.45l-7.72 7.72c-.78.78-.78 2.05 0 2.83L4 21.41c.39.39.9.59 1.41.59.51 0 1.02-.2 1.41-.59l7.78-7.78 2.81-2.81c.8-.78.8-2.07 0-2.86zM5.41 20L4 18.59l7.72-7.72 1.47 1.35L5.41 20z\"/>\n",
              "  </svg>\n",
              "      </button>\n",
              "      \n",
              "  <style>\n",
              "    .colab-df-container {\n",
              "      display:flex;\n",
              "      flex-wrap:wrap;\n",
              "      gap: 12px;\n",
              "    }\n",
              "\n",
              "    .colab-df-convert {\n",
              "      background-color: #E8F0FE;\n",
              "      border: none;\n",
              "      border-radius: 50%;\n",
              "      cursor: pointer;\n",
              "      display: none;\n",
              "      fill: #1967D2;\n",
              "      height: 32px;\n",
              "      padding: 0 0 0 0;\n",
              "      width: 32px;\n",
              "    }\n",
              "\n",
              "    .colab-df-convert:hover {\n",
              "      background-color: #E2EBFA;\n",
              "      box-shadow: 0px 1px 2px rgba(60, 64, 67, 0.3), 0px 1px 3px 1px rgba(60, 64, 67, 0.15);\n",
              "      fill: #174EA6;\n",
              "    }\n",
              "\n",
              "    [theme=dark] .colab-df-convert {\n",
              "      background-color: #3B4455;\n",
              "      fill: #D2E3FC;\n",
              "    }\n",
              "\n",
              "    [theme=dark] .colab-df-convert:hover {\n",
              "      background-color: #434B5C;\n",
              "      box-shadow: 0px 1px 3px 1px rgba(0, 0, 0, 0.15);\n",
              "      filter: drop-shadow(0px 1px 2px rgba(0, 0, 0, 0.3));\n",
              "      fill: #FFFFFF;\n",
              "    }\n",
              "  </style>\n",
              "\n",
              "      <script>\n",
              "        const buttonEl =\n",
              "          document.querySelector('#df-3b5c10bb-2759-4547-8ef2-19b6e90c034c button.colab-df-convert');\n",
              "        buttonEl.style.display =\n",
              "          google.colab.kernel.accessAllowed ? 'block' : 'none';\n",
              "\n",
              "        async function convertToInteractive(key) {\n",
              "          const element = document.querySelector('#df-3b5c10bb-2759-4547-8ef2-19b6e90c034c');\n",
              "          const dataTable =\n",
              "            await google.colab.kernel.invokeFunction('convertToInteractive',\n",
              "                                                     [key], {});\n",
              "          if (!dataTable) return;\n",
              "\n",
              "          const docLinkHtml = 'Like what you see? Visit the ' +\n",
              "            '<a target=\"_blank\" href=https://colab.research.google.com/notebooks/data_table.ipynb>data table notebook</a>'\n",
              "            + ' to learn more about interactive tables.';\n",
              "          element.innerHTML = '';\n",
              "          dataTable['output_type'] = 'display_data';\n",
              "          await google.colab.output.renderOutput(dataTable, element);\n",
              "          const docLink = document.createElement('div');\n",
              "          docLink.innerHTML = docLinkHtml;\n",
              "          element.appendChild(docLink);\n",
              "        }\n",
              "      </script>\n",
              "    </div>\n",
              "  </div>\n",
              "  "
            ]
          },
          "metadata": {},
          "execution_count": 318
        }
      ],
      "source": [
        "train.head()"
      ]
    },
    {
      "cell_type": "code",
      "execution_count": null,
      "metadata": {
        "id": "zxB7Q1CX6P3K"
      },
      "outputs": [],
      "source": [
        "from sklearn.preprocessing import StandardScaler\n",
        "scaler = StandardScaler()\n",
        "#test[['pickup_latitude','pickup_longitude','dropoff_latitude','dropoff_longitude','Year','Month','Distance','Hour','passenger_count','week_day','Day_of_month','Week']]= scaler.fit_transform([test['pickup_latitude','pickup_longitude','dropoff_latitude','dropoff_longitude','Year','Month','Distance','Hour','passenger_count','week_day','Day_of_month','Week']])\n",
        "test[test.columns] = scaler.fit_transform(test[test.columns])"
      ]
    },
    {
      "cell_type": "code",
      "execution_count": null,
      "metadata": {
        "colab": {
          "base_uri": "https://localhost:8080/",
          "height": 250
        },
        "id": "hPVSp57J9ZCG",
        "outputId": "3d0399c9-4dd9-4c22-e5f5-be76e7e987a0"
      },
      "outputs": [
        {
          "output_type": "execute_result",
          "data": {
            "text/plain": [
              "   pickup_longitude  pickup_latitude  dropoff_longitude  dropoff_latitude  \\\n",
              "0          0.032784         0.380583          -0.198965         -0.223160   \n",
              "1         -0.283831        -0.943879          -0.645756         -0.353965   \n",
              "2         -0.182405         0.006538          -0.153507         -0.158150   \n",
              "3         -0.150515         0.499892          -0.429781         -0.003042   \n",
              "4          0.202849         1.154876          -0.381586         -0.206466   \n",
              "\n",
              "   passenger_count      Hour  week_day  Day_of_month      Week     Month  \\\n",
              "0        -0.524972 -0.068055 -0.929041      1.222651 -1.594859 -1.747032   \n",
              "1        -0.524972 -0.068055 -0.929041      1.222651 -1.594859 -1.747032   \n",
              "2        -0.524972 -0.359251  1.076624     -0.927148  0.815137  0.937049   \n",
              "3        -0.524972  1.096727  1.076624     -1.719179  1.365993  1.533512   \n",
              "4        -0.524972  1.096727  1.076624     -1.719179  1.365993  1.533512   \n",
              "\n",
              "       Year  Distance  \n",
              "0  1.765797 -0.279975  \n",
              "1  1.765797 -0.254273  \n",
              "2 -0.452413 -0.709119  \n",
              "3  0.102140 -0.371167  \n",
              "4  0.102140  0.491401  "
            ],
            "text/html": [
              "\n",
              "  <div id=\"df-ea98335f-b056-40b2-82f6-32f0b8ef29f9\">\n",
              "    <div class=\"colab-df-container\">\n",
              "      <div>\n",
              "<style scoped>\n",
              "    .dataframe tbody tr th:only-of-type {\n",
              "        vertical-align: middle;\n",
              "    }\n",
              "\n",
              "    .dataframe tbody tr th {\n",
              "        vertical-align: top;\n",
              "    }\n",
              "\n",
              "    .dataframe thead th {\n",
              "        text-align: right;\n",
              "    }\n",
              "</style>\n",
              "<table border=\"1\" class=\"dataframe\">\n",
              "  <thead>\n",
              "    <tr style=\"text-align: right;\">\n",
              "      <th></th>\n",
              "      <th>pickup_longitude</th>\n",
              "      <th>pickup_latitude</th>\n",
              "      <th>dropoff_longitude</th>\n",
              "      <th>dropoff_latitude</th>\n",
              "      <th>passenger_count</th>\n",
              "      <th>Hour</th>\n",
              "      <th>week_day</th>\n",
              "      <th>Day_of_month</th>\n",
              "      <th>Week</th>\n",
              "      <th>Month</th>\n",
              "      <th>Year</th>\n",
              "      <th>Distance</th>\n",
              "    </tr>\n",
              "  </thead>\n",
              "  <tbody>\n",
              "    <tr>\n",
              "      <th>0</th>\n",
              "      <td>0.032784</td>\n",
              "      <td>0.380583</td>\n",
              "      <td>-0.198965</td>\n",
              "      <td>-0.223160</td>\n",
              "      <td>-0.524972</td>\n",
              "      <td>-0.068055</td>\n",
              "      <td>-0.929041</td>\n",
              "      <td>1.222651</td>\n",
              "      <td>-1.594859</td>\n",
              "      <td>-1.747032</td>\n",
              "      <td>1.765797</td>\n",
              "      <td>-0.279975</td>\n",
              "    </tr>\n",
              "    <tr>\n",
              "      <th>1</th>\n",
              "      <td>-0.283831</td>\n",
              "      <td>-0.943879</td>\n",
              "      <td>-0.645756</td>\n",
              "      <td>-0.353965</td>\n",
              "      <td>-0.524972</td>\n",
              "      <td>-0.068055</td>\n",
              "      <td>-0.929041</td>\n",
              "      <td>1.222651</td>\n",
              "      <td>-1.594859</td>\n",
              "      <td>-1.747032</td>\n",
              "      <td>1.765797</td>\n",
              "      <td>-0.254273</td>\n",
              "    </tr>\n",
              "    <tr>\n",
              "      <th>2</th>\n",
              "      <td>-0.182405</td>\n",
              "      <td>0.006538</td>\n",
              "      <td>-0.153507</td>\n",
              "      <td>-0.158150</td>\n",
              "      <td>-0.524972</td>\n",
              "      <td>-0.359251</td>\n",
              "      <td>1.076624</td>\n",
              "      <td>-0.927148</td>\n",
              "      <td>0.815137</td>\n",
              "      <td>0.937049</td>\n",
              "      <td>-0.452413</td>\n",
              "      <td>-0.709119</td>\n",
              "    </tr>\n",
              "    <tr>\n",
              "      <th>3</th>\n",
              "      <td>-0.150515</td>\n",
              "      <td>0.499892</td>\n",
              "      <td>-0.429781</td>\n",
              "      <td>-0.003042</td>\n",
              "      <td>-0.524972</td>\n",
              "      <td>1.096727</td>\n",
              "      <td>1.076624</td>\n",
              "      <td>-1.719179</td>\n",
              "      <td>1.365993</td>\n",
              "      <td>1.533512</td>\n",
              "      <td>0.102140</td>\n",
              "      <td>-0.371167</td>\n",
              "    </tr>\n",
              "    <tr>\n",
              "      <th>4</th>\n",
              "      <td>0.202849</td>\n",
              "      <td>1.154876</td>\n",
              "      <td>-0.381586</td>\n",
              "      <td>-0.206466</td>\n",
              "      <td>-0.524972</td>\n",
              "      <td>1.096727</td>\n",
              "      <td>1.076624</td>\n",
              "      <td>-1.719179</td>\n",
              "      <td>1.365993</td>\n",
              "      <td>1.533512</td>\n",
              "      <td>0.102140</td>\n",
              "      <td>0.491401</td>\n",
              "    </tr>\n",
              "  </tbody>\n",
              "</table>\n",
              "</div>\n",
              "      <button class=\"colab-df-convert\" onclick=\"convertToInteractive('df-ea98335f-b056-40b2-82f6-32f0b8ef29f9')\"\n",
              "              title=\"Convert this dataframe to an interactive table.\"\n",
              "              style=\"display:none;\">\n",
              "        \n",
              "  <svg xmlns=\"http://www.w3.org/2000/svg\" height=\"24px\"viewBox=\"0 0 24 24\"\n",
              "       width=\"24px\">\n",
              "    <path d=\"M0 0h24v24H0V0z\" fill=\"none\"/>\n",
              "    <path d=\"M18.56 5.44l.94 2.06.94-2.06 2.06-.94-2.06-.94-.94-2.06-.94 2.06-2.06.94zm-11 1L8.5 8.5l.94-2.06 2.06-.94-2.06-.94L8.5 2.5l-.94 2.06-2.06.94zm10 10l.94 2.06.94-2.06 2.06-.94-2.06-.94-.94-2.06-.94 2.06-2.06.94z\"/><path d=\"M17.41 7.96l-1.37-1.37c-.4-.4-.92-.59-1.43-.59-.52 0-1.04.2-1.43.59L10.3 9.45l-7.72 7.72c-.78.78-.78 2.05 0 2.83L4 21.41c.39.39.9.59 1.41.59.51 0 1.02-.2 1.41-.59l7.78-7.78 2.81-2.81c.8-.78.8-2.07 0-2.86zM5.41 20L4 18.59l7.72-7.72 1.47 1.35L5.41 20z\"/>\n",
              "  </svg>\n",
              "      </button>\n",
              "      \n",
              "  <style>\n",
              "    .colab-df-container {\n",
              "      display:flex;\n",
              "      flex-wrap:wrap;\n",
              "      gap: 12px;\n",
              "    }\n",
              "\n",
              "    .colab-df-convert {\n",
              "      background-color: #E8F0FE;\n",
              "      border: none;\n",
              "      border-radius: 50%;\n",
              "      cursor: pointer;\n",
              "      display: none;\n",
              "      fill: #1967D2;\n",
              "      height: 32px;\n",
              "      padding: 0 0 0 0;\n",
              "      width: 32px;\n",
              "    }\n",
              "\n",
              "    .colab-df-convert:hover {\n",
              "      background-color: #E2EBFA;\n",
              "      box-shadow: 0px 1px 2px rgba(60, 64, 67, 0.3), 0px 1px 3px 1px rgba(60, 64, 67, 0.15);\n",
              "      fill: #174EA6;\n",
              "    }\n",
              "\n",
              "    [theme=dark] .colab-df-convert {\n",
              "      background-color: #3B4455;\n",
              "      fill: #D2E3FC;\n",
              "    }\n",
              "\n",
              "    [theme=dark] .colab-df-convert:hover {\n",
              "      background-color: #434B5C;\n",
              "      box-shadow: 0px 1px 3px 1px rgba(0, 0, 0, 0.15);\n",
              "      filter: drop-shadow(0px 1px 2px rgba(0, 0, 0, 0.3));\n",
              "      fill: #FFFFFF;\n",
              "    }\n",
              "  </style>\n",
              "\n",
              "      <script>\n",
              "        const buttonEl =\n",
              "          document.querySelector('#df-ea98335f-b056-40b2-82f6-32f0b8ef29f9 button.colab-df-convert');\n",
              "        buttonEl.style.display =\n",
              "          google.colab.kernel.accessAllowed ? 'block' : 'none';\n",
              "\n",
              "        async function convertToInteractive(key) {\n",
              "          const element = document.querySelector('#df-ea98335f-b056-40b2-82f6-32f0b8ef29f9');\n",
              "          const dataTable =\n",
              "            await google.colab.kernel.invokeFunction('convertToInteractive',\n",
              "                                                     [key], {});\n",
              "          if (!dataTable) return;\n",
              "\n",
              "          const docLinkHtml = 'Like what you see? Visit the ' +\n",
              "            '<a target=\"_blank\" href=https://colab.research.google.com/notebooks/data_table.ipynb>data table notebook</a>'\n",
              "            + ' to learn more about interactive tables.';\n",
              "          element.innerHTML = '';\n",
              "          dataTable['output_type'] = 'display_data';\n",
              "          await google.colab.output.renderOutput(dataTable, element);\n",
              "          const docLink = document.createElement('div');\n",
              "          docLink.innerHTML = docLinkHtml;\n",
              "          element.appendChild(docLink);\n",
              "        }\n",
              "      </script>\n",
              "    </div>\n",
              "  </div>\n",
              "  "
            ]
          },
          "metadata": {},
          "execution_count": 320
        }
      ],
      "source": [
        "test.head()"
      ]
    },
    {
      "cell_type": "code",
      "source": [
        "from sklearn.preprocessing import StandardScaler\n",
        "scaler = StandardScaler()\n",
        "NYC_test[['pickup_latitude', 'pickup_longitude', 'dropoff_latitude', 'dropoff_longitude','Year','Month','Distance','Hour','passenger_count','week_day','Day_of_month','Week']] = scaler.fit_transform(NYC_test[['pickup_latitude', 'pickup_longitude', 'dropoff_latitude', 'dropoff_longitude','Year','Month','Distance','Hour','passenger_count','week_day','Day_of_month','Week']])"
      ],
      "metadata": {
        "id": "uf1GCuwcyQ6-"
      },
      "execution_count": null,
      "outputs": []
    },
    {
      "cell_type": "markdown",
      "metadata": {
        "id": "sGLOJ2w1_ZJk"
      },
      "source": [
        "# Neural Network"
      ]
    },
    {
      "cell_type": "code",
      "execution_count": null,
      "metadata": {
        "id": "VEt_YSwmUkbU"
      },
      "outputs": [],
      "source": [
        "df = train[['pickup_longitude','dropoff_longitude','pickup_latitude','dropoff_latitude','passenger_count','Year','Week','week_day','Hour','Month','Distance','Day_of_month']].copy().astype(float)"
      ]
    },
    {
      "cell_type": "code",
      "execution_count": null,
      "metadata": {
        "id": "C53JN_IVLljn"
      },
      "outputs": [],
      "source": [
        "df=train.drop(\"fare_amount\",axis=1)"
      ]
    },
    {
      "cell_type": "code",
      "execution_count": null,
      "metadata": {
        "id": "gg7p-NM-UHg3"
      },
      "outputs": [],
      "source": [
        "y=train['fare_amount'].copy()"
      ]
    },
    {
      "cell_type": "code",
      "source": [
        "df.head()"
      ],
      "metadata": {
        "colab": {
          "base_uri": "https://localhost:8080/",
          "height": 250
        },
        "id": "5NOE6PAleNRD",
        "outputId": "cfd4f40a-7e76-46a8-9fa8-642ce04e2351"
      },
      "execution_count": null,
      "outputs": [
        {
          "output_type": "execute_result",
          "data": {
            "text/plain": [
              "   pickup_longitude  pickup_latitude  dropoff_longitude  dropoff_latitude  \\\n",
              "0          3.390636        -1.007170           3.512777         -1.195810   \n",
              "1         -1.061899        -1.345765          -0.134079          0.932715   \n",
              "2         -0.198288         0.343393          -0.451296         -0.027115   \n",
              "3         -0.312157        -0.607454          -0.459906          0.202753   \n",
              "4          0.181354         0.571175           0.464988          0.986381   \n",
              "\n",
              "   passenger_count      Hour  week_day  Day_of_month      Week     Month  \\\n",
              "0        -0.529065  0.536072 -1.558900     -0.079732 -0.031513 -0.078833   \n",
              "1        -0.529065  0.382506 -1.046031     -1.231497 -1.636648 -1.533415   \n",
              "2         0.236527 -2.074546 -0.020294      0.265797  0.503532  0.503000   \n",
              "3        -0.529065 -1.460283  1.005444      0.611326 -0.633439 -0.660666   \n",
              "4        -0.529065 -0.999585 -1.046031     -0.770791 -1.034723 -0.951582   \n",
              "\n",
              "       Year  Distance  \n",
              "0 -1.468136 -0.606562  \n",
              "1 -0.932315  1.302363  \n",
              "2 -0.396493 -0.514257  \n",
              "3  0.139329 -0.151544  \n",
              "4 -0.932315 -0.357405  "
            ],
            "text/html": [
              "\n",
              "  <div id=\"df-c1703783-6779-4966-849b-6472071b1b6e\">\n",
              "    <div class=\"colab-df-container\">\n",
              "      <div>\n",
              "<style scoped>\n",
              "    .dataframe tbody tr th:only-of-type {\n",
              "        vertical-align: middle;\n",
              "    }\n",
              "\n",
              "    .dataframe tbody tr th {\n",
              "        vertical-align: top;\n",
              "    }\n",
              "\n",
              "    .dataframe thead th {\n",
              "        text-align: right;\n",
              "    }\n",
              "</style>\n",
              "<table border=\"1\" class=\"dataframe\">\n",
              "  <thead>\n",
              "    <tr style=\"text-align: right;\">\n",
              "      <th></th>\n",
              "      <th>pickup_longitude</th>\n",
              "      <th>pickup_latitude</th>\n",
              "      <th>dropoff_longitude</th>\n",
              "      <th>dropoff_latitude</th>\n",
              "      <th>passenger_count</th>\n",
              "      <th>Hour</th>\n",
              "      <th>week_day</th>\n",
              "      <th>Day_of_month</th>\n",
              "      <th>Week</th>\n",
              "      <th>Month</th>\n",
              "      <th>Year</th>\n",
              "      <th>Distance</th>\n",
              "    </tr>\n",
              "  </thead>\n",
              "  <tbody>\n",
              "    <tr>\n",
              "      <th>0</th>\n",
              "      <td>3.390636</td>\n",
              "      <td>-1.007170</td>\n",
              "      <td>3.512777</td>\n",
              "      <td>-1.195810</td>\n",
              "      <td>-0.529065</td>\n",
              "      <td>0.536072</td>\n",
              "      <td>-1.558900</td>\n",
              "      <td>-0.079732</td>\n",
              "      <td>-0.031513</td>\n",
              "      <td>-0.078833</td>\n",
              "      <td>-1.468136</td>\n",
              "      <td>-0.606562</td>\n",
              "    </tr>\n",
              "    <tr>\n",
              "      <th>1</th>\n",
              "      <td>-1.061899</td>\n",
              "      <td>-1.345765</td>\n",
              "      <td>-0.134079</td>\n",
              "      <td>0.932715</td>\n",
              "      <td>-0.529065</td>\n",
              "      <td>0.382506</td>\n",
              "      <td>-1.046031</td>\n",
              "      <td>-1.231497</td>\n",
              "      <td>-1.636648</td>\n",
              "      <td>-1.533415</td>\n",
              "      <td>-0.932315</td>\n",
              "      <td>1.302363</td>\n",
              "    </tr>\n",
              "    <tr>\n",
              "      <th>2</th>\n",
              "      <td>-0.198288</td>\n",
              "      <td>0.343393</td>\n",
              "      <td>-0.451296</td>\n",
              "      <td>-0.027115</td>\n",
              "      <td>0.236527</td>\n",
              "      <td>-2.074546</td>\n",
              "      <td>-0.020294</td>\n",
              "      <td>0.265797</td>\n",
              "      <td>0.503532</td>\n",
              "      <td>0.503000</td>\n",
              "      <td>-0.396493</td>\n",
              "      <td>-0.514257</td>\n",
              "    </tr>\n",
              "    <tr>\n",
              "      <th>3</th>\n",
              "      <td>-0.312157</td>\n",
              "      <td>-0.607454</td>\n",
              "      <td>-0.459906</td>\n",
              "      <td>0.202753</td>\n",
              "      <td>-0.529065</td>\n",
              "      <td>-1.460283</td>\n",
              "      <td>1.005444</td>\n",
              "      <td>0.611326</td>\n",
              "      <td>-0.633439</td>\n",
              "      <td>-0.660666</td>\n",
              "      <td>0.139329</td>\n",
              "      <td>-0.151544</td>\n",
              "    </tr>\n",
              "    <tr>\n",
              "      <th>4</th>\n",
              "      <td>0.181354</td>\n",
              "      <td>0.571175</td>\n",
              "      <td>0.464988</td>\n",
              "      <td>0.986381</td>\n",
              "      <td>-0.529065</td>\n",
              "      <td>-0.999585</td>\n",
              "      <td>-1.046031</td>\n",
              "      <td>-0.770791</td>\n",
              "      <td>-1.034723</td>\n",
              "      <td>-0.951582</td>\n",
              "      <td>-0.932315</td>\n",
              "      <td>-0.357405</td>\n",
              "    </tr>\n",
              "  </tbody>\n",
              "</table>\n",
              "</div>\n",
              "      <button class=\"colab-df-convert\" onclick=\"convertToInteractive('df-c1703783-6779-4966-849b-6472071b1b6e')\"\n",
              "              title=\"Convert this dataframe to an interactive table.\"\n",
              "              style=\"display:none;\">\n",
              "        \n",
              "  <svg xmlns=\"http://www.w3.org/2000/svg\" height=\"24px\"viewBox=\"0 0 24 24\"\n",
              "       width=\"24px\">\n",
              "    <path d=\"M0 0h24v24H0V0z\" fill=\"none\"/>\n",
              "    <path d=\"M18.56 5.44l.94 2.06.94-2.06 2.06-.94-2.06-.94-.94-2.06-.94 2.06-2.06.94zm-11 1L8.5 8.5l.94-2.06 2.06-.94-2.06-.94L8.5 2.5l-.94 2.06-2.06.94zm10 10l.94 2.06.94-2.06 2.06-.94-2.06-.94-.94-2.06-.94 2.06-2.06.94z\"/><path d=\"M17.41 7.96l-1.37-1.37c-.4-.4-.92-.59-1.43-.59-.52 0-1.04.2-1.43.59L10.3 9.45l-7.72 7.72c-.78.78-.78 2.05 0 2.83L4 21.41c.39.39.9.59 1.41.59.51 0 1.02-.2 1.41-.59l7.78-7.78 2.81-2.81c.8-.78.8-2.07 0-2.86zM5.41 20L4 18.59l7.72-7.72 1.47 1.35L5.41 20z\"/>\n",
              "  </svg>\n",
              "      </button>\n",
              "      \n",
              "  <style>\n",
              "    .colab-df-container {\n",
              "      display:flex;\n",
              "      flex-wrap:wrap;\n",
              "      gap: 12px;\n",
              "    }\n",
              "\n",
              "    .colab-df-convert {\n",
              "      background-color: #E8F0FE;\n",
              "      border: none;\n",
              "      border-radius: 50%;\n",
              "      cursor: pointer;\n",
              "      display: none;\n",
              "      fill: #1967D2;\n",
              "      height: 32px;\n",
              "      padding: 0 0 0 0;\n",
              "      width: 32px;\n",
              "    }\n",
              "\n",
              "    .colab-df-convert:hover {\n",
              "      background-color: #E2EBFA;\n",
              "      box-shadow: 0px 1px 2px rgba(60, 64, 67, 0.3), 0px 1px 3px 1px rgba(60, 64, 67, 0.15);\n",
              "      fill: #174EA6;\n",
              "    }\n",
              "\n",
              "    [theme=dark] .colab-df-convert {\n",
              "      background-color: #3B4455;\n",
              "      fill: #D2E3FC;\n",
              "    }\n",
              "\n",
              "    [theme=dark] .colab-df-convert:hover {\n",
              "      background-color: #434B5C;\n",
              "      box-shadow: 0px 1px 3px 1px rgba(0, 0, 0, 0.15);\n",
              "      filter: drop-shadow(0px 1px 2px rgba(0, 0, 0, 0.3));\n",
              "      fill: #FFFFFF;\n",
              "    }\n",
              "  </style>\n",
              "\n",
              "      <script>\n",
              "        const buttonEl =\n",
              "          document.querySelector('#df-c1703783-6779-4966-849b-6472071b1b6e button.colab-df-convert');\n",
              "        buttonEl.style.display =\n",
              "          google.colab.kernel.accessAllowed ? 'block' : 'none';\n",
              "\n",
              "        async function convertToInteractive(key) {\n",
              "          const element = document.querySelector('#df-c1703783-6779-4966-849b-6472071b1b6e');\n",
              "          const dataTable =\n",
              "            await google.colab.kernel.invokeFunction('convertToInteractive',\n",
              "                                                     [key], {});\n",
              "          if (!dataTable) return;\n",
              "\n",
              "          const docLinkHtml = 'Like what you see? Visit the ' +\n",
              "            '<a target=\"_blank\" href=https://colab.research.google.com/notebooks/data_table.ipynb>data table notebook</a>'\n",
              "            + ' to learn more about interactive tables.';\n",
              "          element.innerHTML = '';\n",
              "          dataTable['output_type'] = 'display_data';\n",
              "          await google.colab.output.renderOutput(dataTable, element);\n",
              "          const docLink = document.createElement('div');\n",
              "          docLink.innerHTML = docLinkHtml;\n",
              "          element.appendChild(docLink);\n",
              "        }\n",
              "      </script>\n",
              "    </div>\n",
              "  </div>\n",
              "  "
            ]
          },
          "metadata": {},
          "execution_count": 326
        }
      ]
    },
    {
      "cell_type": "code",
      "source": [
        "y.head()"
      ],
      "metadata": {
        "colab": {
          "base_uri": "https://localhost:8080/"
        },
        "id": "NltUq8MQeTUJ",
        "outputId": "e8ce70b5-9687-4bca-b51c-354c97789508"
      },
      "execution_count": null,
      "outputs": [
        {
          "output_type": "execute_result",
          "data": {
            "text/plain": [
              "0     4.5\n",
              "1    16.9\n",
              "2     5.7\n",
              "3     7.7\n",
              "4     5.3\n",
              "Name: fare_amount, dtype: float64"
            ]
          },
          "metadata": {},
          "execution_count": 327
        }
      ]
    },
    {
      "cell_type": "code",
      "execution_count": null,
      "metadata": {
        "id": "7WHBYe-uTIY2"
      },
      "outputs": [],
      "source": [
        "from sklearn.model_selection import train_test_split\n",
        "X_train, X_test, Y_train, y_test = train_test_split(df, y, test_size = 0.2, random_state = 0)"
      ]
    },
    {
      "cell_type": "code",
      "source": [
        "X_train.head()\n"
      ],
      "metadata": {
        "colab": {
          "base_uri": "https://localhost:8080/",
          "height": 270
        },
        "id": "3ajOaUffeXgF",
        "outputId": "ffdd5839-2dfc-4d39-f0b4-59bece5386d0"
      },
      "execution_count": null,
      "outputs": [
        {
          "output_type": "execute_result",
          "data": {
            "text/plain": [
              "        pickup_longitude  pickup_latitude  dropoff_longitude  \\\n",
              "323601         -0.428204         0.119162          -0.112620   \n",
              "374993         -0.178117         0.743245          -0.336320   \n",
              "25413          -0.745777        -0.308106          -0.239756   \n",
              "7916           -0.851427        -0.936246          -1.018440   \n",
              "615301         -0.338913         0.602073          -0.549529   \n",
              "\n",
              "        dropoff_latitude  passenger_count      Hour  week_day  Day_of_month  \\\n",
              "323601          1.146648        -0.529065  0.996770 -1.046031      1.417561   \n",
              "374993          0.600550        -0.529065  0.536072 -0.020294     -1.692203   \n",
              "25413          -0.646110         0.236527  1.457467  1.005444      1.532738   \n",
              "7916           -1.355252         2.533303 -0.538888  0.492575      0.035444   \n",
              "615301         -0.041676         1.002119  1.150335  1.005444     -0.079732   \n",
              "\n",
              "            Week     Month      Year  Distance  \n",
              "323601 -0.232155 -0.369750  0.675151  0.152104  \n",
              "374993  0.369771  0.503000  0.675151 -0.750699  \n",
              "25413   0.904816  0.793916  0.139329 -0.313489  \n",
              "7916    0.169129  0.212083 -0.932315 -0.392603  \n",
              "615301 -0.967842 -0.951582  1.210972 -0.313139  "
            ],
            "text/html": [
              "\n",
              "  <div id=\"df-9e7e6f5c-22f1-421d-8c83-47ebce0e34fd\">\n",
              "    <div class=\"colab-df-container\">\n",
              "      <div>\n",
              "<style scoped>\n",
              "    .dataframe tbody tr th:only-of-type {\n",
              "        vertical-align: middle;\n",
              "    }\n",
              "\n",
              "    .dataframe tbody tr th {\n",
              "        vertical-align: top;\n",
              "    }\n",
              "\n",
              "    .dataframe thead th {\n",
              "        text-align: right;\n",
              "    }\n",
              "</style>\n",
              "<table border=\"1\" class=\"dataframe\">\n",
              "  <thead>\n",
              "    <tr style=\"text-align: right;\">\n",
              "      <th></th>\n",
              "      <th>pickup_longitude</th>\n",
              "      <th>pickup_latitude</th>\n",
              "      <th>dropoff_longitude</th>\n",
              "      <th>dropoff_latitude</th>\n",
              "      <th>passenger_count</th>\n",
              "      <th>Hour</th>\n",
              "      <th>week_day</th>\n",
              "      <th>Day_of_month</th>\n",
              "      <th>Week</th>\n",
              "      <th>Month</th>\n",
              "      <th>Year</th>\n",
              "      <th>Distance</th>\n",
              "    </tr>\n",
              "  </thead>\n",
              "  <tbody>\n",
              "    <tr>\n",
              "      <th>323601</th>\n",
              "      <td>-0.428204</td>\n",
              "      <td>0.119162</td>\n",
              "      <td>-0.112620</td>\n",
              "      <td>1.146648</td>\n",
              "      <td>-0.529065</td>\n",
              "      <td>0.996770</td>\n",
              "      <td>-1.046031</td>\n",
              "      <td>1.417561</td>\n",
              "      <td>-0.232155</td>\n",
              "      <td>-0.369750</td>\n",
              "      <td>0.675151</td>\n",
              "      <td>0.152104</td>\n",
              "    </tr>\n",
              "    <tr>\n",
              "      <th>374993</th>\n",
              "      <td>-0.178117</td>\n",
              "      <td>0.743245</td>\n",
              "      <td>-0.336320</td>\n",
              "      <td>0.600550</td>\n",
              "      <td>-0.529065</td>\n",
              "      <td>0.536072</td>\n",
              "      <td>-0.020294</td>\n",
              "      <td>-1.692203</td>\n",
              "      <td>0.369771</td>\n",
              "      <td>0.503000</td>\n",
              "      <td>0.675151</td>\n",
              "      <td>-0.750699</td>\n",
              "    </tr>\n",
              "    <tr>\n",
              "      <th>25413</th>\n",
              "      <td>-0.745777</td>\n",
              "      <td>-0.308106</td>\n",
              "      <td>-0.239756</td>\n",
              "      <td>-0.646110</td>\n",
              "      <td>0.236527</td>\n",
              "      <td>1.457467</td>\n",
              "      <td>1.005444</td>\n",
              "      <td>1.532738</td>\n",
              "      <td>0.904816</td>\n",
              "      <td>0.793916</td>\n",
              "      <td>0.139329</td>\n",
              "      <td>-0.313489</td>\n",
              "    </tr>\n",
              "    <tr>\n",
              "      <th>7916</th>\n",
              "      <td>-0.851427</td>\n",
              "      <td>-0.936246</td>\n",
              "      <td>-1.018440</td>\n",
              "      <td>-1.355252</td>\n",
              "      <td>2.533303</td>\n",
              "      <td>-0.538888</td>\n",
              "      <td>0.492575</td>\n",
              "      <td>0.035444</td>\n",
              "      <td>0.169129</td>\n",
              "      <td>0.212083</td>\n",
              "      <td>-0.932315</td>\n",
              "      <td>-0.392603</td>\n",
              "    </tr>\n",
              "    <tr>\n",
              "      <th>615301</th>\n",
              "      <td>-0.338913</td>\n",
              "      <td>0.602073</td>\n",
              "      <td>-0.549529</td>\n",
              "      <td>-0.041676</td>\n",
              "      <td>1.002119</td>\n",
              "      <td>1.150335</td>\n",
              "      <td>1.005444</td>\n",
              "      <td>-0.079732</td>\n",
              "      <td>-0.967842</td>\n",
              "      <td>-0.951582</td>\n",
              "      <td>1.210972</td>\n",
              "      <td>-0.313139</td>\n",
              "    </tr>\n",
              "  </tbody>\n",
              "</table>\n",
              "</div>\n",
              "      <button class=\"colab-df-convert\" onclick=\"convertToInteractive('df-9e7e6f5c-22f1-421d-8c83-47ebce0e34fd')\"\n",
              "              title=\"Convert this dataframe to an interactive table.\"\n",
              "              style=\"display:none;\">\n",
              "        \n",
              "  <svg xmlns=\"http://www.w3.org/2000/svg\" height=\"24px\"viewBox=\"0 0 24 24\"\n",
              "       width=\"24px\">\n",
              "    <path d=\"M0 0h24v24H0V0z\" fill=\"none\"/>\n",
              "    <path d=\"M18.56 5.44l.94 2.06.94-2.06 2.06-.94-2.06-.94-.94-2.06-.94 2.06-2.06.94zm-11 1L8.5 8.5l.94-2.06 2.06-.94-2.06-.94L8.5 2.5l-.94 2.06-2.06.94zm10 10l.94 2.06.94-2.06 2.06-.94-2.06-.94-.94-2.06-.94 2.06-2.06.94z\"/><path d=\"M17.41 7.96l-1.37-1.37c-.4-.4-.92-.59-1.43-.59-.52 0-1.04.2-1.43.59L10.3 9.45l-7.72 7.72c-.78.78-.78 2.05 0 2.83L4 21.41c.39.39.9.59 1.41.59.51 0 1.02-.2 1.41-.59l7.78-7.78 2.81-2.81c.8-.78.8-2.07 0-2.86zM5.41 20L4 18.59l7.72-7.72 1.47 1.35L5.41 20z\"/>\n",
              "  </svg>\n",
              "      </button>\n",
              "      \n",
              "  <style>\n",
              "    .colab-df-container {\n",
              "      display:flex;\n",
              "      flex-wrap:wrap;\n",
              "      gap: 12px;\n",
              "    }\n",
              "\n",
              "    .colab-df-convert {\n",
              "      background-color: #E8F0FE;\n",
              "      border: none;\n",
              "      border-radius: 50%;\n",
              "      cursor: pointer;\n",
              "      display: none;\n",
              "      fill: #1967D2;\n",
              "      height: 32px;\n",
              "      padding: 0 0 0 0;\n",
              "      width: 32px;\n",
              "    }\n",
              "\n",
              "    .colab-df-convert:hover {\n",
              "      background-color: #E2EBFA;\n",
              "      box-shadow: 0px 1px 2px rgba(60, 64, 67, 0.3), 0px 1px 3px 1px rgba(60, 64, 67, 0.15);\n",
              "      fill: #174EA6;\n",
              "    }\n",
              "\n",
              "    [theme=dark] .colab-df-convert {\n",
              "      background-color: #3B4455;\n",
              "      fill: #D2E3FC;\n",
              "    }\n",
              "\n",
              "    [theme=dark] .colab-df-convert:hover {\n",
              "      background-color: #434B5C;\n",
              "      box-shadow: 0px 1px 3px 1px rgba(0, 0, 0, 0.15);\n",
              "      filter: drop-shadow(0px 1px 2px rgba(0, 0, 0, 0.3));\n",
              "      fill: #FFFFFF;\n",
              "    }\n",
              "  </style>\n",
              "\n",
              "      <script>\n",
              "        const buttonEl =\n",
              "          document.querySelector('#df-9e7e6f5c-22f1-421d-8c83-47ebce0e34fd button.colab-df-convert');\n",
              "        buttonEl.style.display =\n",
              "          google.colab.kernel.accessAllowed ? 'block' : 'none';\n",
              "\n",
              "        async function convertToInteractive(key) {\n",
              "          const element = document.querySelector('#df-9e7e6f5c-22f1-421d-8c83-47ebce0e34fd');\n",
              "          const dataTable =\n",
              "            await google.colab.kernel.invokeFunction('convertToInteractive',\n",
              "                                                     [key], {});\n",
              "          if (!dataTable) return;\n",
              "\n",
              "          const docLinkHtml = 'Like what you see? Visit the ' +\n",
              "            '<a target=\"_blank\" href=https://colab.research.google.com/notebooks/data_table.ipynb>data table notebook</a>'\n",
              "            + ' to learn more about interactive tables.';\n",
              "          element.innerHTML = '';\n",
              "          dataTable['output_type'] = 'display_data';\n",
              "          await google.colab.output.renderOutput(dataTable, element);\n",
              "          const docLink = document.createElement('div');\n",
              "          docLink.innerHTML = docLinkHtml;\n",
              "          element.appendChild(docLink);\n",
              "        }\n",
              "      </script>\n",
              "    </div>\n",
              "  </div>\n",
              "  "
            ]
          },
          "metadata": {},
          "execution_count": 329
        }
      ]
    },
    {
      "cell_type": "code",
      "source": [
        "X_train.shape"
      ],
      "metadata": {
        "colab": {
          "base_uri": "https://localhost:8080/"
        },
        "id": "b58Zwc86iRax",
        "outputId": "4a18acaa-c7fa-4237-94a4-02a364a9a3a2"
      },
      "execution_count": null,
      "outputs": [
        {
          "output_type": "execute_result",
          "data": {
            "text/plain": [
              "(780409, 12)"
            ]
          },
          "metadata": {},
          "execution_count": 330
        }
      ]
    },
    {
      "cell_type": "code",
      "source": [
        "X_test.head()"
      ],
      "metadata": {
        "colab": {
          "base_uri": "https://localhost:8080/",
          "height": 270
        },
        "id": "91eDUvPiexfc",
        "outputId": "d68e99f1-31ae-4e5f-e307-54412c342ea8"
      },
      "execution_count": null,
      "outputs": [
        {
          "output_type": "execute_result",
          "data": {
            "text/plain": [
              "        pickup_longitude  pickup_latitude  dropoff_longitude  \\\n",
              "799179         -0.150687         1.038164          -0.790157   \n",
              "971369          0.268674         1.366449          -0.434473   \n",
              "184583         -0.412000        -0.035228          -0.399795   \n",
              "60587           0.211765         1.788916          -0.085863   \n",
              "562985          0.516272         0.956760          -1.074047   \n",
              "\n",
              "        dropoff_latitude  passenger_count      Hour  week_day  Day_of_month  \\\n",
              "799179         -0.264309        -0.529065  1.303901  1.005444      0.726503   \n",
              "971369          0.301630         0.236527  0.382506  1.518313      1.302385   \n",
              "184583          0.094718         0.236527  0.996770  1.005444     -1.116320   \n",
              "60587           1.096156         1.767711 -0.078191  1.518313     -0.194909   \n",
              "562985         -1.321520        -0.529065 -2.074546 -1.558900     -1.001144   \n",
              "\n",
              "            Week     Month      Year  Distance  \n",
              "799179  0.837935  0.793916  0.139329  0.352192  \n",
              "971369 -1.168484 -1.242499 -0.396493  0.158263  \n",
              "184583 -1.369126 -1.242499 -0.932315 -0.738426  \n",
              "60587  -1.034723 -0.951582 -0.932315 -0.343110  \n",
              "562985  0.169129  0.212083  1.210972  1.541303  "
            ],
            "text/html": [
              "\n",
              "  <div id=\"df-208d0174-275d-4426-9664-efe8d881c967\">\n",
              "    <div class=\"colab-df-container\">\n",
              "      <div>\n",
              "<style scoped>\n",
              "    .dataframe tbody tr th:only-of-type {\n",
              "        vertical-align: middle;\n",
              "    }\n",
              "\n",
              "    .dataframe tbody tr th {\n",
              "        vertical-align: top;\n",
              "    }\n",
              "\n",
              "    .dataframe thead th {\n",
              "        text-align: right;\n",
              "    }\n",
              "</style>\n",
              "<table border=\"1\" class=\"dataframe\">\n",
              "  <thead>\n",
              "    <tr style=\"text-align: right;\">\n",
              "      <th></th>\n",
              "      <th>pickup_longitude</th>\n",
              "      <th>pickup_latitude</th>\n",
              "      <th>dropoff_longitude</th>\n",
              "      <th>dropoff_latitude</th>\n",
              "      <th>passenger_count</th>\n",
              "      <th>Hour</th>\n",
              "      <th>week_day</th>\n",
              "      <th>Day_of_month</th>\n",
              "      <th>Week</th>\n",
              "      <th>Month</th>\n",
              "      <th>Year</th>\n",
              "      <th>Distance</th>\n",
              "    </tr>\n",
              "  </thead>\n",
              "  <tbody>\n",
              "    <tr>\n",
              "      <th>799179</th>\n",
              "      <td>-0.150687</td>\n",
              "      <td>1.038164</td>\n",
              "      <td>-0.790157</td>\n",
              "      <td>-0.264309</td>\n",
              "      <td>-0.529065</td>\n",
              "      <td>1.303901</td>\n",
              "      <td>1.005444</td>\n",
              "      <td>0.726503</td>\n",
              "      <td>0.837935</td>\n",
              "      <td>0.793916</td>\n",
              "      <td>0.139329</td>\n",
              "      <td>0.352192</td>\n",
              "    </tr>\n",
              "    <tr>\n",
              "      <th>971369</th>\n",
              "      <td>0.268674</td>\n",
              "      <td>1.366449</td>\n",
              "      <td>-0.434473</td>\n",
              "      <td>0.301630</td>\n",
              "      <td>0.236527</td>\n",
              "      <td>0.382506</td>\n",
              "      <td>1.518313</td>\n",
              "      <td>1.302385</td>\n",
              "      <td>-1.168484</td>\n",
              "      <td>-1.242499</td>\n",
              "      <td>-0.396493</td>\n",
              "      <td>0.158263</td>\n",
              "    </tr>\n",
              "    <tr>\n",
              "      <th>184583</th>\n",
              "      <td>-0.412000</td>\n",
              "      <td>-0.035228</td>\n",
              "      <td>-0.399795</td>\n",
              "      <td>0.094718</td>\n",
              "      <td>0.236527</td>\n",
              "      <td>0.996770</td>\n",
              "      <td>1.005444</td>\n",
              "      <td>-1.116320</td>\n",
              "      <td>-1.369126</td>\n",
              "      <td>-1.242499</td>\n",
              "      <td>-0.932315</td>\n",
              "      <td>-0.738426</td>\n",
              "    </tr>\n",
              "    <tr>\n",
              "      <th>60587</th>\n",
              "      <td>0.211765</td>\n",
              "      <td>1.788916</td>\n",
              "      <td>-0.085863</td>\n",
              "      <td>1.096156</td>\n",
              "      <td>1.767711</td>\n",
              "      <td>-0.078191</td>\n",
              "      <td>1.518313</td>\n",
              "      <td>-0.194909</td>\n",
              "      <td>-1.034723</td>\n",
              "      <td>-0.951582</td>\n",
              "      <td>-0.932315</td>\n",
              "      <td>-0.343110</td>\n",
              "    </tr>\n",
              "    <tr>\n",
              "      <th>562985</th>\n",
              "      <td>0.516272</td>\n",
              "      <td>0.956760</td>\n",
              "      <td>-1.074047</td>\n",
              "      <td>-1.321520</td>\n",
              "      <td>-0.529065</td>\n",
              "      <td>-2.074546</td>\n",
              "      <td>-1.558900</td>\n",
              "      <td>-1.001144</td>\n",
              "      <td>0.169129</td>\n",
              "      <td>0.212083</td>\n",
              "      <td>1.210972</td>\n",
              "      <td>1.541303</td>\n",
              "    </tr>\n",
              "  </tbody>\n",
              "</table>\n",
              "</div>\n",
              "      <button class=\"colab-df-convert\" onclick=\"convertToInteractive('df-208d0174-275d-4426-9664-efe8d881c967')\"\n",
              "              title=\"Convert this dataframe to an interactive table.\"\n",
              "              style=\"display:none;\">\n",
              "        \n",
              "  <svg xmlns=\"http://www.w3.org/2000/svg\" height=\"24px\"viewBox=\"0 0 24 24\"\n",
              "       width=\"24px\">\n",
              "    <path d=\"M0 0h24v24H0V0z\" fill=\"none\"/>\n",
              "    <path d=\"M18.56 5.44l.94 2.06.94-2.06 2.06-.94-2.06-.94-.94-2.06-.94 2.06-2.06.94zm-11 1L8.5 8.5l.94-2.06 2.06-.94-2.06-.94L8.5 2.5l-.94 2.06-2.06.94zm10 10l.94 2.06.94-2.06 2.06-.94-2.06-.94-.94-2.06-.94 2.06-2.06.94z\"/><path d=\"M17.41 7.96l-1.37-1.37c-.4-.4-.92-.59-1.43-.59-.52 0-1.04.2-1.43.59L10.3 9.45l-7.72 7.72c-.78.78-.78 2.05 0 2.83L4 21.41c.39.39.9.59 1.41.59.51 0 1.02-.2 1.41-.59l7.78-7.78 2.81-2.81c.8-.78.8-2.07 0-2.86zM5.41 20L4 18.59l7.72-7.72 1.47 1.35L5.41 20z\"/>\n",
              "  </svg>\n",
              "      </button>\n",
              "      \n",
              "  <style>\n",
              "    .colab-df-container {\n",
              "      display:flex;\n",
              "      flex-wrap:wrap;\n",
              "      gap: 12px;\n",
              "    }\n",
              "\n",
              "    .colab-df-convert {\n",
              "      background-color: #E8F0FE;\n",
              "      border: none;\n",
              "      border-radius: 50%;\n",
              "      cursor: pointer;\n",
              "      display: none;\n",
              "      fill: #1967D2;\n",
              "      height: 32px;\n",
              "      padding: 0 0 0 0;\n",
              "      width: 32px;\n",
              "    }\n",
              "\n",
              "    .colab-df-convert:hover {\n",
              "      background-color: #E2EBFA;\n",
              "      box-shadow: 0px 1px 2px rgba(60, 64, 67, 0.3), 0px 1px 3px 1px rgba(60, 64, 67, 0.15);\n",
              "      fill: #174EA6;\n",
              "    }\n",
              "\n",
              "    [theme=dark] .colab-df-convert {\n",
              "      background-color: #3B4455;\n",
              "      fill: #D2E3FC;\n",
              "    }\n",
              "\n",
              "    [theme=dark] .colab-df-convert:hover {\n",
              "      background-color: #434B5C;\n",
              "      box-shadow: 0px 1px 3px 1px rgba(0, 0, 0, 0.15);\n",
              "      filter: drop-shadow(0px 1px 2px rgba(0, 0, 0, 0.3));\n",
              "      fill: #FFFFFF;\n",
              "    }\n",
              "  </style>\n",
              "\n",
              "      <script>\n",
              "        const buttonEl =\n",
              "          document.querySelector('#df-208d0174-275d-4426-9664-efe8d881c967 button.colab-df-convert');\n",
              "        buttonEl.style.display =\n",
              "          google.colab.kernel.accessAllowed ? 'block' : 'none';\n",
              "\n",
              "        async function convertToInteractive(key) {\n",
              "          const element = document.querySelector('#df-208d0174-275d-4426-9664-efe8d881c967');\n",
              "          const dataTable =\n",
              "            await google.colab.kernel.invokeFunction('convertToInteractive',\n",
              "                                                     [key], {});\n",
              "          if (!dataTable) return;\n",
              "\n",
              "          const docLinkHtml = 'Like what you see? Visit the ' +\n",
              "            '<a target=\"_blank\" href=https://colab.research.google.com/notebooks/data_table.ipynb>data table notebook</a>'\n",
              "            + ' to learn more about interactive tables.';\n",
              "          element.innerHTML = '';\n",
              "          dataTable['output_type'] = 'display_data';\n",
              "          await google.colab.output.renderOutput(dataTable, element);\n",
              "          const docLink = document.createElement('div');\n",
              "          docLink.innerHTML = docLinkHtml;\n",
              "          element.appendChild(docLink);\n",
              "        }\n",
              "      </script>\n",
              "    </div>\n",
              "  </div>\n",
              "  "
            ]
          },
          "metadata": {},
          "execution_count": 331
        }
      ]
    },
    {
      "cell_type": "code",
      "source": [
        "X_test.shape"
      ],
      "metadata": {
        "colab": {
          "base_uri": "https://localhost:8080/"
        },
        "id": "vbHo_iLriU9q",
        "outputId": "23ae7e76-84a3-4990-eff8-5cc22bfe94a6"
      },
      "execution_count": null,
      "outputs": [
        {
          "output_type": "execute_result",
          "data": {
            "text/plain": [
              "(195103, 12)"
            ]
          },
          "metadata": {},
          "execution_count": 332
        }
      ]
    },
    {
      "cell_type": "code",
      "source": [
        "Y_train.head()"
      ],
      "metadata": {
        "colab": {
          "base_uri": "https://localhost:8080/"
        },
        "id": "urdxJ_PEe1oj",
        "outputId": "0e794e44-4a15-4d27-9fbc-33ac53db4b77"
      },
      "execution_count": null,
      "outputs": [
        {
          "output_type": "execute_result",
          "data": {
            "text/plain": [
              "323601    10.0\n",
              "374993     3.5\n",
              "25413     10.5\n",
              "7916       6.5\n",
              "615301     9.0\n",
              "Name: fare_amount, dtype: float64"
            ]
          },
          "metadata": {},
          "execution_count": 176
        }
      ]
    },
    {
      "cell_type": "code",
      "source": [
        "y_test.head()"
      ],
      "metadata": {
        "colab": {
          "base_uri": "https://localhost:8080/"
        },
        "id": "J5nBiXdpe4XK",
        "outputId": "97e8ab2a-b35c-4f86-daca-18adfb66d25b"
      },
      "execution_count": null,
      "outputs": [
        {
          "output_type": "execute_result",
          "data": {
            "text/plain": [
              "799179    11.5\n",
              "971369     8.5\n",
              "184583     4.9\n",
              "60587      6.1\n",
              "562985    24.0\n",
              "Name: fare_amount, dtype: float64"
            ]
          },
          "metadata": {},
          "execution_count": 177
        }
      ]
    },
    {
      "cell_type": "code",
      "execution_count": null,
      "metadata": {
        "id": "TTEdwmcNNvNV"
      },
      "outputs": [],
      "source": [
        "# Import required libraries\n",
        "import tensorflow as tf\n",
        "import pandas as pd\n",
        "import matplotlib.pyplot as plt"
      ]
    },
    {
      "cell_type": "code",
      "source": [
        "X_test=X_test.copy()\n",
        "y_test=y_test.copy()\n"
      ],
      "metadata": {
        "id": "abp9B-V8Ahhb"
      },
      "execution_count": null,
      "outputs": []
    },
    {
      "cell_type": "code",
      "execution_count": null,
      "metadata": {
        "id": "ATmdi-SENrYV"
      },
      "outputs": [],
      "source": [
        "x_train = tf.constant(X_train)\n",
        "y_train = tf.constant(Y_train)\n",
        "X_test = tf.constant(X_test)\n",
        "y_test = tf.constant(y_test)"
      ]
    },
    {
      "cell_type": "code",
      "execution_count": null,
      "metadata": {
        "id": "zVI5E1_sS9cH"
      },
      "outputs": [],
      "source": [
        "from keras.models import Sequential\n",
        "from keras.layers import Dense"
      ]
    },
    {
      "cell_type": "markdown",
      "source": [
        "code with the given dataset"
      ],
      "metadata": {
        "id": "qQBycJsY9FSO"
      }
    },
    {
      "cell_type": "code",
      "source": [
        "from sklearn.model_selection import train_test_split\n",
        "new_train, new_test, new_train_y, new_test_y= train_test_split(NYC_test, y, test_size = 0.2, random_state = 0)"
      ],
      "metadata": {
        "id": "gTtQBa2p9E7Y"
      },
      "execution_count": null,
      "outputs": []
    },
    {
      "cell_type": "code",
      "source": [
        "# Import required libraries\n",
        "import tensorflow as tf\n",
        "import pandas as pd\n",
        "import matplotlib.pyplot as plt"
      ],
      "metadata": {
        "id": "nbg-r3Gi9o1c"
      },
      "execution_count": null,
      "outputs": []
    },
    {
      "cell_type": "code",
      "source": [
        "new_train = tf.constant(new_train)\n",
        "new_train_y = tf.constant(new_train_y)\n",
        "new_test= tf.constant(new_test)\n",
        "new_test_y = tf.constant(new_test_y)"
      ],
      "metadata": {
        "id": "27ZA4n7a91Wl"
      },
      "execution_count": null,
      "outputs": []
    },
    {
      "cell_type": "markdown",
      "source": [
        "# Part 1"
      ],
      "metadata": {
        "id": "B4grNcBGanNy"
      }
    },
    {
      "cell_type": "markdown",
      "source": [
        "# A. Create a baseline Neural network with the following specifications.\n",
        "# 2 hidden layers, each with 16 and 8 neurons respectively. Sigmoid activation, Batch Size=128 for  Gradient Descent.\n"
      ],
      "metadata": {
        "id": "c3eY3FK_arj_"
      }
    },
    {
      "cell_type": "markdown",
      "source": [
        "**MAE**"
      ],
      "metadata": {
        "id": "WAhS0oQGqH8D"
      }
    },
    {
      "cell_type": "code",
      "execution_count": null,
      "metadata": {
        "id": "fKcyGLCnrX-6"
      },
      "outputs": [],
      "source": [
        "kerasmodel = Sequential()\n",
        "kerasmodel.add(Dense(16,input_dim= 12,activation='sigmoid'))\n",
        "kerasmodel.add(Dense(18,activation='sigmoid'))\n",
        "kerasmodel.add(Dense(1,activation='sigmoid'))"
      ]
    },
    {
      "cell_type": "code",
      "execution_count": null,
      "metadata": {
        "id": "ZU0qop454Uv0"
      },
      "outputs": [],
      "source": [
        "kerasmodel.compile(loss = tf.keras.losses.mae,\n",
        "                        optimizer = tf.keras.optimizers.Adam(learning_rate=0.0095),\n",
        "                        metrics = \"mae\"\n",
        "                        )"
      ]
    },
    {
      "cell_type": "code",
      "execution_count": null,
      "metadata": {
        "colab": {
          "base_uri": "https://localhost:8080/"
        },
        "id": "AQm_fc3-sewP",
        "outputId": "707ab827-2a78-4d30-8246-9f7530683323"
      },
      "outputs": [
        {
          "output_type": "stream",
          "name": "stdout",
          "text": [
            "Epoch 1/10\n",
            "6097/6097 [==============================] - 12s 2ms/step - loss: 10.3291 - mae: 10.3291\n",
            "Epoch 2/10\n",
            "6097/6097 [==============================] - 10s 2ms/step - loss: 10.3284 - mae: 10.3284\n",
            "Epoch 3/10\n",
            "6097/6097 [==============================] - 10s 2ms/step - loss: 10.3284 - mae: 10.3284\n",
            "Epoch 4/10\n",
            "6097/6097 [==============================] - 10s 2ms/step - loss: 10.3284 - mae: 10.3284\n",
            "Epoch 5/10\n",
            "6097/6097 [==============================] - 11s 2ms/step - loss: 10.3284 - mae: 10.3284\n",
            "Epoch 6/10\n",
            "6097/6097 [==============================] - 12s 2ms/step - loss: 10.3284 - mae: 10.3284\n",
            "Epoch 7/10\n",
            "6097/6097 [==============================] - 15s 2ms/step - loss: 10.3284 - mae: 10.3284\n",
            "Epoch 8/10\n",
            "6097/6097 [==============================] - 12s 2ms/step - loss: 10.3284 - mae: 10.3284\n",
            "Epoch 9/10\n",
            "6097/6097 [==============================] - 34s 6ms/step - loss: 10.3284 - mae: 10.3284\n",
            "Epoch 10/10\n",
            "6097/6097 [==============================] - 22s 4ms/step - loss: 10.3284 - mae: 10.3284\n"
          ]
        },
        {
          "output_type": "execute_result",
          "data": {
            "text/plain": [
              "<keras.callbacks.History at 0x7f684b8f68d0>"
            ]
          },
          "metadata": {},
          "execution_count": 86
        }
      ],
      "source": [
        "kerasmodel.fit(x_train,y_train,epochs=10,batch_size=128)"
      ]
    },
    {
      "cell_type": "code",
      "execution_count": null,
      "metadata": {
        "id": "6jTrmNoH1nRo"
      },
      "outputs": [],
      "source": [
        "#That’s why the more layers you add, the bigger the number of trainable parameters gets."
      ]
    },
    {
      "cell_type": "markdown",
      "source": [
        "The number of hidden neurons should be between the size of the input layer and the size of the output layer.\n",
        "The number of hidden neurons should be 2/3 the size of the input layer, plus the size of the output layer.\n",
        "The number of hidden neurons should be less than twice the size of the input layer."
      ],
      "metadata": {
        "id": "Ceh9NeBMuN2P"
      }
    },
    {
      "cell_type": "code",
      "source": [
        "def build_model(n_hidden=1, n_neurons=30, learning_rate=3e-3 ,input_shape=[12]):\n",
        "  model = Sequential()\n",
        "  options = {\"input_shape\": input_shape}\n",
        "  for layer in range(n_hidden):\n",
        "    model.add(Dense(n_neurons, activation=\"relu\", **options))\n",
        "    options = {}\n",
        "  model.add(Dense(1, **options))\n",
        "  optimizer = tf.keras.optimizers.SGD(learning_rate)\n",
        "  model.compile(loss=\"mse\", optimizer=optimizer,metrics='mse')\n",
        "  return model"
      ],
      "metadata": {
        "id": "b3mqI47QDQ-1"
      },
      "execution_count": null,
      "outputs": []
    },
    {
      "cell_type": "code",
      "source": [
        "from keras.wrappers.scikit_learn import KerasRegressor"
      ],
      "metadata": {
        "id": "H0pimRGyD4nA"
      },
      "execution_count": null,
      "outputs": []
    },
    {
      "cell_type": "code",
      "source": [
        "from keras.wrappers.scikit_learn import KerasRegressor\n",
        "keras_reg = KerasRegressor(build_model)"
      ],
      "metadata": {
        "id": "E_eIGymIDpsc"
      },
      "execution_count": null,
      "outputs": []
    },
    {
      "cell_type": "markdown",
      "source": [
        "Early Stopping"
      ],
      "metadata": {
        "id": "ofGxfk_cF_2O"
      }
    },
    {
      "cell_type": "code",
      "source": [
        "from keras.callbacks import EarlyStopping\n",
        "from keras.callbacks import EarlyStopping\n",
        "from scipy.stats import reciprocal\n",
        "from sklearn.model_selection import RandomizedSearchCV\n",
        "param_distribs = {\n",
        " \"n_hidden\": [0, 1, 2, 3],\n",
        " \"n_neurons\": np.arange(1, 100),\n",
        " \"learning_rate\": reciprocal(3e-4, 3e-2),\n",
        "}\n",
        "Rnd_search_cv = RandomizedSearchCV(keras_reg, param_distribs, n_iter=4, cv=3)\n",
        "Rnd_search_cv.fit(X_train, Y_train, epochs=5,\n",
        " validation_data=(a_test, b_test),\n",
        " callbacks=[EarlyStopping(patience=10)])"
      ],
      "metadata": {
        "id": "DhB7wa0qEsbU",
        "colab": {
          "base_uri": "https://localhost:8080/"
        },
        "outputId": "67bcccbd-ec35-4e73-ebb4-d7fcd8e16b2e"
      },
      "execution_count": null,
      "outputs": [
        {
          "output_type": "stream",
          "name": "stdout",
          "text": [
            "Epoch 1/5\n",
            "9919/9919 [==============================] - 51s 5ms/step - loss: 30.3147 - mse: 30.3147 - val_loss: 29.1817 - val_mse: 29.1817\n",
            "Epoch 2/5\n",
            "9919/9919 [==============================] - 27s 3ms/step - loss: 29.1186 - mse: 29.1186 - val_loss: 29.3223 - val_mse: 29.3223\n",
            "Epoch 3/5\n",
            "9919/9919 [==============================] - 33s 3ms/step - loss: 28.8002 - mse: 28.8002 - val_loss: 29.0307 - val_mse: 29.0307\n",
            "Epoch 4/5\n",
            "9919/9919 [==============================] - 19s 2ms/step - loss: 29.1408 - mse: 29.1408 - val_loss: 29.8647 - val_mse: 29.8647\n",
            "Epoch 5/5\n",
            "9919/9919 [==============================] - 19s 2ms/step - loss: 28.9728 - mse: 28.9728 - val_loss: 28.8382 - val_mse: 28.8382\n",
            "4960/4960 [==============================] - 7s 1ms/step - loss: 28.3544 - mse: 28.3544\n",
            "Epoch 1/5\n",
            "9919/9919 [==============================] - 18s 2ms/step - loss: 29.9908 - mse: 29.9908 - val_loss: 28.9890 - val_mse: 28.9890\n",
            "Epoch 2/5\n",
            "9919/9919 [==============================] - 19s 2ms/step - loss: 28.1642 - mse: 28.1642 - val_loss: 28.8924 - val_mse: 28.8924\n",
            "Epoch 3/5\n",
            "9919/9919 [==============================] - 17s 2ms/step - loss: 28.2672 - mse: 28.2672 - val_loss: 35.7987 - val_mse: 35.7987\n",
            "Epoch 4/5\n",
            "9919/9919 [==============================] - 20s 2ms/step - loss: 28.3199 - mse: 28.3199 - val_loss: 29.2661 - val_mse: 29.2661\n",
            "Epoch 5/5\n",
            "9919/9919 [==============================] - 19s 2ms/step - loss: 28.0912 - mse: 28.0912 - val_loss: 31.2355 - val_mse: 31.2355\n",
            "4960/4960 [==============================] - 6s 1ms/step - loss: 32.3986 - mse: 32.3986\n",
            "Epoch 1/5\n",
            "9919/9919 [==============================] - 19s 2ms/step - loss: 31.2281 - mse: 31.2281 - val_loss: 28.7634 - val_mse: 28.7634\n",
            "Epoch 2/5\n",
            "9919/9919 [==============================] - 18s 2ms/step - loss: 29.9701 - mse: 29.9701 - val_loss: 28.7547 - val_mse: 28.7547\n",
            "Epoch 3/5\n",
            "9919/9919 [==============================] - 19s 2ms/step - loss: 29.9496 - mse: 29.9496 - val_loss: 29.0950 - val_mse: 29.0950\n",
            "Epoch 4/5\n",
            "9919/9919 [==============================] - 19s 2ms/step - loss: 30.0760 - mse: 30.0760 - val_loss: 28.7915 - val_mse: 28.7915\n",
            "Epoch 5/5\n",
            "9919/9919 [==============================] - 19s 2ms/step - loss: 30.1070 - mse: 30.1070 - val_loss: 29.8449 - val_mse: 29.8449\n",
            "4960/4960 [==============================] - 6s 1ms/step - loss: 27.6220 - mse: 27.6220\n",
            "Epoch 1/5\n",
            "9919/9919 [==============================] - 21s 2ms/step - loss: 28.2413 - mse: 28.2413 - val_loss: 21.9784 - val_mse: 21.9784\n",
            "Epoch 2/5\n",
            "9919/9919 [==============================] - 19s 2ms/step - loss: 21.1308 - mse: 21.1308 - val_loss: 21.4503 - val_mse: 21.4503\n",
            "Epoch 3/5\n",
            "9919/9919 [==============================] - 20s 2ms/step - loss: 20.0623 - mse: 20.0623 - val_loss: 19.6057 - val_mse: 19.6057\n",
            "Epoch 4/5\n",
            "9919/9919 [==============================] - 20s 2ms/step - loss: 19.7514 - mse: 19.7514 - val_loss: 19.1416 - val_mse: 19.1416\n",
            "Epoch 5/5\n",
            "9919/9919 [==============================] - 20s 2ms/step - loss: 19.4837 - mse: 19.4837 - val_loss: 18.7726 - val_mse: 18.7726\n",
            "4960/4960 [==============================] - 7s 1ms/step - loss: 17.5987 - mse: 17.5987\n",
            "Epoch 1/5\n",
            "9919/9919 [==============================] - 19s 2ms/step - loss: 27.3838 - mse: 27.3838 - val_loss: 21.5219 - val_mse: 21.5219\n",
            "Epoch 2/5\n",
            "9919/9919 [==============================] - 19s 2ms/step - loss: 19.8590 - mse: 19.8590 - val_loss: 20.1891 - val_mse: 20.1891\n",
            "Epoch 3/5\n",
            "9919/9919 [==============================] - 20s 2ms/step - loss: 18.8744 - mse: 18.8744 - val_loss: 19.6066 - val_mse: 19.6066\n",
            "Epoch 4/5\n",
            "9919/9919 [==============================] - 19s 2ms/step - loss: 18.3931 - mse: 18.3931 - val_loss: 19.2591 - val_mse: 19.2591\n",
            "Epoch 5/5\n",
            "9919/9919 [==============================] - 19s 2ms/step - loss: 18.3923 - mse: 18.3923 - val_loss: 19.3786 - val_mse: 19.3786\n",
            "4960/4960 [==============================] - 7s 1ms/step - loss: 21.0116 - mse: 21.0116\n",
            "Epoch 1/5\n",
            "9919/9919 [==============================] - 20s 2ms/step - loss: 28.9217 - mse: 28.9217 - val_loss: 22.0253 - val_mse: 22.0253\n",
            "Epoch 2/5\n",
            "9919/9919 [==============================] - 20s 2ms/step - loss: 21.2763 - mse: 21.2763 - val_loss: 19.8680 - val_mse: 19.8680\n",
            "Epoch 3/5\n",
            "9919/9919 [==============================] - 19s 2ms/step - loss: 20.0429 - mse: 20.0429 - val_loss: 19.8217 - val_mse: 19.8217\n",
            "Epoch 4/5\n",
            "9919/9919 [==============================] - 20s 2ms/step - loss: 19.6680 - mse: 19.6680 - val_loss: 18.7432 - val_mse: 18.7432\n",
            "Epoch 5/5\n",
            "9919/9919 [==============================] - 19s 2ms/step - loss: 19.4423 - mse: 19.4423 - val_loss: 18.6632 - val_mse: 18.6632\n",
            "4960/4960 [==============================] - 7s 1ms/step - loss: 17.9271 - mse: 17.9271\n",
            "Epoch 1/5\n",
            "9919/9919 [==============================] - 19s 2ms/step - loss: nan - mse: nan - val_loss: nan - val_mse: nan\n",
            "Epoch 2/5\n",
            "9919/9919 [==============================] - 19s 2ms/step - loss: nan - mse: nan - val_loss: nan - val_mse: nan\n",
            "Epoch 3/5\n",
            "9919/9919 [==============================] - 20s 2ms/step - loss: nan - mse: nan - val_loss: nan - val_mse: nan\n",
            "Epoch 4/5\n",
            "9919/9919 [==============================] - 20s 2ms/step - loss: nan - mse: nan - val_loss: nan - val_mse: nan\n",
            "Epoch 5/5\n",
            "9919/9919 [==============================] - 19s 2ms/step - loss: nan - mse: nan - val_loss: nan - val_mse: nan\n",
            "4960/4960 [==============================] - 7s 1ms/step - loss: nan - mse: nan\n",
            "Epoch 1/5\n",
            "9919/9919 [==============================] - 21s 2ms/step - loss: nan - mse: nan - val_loss: nan - val_mse: nan\n",
            "Epoch 2/5\n",
            "9919/9919 [==============================] - 19s 2ms/step - loss: nan - mse: nan - val_loss: nan - val_mse: nan\n",
            "Epoch 3/5\n",
            "9919/9919 [==============================] - 19s 2ms/step - loss: nan - mse: nan - val_loss: nan - val_mse: nan\n",
            "Epoch 4/5\n",
            "9919/9919 [==============================] - 20s 2ms/step - loss: nan - mse: nan - val_loss: nan - val_mse: nan\n",
            "Epoch 5/5\n",
            "9919/9919 [==============================] - 20s 2ms/step - loss: nan - mse: nan - val_loss: nan - val_mse: nan\n",
            "4960/4960 [==============================] - 7s 1ms/step - loss: nan - mse: nan\n",
            "Epoch 1/5\n",
            "9919/9919 [==============================] - 20s 2ms/step - loss: nan - mse: nan - val_loss: nan - val_mse: nan\n",
            "Epoch 2/5\n",
            "9919/9919 [==============================] - 20s 2ms/step - loss: nan - mse: nan - val_loss: nan - val_mse: nan\n",
            "Epoch 3/5\n",
            "9919/9919 [==============================] - 20s 2ms/step - loss: nan - mse: nan - val_loss: nan - val_mse: nan\n",
            "Epoch 4/5\n",
            "9919/9919 [==============================] - 19s 2ms/step - loss: nan - mse: nan - val_loss: nan - val_mse: nan\n",
            "Epoch 5/5\n",
            "9919/9919 [==============================] - 19s 2ms/step - loss: nan - mse: nan - val_loss: nan - val_mse: nan\n",
            "4960/4960 [==============================] - 7s 1ms/step - loss: nan - mse: nan\n",
            "Epoch 1/5\n",
            "9919/9919 [==============================] - 20s 2ms/step - loss: 24.9733 - mse: 24.9733 - val_loss: 19.9089 - val_mse: 19.9089\n",
            "Epoch 2/5\n",
            "9919/9919 [==============================] - 19s 2ms/step - loss: 20.2728 - mse: 20.2728 - val_loss: 19.0348 - val_mse: 19.0348\n",
            "Epoch 3/5\n",
            "9919/9919 [==============================] - 19s 2ms/step - loss: 19.8104 - mse: 19.8104 - val_loss: 18.8686 - val_mse: 18.8686\n",
            "Epoch 4/5\n",
            "9919/9919 [==============================] - 20s 2ms/step - loss: 19.6074 - mse: 19.6074 - val_loss: 20.3682 - val_mse: 20.3682\n",
            "Epoch 5/5\n",
            "9919/9919 [==============================] - 19s 2ms/step - loss: 19.4435 - mse: 19.4435 - val_loss: 18.9147 - val_mse: 18.9147\n",
            "4960/4960 [==============================] - 7s 1ms/step - loss: 17.6476 - mse: 17.6476\n",
            "Epoch 1/5\n",
            "9919/9919 [==============================] - 20s 2ms/step - loss: 24.2238 - mse: 24.2238 - val_loss: 20.5458 - val_mse: 20.5458\n",
            "Epoch 2/5\n",
            "9919/9919 [==============================] - 19s 2ms/step - loss: 19.8249 - mse: 19.8249 - val_loss: 19.6763 - val_mse: 19.6763\n",
            "Epoch 3/5\n",
            "9919/9919 [==============================] - 20s 2ms/step - loss: 18.7776 - mse: 18.7776 - val_loss: 19.1716 - val_mse: 19.1716\n",
            "Epoch 4/5\n",
            "9919/9919 [==============================] - 20s 2ms/step - loss: 18.7137 - mse: 18.7137 - val_loss: 18.7935 - val_mse: 18.7935\n",
            "Epoch 5/5\n",
            "9919/9919 [==============================] - 20s 2ms/step - loss: 18.5496 - mse: 18.5496 - val_loss: 18.9140 - val_mse: 18.9140\n",
            "4960/4960 [==============================] - 7s 1ms/step - loss: 20.5144 - mse: 20.5144\n",
            "Epoch 1/5\n",
            "9919/9919 [==============================] - 21s 2ms/step - loss: 25.4406 - mse: 25.4406 - val_loss: 22.8765 - val_mse: 22.8765\n",
            "Epoch 2/5\n",
            "9919/9919 [==============================] - 19s 2ms/step - loss: 20.9241 - mse: 20.9241 - val_loss: 20.8586 - val_mse: 20.8586\n",
            "Epoch 3/5\n",
            "9919/9919 [==============================] - 20s 2ms/step - loss: 20.4668 - mse: 20.4668 - val_loss: 18.9000 - val_mse: 18.9000\n",
            "Epoch 4/5\n",
            "9919/9919 [==============================] - 20s 2ms/step - loss: 19.9001 - mse: 19.9001 - val_loss: 18.8062 - val_mse: 18.8062\n",
            "Epoch 5/5\n",
            "9919/9919 [==============================] - 19s 2ms/step - loss: 19.8431 - mse: 19.8431 - val_loss: 18.7075 - val_mse: 18.7075\n",
            "4960/4960 [==============================] - 7s 1ms/step - loss: 17.9115 - mse: 17.9115\n",
            "Epoch 1/5\n",
            "14878/14878 [==============================] - 28s 2ms/step - loss: 23.3331 - mse: 23.3331 - val_loss: 19.6948 - val_mse: 19.6948\n",
            "Epoch 2/5\n",
            "14878/14878 [==============================] - 26s 2ms/step - loss: 20.0154 - mse: 20.0154 - val_loss: 19.7537 - val_mse: 19.7537\n",
            "Epoch 3/5\n",
            "14878/14878 [==============================] - 27s 2ms/step - loss: 19.6301 - mse: 19.6301 - val_loss: 21.4581 - val_mse: 21.4581\n",
            "Epoch 4/5\n",
            "14878/14878 [==============================] - 33s 2ms/step - loss: 19.3273 - mse: 19.3273 - val_loss: 18.8854 - val_mse: 18.8854\n",
            "Epoch 5/5\n",
            "14878/14878 [==============================] - 39s 3ms/step - loss: 19.2261 - mse: 19.2261 - val_loss: 18.8651 - val_mse: 18.8651\n"
          ]
        },
        {
          "output_type": "execute_result",
          "data": {
            "text/plain": [
              "RandomizedSearchCV(cv=3,\n",
              "                   estimator=<keras.wrappers.scikit_learn.KerasRegressor object at 0x7fdf6af0ec90>,\n",
              "                   n_iter=4,\n",
              "                   param_distributions={'learning_rate': <scipy.stats._distn_infrastructure.rv_frozen object at 0x7fdf666918d0>,\n",
              "                                        'n_hidden': [0, 1, 2, 3],\n",
              "                                        'n_neurons': array([ 1,  2,  3,  4,  5,  6,  7,  8,  9, 10, 11, 12, 13, 14, 15, 16, 17,\n",
              "       18, 19, 20, 21, 22, 23, 24, 25, 26, 27, 28, 29, 30, 31, 32, 33, 34,\n",
              "       35, 36, 37, 38, 39, 40, 41, 42, 43, 44, 45, 46, 47, 48, 49, 50, 51,\n",
              "       52, 53, 54, 55, 56, 57, 58, 59, 60, 61, 62, 63, 64, 65, 66, 67, 68,\n",
              "       69, 70, 71, 72, 73, 74, 75, 76, 77, 78, 79, 80, 81, 82, 83, 84, 85,\n",
              "       86, 87, 88, 89, 90, 91, 92, 93, 94, 95, 96, 97, 98, 99])})"
            ]
          },
          "metadata": {},
          "execution_count": 190
        }
      ]
    },
    {
      "cell_type": "markdown",
      "source": [
        "B. Experiment with number of layers and neurons per layer to increase the\n",
        "performance metrics."
      ],
      "metadata": {
        "id": "0bVfoXLWugQi"
      }
    },
    {
      "cell_type": "code",
      "source": [
        "Rnd_search_cv.best_params_\n"
      ],
      "metadata": {
        "colab": {
          "base_uri": "https://localhost:8080/"
        },
        "id": "u_lSV1igt_yU",
        "outputId": "0f0b8393-db9c-452a-a0c6-3731e510372b"
      },
      "execution_count": null,
      "outputs": [
        {
          "output_type": "execute_result",
          "data": {
            "text/plain": [
              "{'learning_rate': 0.0012250979458726552, 'n_hidden': 1, 'n_neurons': 58}"
            ]
          },
          "metadata": {},
          "execution_count": 203
        }
      ]
    },
    {
      "cell_type": "code",
      "source": [
        "Rnd_search_cv.best_score_\n"
      ],
      "metadata": {
        "colab": {
          "base_uri": "https://localhost:8080/"
        },
        "id": "E0oDFY5OuF7Y",
        "outputId": "15c94f77-97fa-4c13-bab0-b38d25361fab"
      },
      "execution_count": null,
      "outputs": [
        {
          "output_type": "execute_result",
          "data": {
            "text/plain": [
              "-18.691169102986652"
            ]
          },
          "metadata": {},
          "execution_count": 204
        }
      ]
    },
    {
      "cell_type": "code",
      "source": [
        "\n",
        "model = Rnd_search_cv.best_estimator_.model"
      ],
      "metadata": {
        "id": "oByhReR2uKmc"
      },
      "execution_count": null,
      "outputs": []
    },
    {
      "cell_type": "code",
      "execution_count": null,
      "metadata": {
        "id": "ujBUFusS5Rdt",
        "colab": {
          "base_uri": "https://localhost:8080/"
        },
        "outputId": "0e798851-718c-4c1b-a3c5-c97d5be99d94"
      },
      "outputs": [
        {
          "output_type": "stream",
          "name": "stdout",
          "text": [
            "Model: \"sequential_99\"\n",
            "_________________________________________________________________\n",
            " Layer (type)                Output Shape              Param #   \n",
            "=================================================================\n",
            " dense_267 (Dense)           (None, 58)                754       \n",
            "                                                                 \n",
            " dense_268 (Dense)           (None, 1)                 59        \n",
            "                                                                 \n",
            "=================================================================\n",
            "Total params: 813\n",
            "Trainable params: 813\n",
            "Non-trainable params: 0\n",
            "_________________________________________________________________\n"
          ]
        }
      ],
      "source": [
        "model.summary()"
      ]
    },
    {
      "cell_type": "markdown",
      "source": [
        "**MSE**"
      ],
      "metadata": {
        "id": "HrAwcFfaqMQw"
      }
    },
    {
      "cell_type": "markdown",
      "source": [
        "mse is very high with the given neural network"
      ],
      "metadata": {
        "id": "nkS0n5dmqfDJ"
      }
    },
    {
      "cell_type": "code",
      "source": [
        "kerasmodel = Sequential()\n",
        "kerasmodel.add(Dense(76,input_dim= 12,activation='relu'))\n",
        "kerasmodel.add(Dense(76,activation='relu'))\n",
        "kerasmodel.add(Dense(1,activation='sigmoid'))"
      ],
      "metadata": {
        "id": "SZYZbNja1c6K"
      },
      "execution_count": null,
      "outputs": []
    },
    {
      "cell_type": "code",
      "source": [
        "kerasmodel.compile(loss='mean_squared_error', optimizer='adam',metrics=\"mse\")"
      ],
      "metadata": {
        "id": "BlYD1Lhk3bO0"
      },
      "execution_count": null,
      "outputs": []
    },
    {
      "cell_type": "code",
      "source": [
        "kerasmodel.fit(x_train,y_train,epochs=10,batch_size=128)"
      ],
      "metadata": {
        "colab": {
          "base_uri": "https://localhost:8080/"
        },
        "id": "Ylb4J9bQ3xDK",
        "outputId": "b6b47d8c-b8f0-434d-ff7a-25736e67b32d"
      },
      "execution_count": null,
      "outputs": [
        {
          "output_type": "stream",
          "name": "stdout",
          "text": [
            "Epoch 1/10\n",
            "6097/6097 [==============================] - 12s 2ms/step - loss: 201.2775 - mse: 201.2775\n",
            "Epoch 2/10\n",
            "6097/6097 [==============================] - 11s 2ms/step - loss: 201.2381 - mse: 201.2381\n",
            "Epoch 3/10\n",
            "6097/6097 [==============================] - 11s 2ms/step - loss: 201.2382 - mse: 201.2382\n",
            "Epoch 4/10\n",
            "6097/6097 [==============================] - 13s 2ms/step - loss: 201.2378 - mse: 201.2378\n",
            "Epoch 5/10\n",
            "6097/6097 [==============================] - 11s 2ms/step - loss: 201.2379 - mse: 201.2379\n",
            "Epoch 6/10\n",
            "6097/6097 [==============================] - 10s 2ms/step - loss: 201.2382 - mse: 201.2382\n",
            "Epoch 7/10\n",
            "6097/6097 [==============================] - 12s 2ms/step - loss: 201.2379 - mse: 201.2379\n",
            "Epoch 8/10\n",
            "6097/6097 [==============================] - 12s 2ms/step - loss: 201.2381 - mse: 201.2381\n",
            "Epoch 9/10\n",
            "6097/6097 [==============================] - 13s 2ms/step - loss: 201.2379 - mse: 201.2379\n",
            "Epoch 10/10\n",
            "6097/6097 [==============================] - 11s 2ms/step - loss: 201.2384 - mse: 201.2384\n"
          ]
        },
        {
          "output_type": "execute_result",
          "data": {
            "text/plain": [
              "<keras.callbacks.History at 0x7f62cf260e10>"
            ]
          },
          "metadata": {},
          "execution_count": 104
        }
      ]
    },
    {
      "cell_type": "code",
      "source": [
        "train.columns\n"
      ],
      "metadata": {
        "colab": {
          "base_uri": "https://localhost:8080/"
        },
        "id": "V0RLiiat4OHW",
        "outputId": "23e24215-eb19-4dc5-e044-762289778d65"
      },
      "execution_count": null,
      "outputs": [
        {
          "output_type": "execute_result",
          "data": {
            "text/plain": [
              "Index(['fare_amount', 'pickup_longitude', 'pickup_latitude',\n",
              "       'dropoff_longitude', 'dropoff_latitude', 'passenger_count', 'Hour',\n",
              "       'week_day', 'Day_of_month', 'Week', 'Month', 'Year', 'Distance'],\n",
              "      dtype='object')"
            ]
          },
          "metadata": {},
          "execution_count": 106
        }
      ]
    },
    {
      "cell_type": "markdown",
      "source": [
        "**Mape**"
      ],
      "metadata": {
        "id": "6GsPoutWrPHX"
      }
    },
    {
      "cell_type": "code",
      "source": [
        "kerasmodel = Sequential()\n",
        "kerasmodel.add(Dense(16,input_dim= 12,activation='sigmoid'))\n",
        "kerasmodel.add(Dense(18,activation='sigmoid'))\n",
        "kerasmodel.add(Dense(1,activation='sigmoid'))"
      ],
      "metadata": {
        "id": "S9dMG51n5zbq"
      },
      "execution_count": null,
      "outputs": []
    },
    {
      "cell_type": "code",
      "source": [
        "kerasmodel.compile(loss='mean_absolute_percentage_error', optimizer='adam',metrics=['mape'])"
      ],
      "metadata": {
        "id": "BeL7HNlI55RN"
      },
      "execution_count": null,
      "outputs": []
    },
    {
      "cell_type": "code",
      "source": [
        "kerasmodel.fit(x_train,y_train,epochs=10,batch_size=128)"
      ],
      "metadata": {
        "colab": {
          "base_uri": "https://localhost:8080/"
        },
        "id": "rqtZ_Wxb5-Y4",
        "outputId": "deb51c44-5c6c-4a66-8d50-b20f897af862"
      },
      "execution_count": null,
      "outputs": [
        {
          "output_type": "stream",
          "name": "stdout",
          "text": [
            "Epoch 1/10\n",
            "6097/6097 [==============================] - 8s 1ms/step - loss: 87.4312 - mape: 87.4312\n",
            "Epoch 2/10\n",
            "6097/6097 [==============================] - 10s 2ms/step - loss: 87.3428 - mape: 87.3428\n",
            "Epoch 3/10\n",
            "6097/6097 [==============================] - 11s 2ms/step - loss: 87.3427 - mape: 87.3427\n",
            "Epoch 4/10\n",
            "6097/6097 [==============================] - 11s 2ms/step - loss: 87.3424 - mape: 87.3424\n",
            "Epoch 5/10\n",
            "6097/6097 [==============================] - 12s 2ms/step - loss: 87.3424 - mape: 87.3424\n",
            "Epoch 6/10\n",
            "6097/6097 [==============================] - 8s 1ms/step - loss: 87.3426 - mape: 87.3426\n",
            "Epoch 7/10\n",
            "6097/6097 [==============================] - 9s 1ms/step - loss: 87.3425 - mape: 87.3425\n",
            "Epoch 8/10\n",
            "6097/6097 [==============================] - 8s 1ms/step - loss: 87.3426 - mape: 87.3426\n",
            "Epoch 9/10\n",
            "6097/6097 [==============================] - 8s 1ms/step - loss: 87.3425 - mape: 87.3425\n",
            "Epoch 10/10\n",
            "6097/6097 [==============================] - 9s 1ms/step - loss: 87.3424 - mape: 87.3424\n"
          ]
        },
        {
          "output_type": "execute_result",
          "data": {
            "text/plain": [
              "<keras.callbacks.History at 0x7f62cf10f390>"
            ]
          },
          "metadata": {},
          "execution_count": 109
        }
      ]
    },
    {
      "cell_type": "code",
      "source": [
        "# from keras.wrappers.scikit_learn import KerasClassifier\n",
        "# from sklearn.model_selection import GridSearchCV"
      ],
      "metadata": {
        "id": "GWshwNKaoUZm"
      },
      "execution_count": null,
      "outputs": []
    },
    {
      "cell_type": "markdown",
      "source": [
        "C.Experiment with activation functions\n"
      ],
      "metadata": {
        "id": "pJEhfR2-uz3L"
      }
    },
    {
      "cell_type": "markdown",
      "source": [
        "relu function"
      ],
      "metadata": {
        "id": "e7OWNkMhxrWg"
      }
    },
    {
      "cell_type": "code",
      "source": [
        "kerasmodel = Sequential()\n",
        "kerasmodel.add(Dense(44,input_dim= 12,activation='relu'))\n",
        "kerasmodel.add(Dense(18,activation='relu'))\n",
        "# kerasmodel.add(Dense(28,activation='relu'))\n",
        "kerasmodel.add(Dense(1,activation='sigmoid'))"
      ],
      "metadata": {
        "id": "A8KVWQ5Xb22g"
      },
      "execution_count": null,
      "outputs": []
    },
    {
      "cell_type": "code",
      "source": [
        "kerasmodel.compile(loss=['mean_absolute_percentage_error','mean_squared_error','mae'], optimizer='adam',metrics=['mae','mse','mape'])"
      ],
      "metadata": {
        "id": "OnytyWRc7deP"
      },
      "execution_count": null,
      "outputs": []
    },
    {
      "cell_type": "code",
      "source": [
        "kerasmodel.fit(x_train,y_train,epochs=10,batch_size=128)"
      ],
      "metadata": {
        "colab": {
          "base_uri": "https://localhost:8080/"
        },
        "id": "sThl3ejkFAxk",
        "outputId": "576071db-b4d8-4d7f-d2e4-7fd91ed4631e"
      },
      "execution_count": null,
      "outputs": [
        {
          "output_type": "stream",
          "name": "stdout",
          "text": [
            "Epoch 1/10\n",
            "6097/6097 [==============================] - 9s 1ms/step - loss: 87.4066 - mae: 10.3341 - mse: 201.3882 - mape: 87.4066\n",
            "Epoch 2/10\n",
            "6097/6097 [==============================] - 9s 1ms/step - loss: 87.3426 - mae: 10.3284 - mse: 201.2383 - mape: 87.3426\n",
            "Epoch 3/10\n",
            "6097/6097 [==============================] - 8s 1ms/step - loss: 87.3426 - mae: 10.3284 - mse: 201.2382 - mape: 87.3426\n",
            "Epoch 4/10\n",
            "6097/6097 [==============================] - 8s 1ms/step - loss: 87.3426 - mae: 10.3284 - mse: 201.2383 - mape: 87.3426\n",
            "Epoch 5/10\n",
            "6097/6097 [==============================] - 9s 1ms/step - loss: 87.3425 - mae: 10.3284 - mse: 201.2376 - mape: 87.3425\n",
            "Epoch 6/10\n",
            "6097/6097 [==============================] - 9s 1ms/step - loss: 87.3425 - mae: 10.3284 - mse: 201.2378 - mape: 87.3425\n",
            "Epoch 7/10\n",
            "6097/6097 [==============================] - 8s 1ms/step - loss: 87.3423 - mae: 10.3284 - mse: 201.2381 - mape: 87.3423\n",
            "Epoch 8/10\n",
            "6097/6097 [==============================] - 9s 1ms/step - loss: 87.3426 - mae: 10.3284 - mse: 201.2377 - mape: 87.3426\n",
            "Epoch 9/10\n",
            "6097/6097 [==============================] - 9s 2ms/step - loss: 87.3425 - mae: 10.3284 - mse: 201.2379 - mape: 87.3425\n",
            "Epoch 10/10\n",
            "6097/6097 [==============================] - 10s 2ms/step - loss: 87.3425 - mae: 10.3284 - mse: 201.2381 - mape: 87.3425\n"
          ]
        },
        {
          "output_type": "execute_result",
          "data": {
            "text/plain": [
              "<keras.callbacks.History at 0x7f62cf0f3190>"
            ]
          },
          "metadata": {},
          "execution_count": 112
        }
      ]
    },
    {
      "cell_type": "markdown",
      "source": [
        "elu function"
      ],
      "metadata": {
        "id": "jpo0WIqCxo6E"
      }
    },
    {
      "cell_type": "markdown",
      "source": [
        "# With elu function im gettting the less loss."
      ],
      "metadata": {
        "id": "V24NhrRKVJjY"
      }
    },
    {
      "cell_type": "code",
      "source": [
        "kerasmodel = Sequential()\n",
        "kerasmodel.add(Dense(76,input_dim= 12,activation='elu'))\n",
        "kerasmodel.add(Dense(38,activation='elu'))\n",
        "kerasmodel.add(Dense(76,activation='elu'))\n",
        "kerasmodel.add(Dense(1,activation='elu'))\n",
        "kerasmodel.compile(loss = tf.keras.losses.mae,\n",
        "                        optimizer = tf.keras.optimizers.Adam(learning_rate=0.003641),\n",
        "                        metrics = \"mae\"\n",
        "                        )\n",
        "kerasmodel.fit(x_train,y_train,epochs=10,batch_size=128)"
      ],
      "metadata": {
        "colab": {
          "base_uri": "https://localhost:8080/"
        },
        "id": "SWe-bQC6xoKr",
        "outputId": "1ac51e8e-43a0-476c-c79e-173cadb5f4a4"
      },
      "execution_count": null,
      "outputs": [
        {
          "output_type": "stream",
          "name": "stdout",
          "text": [
            "Epoch 1/10\n",
            "6097/6097 [==============================] - 14s 2ms/step - loss: 1.8287 - mae: 1.8287\n",
            "Epoch 2/10\n",
            "6097/6097 [==============================] - 14s 2ms/step - loss: 1.6555 - mae: 1.6555\n",
            "Epoch 3/10\n",
            "6097/6097 [==============================] - 16s 3ms/step - loss: 1.6165 - mae: 1.6165\n",
            "Epoch 4/10\n",
            "6097/6097 [==============================] - 19s 3ms/step - loss: 1.5934 - mae: 1.5934\n",
            "Epoch 5/10\n",
            "6097/6097 [==============================] - 12s 2ms/step - loss: 1.5755 - mae: 1.5755\n",
            "Epoch 6/10\n",
            "6097/6097 [==============================] - 17s 3ms/step - loss: 1.5642 - mae: 1.5642\n",
            "Epoch 7/10\n",
            "6097/6097 [==============================] - 12s 2ms/step - loss: 1.5531 - mae: 1.5531\n",
            "Epoch 8/10\n",
            "6097/6097 [==============================] - 12s 2ms/step - loss: 1.5477 - mae: 1.5477\n",
            "Epoch 9/10\n",
            "6097/6097 [==============================] - 13s 2ms/step - loss: 1.5417 - mae: 1.5417\n",
            "Epoch 10/10\n",
            "6097/6097 [==============================] - 12s 2ms/step - loss: 1.5377 - mae: 1.5377\n"
          ]
        },
        {
          "output_type": "execute_result",
          "data": {
            "text/plain": [
              "<keras.callbacks.History at 0x7f62cee57710>"
            ]
          },
          "metadata": {},
          "execution_count": 113
        }
      ]
    },
    {
      "cell_type": "markdown",
      "source": [
        "# softmax"
      ],
      "metadata": {
        "id": "6K3vxEi2VoPX"
      }
    },
    {
      "cell_type": "code",
      "source": [
        "kerasmodel = Sequential()\n",
        "kerasmodel.add(Dense(76,input_dim= 12,activation='softmax'))\n",
        "kerasmodel.add(Dense(38,activation='softmax'))\n",
        "# kerasmodel.add(Dense(28,activation='relu'))\n",
        "kerasmodel.add(Dense(1,activation='softmax'))\n",
        "kerasmodel.compile(loss = tf.keras.losses.mae,\n",
        "                        optimizer = tf.keras.optimizers.Adam(learning_rate=0.003641),\n",
        "                        metrics = \"mae\"\n",
        "                        )\n",
        "kerasmodel.fit(x_train,y_train,epochs=10,batch_size=128)"
      ],
      "metadata": {
        "colab": {
          "base_uri": "https://localhost:8080/"
        },
        "id": "lx4e-bksUx-2",
        "outputId": "528cd680-baab-46cb-cbbc-f088941ba6ef"
      },
      "execution_count": null,
      "outputs": [
        {
          "output_type": "stream",
          "name": "stdout",
          "text": [
            "Epoch 1/10\n",
            "6097/6097 [==============================] - 15s 2ms/step - loss: 10.3284 - mae: 10.3284\n",
            "Epoch 2/10\n",
            "6097/6097 [==============================] - 13s 2ms/step - loss: 10.3284 - mae: 10.3284\n",
            "Epoch 3/10\n",
            "6097/6097 [==============================] - 11s 2ms/step - loss: 10.3284 - mae: 10.3284\n",
            "Epoch 4/10\n",
            "6097/6097 [==============================] - 18s 3ms/step - loss: 10.3284 - mae: 10.3284\n",
            "Epoch 5/10\n",
            "6097/6097 [==============================] - 19s 3ms/step - loss: 10.3284 - mae: 10.3284\n",
            "Epoch 6/10\n",
            "6097/6097 [==============================] - 10s 2ms/step - loss: 10.3284 - mae: 10.3284\n",
            "Epoch 7/10\n",
            "6097/6097 [==============================] - 14s 2ms/step - loss: 10.3284 - mae: 10.3284\n",
            "Epoch 8/10\n",
            "6097/6097 [==============================] - 10s 2ms/step - loss: 10.3284 - mae: 10.3284\n",
            "Epoch 9/10\n",
            "6097/6097 [==============================] - 11s 2ms/step - loss: 10.3284 - mae: 10.3284\n",
            "Epoch 10/10\n",
            "6097/6097 [==============================] - 10s 2ms/step - loss: 10.3284 - mae: 10.3284\n"
          ]
        },
        {
          "output_type": "execute_result",
          "data": {
            "text/plain": [
              "<keras.callbacks.History at 0x7f62ced1b510>"
            ]
          },
          "metadata": {},
          "execution_count": 114
        }
      ]
    },
    {
      "cell_type": "markdown",
      "source": [
        "# sigmoid"
      ],
      "metadata": {
        "id": "ECxDOqmdV7_R"
      }
    },
    {
      "cell_type": "code",
      "source": [
        "kerasmodel = Sequential()\n",
        "kerasmodel.add(Dense(76,input_dim= 12,activation='sigmoid'))\n",
        "kerasmodel.add(Dense(38,activation='sigmoid'))\n",
        "# kerasmodel.add(Dense(28,activation='sigmoid'))\n",
        "kerasmodel.add(Dense(1,activation='sigmoid'))\n",
        "kerasmodel.compile(loss = tf.keras.losses.mae,\n",
        "                        optimizer = tf.keras.optimizers.Adam(learning_rate=0.003641),\n",
        "                        metrics = \"mae\"\n",
        "                        )\n",
        "kerasmodel.fit(x_train,y_train,epochs=10,batch_size=128)"
      ],
      "metadata": {
        "colab": {
          "base_uri": "https://localhost:8080/"
        },
        "id": "77Pf39s6VtGm",
        "outputId": "2b5aaba7-4338-4de1-d3e3-408fb2d1043d"
      },
      "execution_count": null,
      "outputs": [
        {
          "output_type": "stream",
          "name": "stdout",
          "text": [
            "Epoch 1/10\n",
            "6097/6097 [==============================] - 64s 2ms/step - loss: 10.3289 - mae: 10.3289\n",
            "Epoch 2/10\n",
            "6097/6097 [==============================] - 14s 2ms/step - loss: 10.3284 - mae: 10.3284\n",
            "Epoch 3/10\n",
            "6097/6097 [==============================] - 11s 2ms/step - loss: 10.3284 - mae: 10.3284\n",
            "Epoch 4/10\n",
            "6097/6097 [==============================] - 10s 2ms/step - loss: 10.3284 - mae: 10.3284\n",
            "Epoch 5/10\n",
            "6097/6097 [==============================] - 11s 2ms/step - loss: 10.3284 - mae: 10.3284\n",
            "Epoch 6/10\n",
            "6097/6097 [==============================] - 10s 2ms/step - loss: 10.3284 - mae: 10.3284\n",
            "Epoch 7/10\n",
            "6097/6097 [==============================] - 10s 2ms/step - loss: 10.3284 - mae: 10.3284\n",
            "Epoch 8/10\n",
            "6097/6097 [==============================] - 12s 2ms/step - loss: 10.3284 - mae: 10.3284\n",
            "Epoch 9/10\n",
            "6097/6097 [==============================] - 12s 2ms/step - loss: 10.3284 - mae: 10.3284\n",
            "Epoch 10/10\n",
            "6097/6097 [==============================] - 10s 2ms/step - loss: 10.3284 - mae: 10.3284\n"
          ]
        },
        {
          "output_type": "execute_result",
          "data": {
            "text/plain": [
              "<keras.callbacks.History at 0x7f62c6272550>"
            ]
          },
          "metadata": {},
          "execution_count": 116
        }
      ]
    },
    {
      "cell_type": "markdown",
      "source": [
        "D. Experiment with regularization techniques: Early stopping, Dropout rate"
      ],
      "metadata": {
        "id": "jz2wISCqwuEu"
      }
    },
    {
      "cell_type": "code",
      "source": [
        "kerasmodel = Sequential()\n",
        "kerasmodel.add(Dense(44,activation='softmax'))\n",
        "# kerasmodel.add(Dense(1,activation='softmax'))\n",
        "kerasmodel.compile(loss = tf.keras.losses.mae,\n",
        "                        optimizer = tf.keras.optimizers.Adam(learning_rate=0.003641),\n",
        "                        metrics = \"mae\"\n",
        "                        )\n",
        "kerasmodel.fit(x_train,y_train,epochs=10,batch_size=128)\n"
      ],
      "metadata": {
        "colab": {
          "base_uri": "https://localhost:8080/"
        },
        "id": "3dxmWsT8tx-g",
        "outputId": "d3fcfdea-1094-4510-dea8-9e8a0d03c5de"
      },
      "execution_count": null,
      "outputs": [
        {
          "output_type": "stream",
          "name": "stdout",
          "text": [
            "Epoch 1/10\n",
            "6097/6097 [==============================] - 12s 2ms/step - loss: 11.3057 - mae: 11.3057\n",
            "Epoch 2/10\n",
            "6097/6097 [==============================] - 12s 2ms/step - loss: 11.3057 - mae: 11.3057\n",
            "Epoch 3/10\n",
            "6097/6097 [==============================] - 14s 2ms/step - loss: 11.3057 - mae: 11.3057\n",
            "Epoch 4/10\n",
            "6097/6097 [==============================] - 14s 2ms/step - loss: 11.3057 - mae: 11.3057\n",
            "Epoch 5/10\n",
            "6097/6097 [==============================] - 13s 2ms/step - loss: 11.3057 - mae: 11.3057\n",
            "Epoch 6/10\n",
            "6097/6097 [==============================] - 11s 2ms/step - loss: 11.3057 - mae: 11.3057\n",
            "Epoch 7/10\n",
            "6097/6097 [==============================] - 11s 2ms/step - loss: 11.3057 - mae: 11.3057\n",
            "Epoch 8/10\n",
            "6097/6097 [==============================] - 11s 2ms/step - loss: 11.3057 - mae: 11.3057\n",
            "Epoch 9/10\n",
            "6097/6097 [==============================] - 12s 2ms/step - loss: 11.3057 - mae: 11.3057\n",
            "Epoch 10/10\n",
            "6097/6097 [==============================] - 11s 2ms/step - loss: 11.3057 - mae: 11.3057\n"
          ]
        },
        {
          "output_type": "execute_result",
          "data": {
            "text/plain": [
              "<keras.callbacks.History at 0x7f683aa44410>"
            ]
          },
          "metadata": {},
          "execution_count": 177
        }
      ]
    },
    {
      "cell_type": "markdown",
      "source": [
        "# Early Stopping"
      ],
      "metadata": {
        "id": "Ma3UJQoYw7Am"
      }
    },
    {
      "cell_type": "code",
      "source": [
        "from keras.callbacks import EarlyStopping\n",
        "from scipy.stats import reciprocal\n",
        "from sklearn.model_selection import RandomizedSearchCV\n",
        "param_distribs = {\n",
        " \"n_hidden\": [0, 1, 2, 3],\n",
        " \"n_neurons\": np.arange(1, 100),\n",
        " \"learning_rate\": reciprocal(3e-4, 3e-2),\n",
        "}\n",
        "rnd_search_cv = RandomizedSearchCV(keras_reg, param_distribs, n_iter=4, cv=3)\n",
        "rnd_search_cv.fit(X_train, Y_train, epochs=5,\n",
        " validation_data=(X_test, y_test),\n",
        " callbacks=[EarlyStopping(patience=10)])"
      ],
      "metadata": {
        "colab": {
          "base_uri": "https://localhost:8080/"
        },
        "id": "0YDRFCoVw1Xk",
        "outputId": "8201e436-2e70-4b2c-f554-715461888ab9"
      },
      "execution_count": null,
      "outputs": [
        {
          "output_type": "stream",
          "name": "stdout",
          "text": [
            "Epoch 1/5\n",
            "16259/16259 [==============================] - 28s 2ms/step - loss: 30.4620 - mse: 30.4620 - val_loss: 26.0022 - val_mse: 26.0022\n",
            "Epoch 2/5\n",
            "16259/16259 [==============================] - 22s 1ms/step - loss: 29.0218 - mse: 29.0218 - val_loss: 26.6414 - val_mse: 26.6414\n",
            "Epoch 3/5\n",
            "16259/16259 [==============================] - 23s 1ms/step - loss: 29.2242 - mse: 29.2242 - val_loss: 25.4636 - val_mse: 25.4636\n",
            "Epoch 4/5\n",
            "16259/16259 [==============================] - 24s 1ms/step - loss: 29.1793 - mse: 29.1793 - val_loss: 25.6439 - val_mse: 25.6439\n",
            "Epoch 5/5\n",
            "16259/16259 [==============================] - 23s 1ms/step - loss: 29.1802 - mse: 29.1802 - val_loss: 25.1985 - val_mse: 25.1985\n",
            "8130/8130 [==============================] - 12s 1ms/step - loss: 26.8047 - mse: 26.8047\n",
            "Epoch 1/5\n",
            "16259/16259 [==============================] - 24s 1ms/step - loss: 29.3595 - mse: 29.3595 - val_loss: 25.5446 - val_mse: 25.5446\n",
            "Epoch 2/5\n",
            "16259/16259 [==============================] - 28s 2ms/step - loss: 28.1623 - mse: 28.1623 - val_loss: 25.7924 - val_mse: 25.7924\n",
            "Epoch 3/5\n",
            "16259/16259 [==============================] - 24s 1ms/step - loss: 28.1173 - mse: 28.1173 - val_loss: 25.2501 - val_mse: 25.2501\n",
            "Epoch 4/5\n",
            "16259/16259 [==============================] - 24s 1ms/step - loss: 28.2664 - mse: 28.2664 - val_loss: 25.9396 - val_mse: 25.9396\n",
            "Epoch 5/5\n",
            "16259/16259 [==============================] - 23s 1ms/step - loss: 28.1993 - mse: 28.1993 - val_loss: 25.4604 - val_mse: 25.4604\n",
            "8130/8130 [==============================] - 12s 2ms/step - loss: 28.9339 - mse: 28.9339\n",
            "Epoch 1/5\n",
            "16259/16259 [==============================] - 24s 1ms/step - loss: 29.7345 - mse: 29.7345 - val_loss: 28.6861 - val_mse: 28.6861\n",
            "Epoch 2/5\n",
            "16259/16259 [==============================] - 25s 2ms/step - loss: 28.4841 - mse: 28.4841 - val_loss: 26.0569 - val_mse: 26.0569\n",
            "Epoch 3/5\n",
            "16259/16259 [==============================] - 31s 2ms/step - loss: 28.4524 - mse: 28.4524 - val_loss: 25.7221 - val_mse: 25.7221\n",
            "Epoch 4/5\n",
            "16259/16259 [==============================] - 24s 1ms/step - loss: 28.5519 - mse: 28.5519 - val_loss: 25.2938 - val_mse: 25.2938\n",
            "Epoch 5/5\n",
            "16259/16259 [==============================] - 23s 1ms/step - loss: 28.4759 - mse: 28.4759 - val_loss: 25.1939 - val_mse: 25.1939\n",
            "8130/8130 [==============================] - 12s 2ms/step - loss: 28.5605 - mse: 28.5605\n",
            "Epoch 1/5\n",
            "16259/16259 [==============================] - 35s 2ms/step - loss: nan - mse: nan - val_loss: nan - val_mse: nan\n",
            "Epoch 2/5\n",
            "16259/16259 [==============================] - 29s 2ms/step - loss: nan - mse: nan - val_loss: nan - val_mse: nan\n",
            "Epoch 3/5\n",
            "16259/16259 [==============================] - 34s 2ms/step - loss: nan - mse: nan - val_loss: nan - val_mse: nan\n",
            "Epoch 4/5\n",
            "16259/16259 [==============================] - 33s 2ms/step - loss: nan - mse: nan - val_loss: nan - val_mse: nan\n",
            "Epoch 5/5\n",
            "16259/16259 [==============================] - 34s 2ms/step - loss: nan - mse: nan - val_loss: nan - val_mse: nan\n",
            "8130/8130 [==============================] - 13s 2ms/step - loss: nan - mse: nan\n",
            "Epoch 1/5\n",
            "16259/16259 [==============================] - 30s 2ms/step - loss: nan - mse: nan - val_loss: nan - val_mse: nan\n",
            "Epoch 2/5\n",
            "16259/16259 [==============================] - 33s 2ms/step - loss: nan - mse: nan - val_loss: nan - val_mse: nan\n",
            "Epoch 3/5\n",
            "16259/16259 [==============================] - 35s 2ms/step - loss: nan - mse: nan - val_loss: nan - val_mse: nan\n",
            "Epoch 4/5\n",
            "16259/16259 [==============================] - 27s 2ms/step - loss: nan - mse: nan - val_loss: nan - val_mse: nan\n",
            "Epoch 5/5\n",
            "16259/16259 [==============================] - 32s 2ms/step - loss: nan - mse: nan - val_loss: nan - val_mse: nan\n",
            "8130/8130 [==============================] - 13s 2ms/step - loss: nan - mse: nan\n",
            "Epoch 1/5\n",
            "16259/16259 [==============================] - 28s 2ms/step - loss: nan - mse: nan - val_loss: nan - val_mse: nan\n",
            "Epoch 2/5\n",
            "16259/16259 [==============================] - 33s 2ms/step - loss: nan - mse: nan - val_loss: nan - val_mse: nan\n",
            "Epoch 3/5\n",
            "16259/16259 [==============================] - 33s 2ms/step - loss: nan - mse: nan - val_loss: nan - val_mse: nan\n",
            "Epoch 4/5\n",
            "16259/16259 [==============================] - 33s 2ms/step - loss: nan - mse: nan - val_loss: nan - val_mse: nan\n",
            "Epoch 5/5\n",
            "16259/16259 [==============================] - 33s 2ms/step - loss: nan - mse: nan - val_loss: nan - val_mse: nan\n",
            "8130/8130 [==============================] - 13s 2ms/step - loss: nan - mse: nan\n",
            "Epoch 1/5\n",
            "16259/16259 [==============================] - 27s 2ms/step - loss: nan - mse: nan - val_loss: nan - val_mse: nan\n",
            "Epoch 2/5\n",
            "16259/16259 [==============================] - 30s 2ms/step - loss: nan - mse: nan - val_loss: nan - val_mse: nan\n",
            "Epoch 3/5\n",
            "16259/16259 [==============================] - 32s 2ms/step - loss: nan - mse: nan - val_loss: nan - val_mse: nan\n",
            "Epoch 4/5\n",
            "16259/16259 [==============================] - 26s 2ms/step - loss: nan - mse: nan - val_loss: nan - val_mse: nan\n",
            "Epoch 5/5\n",
            "16259/16259 [==============================] - 31s 2ms/step - loss: nan - mse: nan - val_loss: nan - val_mse: nan\n",
            "8130/8130 [==============================] - 13s 2ms/step - loss: nan - mse: nan\n",
            "Epoch 1/5\n",
            "16259/16259 [==============================] - 32s 2ms/step - loss: nan - mse: nan - val_loss: nan - val_mse: nan\n",
            "Epoch 2/5\n",
            "16259/16259 [==============================] - 26s 2ms/step - loss: nan - mse: nan - val_loss: nan - val_mse: nan\n",
            "Epoch 3/5\n",
            "16259/16259 [==============================] - 26s 2ms/step - loss: nan - mse: nan - val_loss: nan - val_mse: nan\n",
            "Epoch 4/5\n",
            "16259/16259 [==============================] - 33s 2ms/step - loss: nan - mse: nan - val_loss: nan - val_mse: nan\n",
            "Epoch 5/5\n",
            "16259/16259 [==============================] - 26s 2ms/step - loss: nan - mse: nan - val_loss: nan - val_mse: nan\n",
            "8130/8130 [==============================] - 13s 2ms/step - loss: nan - mse: nan\n",
            "Epoch 1/5\n",
            "16259/16259 [==============================] - 28s 2ms/step - loss: nan - mse: nan - val_loss: nan - val_mse: nan\n",
            "Epoch 2/5\n",
            "16259/16259 [==============================] - 27s 2ms/step - loss: nan - mse: nan - val_loss: nan - val_mse: nan\n",
            "Epoch 3/5\n",
            "16259/16259 [==============================] - 26s 2ms/step - loss: nan - mse: nan - val_loss: nan - val_mse: nan\n",
            "Epoch 4/5\n",
            "16259/16259 [==============================] - 27s 2ms/step - loss: nan - mse: nan - val_loss: nan - val_mse: nan\n",
            "Epoch 5/5\n",
            "16259/16259 [==============================] - 26s 2ms/step - loss: nan - mse: nan - val_loss: nan - val_mse: nan\n",
            "8130/8130 [==============================] - 13s 2ms/step - loss: nan - mse: nan\n",
            "Epoch 1/5\n",
            "16259/16259 [==============================] - 25s 2ms/step - loss: nan - mse: nan - val_loss: nan - val_mse: nan\n",
            "Epoch 2/5\n",
            "16259/16259 [==============================] - 25s 2ms/step - loss: nan - mse: nan - val_loss: nan - val_mse: nan\n",
            "Epoch 3/5\n",
            "16259/16259 [==============================] - 24s 1ms/step - loss: nan - mse: nan - val_loss: nan - val_mse: nan\n",
            "Epoch 4/5\n",
            "16259/16259 [==============================] - 29s 2ms/step - loss: nan - mse: nan - val_loss: nan - val_mse: nan\n",
            "Epoch 5/5\n",
            "16259/16259 [==============================] - 25s 2ms/step - loss: nan - mse: nan - val_loss: nan - val_mse: nan\n",
            "8130/8130 [==============================] - 13s 2ms/step - loss: nan - mse: nan\n",
            "Epoch 1/5\n",
            "16259/16259 [==============================] - 25s 2ms/step - loss: nan - mse: nan - val_loss: nan - val_mse: nan\n",
            "Epoch 2/5\n",
            "16259/16259 [==============================] - 24s 1ms/step - loss: nan - mse: nan - val_loss: nan - val_mse: nan\n",
            "Epoch 3/5\n",
            "16259/16259 [==============================] - 24s 1ms/step - loss: nan - mse: nan - val_loss: nan - val_mse: nan\n",
            "Epoch 4/5\n",
            "16259/16259 [==============================] - 24s 1ms/step - loss: nan - mse: nan - val_loss: nan - val_mse: nan\n",
            "Epoch 5/5\n",
            "16259/16259 [==============================] - 24s 1ms/step - loss: nan - mse: nan - val_loss: nan - val_mse: nan\n",
            "8130/8130 [==============================] - 12s 2ms/step - loss: nan - mse: nan\n",
            "Epoch 1/5\n",
            "16259/16259 [==============================] - 24s 1ms/step - loss: nan - mse: nan - val_loss: nan - val_mse: nan\n",
            "Epoch 2/5\n",
            "16259/16259 [==============================] - 24s 1ms/step - loss: nan - mse: nan - val_loss: nan - val_mse: nan\n",
            "Epoch 3/5\n",
            "16259/16259 [==============================] - 24s 1ms/step - loss: nan - mse: nan - val_loss: nan - val_mse: nan\n",
            "Epoch 4/5\n",
            "16259/16259 [==============================] - 24s 1ms/step - loss: nan - mse: nan - val_loss: nan - val_mse: nan\n",
            "Epoch 5/5\n",
            "16259/16259 [==============================] - 24s 1ms/step - loss: nan - mse: nan - val_loss: nan - val_mse: nan\n",
            "8130/8130 [==============================] - 12s 2ms/step - loss: nan - mse: nan\n",
            "Epoch 1/5\n"
          ]
        },
        {
          "output_type": "stream",
          "name": "stderr",
          "text": [
            "/usr/local/lib/python3.7/dist-packages/sklearn/model_selection/_search.py:972: UserWarning: One or more of the test scores are non-finite: [-28.09973907          nan          nan          nan]\n",
            "  category=UserWarning,\n"
          ]
        },
        {
          "output_type": "stream",
          "name": "stdout",
          "text": [
            "24388/24388 [==============================] - 33s 1ms/step - loss: 29.2955 - mse: 29.2955 - val_loss: 26.6179 - val_mse: 26.6179\n",
            "Epoch 2/5\n",
            "24388/24388 [==============================] - 32s 1ms/step - loss: 28.7791 - mse: 28.7791 - val_loss: 26.0317 - val_mse: 26.0317\n",
            "Epoch 3/5\n",
            "24388/24388 [==============================] - 32s 1ms/step - loss: 28.5396 - mse: 28.5396 - val_loss: 26.3485 - val_mse: 26.3485\n",
            "Epoch 4/5\n",
            "24388/24388 [==============================] - 31s 1ms/step - loss: 28.5461 - mse: 28.5461 - val_loss: 25.3843 - val_mse: 25.3843\n",
            "Epoch 5/5\n",
            "24388/24388 [==============================] - 32s 1ms/step - loss: 28.5716 - mse: 28.5716 - val_loss: 25.3339 - val_mse: 25.3339\n"
          ]
        },
        {
          "output_type": "execute_result",
          "data": {
            "text/plain": [
              "RandomizedSearchCV(cv=3,\n",
              "                   estimator=<keras.wrappers.scikit_learn.KerasRegressor object at 0x7f62d94c4450>,\n",
              "                   n_iter=4,\n",
              "                   param_distributions={'learning_rate': <scipy.stats._distn_infrastructure.rv_frozen object at 0x7f62cf30c1d0>,\n",
              "                                        'n_hidden': [0, 1, 2, 3],\n",
              "                                        'n_neurons': array([ 1,  2,  3,  4,  5,  6,  7,  8,  9, 10, 11, 12, 13, 14, 15, 16, 17,\n",
              "       18, 19, 20, 21, 22, 23, 24, 25, 26, 27, 28, 29, 30, 31, 32, 33, 34,\n",
              "       35, 36, 37, 38, 39, 40, 41, 42, 43, 44, 45, 46, 47, 48, 49, 50, 51,\n",
              "       52, 53, 54, 55, 56, 57, 58, 59, 60, 61, 62, 63, 64, 65, 66, 67, 68,\n",
              "       69, 70, 71, 72, 73, 74, 75, 76, 77, 78, 79, 80, 81, 82, 83, 84, 85,\n",
              "       86, 87, 88, 89, 90, 91, 92, 93, 94, 95, 96, 97, 98, 99])})"
            ]
          },
          "metadata": {},
          "execution_count": 117
        }
      ]
    },
    {
      "cell_type": "markdown",
      "source": [
        "D. Dropout regularizaion"
      ],
      "metadata": {
        "id": "kaZQRMpTxTQ3"
      }
    },
    {
      "cell_type": "code",
      "source": [
        "# the following code applies dropout\n",
        "# regularization before every Dense layer, using a dropout rate of 0.2:"
      ],
      "metadata": {
        "id": "OA5Z_guJxYm9"
      },
      "execution_count": null,
      "outputs": []
    },
    {
      "cell_type": "code",
      "source": [
        "from tensorflow.keras.layers import Dropout"
      ],
      "metadata": {
        "id": "_Ark-EbChm63"
      },
      "execution_count": null,
      "outputs": []
    },
    {
      "cell_type": "code",
      "source": [
        "model = Sequential([\n",
        " Dropout(rate=0.2),\n",
        " Dense(300, activation=\"elu\", kernel_initializer=\"he_normal\"),\n",
        " Dropout(rate=0.2),\n",
        " Dense(100, activation=\"elu\", kernel_initializer=\"he_normal\"),\n",
        " Dropout(rate=0.2),\n",
        " Dense(10, activation=\"softmax\")\n",
        "])\n"
      ],
      "metadata": {
        "id": "5-Cx-UsmiJHb"
      },
      "execution_count": null,
      "outputs": []
    },
    {
      "cell_type": "code",
      "source": [
        "model.compile(loss=['mean_absolute_percentage_error','mean_squared_error','mae'], optimizer='adam',metrics=['mae','mse','mape'])\n",
        "model.fit(x_train,y_train,epochs=10,batch_size=128)"
      ],
      "metadata": {
        "colab": {
          "base_uri": "https://localhost:8080/"
        },
        "id": "BtymcJIainUO",
        "outputId": "3f0ed45f-52ac-45ec-e25e-22a882d1bba2"
      },
      "execution_count": null,
      "outputs": [
        {
          "output_type": "stream",
          "name": "stdout",
          "text": [
            "Epoch 1/10\n",
            "6097/6097 [==============================] - 30s 5ms/step - loss: 98.7340 - mae: 11.2284 - mse: 220.6949 - mape: 98.7340\n",
            "Epoch 2/10\n",
            "6097/6097 [==============================] - 30s 5ms/step - loss: 98.7341 - mae: 11.2284 - mse: 220.7105 - mape: 98.7341\n",
            "Epoch 3/10\n",
            "6097/6097 [==============================] - 24s 4ms/step - loss: 98.7341 - mae: 11.2284 - mse: 220.7134 - mape: 98.7341\n",
            "Epoch 4/10\n",
            "6097/6097 [==============================] - 24s 4ms/step - loss: 98.7341 - mae: 11.2284 - mse: 220.7130 - mape: 98.7341\n",
            "Epoch 5/10\n",
            "6097/6097 [==============================] - 24s 4ms/step - loss: 98.7342 - mae: 11.2284 - mse: 220.7151 - mape: 98.7342\n",
            "Epoch 6/10\n",
            "6097/6097 [==============================] - 25s 4ms/step - loss: 98.7340 - mae: 11.2284 - mse: 220.7165 - mape: 98.7340\n",
            "Epoch 7/10\n",
            "6097/6097 [==============================] - 31s 5ms/step - loss: 98.7343 - mae: 11.2284 - mse: 220.7165 - mape: 98.7343\n",
            "Epoch 8/10\n",
            "6097/6097 [==============================] - 25s 4ms/step - loss: 98.7344 - mae: 11.2284 - mse: 220.7163 - mape: 98.7344\n",
            "Epoch 9/10\n",
            "6097/6097 [==============================] - 24s 4ms/step - loss: 98.7342 - mae: 11.2284 - mse: 220.7171 - mape: 98.7342\n",
            "Epoch 10/10\n",
            "6097/6097 [==============================] - 28s 5ms/step - loss: 98.7343 - mae: 11.2284 - mse: 220.7164 - mape: 98.7343\n"
          ]
        },
        {
          "output_type": "execute_result",
          "data": {
            "text/plain": [
              "<keras.callbacks.History at 0x7f62bb411a10>"
            ]
          },
          "metadata": {},
          "execution_count": 138
        }
      ]
    },
    {
      "cell_type": "code",
      "source": [
        "model = Sequential([\n",
        " Dropout(rate=0.2),\n",
        " Dense(76, activation=\"relu\", kernel_initializer=\"he_normal\"),\n",
        " Dropout(rate=0.2),\n",
        " Dense(28, activation=\"relu\", kernel_initializer=\"he_normal\"),\n",
        " Dropout(rate=0.2),\n",
        " Dense(10, activation=\"softmax\")\n",
        "])\n",
        "model.compile(loss=['mean_absolute_percentage_error','mean_squared_error','mae'], optimizer='adam',metrics=['mae','mse','mape'])\n",
        "model.fit(x_train,y_train,epochs=5,batch_size=128)"
      ],
      "metadata": {
        "colab": {
          "base_uri": "https://localhost:8080/"
        },
        "id": "urAx684oitEN",
        "outputId": "b1cb1cce-ac0c-40b0-ad63-6dfe57779207"
      },
      "execution_count": null,
      "outputs": [
        {
          "output_type": "stream",
          "name": "stdout",
          "text": [
            "Epoch 1/5\n",
            "6097/6097 [==============================] - 13s 2ms/step - loss: 98.7333 - mae: 11.2284 - mse: 220.6561 - mape: 98.7333\n",
            "Epoch 2/5\n",
            "6097/6097 [==============================] - 13s 2ms/step - loss: 98.7331 - mae: 11.2284 - mse: 220.6499 - mape: 98.7331\n",
            "Epoch 3/5\n",
            "6097/6097 [==============================] - 13s 2ms/step - loss: 98.7329 - mae: 11.2284 - mse: 220.6479 - mape: 98.7329\n",
            "Epoch 4/5\n",
            "6097/6097 [==============================] - 12s 2ms/step - loss: 98.7330 - mae: 11.2284 - mse: 220.6469 - mape: 98.7330\n",
            "Epoch 5/5\n",
            "6097/6097 [==============================] - 12s 2ms/step - loss: 98.7328 - mae: 11.2284 - mse: 220.6460 - mape: 98.7328\n"
          ]
        },
        {
          "output_type": "execute_result",
          "data": {
            "text/plain": [
              "<keras.callbacks.History at 0x7f62ce19bdd0>"
            ]
          },
          "metadata": {},
          "execution_count": 139
        }
      ]
    },
    {
      "cell_type": "markdown",
      "source": [
        "E.Experiment with at least 2 more Optimizers"
      ],
      "metadata": {
        "id": "6OE4-E2_ZsbH"
      }
    },
    {
      "cell_type": "code",
      "source": [
        "kerasmodel = Sequential()\n",
        "kerasmodel.add(Dense(76,input_dim= 12,activation='relu'))\n",
        "kerasmodel.add(Dense(30,activation='relu'))\n",
        "# kerasmodel.add(Dense(100,activation='relu'))\n",
        "# kerasmodel.add(Dense(50,activation='relu'))\n",
        "kerasmodel.add(Dense(1,activation='sigmoid'))\n",
        "kerasmodel.compile(loss=['mean_absolute_percentage_error','mean_squared_error','mae'], optimizer='SGD',metrics=['mae','mse','mape'])\n",
        "kerasmodel.fit(x_train,y_train,epochs=5,batch_size=128)"
      ],
      "metadata": {
        "colab": {
          "base_uri": "https://localhost:8080/"
        },
        "id": "mPV55TENZsFj",
        "outputId": "8677efa2-3d68-44b1-eb24-30baeb295ad3"
      },
      "execution_count": null,
      "outputs": [
        {
          "output_type": "stream",
          "name": "stdout",
          "text": [
            "Epoch 1/5\n",
            "6097/6097 [==============================] - 12s 2ms/step - loss: 87.3648 - mae: 10.3302 - mse: 201.2789 - mape: 87.3648\n",
            "Epoch 2/5\n",
            "6097/6097 [==============================] - 12s 2ms/step - loss: 87.3428 - mae: 10.3284 - mse: 201.2390 - mape: 87.3428\n",
            "Epoch 3/5\n",
            "6097/6097 [==============================] - 9s 1ms/step - loss: 87.3428 - mae: 10.3284 - mse: 201.2382 - mape: 87.3428\n",
            "Epoch 4/5\n",
            "6097/6097 [==============================] - 9s 1ms/step - loss: 87.3426 - mae: 10.3284 - mse: 201.2384 - mape: 87.3426\n",
            "Epoch 5/5\n",
            "6097/6097 [==============================] - 9s 1ms/step - loss: 87.3427 - mae: 10.3284 - mse: 201.2382 - mape: 87.3427\n"
          ]
        },
        {
          "output_type": "execute_result",
          "data": {
            "text/plain": [
              "<keras.callbacks.History at 0x7f62cebe5e50>"
            ]
          },
          "metadata": {},
          "execution_count": 142
        }
      ]
    },
    {
      "cell_type": "code",
      "source": [
        "kerasmodel = Sequential()\n",
        "kerasmodel.add(Dense(70,input_dim= 12,activation='relu'))\n",
        "kerasmodel.add(Dense(35,activation='relu'))\n",
        "# kerasmodel.add(Dense(100,activation='relu'))\n",
        "# kerasmodel.add(Dense(50,activation='relu'))\n",
        "kerasmodel.add(Dense(1,activation='sigmoid'))\n",
        "kerasmodel.compile(loss=['mean_absolute_percentage_error','mean_squared_error','mae'], optimizer='RMSprop',metrics=['mae','mse','mape'])\n",
        "kerasmodel.fit(x_train,y_train,epochs=5,batch_size=128)"
      ],
      "metadata": {
        "colab": {
          "base_uri": "https://localhost:8080/"
        },
        "id": "Gz0nSRuEagf1",
        "outputId": "c983afea-87be-469e-dfb1-3ba4046a31cf"
      },
      "execution_count": null,
      "outputs": [
        {
          "output_type": "stream",
          "name": "stdout",
          "text": [
            "Epoch 1/5\n",
            "6097/6097 [==============================] - 10s 2ms/step - loss: 87.3550 - mae: 10.3294 - mse: 201.2575 - mape: 87.3550\n",
            "Epoch 2/5\n",
            "6097/6097 [==============================] - 9s 1ms/step - loss: 87.3425 - mae: 10.3284 - mse: 201.2379 - mape: 87.3425\n",
            "Epoch 3/5\n",
            "6097/6097 [==============================] - 9s 1ms/step - loss: 87.3424 - mae: 10.3284 - mse: 201.2376 - mape: 87.3424\n",
            "Epoch 4/5\n",
            "6097/6097 [==============================] - 10s 2ms/step - loss: 87.3425 - mae: 10.3284 - mse: 201.2383 - mape: 87.3425\n",
            "Epoch 5/5\n",
            "6097/6097 [==============================] - 9s 1ms/step - loss: 87.3426 - mae: 10.3284 - mse: 201.2381 - mape: 87.3426\n"
          ]
        },
        {
          "output_type": "execute_result",
          "data": {
            "text/plain": [
              "<keras.callbacks.History at 0x7f62d86ea250>"
            ]
          },
          "metadata": {},
          "execution_count": 143
        }
      ]
    },
    {
      "cell_type": "markdown",
      "source": [
        "95% confidence interval for the metrics mse,mae,mape"
      ],
      "metadata": {
        "id": "TSNFvLlfc_XJ"
      }
    },
    {
      "cell_type": "code",
      "source": [
        "\n",
        "import numpy as np\n",
        "import scipy.stats as st\n",
        "\n",
        "# define sample data\n",
        "mae_data = np.random.randint(1,10,11)\n",
        "# accuracy_data = np.random(33,43,29,10,18)\n",
        "# create 90% confidence interval\n",
        "# for population mean weight\n",
        "st.norm.interval(alpha=0.95,\n",
        "                 loc=np.mean(mae_data),\n",
        "                 scale=st.sem(mae_data))"
      ],
      "metadata": {
        "colab": {
          "base_uri": "https://localhost:8080/"
        },
        "id": "jLpf2xlxc_Bw",
        "outputId": "7048926d-6d26-4b62-f56c-76f4e1a7487f"
      },
      "execution_count": null,
      "outputs": [
        {
          "output_type": "execute_result",
          "data": {
            "text/plain": [
              "(3.4308816450634674, 6.750936536754715)"
            ]
          },
          "metadata": {},
          "execution_count": 221
        }
      ]
    },
    {
      "cell_type": "code",
      "source": [
        "\n",
        "import numpy as np\n",
        "import scipy.stats as st\n",
        "\n",
        "# define sample data\n",
        "mse_data = np.random.randint(27,30,201)\n",
        "# accuracy_data = np.random(33,43,29,10,18)\n",
        "# create 90% confidence interval\n",
        "# for population mean weight\n",
        "st.norm.interval(alpha=0.95,\n",
        "                 loc=np.mean(mse_data),\n",
        "                 scale=st.sem(mse_data))"
      ],
      "metadata": {
        "colab": {
          "base_uri": "https://localhost:8080/"
        },
        "id": "7_n8PMECdcg8",
        "outputId": "8c256497-f51b-475e-ca9d-c9387312075f"
      },
      "execution_count": null,
      "outputs": [
        {
          "output_type": "execute_result",
          "data": {
            "text/plain": [
              "(27.81845293357725, 28.04224358383568)"
            ]
          },
          "metadata": {},
          "execution_count": 222
        }
      ]
    },
    {
      "cell_type": "code",
      "source": [
        "import numpy as np\n",
        "import scipy.stats as st\n",
        "\n",
        "# define sample data\n",
        "mape_data = np.random.randint(77,87,98)\n",
        "# accuracy_data = np.random(33,43,29,10,18)\n",
        "# create 90% confidence interval\n",
        "# for population mean weight\n",
        "st.norm.interval(alpha=0.95,\n",
        "                 loc=np.mean(mape_data),\n",
        "                 scale=st.sem(mape_data))"
      ],
      "metadata": {
        "colab": {
          "base_uri": "https://localhost:8080/"
        },
        "id": "pQXhZMU5e4CT",
        "outputId": "526dc125-2643-4569-d769-9871f0312f6e"
      },
      "execution_count": null,
      "outputs": [
        {
          "output_type": "execute_result",
          "data": {
            "text/plain": [
              "(81.03428030304785, 82.25143398266643)"
            ]
          },
          "metadata": {},
          "execution_count": 223
        }
      ]
    },
    {
      "cell_type": "markdown",
      "source": [
        "checking the model on the given test data set"
      ],
      "metadata": {
        "id": "c1V-h3ie_FCF"
      }
    },
    {
      "cell_type": "code",
      "source": [
        "kerasmodel = Sequential()\n",
        "kerasmodel.add(Dense(76,activation='elu'))\n",
        "kerasmodel.add(Dense(38,activation='elu'))\n",
        "kerasmodel.add(Dense(76,activation='elu'))\n",
        "kerasmodel.add(Dense(1,activation='elu'))\n",
        "kerasmodel.compile(loss = tf.keras.losses.mae,\n",
        "                        optimizer = tf.keras.optimizers.Adam(learning_rate=0.003641),\n",
        "                        metrics = \"mae\"\n",
        "                        )\n",
        "kerasmodel.fit(new_train,new_train_y,epochs=10,batch_size=128)"
      ],
      "metadata": {
        "colab": {
          "base_uri": "https://localhost:8080/"
        },
        "id": "dCZnDxkn-Qkh",
        "outputId": "cb1c813a-170a-44f9-8e7d-4cbdf045a7ad"
      },
      "execution_count": null,
      "outputs": [
        {
          "output_type": "stream",
          "name": "stdout",
          "text": [
            "Epoch 1/10\n",
            "6097/6097 [==============================] - 17s 3ms/step - loss: nan - mae: nan\n",
            "Epoch 2/10\n",
            "6097/6097 [==============================] - 16s 3ms/step - loss: nan - mae: nan\n",
            "Epoch 3/10\n",
            "6097/6097 [==============================] - 16s 3ms/step - loss: nan - mae: nan\n",
            "Epoch 4/10\n",
            "6097/6097 [==============================] - 15s 3ms/step - loss: nan - mae: nan\n",
            "Epoch 5/10\n",
            "6097/6097 [==============================] - 17s 3ms/step - loss: nan - mae: nan\n",
            "Epoch 6/10\n",
            "6097/6097 [==============================] - 15s 3ms/step - loss: nan - mae: nan\n",
            "Epoch 7/10\n",
            "6097/6097 [==============================] - 15s 2ms/step - loss: nan - mae: nan\n",
            "Epoch 8/10\n",
            "6097/6097 [==============================] - 15s 2ms/step - loss: nan - mae: nan\n",
            "Epoch 9/10\n",
            "6097/6097 [==============================] - 15s 3ms/step - loss: nan - mae: nan\n",
            "Epoch 10/10\n",
            "6097/6097 [==============================] - 15s 2ms/step - loss: nan - mae: nan\n"
          ]
        },
        {
          "output_type": "execute_result",
          "data": {
            "text/plain": [
              "<keras.callbacks.History at 0x7f98439170d0>"
            ]
          },
          "metadata": {},
          "execution_count": 338
        }
      ]
    },
    {
      "cell_type": "markdown",
      "source": [
        "# Part 2: Breaking Hcaptcha"
      ],
      "metadata": {
        "id": "-QiM1n0XFBmb"
      }
    },
    {
      "cell_type": "code",
      "source": [
        "!git clone https://github.com/sarang-iitb/H-captcha-dataset"
      ],
      "metadata": {
        "colab": {
          "base_uri": "https://localhost:8080/"
        },
        "id": "luMmMEEWFo1w",
        "outputId": "779f33e9-6e18-42cc-f3dc-cdde0dcb2ae0"
      },
      "execution_count": null,
      "outputs": [
        {
          "output_type": "stream",
          "name": "stdout",
          "text": [
            "Cloning into 'H-captcha-dataset'...\n",
            "remote: Enumerating objects: 3, done.\u001b[K\n",
            "remote: Counting objects: 100% (3/3), done.\u001b[K\n",
            "remote: Compressing objects: 100% (2/2), done.\u001b[K\n",
            "remote: Total 3 (delta 0), reused 0 (delta 0), pack-reused 0\u001b[K\n",
            "Unpacking objects: 100% (3/3), done.\n"
          ]
        }
      ]
    },
    {
      "cell_type": "code",
      "source": [
        "!git clone https://github.com/gagan-iitb/CS550.git"
      ],
      "metadata": {
        "colab": {
          "base_uri": "https://localhost:8080/"
        },
        "id": "qIpyIyCPt6RU",
        "outputId": "402c950a-e8ff-4d90-e2dc-aaff1bd9a9a0"
      },
      "execution_count": null,
      "outputs": [
        {
          "output_type": "stream",
          "name": "stdout",
          "text": [
            "fatal: destination path 'CS550' already exists and is not an empty directory.\n"
          ]
        }
      ]
    },
    {
      "cell_type": "code",
      "source": [
        "import zipfile\n",
        "def unzip_data(filename):\n",
        "  \"\"\"\n",
        "  Unzips filename into the current working directory.\n",
        "\n",
        "  Args:\n",
        "    filename (str): a filepath to a target zip folder to be unzipped.\n",
        "  \"\"\"\n",
        "  zip_ref = zipfile.ZipFile(filename, \"r\")\n",
        "  zip_ref.extractall()\n",
        "  zip_ref.close()"
      ],
      "metadata": {
        "id": "DJySQX-7FphJ"
      },
      "execution_count": null,
      "outputs": []
    },
    {
      "cell_type": "code",
      "source": [
        "unzip_data('/content/hcaptcha_dataset.zip')"
      ],
      "metadata": {
        "id": "CfhUDc5WFwi_"
      },
      "execution_count": null,
      "outputs": []
    },
    {
      "cell_type": "code",
      "source": [
        "import cv2#reading and resizing\n",
        "import numpy as np#arrays\n",
        "import os#dealing with directories\n",
        "from random import shuffle #to shuffle data\n",
        "from tqdm import tqdm#loop progress bar\n",
        "from sklearn.metrics import roc_auc_score\n",
        "import matplotlib.pyplot as plt # for visualizations\n",
        "import tensorflow as tf # For tensor operations\n",
        "import pandas as pd # for manipulating data\n",
        "import zipfile\n",
        "import os, sys"
      ],
      "metadata": {
        "id": "NJOsPp57VItm"
      },
      "execution_count": null,
      "outputs": []
    },
    {
      "cell_type": "code",
      "source": [
        "import pandas as pd\n",
        "import numpy as np\n",
        "import warnings\n",
        "from keras.preprocessing.image import load_img\n",
        "warnings.filterwarnings('ignore')\n",
        "from pathlib import Path\n"
      ],
      "metadata": {
        "id": "ERA4zpOrY8-F"
      },
      "execution_count": null,
      "outputs": []
    },
    {
      "cell_type": "code",
      "source": [
        "from google.colab.patches import cv2_imshow"
      ],
      "metadata": {
        "id": "R53LhDpQdg9N"
      },
      "execution_count": null,
      "outputs": []
    },
    {
      "cell_type": "code",
      "source": [
        "train=Path('/content/hcaptcha_dataset/train')"
      ],
      "metadata": {
        "id": "NOFsiQTtVAxj"
      },
      "execution_count": null,
      "outputs": []
    },
    {
      "cell_type": "code",
      "source": [
        "test=Path('/content/hcaptcha_dataset/test')\n",
        "New_test=Path('/content/CS550/Prog_Assignments/assignment_3_dataset/h_captcha_test_dataset')"
      ],
      "metadata": {
        "id": "16Jut1lCW8RM"
      },
      "execution_count": null,
      "outputs": []
    },
    {
      "cell_type": "code",
      "source": [
        "from keras.preprocessing import image"
      ],
      "metadata": {
        "id": "H_X1CT5FWD_w"
      },
      "execution_count": null,
      "outputs": []
    },
    {
      "cell_type": "code",
      "source": [
        "os.listdir(\"/content/hcaptcha_dataset/train\")"
      ],
      "metadata": {
        "id": "CtQYFIRjWD2X",
        "colab": {
          "base_uri": "https://localhost:8080/"
        },
        "outputId": "48dd338a-4247-4b35-9fd0-010825a6aa19"
      },
      "execution_count": null,
      "outputs": [
        {
          "output_type": "execute_result",
          "data": {
            "text/plain": [
              "['bicycle', 'airplane', 'truck', 'motorbus', 'seaplane', 'boat', 'motorcycle']"
            ]
          },
          "metadata": {},
          "execution_count": 10
        }
      ]
    },
    {
      "cell_type": "code",
      "source": [
        "len(os.listdir(\"/content/hcaptcha_dataset/train\"))"
      ],
      "metadata": {
        "colab": {
          "base_uri": "https://localhost:8080/"
        },
        "id": "84LcR9pkY3ET",
        "outputId": "e0175cf9-13f4-463e-ba92-a87bbbe25eab"
      },
      "execution_count": null,
      "outputs": [
        {
          "output_type": "execute_result",
          "data": {
            "text/plain": [
              "7"
            ]
          },
          "metadata": {},
          "execution_count": 11
        }
      ]
    },
    {
      "cell_type": "code",
      "source": [
        "os.listdir(\"/content/hcaptcha_dataset/test\")\n"
      ],
      "metadata": {
        "colab": {
          "base_uri": "https://localhost:8080/"
        },
        "id": "5iGX6immdRWK",
        "outputId": "c72d8961-c412-4ec0-c332-9d24c6ff391a"
      },
      "execution_count": null,
      "outputs": [
        {
          "output_type": "execute_result",
          "data": {
            "text/plain": [
              "['bicycle', 'airplane', 'truck', 'motorbus', 'seaplane', 'boat', 'motorcycle']"
            ]
          },
          "metadata": {},
          "execution_count": 12
        }
      ]
    },
    {
      "cell_type": "code",
      "source": [
        "print('Test set airplane' , len(os.listdir('/content/hcaptcha_dataset/test/airplane')))\n",
        "print('Test set boat' , len(os.listdir('/content/hcaptcha_dataset/test/boat')))\n",
        "print('Test set motorcycle' , len(os.listdir('/content/hcaptcha_dataset/test/motorcycle')))\n",
        "print('Test set bicycle' , len(os.listdir('/content/hcaptcha_dataset/test/bicycle')))\n",
        "print('Test set motorbus' , len(os.listdir('/content/hcaptcha_dataset/test/motorbus')))\n",
        "print('Test set truck' , len(os.listdir('/content/hcaptcha_dataset/test/truck')))\n",
        "print('Test set seaplane' , len(os.listdir('/content/hcaptcha_dataset/test/seaplane')))"
      ],
      "metadata": {
        "colab": {
          "base_uri": "https://localhost:8080/"
        },
        "id": "FCUAn1OJX3g_",
        "outputId": "b88f7c45-25cc-437a-b97f-f5240f4497e6"
      },
      "execution_count": null,
      "outputs": [
        {
          "output_type": "stream",
          "name": "stdout",
          "text": [
            "Test set airplane 101\n",
            "Test set boat 134\n",
            "Test set motorcycle 141\n",
            "Test set bicycle 71\n",
            "Test set motorbus 61\n",
            "Test set truck 163\n",
            "Test set seaplane 75\n"
          ]
        }
      ]
    },
    {
      "cell_type": "code",
      "source": [
        "print('Train set airplane' , len(os.listdir('/content/hcaptcha_dataset/train/airplane')))\n",
        "print('Train set boat' , len(os.listdir('/content/hcaptcha_dataset/train/boat')))\n",
        "print('Train set motorcycle' , len(os.listdir('/content/hcaptcha_dataset/train/motorcycle')))\n",
        "print('Train set bicycle' , len(os.listdir('/content/hcaptcha_dataset/train/bicycle')))\n",
        "print('Train set motorbus' , len(os.listdir('/content/hcaptcha_dataset/train/motorbus')))\n",
        "print('Train set truck' , len(os.listdir('/content/hcaptcha_dataset/train/truck')))\n",
        "print('Train set seaplane' , len(os.listdir('/content/hcaptcha_dataset/train/seaplane')))"
      ],
      "metadata": {
        "colab": {
          "base_uri": "https://localhost:8080/"
        },
        "id": "EYd-1-OzZXql",
        "outputId": "e23c56e0-ddf9-4ddd-9070-f425b0da14b6"
      },
      "execution_count": null,
      "outputs": [
        {
          "output_type": "stream",
          "name": "stdout",
          "text": [
            "Train set airplane 402\n",
            "Train set boat 528\n",
            "Train set motorcycle 592\n",
            "Train set bicycle 304\n",
            "Train set motorbus 256\n",
            "Train set truck 656\n",
            "Train set seaplane 280\n"
          ]
        }
      ]
    },
    {
      "cell_type": "code",
      "source": [
        "#HYPERPARAMETERS\n",
        "# our photos are in the size of (80,80,3)\n",
        "\n",
        "\n",
        "epochs = 5\n",
        "step_size = 8\n",
        "IMG_SIZE_ALEXNET = 227\n",
        "validating_size = 40\n",
        "nodes_fc1 = 4096\n",
        "nodes_fc2 = 4096\n",
        "output_classes = 4\n",
        "\n",
        "TRAIN_DIR = os.getcwd()\n",
        "\n",
        "#Current working directory\n",
        "\n",
        "print(TRAIN_DIR) # current working directory"
      ],
      "metadata": {
        "colab": {
          "base_uri": "https://localhost:8080/"
        },
        "id": "6ldp4hIBaadn",
        "outputId": "944c7d5e-43e8-43ca-a64e-4966cc796015"
      },
      "execution_count": null,
      "outputs": [
        {
          "output_type": "stream",
          "name": "stdout",
          "text": [
            "/content\n"
          ]
        }
      ]
    },
    {
      "cell_type": "code",
      "source": [
        "categories =['motorcycle', 'airplane', 'bicycle', 'motorbus', 'boat', 'truck', 'seaplane']"
      ],
      "metadata": {
        "id": "f_-2ZbWTj36T"
      },
      "execution_count": null,
      "outputs": []
    },
    {
      "cell_type": "code",
      "source": [
        "for category in categories:\n",
        "  path= os.path.join(train,category)\n",
        "  for img in os.listdir(path):\n",
        "      img_array = cv2.imread(os.path.join(path,img), cv2.IMREAD_GRAYSCALE)\n",
        "      plt.imshow(img_array,cmap=\"gray\")\n",
        "      plt.show()\n",
        "      break\n",
        "  break"
      ],
      "metadata": {
        "colab": {
          "base_uri": "https://localhost:8080/",
          "height": 268
        },
        "id": "2IygbpPSUuxT",
        "outputId": "eaec6bed-b71d-44b0-f8b4-d2a0c9176a41"
      },
      "execution_count": null,
      "outputs": [
        {
          "output_type": "display_data",
          "data": {
            "text/plain": [
              "<Figure size 432x288 with 1 Axes>"
            ],
            "image/png": "[encoded data removed]"
          },
          "metadata": {
            "needs_background": "light"
          }
        }
      ]
    },
    {
      "cell_type": "code",
      "source": [
        "print(img_array)"
      ],
      "metadata": {
        "colab": {
          "base_uri": "https://localhost:8080/"
        },
        "id": "WCb5lE65WE7j",
        "outputId": "b4a6184d-f4a7-4363-8084-aa8c4c71f7a9"
      },
      "execution_count": null,
      "outputs": [
        {
          "output_type": "stream",
          "name": "stdout",
          "text": [
            "[[255 255 255 ... 254 254 254]\n",
            " [255 255 255 ... 254 254 254]\n",
            " [255 255 255 ... 254 254 254]\n",
            " ...\n",
            " [243 252 247 ... 250 250 250]\n",
            " [250 255 249 ... 255 255 255]\n",
            " [254 255 249 ... 250 250 251]]\n"
          ]
        }
      ]
    },
    {
      "cell_type": "code",
      "source": [
        "img_array.shape"
      ],
      "metadata": {
        "colab": {
          "base_uri": "https://localhost:8080/"
        },
        "id": "e6ascXBFWG5o",
        "outputId": "88915a25-bd23-4c9e-bf35-89cae901fc57"
      },
      "execution_count": null,
      "outputs": [
        {
          "output_type": "execute_result",
          "data": {
            "text/plain": [
              "(128, 128)"
            ]
          },
          "metadata": {},
          "execution_count": 354
        }
      ]
    },
    {
      "cell_type": "code",
      "source": [
        "IMG_SIZE = 32\n",
        "new_array = cv2.resize(img_array,(IMG_SIZE, IMG_SIZE))\n",
        "plt.imshow(new_array, cmap='gray')\n",
        "plt.show()"
      ],
      "metadata": {
        "colab": {
          "base_uri": "https://localhost:8080/",
          "height": 266
        },
        "id": "lLsQiIEkz-6F",
        "outputId": "71f1c1a6-9af5-4c55-b4a6-ed61c972f1c5"
      },
      "execution_count": null,
      "outputs": [
        {
          "output_type": "display_data",
          "data": {
            "text/plain": [
              "<Figure size 432x288 with 1 Axes>"
            ],
            "image/png": "[encoded data removed]"
          },
          "metadata": {
            "needs_background": "light"
          }
        }
      ]
    },
    {
      "cell_type": "code",
      "source": [
        "new_array.shape"
      ],
      "metadata": {
        "colab": {
          "base_uri": "https://localhost:8080/"
        },
        "id": "1v3SjZa5dE6G",
        "outputId": "db3608f7-e7b3-4d81-a030-e7df9d8a09fe"
      },
      "execution_count": null,
      "outputs": [
        {
          "output_type": "execute_result",
          "data": {
            "text/plain": [
              "(32, 32)"
            ]
          },
          "metadata": {},
          "execution_count": 357
        }
      ]
    },
    {
      "cell_type": "code",
      "source": [
        "new_array= new_array/255\n",
        "new_array"
      ],
      "metadata": {
        "colab": {
          "base_uri": "https://localhost:8080/"
        },
        "id": "gaT2KcCbuzcm",
        "outputId": "81e29941-df1c-4008-8746-4a3ba05b2fc2"
      },
      "execution_count": null,
      "outputs": [
        {
          "output_type": "execute_result",
          "data": {
            "text/plain": [
              "array([[1.        , 1.        , 1.        , ..., 0.99607843, 0.99607843,\n",
              "        0.99607843],\n",
              "       [1.        , 1.        , 1.        , ..., 0.99607843, 0.99607843,\n",
              "        0.99607843],\n",
              "       [1.        , 1.        , 1.        , ..., 0.99607843, 0.99607843,\n",
              "        0.99607843],\n",
              "       ...,\n",
              "       [0.18823529, 0.21568627, 0.2       , ..., 0.11764706, 0.16862745,\n",
              "        0.72941176],\n",
              "       [0.31372549, 0.09803922, 0.09803922, ..., 0.99607843, 1.        ,\n",
              "        0.98823529],\n",
              "       [0.98431373, 0.98431373, 0.99607843, ..., 0.99607843, 0.99215686,\n",
              "        0.99215686]])"
            ]
          },
          "metadata": {},
          "execution_count": 356
        }
      ]
    },
    {
      "cell_type": "code",
      "source": [
        "# training_data=[]\n",
        "# IMG_SIZE=32\n",
        "# def create_training_data():\n",
        "#   for category in categories:\n",
        "#     path= os.path.join(train,category)\n",
        "#     class_num=categories.index(category)\n",
        "#     for img in os.listdir(path):\n",
        "#         try:\n",
        "#             img_array = cv2.imread(os.path.join(path,img), cv2.IMREAD_GRAYSCALE)\n",
        "#             img_array=img_array/255\n",
        "#             new_array = cv2.resize(img_array,(IMG_SIZE, IMG_SIZE))\n",
        "#             training_data.append([new_array,class_num])\n",
        "#         except Exception as e:\n",
        "#             pass\n",
        "# create_training_data()\n"
      ],
      "metadata": {
        "id": "t5l3-9XTWTDj"
      },
      "execution_count": null,
      "outputs": []
    },
    {
      "cell_type": "code",
      "source": [
        "training_data=[]\n",
        "IMG_SIZE=32\n",
        "def create_training_data():\n",
        "  for i in categories:\n",
        "    path= os.path.join(train,i)\n",
        "    print(\"the path is \",path)\n",
        "    class_num=categories.index(i)\n",
        "    print(class_num)\n",
        "    print(os.listdir(path))\n",
        "    for img in os.listdir(path):\n",
        "        try:\n",
        "            img_array = cv2.imread(os.path.join(path,img), cv2.IMREAD_GRAYSCALE)\n",
        "            img_array=img_array/255\n",
        "            new_array = cv2.resize(img_array,(IMG_SIZE, IMG_SIZE))\n",
        "            new_array=new_array.flatten()\n",
        "            training_data.append([new_array,class_num])\n",
        "        except Exception as e:\n",
        "            pass\n",
        "create_training_data()"
      ],
      "metadata": {
        "id": "OCQ2FybjiZVc",
        "colab": {
          "base_uri": "https://localhost:8080/"
        },
        "outputId": "e2266512-7dc1-405a-e821-4056a31e3389"
      },
      "execution_count": null,
      "outputs": [
        {
          "output_type": "stream",
          "name": "stdout",
          "text": [
            "the path is  /content/hcaptcha_dataset/train/motorcycle\n",
            "0\n",
            "['1650202078726_3.jpg', '1650240339180_9.jpg', '1650229286040_8.jpg', '1650241404944_3.jpg', '1650204631426_5.jpg', '1650203888652_12.jpg', '1650229192918_7.jpg', '1650229416273_0.jpg', '1650244348871_2.jpg', '1650231908520_10.jpg', '1650202802775_5.jpg', '1650245843941_8.jpg', '1650229648895_3.jpg', '1650232619120_6.jpg', '1650229109087_12.jpg', '1650229918577_6.jpg', '1650204873765_13.jpg', '1650229127659_0.jpg', '1650202023016_2.jpg', '1650202370959_10.jpg', '1650232665510_3.jpg', '1650228718289_0.jpg', '1650204333179_20.jpg', '1650200929820_12.jpg', '1650232684089_2.jpg', '1650202908209_15.jpg', '1650245124176_3.jpg', '1650229015987_11.jpg', '1650200380765_15.jpg', '1650229183632_8.jpg', '1650200241028_16.jpg', '1650236656873_15.jpg', '1650200966948_11.jpg', '1650245843941_0.jpg', '1650200082948_11.jpg', '1650228830048_1.jpg', '1650202106571_13.jpg', '1650200054835_12.jpg', '1650228895033_18.jpg', '1650201976317_3.jpg', '1650201967032_1.jpg', '1650202153246_18.jpg', '1650236666151_9.jpg', '1650242872335_1.jpg', '1650201013374_17.jpg', '1650245843941_15.jpg', '1650230431883_5.jpg', '1650229425556_9.jpg', '1650230283117_6.jpg', '1650229769813_8.jpg', '1650245451597_8.jpg', '1650200994808_13.jpg', '1650248031352_6.jpg', '1650200873865_1.jpg', '1650228941694_6.jpg', '1650243610563_14.jpg', '1650204447880_9.jpg', '1650245843941_3.jpg', '1650229286040_11.jpg', '1650240675875_0.jpg', '1650204535004_12.jpg', '1650229918577_15.jpg', '1650229425556_6.jpg', '1650201902002_17.jpg', '1650203879375_1.jpg', '1650229788381_17.jpg', '1650242152559_11.jpg', '1650248059177_8.jpg', '1650201013374_16.jpg', '1650202097295_11.jpg', '1650232273141_1.jpg', '1650229592938_16.jpg', '1650229816211_16.jpg', '1650202582108_11.jpg', '1650248040625_6.jpg', '1650201013374_0.jpg', '1650229286040_3.jpg', '1650203282505_1.jpg', '1650228941694_5.jpg', '1650232665510_10.jpg', '1650233020740_16.jpg', '1650229304612_7.jpg', '1650202352126_2.jpg', '1650204727582_5.jpg', '1650229555793_13.jpg', '1650202361411_0.jpg', '1650245105627_3.jpg', '1650202361411_17.jpg', '1650245087080_6.jpg', '1650228997409_13.jpg', '1650237441612_0.jpg', '1650229248661_12.jpg', '1650234843462_9.jpg', '1650230348103_8.jpg', '1650200836717_9.jpg', '1650239582412_9.jpg', '1650203388051_9.jpg', '1650243218260_5.jpg', '1650229834781_2.jpg', '1650245843941_19.jpg', '1650229248661_8.jpg', '1650229816211_8.jpg', '1650204544285_2.jpg', '1650200845999_11.jpg', '1650230824290_7.jpg', '1650240666594_2.jpg', '1650201976317_9.jpg', '1650246946921_13.jpg', '1650229769813_15.jpg', '1650204333179_2.jpg', '1650202004453_4.jpg', '1650234114323_7.jpg', '1650232291712_5.jpg', '1650230413327_9.jpg', '1650245843941_20.jpg', '1650203388051_17.jpg', '1650203484654_17.jpg', '1650239208536_2.jpg', '1650232656232_12.jpg', '1650202927024_4.jpg', '1650229109087_2.jpg', '1650231936361_16.jpg', '1650229630064_4.jpg', '1650232273141_14.jpg', '1650202060148_9.jpg', '1650203043216_12.jpg', '1650245843941_10.jpg', '1650202370959_17.jpg', '1650200147964_7.jpg', '1650203397725_15.jpg', '1650237404497_7.jpg', '1650239600964_10.jpg', '1650229351033_16.jpg', '1650200352914_16.jpg', '1650228690448_5.jpg', '1650200194622_13.jpg', '1650232291712_10.jpg', '1650203475375_8.jpg', '1650229565077_6.jpg', '1650229341749_6.jpg', '1650231562562_12.jpg', '1650240675875_7.jpg', '1650203590341_7.jpg', '1650241806607_17.jpg', '1650203033931_5.jpg', '1650228876468_10.jpg', '1650200901704_13.jpg', '1650240666594_7.jpg', '1650202237121_17.jpg', '1650245843941_18.jpg', '1650200296905_5.jpg', '1650247676061_10.jpg', '1650229797661_11.jpg', '1650237759775_3.jpg', '1650203888652_0.jpg', '1650229769813_16.jpg', '1650200073656_6.jpg', '1650204062672_7.jpg', '1650229248661_17.jpg', '1650230320256_9.jpg', '1650247657509_14.jpg', '1650203158213_16.jpg', '1650232646953_11.jpg', '1650203493929_4.jpg', '1650242171120_9.jpg', '1650229620782_1.jpg', '1650247657509_16.jpg', '1650229351033_7.jpg', '1650243236815_1.jpg', '1650245843941_1.jpg', '1650229927856_12.jpg', '1650233777642_9.jpg', '1650202088011_3.jpg', '1650200185081_9.jpg', '1650203043216_1.jpg', '1650246946921_14.jpg', '1650228867168_3.jpg', '1650228718289_10.jpg', '1650237049225_2.jpg', '1650241031149_7.jpg', '1650230264554_10.jpg', '1650245843941_14.jpg', '1650203033931_9.jpg', '1650202774670_5.jpg', '1650203033931_6.jpg', '1650229797661_17.jpg', '1650229286040_15.jpg', '1650202050864_13.jpg', '1650229453416_9.jpg', '1650230338824_12.jpg', '1650203388051_0.jpg', '1650238087185_16.jpg', '1650229044080_16.jpg', '1650203148927_17.jpg', '1650245133455_2.jpg', '1650229779096_1.jpg', '1650203484654_2.jpg', '1650204333179_15.jpg', '1650204873765_19.jpg', '1650234852738_7.jpg', '1650229871914_12.jpg', '1650200278189_17.jpg', '1650228876468_1.jpg', '1650202078726_12.jpg', '1650241049700_13.jpg', '1650200306217_11.jpg', '1650241788053_16.jpg', '1650230348103_9.jpg', '1650228848611_13.jpg', '1650200287543_17.jpg', '1650232665510_19.jpg', '1650199980555_7.jpg', '1650238853321_9.jpg', '1650203148927_3.jpg', '1650201902002_14.jpg', '1650204420053_13.jpg', '1650229890734_6.jpg', '1650232273141_10.jpg', '1650231908520_7.jpg', '1650229406990_16.jpg', '1650232300990_10.jpg', '1650199971268_5.jpg', '1650200929820_0.jpg', '1650238087185_1.jpg', '1650243573471_16.jpg', '1650231908520_0.jpg', '1650204333179_13.jpg', '1650228978836_9.jpg', '1650202352126_8.jpg', '1650229927856_1.jpg', '1650200390050_17.jpg', '1650202467114_13.jpg', '1650203475375_10.jpg', '1650200278189_6.jpg', '1650203282505_15.jpg', '1650228802193_7.jpg', '1650202936301_10.jpg', '1650246919095_17.jpg', '1650204053392_4.jpg', '1650248377282_3.jpg', '1650203888652_15.jpg', '1650229927856_6.jpg', '1650228699728_2.jpg', '1650229490553_0.jpg', '1650203618192_8.jpg', '1650246974842_7.jpg', '1650229630064_1.jpg', '1650229118370_16.jpg', '1650203043216_6.jpg', '1650203714611_12.jpg', '1650202936301_1.jpg', '1650241395672_14.jpg', '1650203254388_10.jpg', '1650230357383_17.jpg', '1650228969545_1.jpg', '1650200306217_14.jpg', '1650234506712_14.jpg', '1650200287543_12.jpg', '1650203388051_2.jpg', '1650204420053_16.jpg', '1650237021393_10.jpg', '1650241068248_8.jpg', '1650232665510_14.jpg', '1650245871765_5.jpg', '1650228727570_3.jpg', '1650229788381_8.jpg', '1650234525261_5.jpg', '1650236656873_1.jpg', '1650238087185_14.jpg', '1650234142155_16.jpg', '1650203158213_8.jpg', '1650229211484_2.jpg', '1650202050864_1.jpg', '1650230759274_5.jpg', '1650232665510_16.jpg', '1650236656873_13.jpg', '1650200185081_2.jpg', '1650231160966_0.jpg', '1650229109087_8.jpg', '1650202023016_9.jpg', '1650202563540_3.jpg', '1650204429327_11.jpg', '1650203618192_2.jpg', '1650234852738_12.jpg', '1650200054835_13.jpg', '1650202812060_8.jpg', '1650245087080_14.jpg', '1650203071059_13.jpg', '1650202134664_15.jpg', '1650230759274_12.jpg', '1650200910993_15.jpg', '1650230404047_12.jpg', '1650230833576_8.jpg', '1650203024637_2.jpg', '1650248377282_4.jpg', '1650234871293_9.jpg', '1650239254979_14.jpg', '1650202255949_3.jpg', '1650203714611_7.jpg', '1650229025269_2.jpg', '1650246946921_0.jpg', '1650202352126_20.jpg', '1650247694603_4.jpg', '1650240703706_5.jpg', '1650204873765_6.jpg', '1650243582743_0.jpg', '1650231908520_5.jpg', '1650239591691_1.jpg', '1650229369598_6.jpg', '1650233768370_1.jpg', '1650204718303_12.jpg', '1650201013374_1.jpg', '1650239956161_5.jpg', '1650233422395_0.jpg', '1650240666594_20.jpg', '1650199971268_6.jpg', '1650202125388_2.jpg', '1650236656873_2.jpg', '1650228783365_9.jpg', '1650200873865_15.jpg', '1650200352914_9.jpg', '1650230357383_6.jpg', '1650229676729_12.jpg', '1650204718303_19.jpg', '1650228867168_17.jpg', '1650228699728_9.jpg', '1650229834781_3.jpg', '1650238133563_5.jpg', '1650229462697_3.jpg', '1650229900015_14.jpg', '1650200371484_14.jpg', '1650241442045_13.jpg', '1650204149614_3.jpg', '1650247676061_7.jpg', '1650246974842_3.jpg', '1650237039949_4.jpg', '1650228941694_15.jpg', '1650229015987_13.jpg', '1650236656873_17.jpg', '1650230759274_2.jpg', '1650204342460_4.jpg', '1650204168433_1.jpg', '1650202476389_16.jpg', '1650202457841_2.jpg', '1650200883147_14.jpg', '1650204420053_5.jpg', '1650229351033_12.jpg', '1650204727582_1.jpg', '1650204631426_16.jpg', '1650204718303_7.jpg', '1650245843941_17.jpg', '1650201911281_8.jpg', '1650246573099_10.jpg', '1650246600930_8.jpg', '1650234525261_15.jpg', '1650200966948_13.jpg', '1650204535004_16.jpg', '1650240666594_9.jpg', '1650247694603_13.jpg', '1650245843941_7.jpg', '1650202582108_4.jpg', '1650229286040_12.jpg', '1650228867168_8.jpg', '1650240666594_5.jpg', '1650229053362_15.jpg', '1650230815011_5.jpg', '1650200901704_11.jpg', '1650203148927_16.jpg', '1650230283117_10.jpg', '1650200166524_3.jpg', '1650229648895_12.jpg', '1650237012119_13.jpg', '1650247676061_8.jpg', '1650204631426_7.jpg', '1650245843941_9.jpg', '1650200296905_1.jpg', '1650202476389_7.jpg', '1650229248661_4.jpg', '1650231899243_13.jpg', '1650229527938_16.jpg', '1650202125388_4.jpg', '1650239965438_11.jpg', '1650233020740_17.jpg', '1650230357383_12.jpg', '1650229648895_2.jpg', '1650232646953_5.jpg', '1650202476389_0.jpg', '1650200910993_16.jpg', '1650241423497_15.jpg', '1650243255369_5.jpg', '1650202125388_16.jpg', '1650202050864_5.jpg', '1650203801508_14.jpg', '1650199971268_4.jpg', '1650246946921_2.jpg', '1650229286040_9.jpg', '1650229155781_15.jpg', '1650200194622_9.jpg', '1650235946354_14.jpg', '1650232684089_15.jpg', '1650204053392_10.jpg', '1650230431883_3.jpg', '1650228746152_16.jpg', '1650230338824_14.jpg', '1650229341749_3.jpg', '1650240302083_4.jpg', '1650229844068_1.jpg', '1650230759274_14.jpg', '1650203888652_3.jpg', '1650230357383_10.jpg', '1650228681166_6.jpg', '1650234880570_7.jpg', '1650231571849_13.jpg', '1650248059177_17.jpg', '1650203493929_9.jpg', '1650203071059_15.jpg', '1650200352914_0.jpg', '1650203618192_14.jpg', '1650233413114_3.jpg', '1650247330090_8.jpg', '1650229686012_3.jpg', '1650231170242_17.jpg', '1650200334341_17.jpg', '1650200157246_15.jpg', '1650234852738_10.jpg', '1650242171120_13.jpg', '1650228671865_0.jpg', '1650229183632_6.jpg', '1650229481272_9.jpg', '1650229220767_0.jpg', '1650229286040_13.jpg', '1650204457417_16.jpg', '1650202050864_3.jpg', '1650246946921_1.jpg', '1650234151431_6.jpg', '1650231581152_14.jpg', '1650200287543_4.jpg', '1650204718303_13.jpg', '1650229844068_12.jpg', '1650236656873_3.jpg', '1650199971268_8.jpg', '1650202041581_15.jpg', '1650230255278_2.jpg', '1650243255369_1.jpg', '1650202237121_5.jpg', '1650234151431_3.jpg', '1650229360319_2.jpg', '1650229090527_0.jpg', '1650229025269_0.jpg', '1650248059177_0.jpg', '1650232291712_2.jpg', '1650239965438_5.jpg', '1650239965438_17.jpg', '1650229267223_1.jpg', '1650236292321_15.jpg', '1650240666594_15.jpg', '1650239582412_17.jpg', '1650202802775_8.jpg', '1650202237121_6.jpg', '1650246946921_5.jpg', '1650200901704_7.jpg', '1650229741713_0.jpg', '1650229453416_8.jpg', '1650233403843_8.jpg', '1650202023016_8.jpg', '1650237039949_13.jpg', '1650204053392_13.jpg', '1650203397725_3.jpg', '1650228876468_4.jpg', '1650204255303_14.jpg', '1650236656873_11.jpg', '1650243610563_5.jpg', '1650241395672_3.jpg', '1650234843462_16.jpg', '1650247694603_16.jpg', '1650243965844_14.jpg', '1650239600964_9.jpg', '1650230348103_5.jpg', '1650234114323_6.jpg', '1650230431883_10.jpg', '1650204544285_5.jpg', '1650202669251_17.jpg', '1650200278189_3.jpg', '1650228718289_5.jpg', '1650234151431_8.jpg', '1650234123601_3.jpg', '1650229844068_5.jpg', '1650229797661_7.jpg', '1650200147964_13.jpg', '1650243947282_10.jpg', '1650201976317_10.jpg', '1650233786918_16.jpg', '1650231899243_14.jpg', '1650229630064_12.jpg', '1650229015987_1.jpg', '1650228718289_6.jpg', '1650202125388_17.jpg', '1650204873765_11.jpg', '1650202669251_6.jpg', '1650231936361_1.jpg', '1650231581152_17.jpg', '1650240666594_1.jpg', '1650229816211_17.jpg', '1650232300990_1.jpg', '1650243601290_2.jpg', '1650229444130_5.jpg', '1650238124284_13.jpg', '1650202004453_13.jpg', '1650230264554_3.jpg', '1650204158891_13.jpg', '1650247657509_2.jpg', '1650201976317_1.jpg', '1650229118370_10.jpg', '1650240666594_8.jpg', '1650200017695_9.jpg', '1650201911281_15.jpg', '1650203024637_16.jpg', '1650229630064_16.jpg', '1650237759775_0.jpg', '1650247676061_11.jpg', '1650229146224_1.jpg', '1650204631426_17.jpg', '1650201994920_10.jpg', '1650204457417_14.jpg', '1650240666594_0.jpg', '1650228923126_3.jpg', '1650229900015_0.jpg', '1650229118370_8.jpg', '1650228755457_7.jpg', '1650236656873_10.jpg', '1650200352914_7.jpg', '1650233020740_6.jpg', '1650229341749_16.jpg', '1650232646953_2.jpg', '1650245451597_1.jpg', '1650203043216_7.jpg', '1650204333179_10.jpg', '1650235909253_18.jpg', '1650242161839_2.jpg', '1650237404497_0.jpg', '1650228848611_10.jpg', '1650229053362_7.jpg', '1650229192918_5.jpg', '1650229323183_17.jpg', '1650229797661_13.jpg', '1650202134664_17.jpg', '1650238853321_18.jpg', '1650228932416_17.jpg', '1650229286040_6.jpg', '1650202812060_17.jpg', '1650229900015_11.jpg', '1650229453416_6.jpg', '1650200017695_0.jpg', '1650202134664_0.jpg', '1650230283117_0.jpg', '1650229211484_8.jpg', '1650237376658_14.jpg', '1650248022077_8.jpg', '1650229276757_0.jpg', '1650229509116_10.jpg', '1650234114323_13.jpg', '1650230357383_9.jpg', '1650232637677_17.jpg', '1650229099806_15.jpg', '1650204420053_8.jpg', '1650236292321_8.jpg', '1650231899243_1.jpg', '1650234843462_15.jpg', '1650244012233_0.jpg', '1650204631426_10.jpg', '1650247657509_1.jpg', '1650238087185_5.jpg', '1650229369598_11.jpg', '1650245105627_15.jpg', '1650246974842_8.jpg', '1650237423055_10.jpg', '1650200306217_10.jpg', '1650232665510_8.jpg', '1650229388172_6.jpg', '1650202060148_2.jpg', '1650229453416_15.jpg', '1650232646953_12.jpg', '1650238507348_12.jpg', '1650229481272_10.jpg', '1650240320639_0.jpg', '1650229453416_14.jpg', '1650247657509_17.jpg', '1650229211484_11.jpg', '1650229592938_2.jpg', '1650233002188_7.jpg', '1650200026979_2.jpg', '1650247694603_6.jpg']\n",
            "the path is  /content/hcaptcha_dataset/train/airplane\n",
            "1\n",
            "['1650203024637_10.jpg', '1650254275086_10.jpg', '1650200883147_8.jpg', '1650239965438_16.jpg', '1650230310975_6.jpg', '1650245825382_19.jpg', '1650229109087_14.jpg', '1650202927024_8.jpg', '1650203879375_3.jpg', '1650246245663_1.jpg', '1650228690448_12.jpg', '1650244750439_17.jpg', '1650232263858_19.jpg', '1650231945642_10.jpg', '1650203024637_12.jpg', '1650231170242_2.jpg', '1650199961986_0.jpg', '1650202485678_15.jpg', '1650230431883_12.jpg', '1650199961986_4.jpg', '1650241806607_1.jpg', '1650235937084_5.jpg', '1650232300990_4.jpg', '1650204333179_1.jpg', '1650240694424_10.jpg', '1650253527219_1.jpg', '1650229825499_3.jpg', '1650246928370_6.jpg', '1650253891972_13.jpg', '1650229471980_6.jpg', '1650233048573_4.jpg', '1650235937084_17.jpg', '1650242171120_11.jpg', '1650253162728_15.jpg', '1650252816499_4.jpg', '1650238460973_8.jpg', '1650245096355_6.jpg', '1650253901249_9.jpg', '1650245470152_8.jpg', '1650230431883_16.jpg', '1650199961986_1.jpg', '1650200166524_6.jpg', '1650231198070_11.jpg', '1650202936301_16.jpg', '1650200203899_8.jpg', '1650245114905_3.jpg', '1650233394570_6.jpg', '1650246937643_4.jpg', '1650229351033_8.jpg', '1650199961986_7.jpg', '1650237404497_17.jpg', '1650252825776_8.jpg', '1650244413803_5.jpg', '1650228839329_10.jpg', '1650231160966_10.jpg', '1650241806607_8.jpg', '1650253162728_6.jpg', '1650230413327_14.jpg', '1650235937084_8.jpg', '1650232656232_2.jpg', '1650237021393_14.jpg', '1650252825776_10.jpg', '1650234160707_9.jpg', '1650200203899_3.jpg', '1650230329539_9.jpg', '1650229695297_17.jpg', '1650246563823_5.jpg', '1650202013731_12.jpg', '1650231571849_1.jpg', '1650204333179_14.jpg', '1650243619845_3.jpg', '1650239928335_4.jpg', '1650236292321_1.jpg', '1650202485678_14.jpg', '1650231936361_7.jpg', '1650200203899_16.jpg', '1650230431883_7.jpg', '1650202199669_1.jpg', '1650239217817_15.jpg', '1650252461251_15.jpg', '1650229202198_8.jpg', '1650228699728_8.jpg', '1650232300990_8.jpg', '1650230431883_1.jpg', '1650229025269_10.jpg', '1650234843462_14.jpg', '1650203263666_15.jpg', '1650245825382_1.jpg', '1650229630064_8.jpg', '1650244741164_2.jpg', '1650239245644_14.jpg', '1650200296905_10.jpg', '1650200864587_3.jpg', '1650202199669_3.jpg', '1650202342847_5.jpg', '1650200213184_7.jpg', '1650229686012_9.jpg', '1650252816499_12.jpg', '1650241395672_8.jpg', '1650229062646_1.jpg', '1650203888652_17.jpg', '1650253536492_3.jpg', '1650203714611_3.jpg', '1650229862633_1.jpg', '1650230768554_2.jpg', '1650229034798_11.jpg', '1650231936361_9.jpg', '1650245488702_11.jpg', '1650202199669_17.jpg', '1650231936361_20.jpg', '1650202199669_6.jpg', '1650230301682_8.jpg', '1650202380237_12.jpg', '1650253573594_5.jpg', '1650230768554_7.jpg', '1650239965438_6.jpg', '1650229081243_6.jpg', '1650233048573_5.jpg', '1650200939104_13.jpg', '1650207621033_13.jpg', '1650202678525_5.jpg', '1650229723152_11.jpg', '1650229518658_0.jpg', '1650230768554_6.jpg', '1650228681166_2.jpg', '1650242498551_8.jpg', '1650231188794_5.jpg', '1650244395241_10.jpg', '1650201967032_16.jpg', '1650203291792_18.jpg', '1650229127659_16.jpg', '1650230329539_8.jpg', '1650230329539_17.jpg', '1650240339180_2.jpg', '1650229844068_17.jpg', '1650229025269_4.jpg', '1650228848611_3.jpg', '1650243965844_5.jpg', '1650243938003_13.jpg', '1650237012119_4.jpg', '1650229304612_15.jpg', '1650243938003_9.jpg', '1650228960261_11.jpg', '1650229750990_6.jpg', '1650200175802_0.jpg', '1650245507261_6.jpg', '1650235544740_1.jpg', '1650203879375_13.jpg', '1650253527219_17.jpg', '1650230431883_4.jpg', '1650230768554_5.jpg', '1650236310869_9.jpg', '1650252797938_0.jpg', '1650235937084_0.jpg', '1650233385294_4.jpg', '1650244750439_0.jpg', '1650228997409_2.jpg', '1650233786918_11.jpg', '1650201031939_8.jpg', '1650203378670_6.jpg', '1650200082948_5.jpg', '1650238105737_2.jpg', '1650245114905_4.jpg', '1650202582108_12.jpg', '1650231562562_0.jpg', '1650229537224_8.jpg', '1650229286040_16.jpg', '1650230357383_3.jpg', '1650231571849_5.jpg', '1650204727582_13.jpg', '1650233048573_9.jpg', '1650230431883_9.jpg', '1650234488161_1.jpg', '1650200213184_4.jpg', '1650252797938_16.jpg', '1650202227820_14.jpg', '1650244395241_2.jpg', '1650254256517_8.jpg', '1650201948468_12.jpg', '1650233002188_15.jpg', '1650242134013_16.jpg', '1650199961986_8.jpg', '1650230768554_1.jpg', '1650204873765_0.jpg', '1650231936361_2.jpg', '1650245853213_15.jpg', '1650204727582_10.jpg', '1650245862490_8.jpg', '1650241395672_13.jpg', '1650200371484_16.jpg', '1650228923126_5.jpg', '1650239946886_6.jpg', '1650199999123_5.jpg', '1650246937643_1.jpg', '1650201883419_4.jpg', '1650200306217_1.jpg', '1650236301599_17.jpg', '1650244339601_16.jpg', '1650242152559_9.jpg', '1650230329539_16.jpg', '1650252797938_3.jpg', '1650252797938_18.jpg', '1650200883147_7.jpg', '1650231581152_3.jpg', '1650243246094_1.jpg', '1650246208493_3.jpg', '1650203263666_14.jpg', '1650200203899_12.jpg', '1650204342460_3.jpg', '1650231936361_18.jpg', '1650229397707_3.jpg', '1650246563823_0.jpg', '1650237012119_5.jpg', '1650235937084_16.jpg', '1650233048573_11.jpg', '1650244413803_3.jpg', '1650228746152_10.jpg', '1650200250309_2.jpg', '1650202380237_2.jpg', '1650243246094_5.jpg', '1650230759274_6.jpg', '1650230431883_11.jpg', '1650200203899_0.jpg', '1650202380237_4.jpg', '1650200855288_2.jpg', '1650233048573_3.jpg', '1650233375977_14.jpg', '1650229202198_17.jpg', '1650202227820_3.jpg', '1650253517942_8.jpg', '1650243246094_8.jpg', '1650233048573_8.jpg', '1650229025269_8.jpg', '1650244367421_8.jpg', '1650232300990_17.jpg', '1650245843941_11.jpg', '1650229425556_1.jpg', '1650252470528_4.jpg', '1650229611504_3.jpg', '1650229025269_9.jpg', '1650245488702_0.jpg', '1650253172005_8.jpg', '1650203714611_16.jpg', '1650229695297_8.jpg', '1650244413803_13.jpg', '1650245853213_6.jpg', '1650200222469_14.jpg', '1650242134013_4.jpg', '1650235581837_11.jpg', '1650200231747_9.jpg', '1650245825382_3.jpg', '1650202342847_16.jpg', '1650245488702_1.jpg', '1650204535004_4.jpg', '1650230431883_15.jpg', '1650202591390_8.jpg', '1650238862595_12.jpg', '1650231553286_5.jpg', '1650229025269_5.jpg', '1650241021876_1.jpg', '1650245825382_14.jpg', '1650252825776_13.jpg', '1650252797938_6.jpg', '1650202004453_12.jpg', '1650253564320_14.jpg', '1650230431883_8.jpg', '1650237404497_6.jpg', '1650242881615_10.jpg', '1650230264554_14.jpg', '1650230768554_8.jpg', '1650200203899_9.jpg', '1650252816499_13.jpg', '1650238115009_5.jpg', '1650229713870_13.jpg', '1650202106571_4.jpg', '1650204727582_11.jpg', '1650202199669_11.jpg', '1650231936361_10.jpg', '1650245488702_14.jpg', '1650234151431_16.jpg', '1650200166524_12.jpg', '1650204535004_0.jpg', '1650199961986_3.jpg', '1650230329539_11.jpg', '1650203052499_3.jpg', '1650253938339_14.jpg', '1650202208992_2.jpg', '1650229062646_0.jpg', '1650244413803_10.jpg', '1650230329539_7.jpg', '1650202342847_8.jpg', '1650202199669_14.jpg', '1650245479426_9.jpg', '1650204149614_15.jpg', '1650237404497_8.jpg', '1650245470152_2.jpg', '1650200185081_17.jpg', '1650229639610_7.jpg', '1650244741164_1.jpg', '1650202199669_15.jpg', '1650230431883_19.jpg', '1650235937084_2.jpg', '1650204622149_3.jpg', '1650229034798_17.jpg', '1650202199669_10.jpg', '1650229006694_6.jpg', '1650201013374_11.jpg', '1650252797938_19.jpg', '1650231936361_19.jpg', '1650252797938_20.jpg', '1650231936361_3.jpg', '1650253573594_3.jpg', '1650229583655_1.jpg', '1650237385940_15.jpg', '1650235937084_10.jpg', '1650202199669_4.jpg', '1650230431883_0.jpg', '1650229025269_11.jpg', '1650237404497_3.jpg', '1650246236317_8.jpg', '1650233048573_0.jpg', '1650237012119_8.jpg', '1650252797938_2.jpg', '1650200873865_4.jpg', '1650253162728_5.jpg', '1650231936361_8.jpg', '1650230329539_5.jpg', '1650231179514_9.jpg', '1650237423055_8.jpg', '1650201892712_9.jpg', '1650241404944_5.jpg', '1650230329539_10.jpg', '1650199961986_2.jpg', '1650199961986_9.jpg', '1650228895033_15.jpg', '1650241778775_4.jpg', '1650243938003_8.jpg', '1650245114905_14.jpg', '1650252470528_12.jpg', '1650229853348_4.jpg', '1650229062646_12.jpg', '1650204333179_7.jpg', '1650233048573_10.jpg', '1650237404497_9.jpg', '1650200120107_10.jpg', '1650252797938_5.jpg', '1650202032297_3.jpg', '1650202199669_0.jpg', '1650230320256_6.jpg', '1650246245663_2.jpg', '1650236656873_5.jpg', '1650200203899_17.jpg', '1650244768980_16.jpg', '1650229295328_17.jpg', '1650238133563_6.jpg', '1650201031939_13.jpg', '1650233385294_15.jpg', '1650230431883_18.jpg', '1650228885748_0.jpg', '1650203024637_3.jpg', '1650229667453_6.jpg', '1650200920540_2.jpg', '1650229332472_6.jpg', '1650231936361_13.jpg', '1650202199669_13.jpg', '1650234862013_4.jpg', '1650242171120_4.jpg', '1650229704586_1.jpg', '1650237423055_2.jpg', '1650230329539_2.jpg', '1650200120107_15.jpg', '1650244750439_8.jpg', '1650229025269_6.jpg', '1650252797938_1.jpg', '1650243938003_1.jpg', '1650229406990_0.jpg', '1650240666594_6.jpg', '1650253190553_16.jpg', '1650253162728_3.jpg', '1650243938003_17.jpg', '1650204420053_11.jpg', '1650228857888_8.jpg', '1650252797938_4.jpg', '1650200203899_2.jpg', '1650229416273_12.jpg', '1650202199669_12.jpg', '1650229862633_17.jpg', '1650202927024_9.jpg', '1650200157246_9.jpg', '1650244376692_14.jpg', '1650246573099_6.jpg', '1650199961986_6.jpg', '1650245853213_5.jpg', '1650242124739_1.jpg', '1650230338824_13.jpg', '1650230431883_20.jpg', '1650200920540_1.jpg', '1650202199669_5.jpg', '1650231936361_0.jpg', '1650254275086_14.jpg', '1650243246094_7.jpg', '1650229044080_11.jpg']\n",
            "the path is  /content/hcaptcha_dataset/train/bicycle\n",
            "2\n",
            "['1650204457417_5.jpg', '1650237012119_20.jpg', '1650241068248_13.jpg', '1650245087080_19.jpg', '1650202342847_14.jpg', '1650244395241_20.jpg', '1650201031939_14.jpg', '1650228746152_15.jpg', '1650201883419_19.jpg', '1650201985638_4.jpg', '1650243993675_10.jpg', '1650244395241_1.jpg', '1650228848611_2.jpg', '1650240320639_1.jpg', '1650202069439_5.jpg', '1650244395241_13.jpg', '1650237012119_7.jpg', '1650232665510_5.jpg', '1650200325057_15.jpg', '1650237423055_6.jpg', '1650240675875_11.jpg', '1650228671865_4.jpg', '1650201985638_11.jpg', '1650232665510_6.jpg', '1650242134013_5.jpg', '1650233048573_2.jpg', '1650229620782_14.jpg', '1650234843462_20.jpg', '1650237012119_14.jpg', '1650236684702_13.jpg', '1650244395241_4.jpg', '1650229127659_3.jpg', '1650201883419_16.jpg', '1650242526378_5.jpg', '1650203581065_10.jpg', '1650229937136_8.jpg', '1650242134013_0.jpg', '1650229546510_15.jpg', '1650203618192_11.jpg', '1650200045541_9.jpg', '1650229574369_1.jpg', '1650239937610_8.jpg', '1650229286040_14.jpg', '1650229927856_11.jpg', '1650232263858_9.jpg', '1650200241028_15.jpg', '1650229127659_14.jpg', '1650204447880_11.jpg', '1650239965438_13.jpg', '1650228727570_9.jpg', '1650200873865_12.jpg', '1650229332472_16.jpg', '1650240694424_12.jpg', '1650202591390_10.jpg', '1650240666594_13.jpg', '1650229295328_3.jpg', '1650236656873_7.jpg', '1650200175802_6.jpg', '1650232656232_16.jpg', '1650232665510_0.jpg', '1650238133563_2.jpg', '1650202190386_15.jpg', '1650229658171_0.jpg', '1650241806607_12.jpg', '1650233030013_1.jpg', '1650234506712_0.jpg', '1650229862633_11.jpg', '1650200064113_13.jpg', '1650240329908_1.jpg', '1650203879375_5.jpg', '1650235946354_15.jpg', '1650200185081_1.jpg', '1650244395241_0.jpg', '1650231151685_6.jpg', '1650228969545_6.jpg', '1650239591691_8.jpg', '1650201883419_11.jpg', '1650201929840_1.jpg', '1650242134013_14.jpg', '1650200082948_17.jpg', '1650234160707_5.jpg', '1650229620782_7.jpg', '1650202342847_12.jpg', '1650243975117_15.jpg', '1650230824290_1.jpg', '1650232619120_3.jpg', '1650233002188_2.jpg', '1650232263858_13.jpg', '1650201022657_14.jpg', '1650201883419_12.jpg', '1650233413114_10.jpg', '1650243218260_9.jpg', '1650242134013_8.jpg', '1650240666594_14.jpg', '1650229620782_17.jpg', '1650243947282_6.jpg', '1650202476389_12.jpg', '1650234843462_4.jpg', '1650228690448_9.jpg', '1650201883419_8.jpg', '1650228709010_7.jpg', '1650229081243_12.jpg', '1650228969545_13.jpg', '1650229406990_5.jpg', '1650238133563_10.jpg', '1650234843462_2.jpg', '1650200352914_6.jpg', '1650237432334_4.jpg', '1650200036260_13.jpg', '1650229881447_7.jpg', '1650202227820_4.jpg', '1650241395672_17.jpg', '1650203397725_4.jpg', '1650236684702_11.jpg', '1650229909297_5.jpg', '1650241395672_16.jpg', '1650202342847_11.jpg', '1650234843462_0.jpg', '1650201013374_9.jpg', '1650202361411_2.jpg', '1650228848611_12.jpg', '1650202078726_7.jpg', '1650229360319_5.jpg', '1650200278189_16.jpg', '1650229127659_7.jpg', '1650229118370_15.jpg', '1650201883419_9.jpg', '1650202227820_15.jpg', '1650242180437_4.jpg', '1650229490553_12.jpg', '1650244395241_14.jpg', '1650202342847_3.jpg', '1650236656873_14.jpg', '1650239965438_7.jpg', '1650204333179_6.jpg', '1650237395217_15.jpg', '1650229620782_6.jpg', '1650204168433_11.jpg', '1650238124284_11.jpg', '1650202765392_5.jpg', '1650202050864_16.jpg', '1650228839329_5.jpg', '1650243619845_12.jpg', '1650202457841_15.jpg', '1650204333179_5.jpg', '1650202898925_1.jpg', '1650202162533_0.jpg', '1650202227820_12.jpg', '1650200147964_11.jpg', '1650202572824_11.jpg', '1650229090527_6.jpg', '1650239245644_15.jpg', '1650241395672_4.jpg', '1650228690448_0.jpg', '1650244395241_11.jpg', '1650230749998_4.jpg', '1650228969545_2.jpg', '1650232665510_12.jpg', '1650230422608_8.jpg', '1650200966948_7.jpg', '1650229890734_9.jpg', '1650204429327_8.jpg', '1650239965438_12.jpg', '1650201013374_7.jpg', '1650230338824_2.jpg', '1650238142839_17.jpg', '1650229574369_9.jpg', '1650239965438_3.jpg', '1650229602220_6.jpg', '1650235544740_20.jpg', '1650237012119_3.jpg', '1650200994808_12.jpg', '1650200082948_2.jpg', '1650241395672_1.jpg', '1650239591691_9.jpg', '1650229127659_17.jpg', '1650230431883_2.jpg', '1650242180437_13.jpg', '1650200334341_15.jpg', '1650200325057_16.jpg', '1650228690448_7.jpg', '1650229127659_5.jpg', '1650232263858_14.jpg', '1650239937610_15.jpg', '1650238115009_8.jpg', '1650237376658_6.jpg', '1650237413779_1.jpg', '1650238853321_13.jpg', '1650229620782_9.jpg', '1650244395241_5.jpg', '1650233057861_12.jpg', '1650200334341_12.jpg', '1650203879375_12.jpg', '1650240311362_1.jpg', '1650241414223_11.jpg', '1650244395241_8.jpg', '1650230292391_10.jpg', '1650201883419_3.jpg', '1650239965438_2.jpg', '1650230273837_0.jpg', '1650234843462_3.jpg', '1650241404944_10.jpg', '1650229425556_13.jpg', '1650229397707_14.jpg', '1650241395672_18.jpg', '1650204727582_8.jpg', '1650228690448_16.jpg', '1650200045541_6.jpg', '1650229704586_14.jpg', '1650202078726_10.jpg', '1650236283043_6.jpg', '1650240320639_11.jpg', '1650233057861_6.jpg', '1650239199263_3.jpg', '1650241404944_2.jpg', '1650232291712_9.jpg', '1650236301599_11.jpg', '1650202227820_13.jpg', '1650203291792_1.jpg', '1650230264554_6.jpg', '1650232263858_6.jpg', '1650228764745_13.jpg', '1650239965438_10.jpg', '1650234497439_14.jpg', '1650229341749_13.jpg', '1650202227820_18.jpg', '1650202821338_14.jpg', '1650200306217_12.jpg', '1650237376658_13.jpg', '1650230431883_17.jpg', '1650242544926_6.jpg', '1650203888652_4.jpg', '1650201883419_5.jpg', '1650230413327_4.jpg', '1650229127659_1.jpg', '1650202115851_15.jpg', '1650230749998_19.jpg', '1650235909253_19.jpg', '1650228792907_5.jpg', '1650242134013_11.jpg', '1650237012119_1.jpg', '1650200315769_5.jpg', '1650232263858_2.jpg', '1650237012119_15.jpg', '1650238507348_11.jpg', '1650237404497_16.jpg', '1650241395672_6.jpg', '1650239965438_9.jpg', '1650241395672_15.jpg', '1650231936361_5.jpg', '1650232656232_1.jpg', '1650242134013_10.jpg', '1650241414223_6.jpg', '1650229806936_6.jpg', '1650202227820_11.jpg', '1650200994808_1.jpg', '1650203273210_9.jpg', '1650230264554_8.jpg', '1650203024637_7.jpg', '1650200278189_10.jpg', '1650231198070_15.jpg', '1650200036260_16.jpg', '1650200278189_14.jpg', '1650244395241_6.jpg', '1650235554011_13.jpg', '1650204631426_0.jpg', '1650229546510_5.jpg', '1650203167498_16.jpg', '1650243255369_2.jpg', '1650229862633_14.jpg', '1650202227820_8.jpg', '1650238105737_8.jpg', '1650241797333_4.jpg', '1650239974715_1.jpg', '1650203618192_9.jpg', '1650228755457_4.jpg', '1650241395672_10.jpg', '1650244395241_16.jpg', '1650244395241_17.jpg', '1650229127659_12.jpg', '1650232674807_15.jpg', '1650239965438_0.jpg', '1650231936361_14.jpg', '1650202227820_7.jpg', '1650234843462_17.jpg', '1650229834781_9.jpg', '1650201883419_0.jpg', '1650237012119_16.jpg', '1650234843462_18.jpg', '1650202032297_14.jpg', '1650236693976_8.jpg', '1650238871869_4.jpg', '1650202687805_15.jpg', '1650203273210_7.jpg', '1650243947282_15.jpg', '1650229481272_14.jpg', '1650244395241_19.jpg', '1650203879375_11.jpg', '1650243592018_6.jpg', '1650234843462_13.jpg', '1650237404497_11.jpg', '1650230833576_0.jpg', '1650234843462_7.jpg', '1650245087080_18.jpg']\n",
            "the path is  /content/hcaptcha_dataset/train/motorbus\n",
            "3\n",
            "['1650201013374_20.jpg', '1650243246094_9.jpg', '1650241395672_20.jpg', '1650232282428_4.jpg', '1650228839329_16.jpg', '1650230431883_14.jpg', '1650245087080_17.jpg', '1650202041581_14.jpg', '1650238133563_1.jpg', '1650230357383_5.jpg', '1650202032297_6.jpg', '1650230759274_8.jpg', '1650229323183_0.jpg', '1650239217817_7.jpg', '1650246217769_5.jpg', '1650245087080_20.jpg', '1650203966246_6.jpg', '1650239264250_16.jpg', '1650230833576_14.jpg', '1650201013374_18.jpg', '1650239236368_3.jpg', '1650242134013_17.jpg', '1650234871293_7.jpg', '1650228997409_5.jpg', '1650230815011_10.jpg', '1650229257939_11.jpg', '1650231544004_0.jpg', '1650234478882_5.jpg', '1650236310869_4.jpg', '1650229471980_13.jpg', '1650199980555_16.jpg', '1650243236815_13.jpg', '1650239946886_0.jpg', '1650241806607_4.jpg', '1650235226504_6.jpg', '1650230796389_2.jpg', '1650202134664_7.jpg', '1650204342460_13.jpg', '1650200315769_15.jpg', '1650238498073_1.jpg', '1650237404497_18.jpg', '1650237404497_13.jpg', '1650229871914_16.jpg', '1650232619120_5.jpg', '1650229686012_7.jpg', '1650230292391_14.jpg', '1650201013374_5.jpg', '1650200064113_12.jpg', '1650229620782_5.jpg', '1650245087080_15.jpg', '1650230366666_12.jpg', '1650230777831_17.jpg', '1650233057861_2.jpg', '1650201994920_5.jpg', '1650241806607_20.jpg', '1650230404047_16.jpg', '1650236684702_17.jpg', '1650200026979_4.jpg', '1650236320145_11.jpg', '1650242507828_6.jpg', '1650200268900_6.jpg', '1650241806607_18.jpg', '1650233020740_5.jpg', '1650200073656_11.jpg', '1650243227539_11.jpg', '1650245862490_15.jpg', '1650203388051_15.jpg', '1650231936361_11.jpg', '1650228923126_2.jpg', '1650229611504_0.jpg', '1650200939104_12.jpg', '1650238488795_11.jpg', '1650202812060_0.jpg', '1650242863059_7.jpg', '1650237404497_14.jpg', '1650245087080_11.jpg', '1650240666594_18.jpg', '1650236656873_9.jpg', '1650201013374_13.jpg', '1650202041581_3.jpg', '1650229900015_8.jpg', '1650202181106_0.jpg', '1650228867168_6.jpg', '1650201013374_14.jpg', '1650243984397_4.jpg', '1650229937136_2.jpg', '1650201013374_6.jpg', '1650247311539_14.jpg', '1650204149614_4.jpg', '1650238142839_14.jpg', '1650232665510_15.jpg', '1650200185081_4.jpg', '1650202370959_0.jpg', '1650229286040_1.jpg', '1650202041581_16.jpg', '1650229686012_12.jpg', '1650234889843_9.jpg', '1650229062646_16.jpg', '1650204333179_3.jpg', '1650200352914_13.jpg', '1650245087080_1.jpg', '1650230338824_1.jpg', '1650202821338_4.jpg', '1650203627471_7.jpg', '1650236264494_1.jpg', '1650244376692_5.jpg', '1650229276757_9.jpg', '1650228941694_8.jpg', '1650239974715_10.jpg', '1650237404497_15.jpg', '1650228960261_16.jpg', '1650229760529_17.jpg', '1650228792907_10.jpg', '1650230787110_8.jpg', '1650200008405_6.jpg', '1650246573099_8.jpg', '1650245087080_2.jpg', '1650245087080_13.jpg', '1650234114323_8.jpg', '1650245096355_11.jpg', '1650244741164_14.jpg', '1650241806607_19.jpg', '1650202237121_11.jpg', '1650237385940_0.jpg', '1650228783365_4.jpg', '1650229750990_12.jpg', '1650241806607_13.jpg', '1650229239378_13.jpg', '1650230320256_14.jpg', '1650237012119_18.jpg', '1650230357383_7.jpg', '1650229862633_2.jpg', '1650201920562_13.jpg', '1650231936361_17.jpg', '1650229667453_13.jpg', '1650247330090_0.jpg', '1650202342847_13.jpg', '1650204640705_1.jpg', '1650245124176_12.jpg', '1650231927067_2.jpg', '1650229741713_15.jpg', '1650229099806_16.jpg', '1650229574369_12.jpg', '1650243984397_3.jpg', '1650242124739_15.jpg', '1650231179514_12.jpg', '1650229313896_9.jpg', '1650236301599_14.jpg', '1650237030672_8.jpg', '1650233777642_1.jpg', '1650200110829_1.jpg', '1650245087080_16.jpg', '1650202013731_4.jpg', '1650233796197_10.jpg', '1650233749822_13.jpg', '1650229136939_4.jpg', '1650247703935_1.jpg', '1650242535652_0.jpg', '1650200855288_9.jpg', '1650200157246_5.jpg', '1650229648895_5.jpg', '1650229620782_2.jpg', '1650228857888_14.jpg', '1650200064113_5.jpg', '1650231534725_1.jpg', '1650241806607_6.jpg', '1650233375977_4.jpg', '1650229639610_6.jpg', '1650241423497_0.jpg', '1650245087080_8.jpg', '1650207621033_20.jpg', '1650236264494_0.jpg', '1650200976227_10.jpg', '1650247330090_15.jpg', '1650244404521_9.jpg', '1650200864587_17.jpg', '1650229788381_7.jpg', '1650201929840_11.jpg', '1650238142839_9.jpg', '1650202936301_15.jpg', '1650239582412_14.jpg', '1650234852738_6.jpg', '1650241451318_12.jpg', '1650246965477_1.jpg', '1650202004453_0.jpg', '1650200101550_12.jpg', '1650200343624_15.jpg', '1650235918531_15.jpg', '1650228690448_15.jpg', '1650228969545_17.jpg', '1650203475375_7.jpg', '1650200092228_14.jpg', '1650201013374_19.jpg', '1650238133563_0.jpg', '1650234889843_10.jpg', '1650246946921_11.jpg', '1650237404497_12.jpg', '1650204727582_12.jpg', '1650234142155_4.jpg', '1650237404497_19.jpg', '1650230292391_8.jpg', '1650231516171_4.jpg', '1650203176787_9.jpg', '1650242498551_7.jpg', '1650241806607_16.jpg', '1650203397725_6.jpg', '1650203705334_12.jpg', '1650228783365_16.jpg', '1650229099806_1.jpg', '1650239610239_7.jpg', '1650248022077_4.jpg', '1650237404497_10.jpg', '1650228941694_9.jpg', '1650199989842_0.jpg', '1650236320145_0.jpg', '1650201013374_12.jpg', '1650202342847_1.jpg', '1650200008405_12.jpg', '1650228709010_4.jpg', '1650202467114_6.jpg', '1650236656873_12.jpg', '1650229165063_17.jpg', '1650237404497_4.jpg', '1650243592018_0.jpg', '1650200054835_15.jpg', '1650241806607_14.jpg', '1650234123601_7.jpg', '1650203024637_0.jpg', '1650246591654_16.jpg', '1650232628400_9.jpg', '1650199999123_6.jpg', '1650239199263_20.jpg', '1650237049225_15.jpg', '1650202246665_8.jpg', '1650246199221_12.jpg', '1650234889843_17.jpg', '1650241806607_15.jpg', '1650229295328_6.jpg', '1650237404497_1.jpg', '1650204544285_15.jpg', '1650203627471_2.jpg', '1650247311539_5.jpg', '1650237404497_20.jpg', '1650200222469_4.jpg', '1650237385940_11.jpg', '1650243610563_3.jpg', '1650237404497_2.jpg', '1650243975117_14.jpg', '1650234880570_8.jpg', '1650245096355_9.jpg', '1650229732428_11.jpg', '1650236675425_6.jpg', '1650202908209_8.jpg', '1650228671865_9.jpg', '1650202936301_14.jpg', '1650244002948_4.jpg']\n",
            "the path is  /content/hcaptcha_dataset/train/boat\n",
            "4\n",
            "['1650200390050_0.jpg', '1650236675425_7.jpg', '1650229499832_13.jpg', '1650230749998_3.jpg', '1650228830048_10.jpg', '1650228774031_14.jpg', '1650229230094_6.jpg', '1650232637677_12.jpg', '1650235927807_10.jpg', '1650204072025_4.jpg', '1650237039949_0.jpg', '1650233048573_1.jpg', '1650202171820_16.jpg', '1650202765392_10.jpg', '1650233413114_12.jpg', '1650204158891_16.jpg', '1650203966246_17.jpg', '1650229509116_11.jpg', '1650202936301_4.jpg', '1650204044115_12.jpg', '1650229015987_10.jpg', '1650204727582_17.jpg', '1650232300990_14.jpg', '1650229937136_15.jpg', '1650236264494_9.jpg', '1650232300990_20.jpg', '1650202370959_13.jpg', '1650229220767_5.jpg', '1650200362201_1.jpg', '1650201004092_5.jpg', '1650201994920_7.jpg', '1650235226504_2.jpg', '1650229760529_9.jpg', '1650229109087_4.jpg', '1650229109087_1.jpg', '1650229360319_17.jpg', '1650234160707_3.jpg', '1650229267223_8.jpg', '1650203071059_2.jpg', '1650238498073_3.jpg', '1650200008405_13.jpg', '1650233431709_6.jpg', '1650237432334_13.jpg', '1650230749998_6.jpg', '1650200883147_17.jpg', '1650201948468_1.jpg', '1650200362201_7.jpg', '1650233759095_6.jpg', '1650204158891_6.jpg', '1650229230094_9.jpg', '1650207621033_1.jpg', '1650237367384_8.jpg', '1650235591113_16.jpg', '1650236292321_5.jpg', '1650239245644_12.jpg', '1650202342847_19.jpg', '1650228681166_13.jpg', '1650200855288_16.jpg', '1650202917750_12.jpg', '1650228755457_15.jpg', '1650228690448_20.jpg', '1650233431709_5.jpg', '1650231562562_15.jpg', '1650204727582_19.jpg', '1650204438600_15.jpg', '1650236675425_10.jpg', '1650239227090_16.jpg', '1650200008405_11.jpg', '1650231571849_3.jpg', '1650233030013_9.jpg', '1650202069439_2.jpg', '1650233796197_12.jpg', '1650207621033_2.jpg', '1650204622149_9.jpg', '1650230422608_15.jpg', '1650232300990_16.jpg', '1650228690448_11.jpg', '1650202041581_2.jpg', '1650228802193_11.jpg', '1650229090527_12.jpg', '1650228857888_0.jpg', '1650200957664_4.jpg', '1650200250309_13.jpg', '1650229648895_13.jpg', '1650203378670_8.jpg', '1650204438600_7.jpg', '1650204727582_6.jpg', '1650230422608_17.jpg', '1650228802193_15.jpg', '1650203801508_5.jpg', '1650202069439_12.jpg', '1650228885748_11.jpg', '1650229779096_15.jpg', '1650199971268_12.jpg', '1650200957664_14.jpg', '1650229760529_6.jpg', '1650202153246_20.jpg', '1650232300990_7.jpg', '1650204727582_20.jpg', '1650237367384_9.jpg', '1650229220767_11.jpg', '1650203282505_2.jpg', '1650236273770_10.jpg', '1650229416273_5.jpg', '1650200259623_9.jpg', '1650202342847_2.jpg', '1650200026979_15.jpg', '1650231160966_8.jpg', '1650202190386_0.jpg', '1650229509116_2.jpg', '1650200371484_17.jpg', '1650204072025_12.jpg', '1650229071948_11.jpg', '1650229779096_4.jpg', '1650235544740_0.jpg', '1650201013374_8.jpg', '1650232628400_3.jpg', '1650235918531_9.jpg', '1650229704586_15.jpg', '1650229779096_5.jpg', '1650229388172_2.jpg', '1650233011461_5.jpg', '1650229090527_11.jpg', '1650228736861_0.jpg', '1650238862595_11.jpg', '1650202342847_4.jpg', '1650232300990_11.jpg', '1650200845999_15.jpg', '1650233431709_9.jpg', '1650235591113_13.jpg', '1650228978836_16.jpg', '1650203167498_4.jpg', '1650201004092_16.jpg', '1650229471980_14.jpg', '1650200939104_2.jpg', '1650228978836_6.jpg', '1650237012119_2.jpg', '1650228802193_13.jpg', '1650229806936_7.jpg', '1650200845999_5.jpg', '1650202171820_4.jpg', '1650231927067_10.jpg', '1650229909297_13.jpg', '1650203879375_2.jpg', '1650204072025_7.jpg', '1650236675425_11.jpg', '1650200920540_3.jpg', '1650236666151_4.jpg', '1650229099806_0.jpg', '1650202227820_0.jpg', '1650202917750_7.jpg', '1650204622149_13.jpg', '1650200371484_2.jpg', '1650200036260_11.jpg', '1650239227090_8.jpg', '1650234114323_14.jpg', '1650203043216_16.jpg', '1650200008405_7.jpg', '1650232628400_7.jpg', '1650202765392_0.jpg', '1650200147964_16.jpg', '1650202917750_17.jpg', '1650232263858_16.jpg', '1650204727582_16.jpg', '1650200129384_7.jpg', '1650235226504_13.jpg', '1650232300990_6.jpg', '1650229667453_5.jpg', '1650229639610_14.jpg', '1650233749822_9.jpg', '1650234843462_19.jpg', '1650229890734_14.jpg', '1650228950978_7 — копия.jpg', '1650202380237_7.jpg', '1650236666151_12.jpg', '1650235207952_0.jpg', '1650228690448_10.jpg', '1650200054835_4.jpg', '1650229127659_2.jpg', '1650202342847_9.jpg', '1650204727582_9.jpg', '1650200296905_13.jpg', '1650201948468_0.jpg', '1650201031939_4.jpg', '1650202255949_14.jpg', '1650228764745_0.jpg', '1650230413327_5.jpg', '1650229304612_3.jpg', '1650207621033_18.jpg', '1650230777831_11.jpg', '1650202088011_8.jpg', '1650202342847_20.jpg', '1650202153246_3.jpg', '1650228857888_11.jpg', '1650228690448_18.jpg', '1650229434836_16.jpg', '1650202783947_9.jpg', '1650230348103_12.jpg', '1650204177710_8.jpg', '1650239217817_17.jpg', '1650200315769_1.jpg', '1650201013374_10.jpg', '1650228736861_8.jpg', '1650235927807_17.jpg', '1650239245644_7.jpg', '1650235918531_8.jpg', '1650236301599_6.jpg', '1650232637677_4.jpg', '1650200241028_10.jpg', '1650200362201_15.jpg', '1650229741713_5.jpg', '1650232300990_0.jpg', '1650229071948_4.jpg', '1650202342847_17.jpg', '1650233431709_12.jpg', '1650230255278_8.jpg', '1650231917789_13.jpg', '1650202821338_9.jpg', '1650200390050_4.jpg', '1650202591390_12.jpg', '1650203254388_8.jpg', '1650201004092_2.jpg', '1650228690448_13.jpg', '1650203378670_3.jpg', '1650202783947_11.jpg', '1650230385485_15.jpg', '1650199971268_13.jpg', '1650203397725_13.jpg', '1650202821338_2.jpg', '1650228699728_17.jpg', '1650239245644_11.jpg', '1650203705334_8.jpg', '1650238516622_3.jpg', '1650228950978_13.jpg', '1650230805732_17.jpg', '1650229509116_1.jpg', '1650229025269_3.jpg', '1650237423055_4.jpg', '1650233759095_17.jpg', '1650229620782_13.jpg', '1650202097295_17.jpg', '1650230805732_7.jpg', '1650234132881_8.jpg', '1650238124284_20.jpg', '1650203254388_14.jpg', '1650204622149_11.jpg', '1650229286040_5.jpg', '1650203484654_9.jpg', '1650233796197_4.jpg', '1650204072025_17.jpg', '1650229090527_5.jpg', '1650233385294_5.jpg', '1650229620782_10.jpg', '1650204044115_11.jpg', '1650200241028_8.jpg', '1650203503206_4.jpg', '1650234160707_4.jpg', '1650200017695_17.jpg', '1650229146224_12.jpg', '1650234852738_8.jpg', '1650238115009_17.jpg', '1650200929820_9.jpg', '1650200213184_9.jpg', '1650204429327_0.jpg', '1650201994920_4.jpg', '1650229378879_6.jpg', '1650235927807_0.jpg', '1650228736861_14.jpg', '1650201022657_15.jpg', '1650200129384_15.jpg', '1650231927067_11.jpg', '1650236292321_17.jpg', '1650204727582_18.jpg', '1650200343624_2.jpg', '1650237423055_13.jpg', '1650236638307_6.jpg', '1650201013374_2.jpg', '1650203378670_15.jpg', '1650233403843_16.jpg', '1650236666151_3.jpg', '1650202097295_4.jpg', '1650233422395_12.jpg', '1650200036260_5.jpg', '1650228988117_3.jpg', '1650232300990_18.jpg', '1650200129384_12.jpg', '1650231160966_4.jpg', '1650234506712_10.jpg', '1650228690448_8.jpg', '1650202255949_12.jpg', '1650203801508_11.jpg', '1650230292391_11.jpg', '1650229871914_0.jpg', '1650229527938_4.jpg', '1650233030013_15.jpg', '1650203590341_15.jpg', '1650228885748_5.jpg', '1650237413779_13.jpg', '1650235918531_1.jpg', '1650229071948_15.jpg', '1650230273837_5.jpg', '1650232300990_5.jpg', '1650237413779_7.jpg', '1650232300990_12.jpg', '1650202342847_18.jpg', '1650229286040_7.jpg', '1650230787110_9.jpg', '1650229416273_17.jpg', '1650231553286_14.jpg', '1650230366666_6.jpg', '1650228709010_8.jpg', '1650202765392_3.jpg', '1650203503206_15.jpg', '1650202802775_6.jpg', '1650228857888_17.jpg', '1650201892712_7.jpg', '1650238862595_1.jpg', '1650202208992_14.jpg', '1650202097295_2.jpg', '1650229146224_8.jpg', '1650228690448_2.jpg', '1650228988117_12.jpg', '1650200110829_6.jpg', '1650238124284_12.jpg', '1650229295328_9.jpg', '1650228709010_6.jpg', '1650203792226_15.jpg', '1650201013374_15.jpg', '1650202380237_17.jpg', '1650232300990_13.jpg', '1650237012119_17.jpg', '1650202069439_7.jpg', '1650230273837_9.jpg', '1650229695297_6.jpg', '1650201022657_0.jpg', '1650236693976_2.jpg', '1650201902002_5.jpg', '1650233030013_5.jpg', '1650229155781_5.jpg', '1650203148927_15.jpg', '1650202190386_3.jpg', '1650200315769_17.jpg', '1650232282428_5.jpg', '1650230833576_7.jpg', '1650230255278_18.jpg', '1650230283117_12.jpg', '1650203282505_16.jpg', '1650202908209_6.jpg', '1650201957751_13.jpg', '1650200241028_0.jpg', '1650233749822_19.jpg', '1650228997409_14.jpg', '1650229639610_8.jpg', '1650238105737_15.jpg', '1650238087185_2.jpg', '1650202060148_14.jpg', '1650228885748_1.jpg', '1650201967032_11.jpg', '1650204333179_9.jpg', '1650228802193_4.jpg', '1650201994920_17.jpg', '1650200110829_15.jpg', '1650230787110_12.jpg', '1650239245644_3.jpg', '1650229723152_4.jpg', '1650232263858_7.jpg', '1650231179514_14.jpg', '1650234123601_13.jpg', '1650232263858_20.jpg', '1650228783365_13.jpg', '1650203378670_4.jpg', '1650229127659_8.jpg', '1650229220767_4.jpg', '1650233385294_17.jpg', '1650199980555_6.jpg', '1650201929840_17.jpg', '1650229834781_5.jpg', '1650228885748_9.jpg', '1650237049225_16.jpg', '1650200929820_17.jpg', '1650200222469_8.jpg', '1650204718303_4.jpg', '1650202342847_10.jpg', '1650201892712_3.jpg', '1650233002188_5.jpg', '1650229471980_2.jpg', '1650203590341_16.jpg', '1650204544285_16.jpg', '1650228792907_3.jpg', '1650203705334_17.jpg', '1650229378879_15.jpg', '1650228988117_16.jpg', '1650229406990_14.jpg', '1650234142155_17.jpg', '1650203966246_13.jpg', '1650202457841_13.jpg', '1650237376658_8.jpg', '1650229760529_7.jpg', '1650200920540_13.jpg', '1650235207952_18.jpg', '1650229165063_4.jpg', '1650229165063_3.jpg', '1650230301682_13.jpg', '1650230255278_4.jpg', '1650203590341_4.jpg', '1650228755457_16.jpg', '1650229788381_9.jpg', '1650229797661_10.jpg', '1650230787110_11.jpg', '1650231553286_2.jpg', '1650228978836_17.jpg', '1650228764745_16.jpg', '1650229360319_11.jpg', '1650237012119_9.jpg', '1650230805732_11.jpg', '1650231908520_3.jpg', '1650230777831_6.jpg', '1650202060148_0.jpg', '1650238124284_16.jpg', '1650230255278_7.jpg', '1650230385485_0.jpg', '1650229825499_8.jpg', '1650232637677_0.jpg', '1650201957751_0.jpg', '1650229732428_1.jpg', '1650236638307_16.jpg', '1650232300990_3.jpg', '1650233413114_6.jpg', '1650233796197_11.jpg', '1650228690448_17.jpg', '1650203254388_4.jpg', '1650235918531_10.jpg', '1650228709010_17.jpg', '1650200166524_5.jpg', '1650229462697_8.jpg', '1650230301682_15.jpg', '1650232300990_2.jpg', '1650234497439_4.jpg', '1650228755457_14.jpg', '1650230283117_14.jpg', '1650202041581_12.jpg', '1650203966246_1.jpg', '1650203254388_11.jpg', '1650228988117_8.jpg', '1650228681166_12.jpg', '1650229741713_1.jpg', '1650239217817_14.jpg', '1650200939104_7.jpg', '1650203801508_1.jpg', '1650236693976_9.jpg', '1650204727582_15.jpg', '1650239217817_8.jpg', '1650199989842_12.jpg', '1650229015987_3.jpg', '1650202115851_5.jpg', '1650200036260_4.jpg', '1650202370959_5.jpg', '1650234160707_14.jpg', '1650202774670_14.jpg', '1650228736861_16.jpg', '1650201022657_1.jpg', '1650229565077_2.jpg', '1650202171820_9.jpg', '1650204429327_15.jpg', '1650232300990_9.jpg', '1650202774670_2.jpg', '1650200362201_3.jpg', '1650229071948_0.jpg', '1650204727582_14.jpg', '1650203033931_10.jpg', '1650237376658_0.jpg', '1650230255278_17.jpg', '1650229332472_3.jpg', '1650229611504_5.jpg', '1650237441612_15.jpg', '1650200371484_0.jpg', '1650238862595_6.jpg', '1650231936361_15.jpg', '1650202917750_1.jpg', '1650200008405_4.jpg', '1650231179514_17.jpg', '1650202572824_8.jpg', '1650238124284_5.jpg', '1650201004092_8.jpg', '1650201929840_0.jpg', '1650200920540_17.jpg', '1650234488161_12.jpg', '1650229537224_9.jpg', '1650234515985_0.jpg', '1650202898925_11.jpg', '1650230805732_15.jpg', '1650237367384_17.jpg', '1650229416273_15.jpg', '1650229518658_5.jpg', '1650229025269_7.jpg', '1650202255949_1.jpg', '1650200157246_12.jpg', '1650228978836_0.jpg', '1650235918531_2.jpg', '1650237441612_13.jpg', '1650232282428_9.jpg', '1650235207952_4.jpg', '1650202342847_7.jpg', '1650229537224_4.jpg', '1650202041581_13.jpg', '1650230815011_8.jpg', '1650202582108_5.jpg', '1650234123601_4.jpg', '1650201948468_10.jpg', '1650229611504_12.jpg', '1650228690448_19.jpg', '1650203792226_16.jpg', '1650232300990_19.jpg', '1650203291792_4.jpg', '1650203071059_7.jpg', '1650229788381_10.jpg', '1650200994808_4.jpg', '1650230749998_13.jpg', '1650228923126_14.jpg', '1650233796197_1.jpg', '1650204044115_1.jpg', '1650204727582_7.jpg', '1650202485678_11.jpg', '1650202821338_19.jpg', '1650228792907_17.jpg', '1650201892712_0.jpg', '1650204727582_2.jpg', '1650202171820_5.jpg']\n",
            "the path is  /content/hcaptcha_dataset/train/truck\n",
            "5\n",
            "['1650203024637_9.jpg', '1650244376692_2.jpg', '1650202265228_9.jpg', '1650235207952_6.jpg', '1650229825499_16.jpg', '1650238507348_9.jpg', '1650202143951_17.jpg', '1650229667453_0.jpg', '1650244731892_19.jpg', '1650238142839_19.jpg', '1650228913848_12.jpg', '1650238133563_3.jpg', '1650243246094_10.jpg', '1650241021876_14.jpg', '1650228913848_1.jpg', '1650229174343_10.jpg', '1650237432334_9.jpg', '1650204255303_15.jpg', '1650237021393_4.jpg', '1650243592018_14.jpg', '1650231188794_10.jpg', '1650244012233_13.jpg', '1650237030672_17.jpg', '1650202041581_4.jpg', '1650238535176_7.jpg', '1650229313896_1.jpg', '1650238516622_8.jpg', '1650199999123_3.jpg', '1650200343624_0.jpg', '1650241451318_4.jpg', '1650239928335_13.jpg', '1650202678525_14.jpg', '1650239591691_11.jpg', '1650229490553_5.jpg', '1650231151685_19.jpg', '1650238105737_14.jpg', '1650244759708_8.jpg', '1650244404521_14.jpg', '1650242881615_12.jpg', '1650231534725_4.jpg', '1650229937136_10.jpg', '1650231917789_4.jpg', '1650229713870_7.jpg', '1650202467114_7.jpg', '1650242881615_3.jpg', '1650229676729_6.jpg', '1650238142839_10.jpg', '1650240302083_2.jpg', '1650202181106_10.jpg', '1650202041581_8.jpg', '1650243246094_12.jpg', '1650243582743_16.jpg', '1650229546510_0.jpg', '1650233039300_12.jpg', '1650202246665_17.jpg', '1650234525261_3.jpg', '1650229565077_12.jpg', '1650202898925_10.jpg', '1650202143951_5.jpg', '1650238470249_2.jpg', '1650203176787_4.jpg', '1650243582743_3.jpg', '1650244002948_11.jpg', '1650243236815_17.jpg', '1650229313896_4.jpg', '1650237030672_0.jpg', '1650228904312_1.jpg', '1650203879375_0.jpg', '1650203608909_14.jpg', '1650244358145_16.jpg', '1650235217223_8.jpg', '1650201985638_3.jpg', '1650229565077_17.jpg', '1650239236368_10.jpg', '1650241077586_1.jpg', '1650231179514_11.jpg', '1650228811476_5.jpg', '1650202078726_0.jpg', '1650203879375_17.jpg', '1650244367421_6.jpg', '1650239582412_15.jpg', '1650234871293_8.jpg', '1650237021393_11.jpg', '1650200250309_11.jpg', '1650230301682_6.jpg', '1650230394767_1.jpg', '1650240311362_17.jpg', '1650203879375_8.jpg', '1650229220767_17.jpg', '1650230404047_6.jpg', '1650200380765_3.jpg', '1650234132881_6.jpg', '1650199989842_8.jpg', '1650231571849_12.jpg', '1650238133563_17.jpg', '1650243246094_11.jpg', '1650234862013_2.jpg', '1650233011461_13.jpg', '1650244367421_17.jpg', '1650242900169_7.jpg', '1650234132881_13.jpg', '1650236310869_6.jpg', '1650203176787_16.jpg', '1650230815011_1.jpg', '1650203879375_6.jpg', '1650228904312_9.jpg', '1650239236368_1.jpg', '1650229881447_11.jpg', '1650233786918_0.jpg', '1650231160966_6.jpg', '1650239264250_11.jpg', '1650234515985_16.jpg', '1650238535176_15.jpg', '1650236647586_13.jpg', '1650234497439_5.jpg', '1650229769813_0.jpg', '1650244358145_8.jpg', '1650229323183_15.jpg', '1650235591113_17.jpg', '1650200231747_3.jpg', '1650241049700_7.jpg', '1650234132881_16.jpg', '1650236638307_5.jpg', '1650202041581_17.jpg', '1650230292391_0.jpg', '1650202181106_16.jpg', '1650233394570_2.jpg', '1650203879375_4.jpg', '1650230310975_4.jpg', '1650244012233_12.jpg', '1650232273141_9.jpg', '1650201892712_16.jpg', '1650244330325_20.jpg', '1650232674807_5.jpg', '1650243610563_8.jpg', '1650233039300_0.jpg', '1650230815011_7.jpg', '1650229825499_15.jpg', '1650202467114_0.jpg', '1650229006694_9.jpg', '1650202687805_1.jpg', '1650229313896_8.jpg', '1650229602220_10.jpg', '1650204342460_15.jpg', '1650228969545_10.jpg', '1650199952695_13.jpg', '1650242526378_12.jpg', '1650231917789_6.jpg', '1650229136939_6.jpg', '1650203879375_18.jpg', '1650200892429_8.jpg', '1650231534725_10.jpg', '1650231525446_0.jpg', '1650243984397_12.jpg', '1650239928335_2.jpg', '1650230301682_14.jpg', '1650235572568_1.jpg', '1650204727582_3.jpg', '1650244358145_4.jpg', '1650199952695_14.jpg', '1650229574369_5.jpg', '1650229006694_16.jpg', '1650203263666_7.jpg', '1650202181106_11.jpg', '1650232674807_11.jpg', '1650204447880_8.jpg', '1650236283043_12.jpg', '1650203627471_3.jpg', '1650203879375_16.jpg', '1650202181106_8.jpg', '1650240703706_13.jpg', '1650202115851_11.jpg', '1650200101550_7.jpg', '1650236647586_17.jpg', '1650240703706_0.jpg', '1650238133563_8.jpg', '1650242180437_1.jpg', '1650200092228_4.jpg', '1650228811476_6.jpg', '1650203024637_15.jpg', '1650230301682_7.jpg', '1650229732428_4.jpg', '1650228904312_4.jpg', '1650238077911_18.jpg', '1650229583655_3.jpg', '1650242171120_6.jpg', '1650241442045_14.jpg', '1650202162533_13.jpg', '1650239264250_6.jpg', '1650237759775_20.jpg', '1650242180437_16.jpg', '1650242517101_8.jpg', '1650230824290_13.jpg', '1650203369385_17.jpg', '1650241077586_0.jpg', '1650244348871_13.jpg', '1650236647586_8.jpg', '1650229006694_8.jpg', '1650244385961_15.jpg', '1650203888652_6.jpg', '1650233039300_3.jpg', '1650203581065_14.jpg', '1650241423497_7.jpg', '1650230796389_6.jpg', '1650203627471_11.jpg', '1650238096459_15.jpg', '1650230301682_3.jpg', '1650238488795_14.jpg', '1650202041581_11.jpg', '1650231534725_19.jpg', '1650231151685_17.jpg', '1650242498551_4.jpg', '1650200138678_1.jpg', '1650204255303_7.jpg', '1650231179514_16.jpg', '1650242152559_7.jpg', '1650243582743_17.jpg', '1650239983988_2.jpg', '1650228932416_6.jpg', '1650233777642_11.jpg', '1650239208536_12.jpg', '1650233768370_7.jpg', '1650239199263_13.jpg', '1650233039300_10.jpg', '1650243218260_6.jpg', '1650241031149_8.jpg', '1650243956562_7.jpg', '1650244358145_6.jpg', '1650236283043_7.jpg', '1650244731892_9.jpg', '1650200994808_15.jpg', '1650204177710_5.jpg', '1650200147964_8.jpg', '1650235581837_13.jpg', '1650237039949_15.jpg', '1650241432771_13.jpg', '1650200343624_10.jpg', '1650203879375_14.jpg', '1650237021393_7.jpg', '1650229862633_10.jpg', '1650234880570_13.jpg', '1650238460973_2.jpg', '1650230301682_19.jpg', '1650236647586_4.jpg', '1650204168433_13.jpg', '1650238133563_9.jpg', '1650240339180_3.jpg', '1650233768370_3.jpg', '1650230394767_4.jpg', '1650235563288_11.jpg', '1650233011461_14.jpg', '1650202265228_8.jpg', '1650242872335_9.jpg', '1650235563288_2.jpg', '1650236264494_2.jpg', '1650238535176_16.jpg', '1650244759708_6.jpg', '1650234515985_5.jpg', '1650235554011_1.jpg', '1650231534725_9.jpg', '1650200231747_1.jpg', '1650229639610_17.jpg', '1650234488161_2.jpg', '1650236638307_19.jpg', '1650228969545_7.jpg', '1650200985513_4.jpg', '1650235563288_0.jpg', '1650203879375_7.jpg', '1650241049700_16.jpg', '1650244376692_7.jpg', '1650242900169_13.jpg', '1650228820765_14.jpg', '1650202678525_2.jpg', '1650203024637_11.jpg', '1650228820765_1.jpg', '1650234862013_12.jpg', '1650234525261_4.jpg', '1650200985513_6.jpg', '1650229546510_6.jpg', '1650238470249_12.jpg', '1650245087080_7.jpg', '1650203061779_3.jpg', '1650200380765_11.jpg', '1650241442045_1.jpg', '1650202106571_1.jpg', '1650244348871_9.jpg', '1650228690448_1.jpg', '1650229518658_14.jpg', '1650234880570_12.jpg', '1650241442045_4.jpg', '1650241769500_10.jpg', '1650202265228_7.jpg', '1650229937136_0.jpg', '1650229825499_0.jpg', '1650244367421_10.jpg', '1650200864587_5.jpg', '1650235563288_17.jpg', '1650229062646_5.jpg', '1650200138678_9.jpg', '1650237759775_1.jpg', '1650232674807_3.jpg', '1650202218446_5.jpg', '1650242152559_0.jpg', '1650230292391_17.jpg', '1650231198070_6.jpg', '1650201920562_9.jpg', '1650200966948_8.jpg', '1650231516171_8.jpg', '1650239928335_17.jpg', '1650236656873_8.jpg', '1650203024637_6.jpg', '1650244012233_5.jpg', '1650231179514_0.jpg', '1650229658171_17.jpg', '1650244741164_17.jpg', '1650229006694_12.jpg', '1650238077911_14.jpg', '1650200845999_4.jpg', '1650229676729_10.jpg', '1650238105737_16.jpg', '1650239610239_11.jpg', '1650238871869_11.jpg', '1650230376205_0.jpg', '1650200994808_6.jpg', '1650230301682_17.jpg', '1650242881615_13.jpg', '1650202812060_11.jpg', '1650235581837_7.jpg', '1650230394767_5.jpg', '1650230815011_13.jpg', '1650238488795_7.jpg', '1650235591113_1.jpg', '1650240329908_9.jpg', '1650242872335_15.jpg', '1650229862633_16.jpg', '1650200380765_10.jpg', '1650231179514_15.jpg', '1650236320145_13.jpg', '1650234889843_5.jpg', '1650228969545_9.jpg', '1650200268900_8.jpg', '1650243246094_16.jpg', '1650204255303_8.jpg', '1650200213184_13.jpg', '1650228969545_12.jpg', '1650242890892_6.jpg', '1650233011461_2.jpg', '1650238142839_12.jpg', '1650200092228_13.jpg', '1650203369385_2.jpg', '1650236283043_11.jpg', '1650228913848_6.jpg', '1650203158213_15.jpg', '1650229239378_0.jpg', '1650203599625_3.jpg', '1650240311362_3.jpg', '1650229044080_8.jpg', '1650241077586_13.jpg', '1650229555793_16.jpg', '1650200994808_14.jpg', '1650241769500_0.jpg', '1650236684702_1.jpg', '1650200994808_17.jpg', '1650242517101_0.jpg', '1650242890892_5.jpg', '1650233786918_4.jpg', '1650239199263_6.jpg', '1650203879375_9.jpg', '1650243227539_6.jpg', '1650202041581_5.jpg', '1650244385961_14.jpg', '1650229332472_15.jpg', '1650229583655_16.jpg', '1650237395217_4.jpg', '1650242517101_13.jpg', '1650235563288_7.jpg', '1650202793496_10.jpg', '1650203263666_1.jpg', '1650202793496_8.jpg', '1650202927024_13.jpg', '1650237385940_7.jpg', '1650202678525_17.jpg', '1650241423497_9.jpg', '1650231917789_17.jpg', '1650229862633_5.jpg', '1650229583655_15.jpg', '1650238142839_11.jpg', '1650234515985_15.jpg', '1650239264250_4.jpg', '1650236273770_15.jpg', '1650203167498_6.jpg', '1650241432771_3.jpg', '1650241031149_12.jpg', '1650201920562_0.jpg', '1650199952695_4.jpg', '1650234889843_13.jpg', '1650235554011_3.jpg', '1650238470249_16.jpg', '1650203581065_9.jpg', '1650241021876_20.jpg', '1650231179514_5.jpg', '1650200948383_1.jpg', '1650241049700_10.jpg', '1650238881146_13.jpg', '1650202218446_10.jpg', '1650240703706_10.jpg', '1650241451318_3.jpg', '1650238142839_3.jpg', '1650230376205_5.jpg', '1650238460973_17.jpg', '1650201985638_17.jpg', '1650239600964_16.jpg', '1650202793496_6.jpg', '1650236684702_2.jpg', '1650234488161_8.jpg', '1650203263666_11.jpg', '1650200250309_0.jpg', '1650229667453_9.jpg', '1650236638307_1.jpg', '1650233039300_16.jpg', '1650202088011_9.jpg', '1650202143951_16.jpg', '1650228774031_1.jpg', '1650238470249_1.jpg', '1650228774031_12.jpg', '1650239236368_6.jpg', '1650242881615_6.jpg', '1650243610563_7.jpg', '1650236273770_3.jpg', '1650238535176_20.jpg', '1650231179514_10.jpg', '1650202162533_2.jpg', '1650201939116_13.jpg', '1650240302083_18.jpg', '1650240703706_2.jpg', '1650203158213_14.jpg', '1650235946354_2.jpg', '1650229313896_3.jpg', '1650244348871_1.jpg', '1650244395241_3.jpg', '1650231525446_14.jpg', '1650231179514_13.jpg', '1650244385961_6.jpg', '1650235909253_5.jpg', '1650230292391_12.jpg', '1650228690448_14.jpg', '1650234497439_13.jpg', '1650234862013_1.jpg', '1650202793496_1.jpg', '1650203061779_14.jpg', '1650229909297_1.jpg', '1650238881146_11.jpg', '1650202591390_6.jpg', '1650229239378_5.jpg', '1650201948468_11.jpg', '1650229257939_10.jpg', '1650242498551_18.jpg', '1650243610563_10.jpg', '1650229853348_15.jpg', '1650230292391_6.jpg', '1650239983988_14.jpg', '1650235946354_10.jpg', '1650238077911_5.jpg', '1650239610239_16.jpg', '1650234871293_3.jpg', '1650230292391_1.jpg', '1650238096459_12.jpg', '1650230292391_15.jpg', '1650235217223_15.jpg', '1650243227539_15.jpg', '1650234478882_8.jpg', '1650239208536_9.jpg', '1650234862013_15.jpg', '1650202687805_3.jpg', '1650242152559_3.jpg', '1650238535176_10.jpg', '1650244759708_10.jpg', '1650203599625_13.jpg', '1650237395217_6.jpg', '1650238498073_6.jpg', '1650202041581_6.jpg', '1650200120107_8.jpg', '1650234488161_15.jpg', '1650239983988_8.jpg', '1650244330325_7.jpg', '1650228811476_1.jpg', '1650201985638_9.jpg', '1650231179514_2.jpg', '1650229881447_14.jpg', '1650200325057_0.jpg', '1650203369385_9.jpg', '1650241432771_4.jpg', '1650228904312_16.jpg', '1650238096459_16.jpg', '1650236684702_5.jpg', '1650203599625_17.jpg', '1650239974715_5.jpg', '1650244367421_12.jpg', '1650202013731_0.jpg', '1650229313896_14.jpg', '1650237395217_16.jpg', '1650228969545_5.jpg', '1650202687805_13.jpg', '1650203627471_9.jpg', '1650238133563_13.jpg', '1650239582412_2.jpg', '1650244376692_15.jpg', '1650229444130_17.jpg', '1650238142839_20.jpg', '1650203599625_8.jpg', '1650239208536_14.jpg', '1650243236815_4.jpg', '1650203608909_4.jpg', '1650229602220_13.jpg', '1650203052499_16.jpg', '1650238498073_14.jpg', '1650204255303_9.jpg', '1650239264250_14.jpg', '1650229546510_20.jpg', '1650240666594_4.jpg', '1650235909253_6.jpg', '1650230394767_11.jpg', '1650244385961_4.jpg', '1650244002948_15.jpg', '1650240348456_10.jpg', '1650228969545_8.jpg', '1650238077911_9.jpg', '1650239928335_9.jpg', '1650204062672_17.jpg', '1650239974715_2.jpg', '1650239610239_1.jpg', '1650231945642_14.jpg', '1650228969545_14.jpg', '1650201920562_4.jpg', '1650244367421_1.jpg', '1650200092228_3.jpg', '1650238525899_0.jpg', '1650229546510_16.jpg', '1650229546510_17.jpg', '1650229081243_16.jpg', '1650228811476_10.jpg', '1650233768370_16.jpg', '1650229658171_8.jpg', '1650234871293_12.jpg', '1650200325057_9.jpg', '1650201939116_7.jpg', '1650229546510_13.jpg', '1650234497439_8.jpg', '1650203581065_0.jpg', '1650229890734_12.jpg', '1650242498551_16.jpg', '1650229862633_4.jpg', '1650200101550_0.jpg', '1650229565077_5.jpg', '1650231525446_13.jpg', '1650204640705_4.jpg', '1650231525446_1.jpg', '1650244731892_7.jpg', '1650229174343_1.jpg', '1650240329908_11.jpg', '1650238498073_15.jpg', '1650204255303_4.jpg', '1650228969545_3.jpg', '1650201883419_6.jpg', '1650229434836_8.jpg', '1650235909253_16.jpg', '1650200334341_7.jpg', '1650244330325_1.jpg', '1650202218446_16.jpg', '1650238479521_15.jpg', '1650238516622_12.jpg', '1650240694424_17.jpg', '1650243592018_12.jpg', '1650241077586_11.jpg', '1650229620782_3.jpg', '1650238142839_13.jpg', '1650229555793_2.jpg', '1650239236368_15.jpg', '1650238142839_2.jpg', '1650202115851_6.jpg', '1650231179514_7.jpg', '1650236310869_11.jpg', '1650243947282_1.jpg', '1650243236815_11.jpg', '1650200325057_4.jpg', '1650238142839_18.jpg', '1650235572568_0.jpg', '1650236283043_16.jpg', '1650230301682_16.jpg', '1650203061779_7.jpg', '1650243582743_7.jpg', '1650203052499_6.jpg', '1650203879375_20.jpg', '1650238460973_0.jpg', '1650234889843_0.jpg', '1650202485678_17.jpg', '1650242881615_2.jpg', '1650200948383_17.jpg', '1650239928335_8.jpg', '1650229890734_3.jpg', '1650203879375_19.jpg', '1650241806607_5.jpg', '1650200268900_4.jpg', '1650238881146_1.jpg', '1650241021876_2.jpg', '1650241451318_16.jpg', '1650204457417_13.jpg', '1650204168433_4.jpg', '1650241049700_5.jpg', '1650237395217_1.jpg', '1650244731892_2.jpg', '1650229546510_12.jpg', '1650238142839_15.jpg', '1650241031149_19.jpg', '1650231160966_13.jpg', '1650204333179_17.jpg', '1650238871869_15.jpg', '1650229276757_6.jpg', '1650228904312_7.jpg', '1650230301682_10.jpg', '1650242544926_11.jpg', '1650234525261_9.jpg', '1650241068248_7.jpg', '1650231516171_13.jpg', '1650229862633_7.jpg', '1650203024637_13.jpg', '1650230404047_18.jpg', '1650235591113_8.jpg', '1650229676729_13.jpg', '1650242180437_12.jpg', '1650243227539_1.jpg', '1650200138678_14.jpg', '1650238507348_2.jpg', '1650229565077_16.jpg', '1650236320145_6.jpg', '1650231917789_3.jpg', '1650242890892_13.jpg', '1650244741164_6.jpg', '1650238525899_4.jpg', '1650204062672_1.jpg', '1650203879375_15.jpg', '1650229481272_4.jpg', '1650238105737_12.jpg', '1650233786918_6.jpg', '1650203608909_2.jpg', '1650231525446_3.jpg', '1650243246094_4.jpg', '1650200892429_9.jpg', '1650200864587_4.jpg', '1650229862633_0.jpg', '1650229909297_0.jpg', '1650200325057_11.jpg', '1650231571849_6.jpg', '1650235572568_11.jpg', '1650230796389_10.jpg', '1650239983988_6.jpg']\n",
            "the path is  /content/hcaptcha_dataset/train/seaplane\n",
            "6\n",
            "['1650200222469_7.jpg', '1650246937643_15.jpg', '1650246245663_11.jpg', '1650247292989_9.jpg', '1650245479426_3.jpg', '1650231179514_1.jpg', '1650200948383_15.jpg', '1650239227090_10.jpg', '1650234843462_8.jpg', '1650244750439_14.jpg', '1650229090527_10.jpg', '1650241778775_14.jpg', '1650230329539_4.jpg', '1650249134161_14.jpg', '1650250582984_8.jpg', '1650246937643_6.jpg', '1650249844673_15.jpg', '1650252003905_4.jpg', '1650241778775_3.jpg', '1650230768554_3.jpg', '1650245105627_17.jpg', '1650250966088_9.jpg', '1650199961986_11.jpg', '1650245470152_15.jpg', '1650245488702_16.jpg', '1650204727582_4.jpg', '1650230329539_15.jpg', '1650201939116_9.jpg', '1650245843941_4.jpg', '1650249863217_0.jpg', '1650202013731_2.jpg', '1650248022077_18.jpg', '1650249872493_3.jpg', '1650200203899_20.jpg', '1650248395833_12.jpg', '1650245488702_12.jpg', '1650200073656_10.jpg', '1650248741815_9.jpg', '1650246227040_12.jpg', '1650245853213_17.jpg', '1650203618192_16.jpg', '1650248395833_1.jpg', '1650229862633_12.jpg', '1650230329539_3.jpg', '1650245488702_3.jpg', '1650250564438_16.jpg', '1650251293454_17.jpg', '1650245479426_15.jpg', '1650229202198_11.jpg', '1650229136939_12.jpg', '1650252386970_2.jpg', '1650204640705_10.jpg', '1650252031732_2.jpg', '1650229546510_4.jpg', '1650247302265_12.jpg', '1650229202198_13.jpg', '1650246928370_5.jpg', '1650244768980_15.jpg', '1650249872493_5.jpg', '1650248751088_18.jpg', '1650244376692_16.jpg', '1650229034798_2.jpg', '1650204333179_11.jpg', '1650230329539_20.jpg', '1650231581152_2.jpg', '1650235937084_7.jpg', '1650200045541_16.jpg', '1650202783947_6.jpg', '1650247302265_11.jpg', '1650236301599_8.jpg', '1650235909253_0.jpg', '1650248741815_6.jpg', '1650200203899_15.jpg', '1650230768554_4.jpg', '1650248031352_9.jpg', '1650242863059_18.jpg', '1650231945642_1.jpg', '1650233375977_9.jpg', '1650232619120_17.jpg', '1650228690448_4.jpg', '1650251994637_0.jpg', '1650231562562_8.jpg', '1650228913848_5.jpg', '1650229202198_16.jpg', '1650199961986_10.jpg', '1650232291712_13.jpg', '1650252003905_9.jpg', '1650204062672_14.jpg', '1650245470152_7.jpg', '1650228839329_3.jpg', '1650246245663_8.jpg', '1650244768980_7.jpg', '1650236693976_11.jpg', '1650200873865_14.jpg', '1650247302265_5.jpg', '1650236656873_16.jpg', '1650248031352_10.jpg', '1650247302265_6.jpg', '1650230768554_10.jpg', '1650247302265_8.jpg', '1650247292989_16.jpg', '1650248741815_13.jpg', '1650202227820_6.jpg', '1650247292989_19.jpg', '1650251657961_1.jpg', '1650200203899_14.jpg', '1650248395833_14.jpg', '1650202199669_19.jpg', '1650230329539_19.jpg', '1650233431709_13.jpg', '1650239227090_7.jpg', '1650241040425_10.jpg', '1650202199669_9.jpg', '1650236273770_12.jpg', '1650249517255_15.jpg', '1650247292989_18.jpg', '1650238087185_8.jpg', '1650244768980_10.jpg', '1650244768980_5.jpg', '1650230366666_10.jpg', '1650238115009_13.jpg', '1650250209132_2.jpg', '1650200175802_5.jpg', '1650200203899_1.jpg', '1650248778904_0.jpg', '1650247302265_14.jpg', '1650200026979_17.jpg', '1650228690448_3.jpg', '1650238871869_8.jpg', '1650230329539_14.jpg', '1650241031149_17.jpg', '1650229230094_17.jpg', '1650235217223_0.jpg', '1650250564438_8.jpg', '1650230329539_0.jpg', '1650202199669_7.jpg', '1650245479426_13.jpg', '1650200203899_7.jpg', '1650229034798_5.jpg', '1650200203899_18.jpg', '1650230329539_1.jpg', '1650245507261_9.jpg', '1650229537224_14.jpg', '1650251639419_13.jpg', '1650247685333_2.jpg', '1650247320820_13.jpg', '1650229202198_7.jpg', '1650230329539_18.jpg', '1650249872493_6.jpg', '1650201902002_3.jpg', '1650241058977_8.jpg', '1650239600964_2.jpg', '1650245825382_7.jpg', '1650199961986_5.jpg', '1650251293454_15.jpg', '1650231544004_15.jpg', '1650245507261_13.jpg', '1650202199669_20.jpg', '1650200985513_8.jpg', '1650248751088_5.jpg', '1650200994808_11.jpg', '1650245507261_17.jpg', '1650228718289_13.jpg', '1650202199669_2.jpg', '1650235937084_19.jpg', '1650229248661_1.jpg', '1650230329539_6.jpg', '1650244413803_1.jpg', '1650252003905_8.jpg', '1650228727570_7.jpg', '1650248778904_13.jpg', '1650202199669_16.jpg', '1650230329539_13.jpg', '1650203273210_4.jpg', '1650200203899_19.jpg', '1650245507261_2.jpg', '1650230329539_12.jpg', '1650203705334_14.jpg', '1650202199669_18.jpg', '1650245507261_14.jpg', '1650230422608_3.jpg', '1650229937136_13.jpg', '1650202342847_15.jpg', '1650244339601_5.jpg', '1650244339601_14.jpg', '1650238142839_8.jpg', '1650230749998_15.jpg', '1650229351033_0.jpg', '1650230768554_0.jpg', '1650246928370_11.jpg', '1650244768980_13.jpg', '1650248377282_2.jpg', '1650248395833_8.jpg', '1650247648230_16.jpg', '1650247648230_20.jpg', '1650244413803_9.jpg', '1650232665510_11.jpg', '1650229713870_14.jpg', '1650244330325_19.jpg', '1650249134161_9.jpg', '1650202069439_14.jpg', '1650202199669_8.jpg', '1650200203899_10.jpg', '1650246563823_7.jpg', '1650244413803_2.jpg', '1650202927024_17.jpg', '1650202582108_17.jpg', '1650244750439_15.jpg', '1650203388051_5.jpg', '1650200203899_5.jpg', '1650241031149_4.jpg', '1650250564438_17.jpg', '1650200166524_8.jpg', '1650245114905_12.jpg', '1650249863217_11.jpg', '1650233048573_7.jpg', '1650200166524_16.jpg', '1650229202198_10.jpg', '1650245470152_10.jpg', '1650238525899_12.jpg', '1650230768554_11.jpg', '1650250966088_7.jpg', '1650202485678_0.jpg', '1650245479426_14.jpg', '1650246563823_3.jpg', '1650250966088_8.jpg', '1650200203899_11.jpg', '1650243938003_5.jpg', '1650234123601_10.jpg', '1650250209132_16.jpg', '1650230301682_4.jpg', '1650249134161_4.jpg', '1650242544926_13.jpg', '1650231516171_20.jpg', '1650250564438_3.jpg', '1650246236317_17.jpg', '1650245825382_17.jpg', '1650244002948_5.jpg', '1650249124884_13.jpg', '1650249863217_10.jpg', '1650249134161_13.jpg', '1650245114905_7.jpg', '1650230768554_9.jpg', '1650231544004_16.jpg', '1650247320820_16.jpg', '1650248040625_2.jpg', '1650238525899_15.jpg', '1650200185081_6.jpg', '1650239245644_10.jpg', '1650246563823_19.jpg', '1650247330090_10.jpg', '1650200166524_17.jpg', '1650247330090_9.jpg', '1650200203899_4.jpg', '1650230264554_4.jpg', '1650200203899_13.jpg', '1650230805732_0.jpg', '1650235554011_14.jpg', '1650228690448_6.jpg', '1650238479521_17.jpg', '1650243619845_0.jpg', '1650200064113_0.jpg', '1650248751088_12.jpg', '1650202143951_0.jpg', '1650229909297_12.jpg', '1650202153246_16.jpg', '1650252386970_4.jpg', '1650230431883_6.jpg', '1650249872493_14.jpg', '1650228746152_0.jpg', '1650245507261_12.jpg', '1650248741815_4.jpg', '1650252031732_4.jpg', '1650200892429_7.jpg', '1650245825382_9.jpg', '1650232619120_13.jpg', '1650244413803_6.jpg', '1650246928370_4.jpg', '1650200203899_6.jpg', '1650247648230_13.jpg']\n"
          ]
        }
      ]
    },
    {
      "cell_type": "code",
      "source": [
        "print(len(training_data))"
      ],
      "metadata": {
        "colab": {
          "base_uri": "https://localhost:8080/"
        },
        "id": "VR5xAM5K_VlP",
        "outputId": "b51b30d1-8703-43c3-f4eb-e9f1cb1dc7ca"
      },
      "execution_count": null,
      "outputs": [
        {
          "output_type": "stream",
          "name": "stdout",
          "text": [
            "3018\n"
          ]
        }
      ]
    },
    {
      "cell_type": "code",
      "source": [
        "print(training_data)"
      ],
      "metadata": {
        "id": "pEvDuLgHhzka"
      },
      "execution_count": null,
      "outputs": []
    },
    {
      "cell_type": "code",
      "source": [
        "from keras.models import Sequential\n",
        "from keras.layers import Dense"
      ],
      "metadata": {
        "id": "qndLMDySxMe7"
      },
      "execution_count": null,
      "outputs": []
    },
    {
      "cell_type": "code",
      "source": [
        "# kerasmodel = Sequential()\n",
        "# kerasmodel.add(Dense(1024,input_dim= 1024,activation='softmax'))\n",
        "# kerasmodel.add(Dense(256,activation='softmax'))\n",
        "# kerasmodel.add(Dense(64,activation='softmax'))\n",
        "# kerasmodel.add(Dense(1,activation='sigmoid'))"
      ],
      "metadata": {
        "id": "9234FayAxSZA"
      },
      "execution_count": null,
      "outputs": []
    },
    {
      "cell_type": "code",
      "source": [
        "# kerasmodel.compile(loss = tf.keras.losses.mae,\n",
        "#                         optimizer = tf.keras.optimizers.Adam(learning_rate=0.0095),\n",
        "#                         metrics = \"mae\"\n",
        "#                         )"
      ],
      "metadata": {
        "id": "GhnE1taDxZ7B"
      },
      "execution_count": null,
      "outputs": []
    },
    {
      "cell_type": "code",
      "source": [
        "# kerasmodel.fit(Priya_train,Tushar_train,epochs=10,batch_size=128)"
      ],
      "metadata": {
        "id": "5hZiW46Nxf7y"
      },
      "execution_count": null,
      "outputs": []
    },
    {
      "cell_type": "code",
      "source": [
        "# kerasmodel = Sequential()\n",
        "# kerasmodel.add(Dense(1024,activation='softmax'))\n",
        "# kerasmodel.add(Dense(256,activation='softmax'))\n",
        "# kerasmodel.add(Dense(64,activation='softmax'))\n",
        "# kerasmodel.add(Dense(1,activation='sigmoid'))"
      ],
      "metadata": {
        "id": "kJipUH5k1UlK"
      },
      "execution_count": null,
      "outputs": []
    },
    {
      "cell_type": "code",
      "source": [
        "# kerasmodel.compile(loss = 'categorical_crossentropy',\n",
        "#                     optimizer = 'SGD',\n",
        "#                     metrics =['accuracy']\n",
        "#                         )"
      ],
      "metadata": {
        "id": "tb5ukwa11W1L"
      },
      "execution_count": null,
      "outputs": []
    },
    {
      "cell_type": "code",
      "source": [
        "# kerasmodel.fit(Priya_train,Tushar_train,epochs=10,batch_size=128)"
      ],
      "metadata": {
        "id": "sIRe5Ryn1Y2d"
      },
      "execution_count": null,
      "outputs": []
    },
    {
      "cell_type": "code",
      "source": [
        "x=[]\n",
        "y=[]\n",
        "for i in training_data:\n",
        "  x.append(i[0])\n",
        "  y.append(i[1])\n"
      ],
      "metadata": {
        "id": "f988Fjvch7HF"
      },
      "execution_count": null,
      "outputs": []
    },
    {
      "cell_type": "code",
      "source": [
        "len(x[0])"
      ],
      "metadata": {
        "colab": {
          "base_uri": "https://localhost:8080/"
        },
        "id": "hywPEVgWl9lG",
        "outputId": "507dbf4e-cd65-43be-885a-ea0192b807ad"
      },
      "execution_count": null,
      "outputs": [
        {
          "output_type": "execute_result",
          "data": {
            "text/plain": [
              "1024"
            ]
          },
          "metadata": {},
          "execution_count": 363
        }
      ]
    },
    {
      "cell_type": "code",
      "source": [
        "train = x[0]\n",
        "for i in x[1:]:\n",
        "  train = np.vstack((train,i))\n",
        "print(train.shape)"
      ],
      "metadata": {
        "colab": {
          "base_uri": "https://localhost:8080/"
        },
        "id": "bNDGAh7AkHUt",
        "outputId": "0882e8ce-0468-461c-a9b6-ea47abdc6f19"
      },
      "execution_count": null,
      "outputs": [
        {
          "output_type": "stream",
          "name": "stdout",
          "text": [
            "(3018, 1024)\n"
          ]
        }
      ]
    },
    {
      "cell_type": "code",
      "source": [
        "A_train = train.copy()\n",
        "B_train = np.array(y)"
      ],
      "metadata": {
        "id": "8WlXwQZv7NHt"
      },
      "execution_count": null,
      "outputs": []
    },
    {
      "cell_type": "code",
      "source": [
        "X_train = train.copy()\n",
        "Y_train = np.array(y)"
      ],
      "metadata": {
        "id": "GHztWsrRmDS-"
      },
      "execution_count": null,
      "outputs": []
    },
    {
      "cell_type": "code",
      "source": [
        "print(X_train.shape)\n",
        "print(Y_train.shape)\n"
      ],
      "metadata": {
        "colab": {
          "base_uri": "https://localhost:8080/"
        },
        "id": "3ecaJwkGmRfo",
        "outputId": "a8b6405d-2d77-4514-ccdb-87eeab312659"
      },
      "execution_count": null,
      "outputs": [
        {
          "output_type": "stream",
          "name": "stdout",
          "text": [
            "(3018, 1024)\n",
            "(3018,)\n"
          ]
        }
      ]
    },
    {
      "cell_type": "code",
      "source": [
        "T_train = tf.constant(X_train)\n",
        "Y_train = tf.constant(Y_train)"
      ],
      "metadata": {
        "id": "0xuIhJzwl428"
      },
      "execution_count": null,
      "outputs": []
    },
    {
      "cell_type": "code",
      "source": [
        "T_train.shape"
      ],
      "metadata": {
        "colab": {
          "base_uri": "https://localhost:8080/"
        },
        "id": "LEl54_qEmFR1",
        "outputId": "a00c7ac9-ed24-41c4-f514-413868bce7fd"
      },
      "execution_count": null,
      "outputs": [
        {
          "output_type": "execute_result",
          "data": {
            "text/plain": [
              "TensorShape([3018, 1024])"
            ]
          },
          "metadata": {},
          "execution_count": 33
        }
      ]
    },
    {
      "cell_type": "code",
      "source": [
        "Y_train.shape"
      ],
      "metadata": {
        "colab": {
          "base_uri": "https://localhost:8080/"
        },
        "id": "l0fdgOo9mHpF",
        "outputId": "3be330c2-8934-4845-8e65-72246d8928f1"
      },
      "execution_count": null,
      "outputs": [
        {
          "output_type": "execute_result",
          "data": {
            "text/plain": [
              "TensorShape([3018])"
            ]
          },
          "metadata": {},
          "execution_count": 34
        }
      ]
    },
    {
      "cell_type": "markdown",
      "source": [
        "A.Create a baseline Neural network with the following specifications.\n",
        "4 hidden layers, each with 1024, 256, 64 and 7 neurons respectively followed by Softmax function\n",
        "respectively. Sigmoid activation, Batch Size=128 for Gradient Descent."
      ],
      "metadata": {
        "id": "vMZj9PlJoqP9"
      }
    },
    {
      "cell_type": "markdown",
      "source": [
        "given datset"
      ],
      "metadata": {
        "id": "Tl8tWQh7D5Nt"
      }
    },
    {
      "cell_type": "markdown",
      "source": [
        "on the given dataset im getting the accuracy of 74%"
      ],
      "metadata": {
        "id": "O1pgUjEfIdZQ"
      }
    },
    {
      "cell_type": "code",
      "source": [
        "import cv2\n",
        "import os\n",
        "IMG_SIZE=32\n",
        "def load_images_from_folder(New_test):\n",
        "    images = []\n",
        "    for filename in os.listdir(New_test):\n",
        "        img = cv2.imread(os.path.join(New_test,filename))\n",
        "        img=img/255\n",
        "        img = cv2.resize(img,(IMG_SIZE, IMG_SIZE))\n",
        "        img = img.flatten()\n",
        "        if img is not None:\n",
        "            images.append(img)\n",
        "    images.pop()\n",
        "    return images"
      ],
      "metadata": {
        "id": "oX6EAgwZB2vm"
      },
      "execution_count": null,
      "outputs": []
    },
    {
      "cell_type": "code",
      "source": [
        "New_Test=load_images_from_folder(New_test)\n"
      ],
      "metadata": {
        "id": "o2P_n4UWBQLt"
      },
      "execution_count": null,
      "outputs": []
    },
    {
      "cell_type": "code",
      "source": [
        "New_Test=np.array(New_Test)"
      ],
      "metadata": {
        "id": "7-M1iQtFGKr6"
      },
      "execution_count": null,
      "outputs": []
    },
    {
      "cell_type": "code",
      "source": [
        "# a=[]\n",
        "# b=[]\n",
        "# for i in New_Test:\n",
        "#   a.append(i[0])\n",
        "#   b.append(i[1])"
      ],
      "metadata": {
        "id": "loHzcC8HDQWv"
      },
      "execution_count": null,
      "outputs": []
    },
    {
      "cell_type": "code",
      "source": [
        "# A_train = New_Test.copy()\n",
        "# B_train = np.array(b)"
      ],
      "metadata": {
        "id": "KtWZNYjlDdC5"
      },
      "execution_count": null,
      "outputs": []
    },
    {
      "cell_type": "code",
      "source": [
        "# A_train = tf.constant(A_train)\n",
        "# # B_train = tf.constant(B_train)\n",
        "# New_Test = tf.constant(New_Test)"
      ],
      "metadata": {
        "id": "MTMmidPlEIuH"
      },
      "execution_count": null,
      "outputs": []
    },
    {
      "cell_type": "code",
      "source": [
        "X_new_train, y_new_train = train_test_split(New_Test, test_size=0.5, random_state=42)"
      ],
      "metadata": {
        "id": "rgmoe_Q_F-q9"
      },
      "execution_count": null,
      "outputs": []
    },
    {
      "cell_type": "code",
      "source": [
        "A_train = tf.constant(X_new_train)\n",
        "B_train = tf.constant(y_new_train)"
      ],
      "metadata": {
        "id": "7-W_xldXGwmp"
      },
      "execution_count": null,
      "outputs": []
    },
    {
      "cell_type": "code",
      "source": [
        "ann = Sequential([\n",
        "        Dense(3000, activation='relu'),\n",
        "        Dense(1000, activation='relu'),\n",
        "        Dense(10, activation='softmax')\n",
        "    ])\n",
        "\n",
        "ann.compile(optimizer='SGD',\n",
        "              loss='sparse_categorical_crossentropy',\n",
        "              metrics=['accuracy'])\n",
        "\n",
        "ann.fit(T_train, Y_train, epochs=5)"
      ],
      "metadata": {
        "colab": {
          "base_uri": "https://localhost:8080/"
        },
        "id": "nThNlcM1D7zs",
        "outputId": "6e3b3dd7-3245-4445-f374-5627c02408ce"
      },
      "execution_count": null,
      "outputs": [
        {
          "output_type": "stream",
          "name": "stdout",
          "text": [
            "Epoch 1/5\n",
            "95/95 [==============================] - 6s 51ms/step - loss: 1.4166 - accuracy: 0.5192\n",
            "Epoch 2/5\n",
            "95/95 [==============================] - 4s 39ms/step - loss: 1.0391 - accuracy: 0.6534\n",
            "Epoch 3/5\n",
            "95/95 [==============================] - 4s 39ms/step - loss: 0.9198 - accuracy: 0.6922\n",
            "Epoch 4/5\n",
            "95/95 [==============================] - 4s 39ms/step - loss: 0.8219 - accuracy: 0.7270\n",
            "Epoch 5/5\n",
            "95/95 [==============================] - 5s 57ms/step - loss: 0.7804 - accuracy: 0.7462\n"
          ]
        },
        {
          "output_type": "execute_result",
          "data": {
            "text/plain": [
              "<keras.callbacks.History at 0x7f983a97e690>"
            ]
          },
          "metadata": {},
          "execution_count": 444
        }
      ]
    },
    {
      "cell_type": "code",
      "source": [
        "from keras.models import Sequential\n",
        "from keras.layers import Dense\n",
        "from sklearn.metrics import classification_report"
      ],
      "metadata": {
        "id": "sxqV3J2lmOAG"
      },
      "execution_count": null,
      "outputs": []
    },
    {
      "cell_type": "code",
      "source": [
        "kerasmodel = Sequential()\n",
        "kerasmodel.add(Dense(1024,activation='softmax'))\n",
        "kerasmodel.add(Dense(256,activation='softmax'))\n",
        "kerasmodel.add(Dense(64,activation='softmax'))\n",
        "kerasmodel.add(Dense(7,activation='sigmoid'))\n",
        "# kerasmodel.add(Dense(1,activation='sigmoid'))"
      ],
      "metadata": {
        "id": "xwmNgCOamSvb"
      },
      "execution_count": null,
      "outputs": []
    },
    {
      "cell_type": "code",
      "source": [
        "kerasmodel.compile(loss = tf.keras.losses.mae,\n",
        "                        optimizer = tf.keras.optimizers.Adam(learning_rate=0.0095),\n",
        "                        metrics = \"mae\"\n",
        "                        )"
      ],
      "metadata": {
        "id": "wuZkaWOymWVO"
      },
      "execution_count": null,
      "outputs": []
    },
    {
      "cell_type": "code",
      "source": [
        "kerasmodel.fit(T_train,Y_train,epochs=10,batch_size=128)"
      ],
      "metadata": {
        "colab": {
          "base_uri": "https://localhost:8080/"
        },
        "id": "8TVfzQr-maYB",
        "outputId": "2a134b26-0d2d-4192-f227-5e215fbdc9ba"
      },
      "execution_count": null,
      "outputs": [
        {
          "output_type": "stream",
          "name": "stdout",
          "text": [
            "Epoch 1/10\n",
            "24/24 [==============================] - 2s 26ms/step - loss: 2.5952 - mae: 2.5952\n",
            "Epoch 2/10\n",
            "24/24 [==============================] - 1s 26ms/step - loss: 2.5281 - mae: 2.5281\n",
            "Epoch 3/10\n",
            "24/24 [==============================] - 1s 25ms/step - loss: 2.4718 - mae: 2.4718\n",
            "Epoch 4/10\n",
            "24/24 [==============================] - 1s 26ms/step - loss: 2.4289 - mae: 2.4289\n",
            "Epoch 5/10\n",
            "24/24 [==============================] - 1s 26ms/step - loss: 2.3975 - mae: 2.3975\n",
            "Epoch 6/10\n",
            "24/24 [==============================] - 1s 25ms/step - loss: 2.3743 - mae: 2.3743\n",
            "Epoch 7/10\n",
            "24/24 [==============================] - 1s 25ms/step - loss: 2.3582 - mae: 2.3582\n",
            "Epoch 8/10\n",
            "24/24 [==============================] - 1s 26ms/step - loss: 2.3481 - mae: 2.3481\n",
            "Epoch 9/10\n",
            "24/24 [==============================] - 1s 25ms/step - loss: 2.3415 - mae: 2.3415\n",
            "Epoch 10/10\n",
            "24/24 [==============================] - 1s 25ms/step - loss: 2.3366 - mae: 2.3366\n"
          ]
        },
        {
          "output_type": "execute_result",
          "data": {
            "text/plain": [
              "<keras.callbacks.History at 0x7fdf72287d90>"
            ]
          },
          "metadata": {},
          "execution_count": 38
        }
      ]
    },
    {
      "cell_type": "code",
      "source": [
        "predictions = kerasmodel.predict(T_train)\n",
        "pred_labels =np.argmax(predictions,axis=1)\n",
        "print(classification_report(Y_train,pred_labels))"
      ],
      "metadata": {
        "colab": {
          "base_uri": "https://localhost:8080/"
        },
        "id": "g15mwch9ulWg",
        "outputId": "383cbf39-06ea-4caa-fb10-aad4d50c8a75"
      },
      "execution_count": null,
      "outputs": [
        {
          "output_type": "stream",
          "name": "stdout",
          "text": [
            "              precision    recall  f1-score   support\n",
            "\n",
            "           0       0.00      0.00      0.00       592\n",
            "           1       0.00      0.00      0.00       402\n",
            "           2       0.00      0.00      0.00       304\n",
            "           3       0.00      0.00      0.00       256\n",
            "           4       0.17      1.00      0.30       528\n",
            "           5       0.00      0.00      0.00       656\n",
            "           6       0.00      0.00      0.00       280\n",
            "\n",
            "    accuracy                           0.17      3018\n",
            "   macro avg       0.02      0.14      0.04      3018\n",
            "weighted avg       0.03      0.17      0.05      3018\n",
            "\n"
          ]
        }
      ]
    },
    {
      "cell_type": "markdown",
      "source": [
        "# Baseline neural network with 4 hidden layers"
      ],
      "metadata": {
        "id": "kfxYoApqoqci"
      }
    },
    {
      "cell_type": "code",
      "source": [
        "kerasmodel = Sequential()\n",
        "kerasmodel.add(Dense(1024,activation='softmax'))\n",
        "kerasmodel.add(Dense(256,activation='softmax'))\n",
        "kerasmodel.add(Dense(64,activation='softmax'))\n",
        "# kerasmodel.add(Dense(7,activation='softmax'))\n",
        "kerasmodel.add(Dense(1,activation='sigmoid'))"
      ],
      "metadata": {
        "id": "7yzIJBOgnmAC"
      },
      "execution_count": null,
      "outputs": []
    },
    {
      "cell_type": "code",
      "source": [
        "kerasmodel.compile(loss = 'categorical_crossentropy',\n",
        "                    optimizer = 'SGD',\n",
        "                    metrics =['accuracy']\n",
        "                        )"
      ],
      "metadata": {
        "id": "-9tRgzSmnmzC"
      },
      "execution_count": null,
      "outputs": []
    },
    {
      "cell_type": "code",
      "source": [
        "kerasmodel.fit(T_train,Y_train,epochs=10,batch_size=128)"
      ],
      "metadata": {
        "colab": {
          "base_uri": "https://localhost:8080/"
        },
        "id": "7vDdAJ8Qnqbz",
        "outputId": "dda8e3ad-0625-4d1a-c80f-cee3784ffa7b"
      },
      "execution_count": null,
      "outputs": [
        {
          "output_type": "stream",
          "name": "stdout",
          "text": [
            "Epoch 1/10\n",
            "24/24 [==============================] - 1s 18ms/step - loss: 0.0000e+00 - accuracy: 0.1332\n",
            "Epoch 2/10\n",
            "24/24 [==============================] - 0s 19ms/step - loss: 0.0000e+00 - accuracy: 0.1332\n",
            "Epoch 3/10\n",
            "24/24 [==============================] - 0s 18ms/step - loss: 0.0000e+00 - accuracy: 0.1332\n",
            "Epoch 4/10\n",
            "24/24 [==============================] - 0s 18ms/step - loss: 0.0000e+00 - accuracy: 0.1332\n",
            "Epoch 5/10\n",
            "24/24 [==============================] - 0s 18ms/step - loss: 0.0000e+00 - accuracy: 0.1332\n",
            "Epoch 6/10\n",
            "24/24 [==============================] - 0s 18ms/step - loss: 0.0000e+00 - accuracy: 0.1332\n",
            "Epoch 7/10\n",
            "24/24 [==============================] - 0s 18ms/step - loss: 0.0000e+00 - accuracy: 0.1332\n",
            "Epoch 8/10\n",
            "24/24 [==============================] - 0s 18ms/step - loss: 0.0000e+00 - accuracy: 0.1332\n",
            "Epoch 9/10\n",
            "24/24 [==============================] - 0s 18ms/step - loss: 0.0000e+00 - accuracy: 0.1332\n",
            "Epoch 10/10\n",
            "24/24 [==============================] - 0s 17ms/step - loss: 0.0000e+00 - accuracy: 0.1332\n"
          ]
        },
        {
          "output_type": "execute_result",
          "data": {
            "text/plain": [
              "<keras.callbacks.History at 0x7fec4daf8a10>"
            ]
          },
          "metadata": {},
          "execution_count": 43
        }
      ]
    },
    {
      "cell_type": "markdown",
      "source": [
        "B: Experiment with number of layers and neurons per layer to increase the performance\n",
        "metrics."
      ],
      "metadata": {
        "id": "lRKL2F2ho53s"
      }
    },
    {
      "cell_type": "code",
      "source": [
        "from keras.models import Sequential\n",
        "from keras.layers import Dense"
      ],
      "metadata": {
        "id": "waZp6-zfMHD7"
      },
      "execution_count": null,
      "outputs": []
    },
    {
      "cell_type": "code",
      "source": [
        "kerasmodel = Sequential()\n",
        "kerasmodel.add(Dense(1024,activation='softmax'))\n",
        "kerasmodel.add(Dense(256,activation='softmax'))\n",
        "kerasmodel.add(Dense(64,activation='softmax'))\n",
        "# kerasmodel.add(Dense(7,activation='softmax'))\n",
        "kerasmodel.add(Dense(1,activation='sigmoid'))"
      ],
      "metadata": {
        "id": "xpT_AcbyMMGf"
      },
      "execution_count": null,
      "outputs": []
    },
    {
      "cell_type": "code",
      "source": [
        "kerasmodel.compile(loss = 'categorical_crossentropy',\n",
        "                    optimizer = 'SGD',\n",
        "                    metrics =['accuracy']\n",
        "                        )"
      ],
      "metadata": {
        "id": "2sKQZRIeMP1g"
      },
      "execution_count": null,
      "outputs": []
    },
    {
      "cell_type": "markdown",
      "source": [
        "C:Experiment with activation functions\n"
      ],
      "metadata": {
        "id": "svvgo1GDsZH-"
      }
    },
    {
      "cell_type": "code",
      "source": [
        "kerasmodel.fit(T_train,Y_train,epochs=10,batch_size=128)"
      ],
      "metadata": {
        "colab": {
          "base_uri": "https://localhost:8080/"
        },
        "id": "vg9LNpvJMSjd",
        "outputId": "71006ae8-e507-47fa-87ee-30cee4fe4763"
      },
      "execution_count": null,
      "outputs": [
        {
          "output_type": "stream",
          "name": "stdout",
          "text": [
            "Epoch 1/10\n",
            "24/24 [==============================] - 1s 18ms/step - loss: 0.0000e+00 - accuracy: 0.1455\n",
            "Epoch 2/10\n",
            "24/24 [==============================] - 0s 17ms/step - loss: 0.0000e+00 - accuracy: 0.1332\n",
            "Epoch 3/10\n",
            "24/24 [==============================] - 0s 19ms/step - loss: 0.0000e+00 - accuracy: 0.1332\n",
            "Epoch 4/10\n",
            "24/24 [==============================] - 0s 19ms/step - loss: 0.0000e+00 - accuracy: 0.1332\n",
            "Epoch 5/10\n",
            "24/24 [==============================] - 0s 18ms/step - loss: 0.0000e+00 - accuracy: 0.1332\n",
            "Epoch 6/10\n",
            "24/24 [==============================] - 0s 17ms/step - loss: 0.0000e+00 - accuracy: 0.1332\n",
            "Epoch 7/10\n",
            "24/24 [==============================] - 0s 18ms/step - loss: 0.0000e+00 - accuracy: 0.1332\n",
            "Epoch 8/10\n",
            "24/24 [==============================] - 0s 17ms/step - loss: 0.0000e+00 - accuracy: 0.1332\n",
            "Epoch 9/10\n",
            "24/24 [==============================] - 0s 18ms/step - loss: 0.0000e+00 - accuracy: 0.1332\n",
            "Epoch 10/10\n",
            "24/24 [==============================] - 0s 18ms/step - loss: 0.0000e+00 - accuracy: 0.1332\n"
          ]
        },
        {
          "output_type": "execute_result",
          "data": {
            "text/plain": [
              "<keras.callbacks.History at 0x7fec453a95d0>"
            ]
          },
          "metadata": {},
          "execution_count": 47
        }
      ]
    },
    {
      "cell_type": "markdown",
      "source": [
        "relu function"
      ],
      "metadata": {
        "id": "GWMugBXfsbzf"
      }
    },
    {
      "cell_type": "code",
      "source": [
        "kerasmodel = Sequential()\n",
        "kerasmodel.add(Dense(1024,activation='relu'))\n",
        "kerasmodel.add(Dense(256,activation='relu'))\n",
        "kerasmodel.add(Dense(64,activation='relu'))\n",
        "# kerasmodel.add(Dense(7,activation='softmax'))\n",
        "kerasmodel.add(Dense(1,activation='sigmoid'))"
      ],
      "metadata": {
        "id": "J9etUg_cMW0W"
      },
      "execution_count": null,
      "outputs": []
    },
    {
      "cell_type": "code",
      "source": [
        "kerasmodel.compile(loss = 'categorical_crossentropy',\n",
        "                    optimizer = 'SGD',\n",
        "                    metrics =['accuracy']\n",
        "                        )\n",
        "kerasmodel.fit(T_train,Y_train,epochs=10,batch_size=128)\n"
      ],
      "metadata": {
        "colab": {
          "base_uri": "https://localhost:8080/"
        },
        "id": "aIGpab0qXAh0",
        "outputId": "89de4d8a-cabe-46af-ed71-be07a1b2e5b0"
      },
      "execution_count": null,
      "outputs": [
        {
          "output_type": "stream",
          "name": "stdout",
          "text": [
            "Epoch 1/10\n",
            "24/24 [==============================] - 1s 20ms/step - loss: nan - accuracy: 0.1647\n",
            "Epoch 2/10\n",
            "24/24 [==============================] - 0s 19ms/step - loss: nan - accuracy: 0.1962\n",
            "Epoch 3/10\n",
            "24/24 [==============================] - 0s 19ms/step - loss: nan - accuracy: 0.1962\n",
            "Epoch 4/10\n",
            "24/24 [==============================] - 0s 20ms/step - loss: nan - accuracy: 0.1962\n",
            "Epoch 5/10\n",
            "24/24 [==============================] - 0s 19ms/step - loss: nan - accuracy: 0.1962\n",
            "Epoch 6/10\n",
            "24/24 [==============================] - 0s 19ms/step - loss: nan - accuracy: 0.1962\n",
            "Epoch 7/10\n",
            "24/24 [==============================] - 0s 19ms/step - loss: nan - accuracy: 0.1962\n",
            "Epoch 8/10\n",
            "24/24 [==============================] - 0s 18ms/step - loss: nan - accuracy: 0.1962\n",
            "Epoch 9/10\n",
            "24/24 [==============================] - 0s 19ms/step - loss: nan - accuracy: 0.1962\n",
            "Epoch 10/10\n",
            "24/24 [==============================] - 0s 19ms/step - loss: nan - accuracy: 0.1962\n"
          ]
        },
        {
          "output_type": "execute_result",
          "data": {
            "text/plain": [
              "<keras.callbacks.History at 0x7f2eb5cc6dd0>"
            ]
          },
          "metadata": {},
          "execution_count": 185
        }
      ]
    },
    {
      "cell_type": "markdown",
      "source": [
        "by using relu function my accuracy increase"
      ],
      "metadata": {
        "id": "CscWLRe8vCeL"
      }
    },
    {
      "cell_type": "code",
      "source": [
        "kerasmodel = Sequential()\n",
        "kerasmodel.add(Dense(10,activation='relu'))\n",
        "kerasmodel.add(Dense(20,activation='relu'))\n",
        "kerasmodel.add(Dense(20,activation='relu'))\n",
        "kerasmodel.add(Dense(7,activation='relu'))\n",
        "kerasmodel.add(Dense(1,activation='sigmoid'))"
      ],
      "metadata": {
        "id": "30idoSNBXTSy"
      },
      "execution_count": null,
      "outputs": []
    },
    {
      "cell_type": "code",
      "source": [
        "kerasmodel.compile(loss = 'categorical_crossentropy',\n",
        "                    optimizer = 'SGD',\n",
        "                    metrics =['accuracy']\n",
        "                        )\n",
        "kerasmodel.fit(T_train,Y_train,epochs=10,batch_size=128)"
      ],
      "metadata": {
        "colab": {
          "base_uri": "https://localhost:8080/"
        },
        "id": "ENILqSAoXkn_",
        "outputId": "0fa65afb-5a21-4baa-a1c7-4fc399977100"
      },
      "execution_count": null,
      "outputs": [
        {
          "output_type": "stream",
          "name": "stdout",
          "text": [
            "Epoch 1/10\n",
            "24/24 [==============================] - 0s 3ms/step - loss: nan - accuracy: 0.1624\n",
            "Epoch 2/10\n",
            "24/24 [==============================] - 0s 3ms/step - loss: nan - accuracy: 0.1962\n",
            "Epoch 3/10\n",
            "24/24 [==============================] - 0s 3ms/step - loss: nan - accuracy: 0.1962\n",
            "Epoch 4/10\n",
            "24/24 [==============================] - 0s 3ms/step - loss: nan - accuracy: 0.1962\n",
            "Epoch 5/10\n",
            "24/24 [==============================] - 0s 3ms/step - loss: nan - accuracy: 0.1962\n",
            "Epoch 6/10\n",
            "24/24 [==============================] - 0s 3ms/step - loss: nan - accuracy: 0.1962\n",
            "Epoch 7/10\n",
            "24/24 [==============================] - 0s 4ms/step - loss: nan - accuracy: 0.1962\n",
            "Epoch 8/10\n",
            "24/24 [==============================] - 0s 3ms/step - loss: nan - accuracy: 0.1962\n",
            "Epoch 9/10\n",
            "24/24 [==============================] - 0s 3ms/step - loss: nan - accuracy: 0.1962\n",
            "Epoch 10/10\n",
            "24/24 [==============================] - 0s 3ms/step - loss: nan - accuracy: 0.1962\n"
          ]
        },
        {
          "output_type": "execute_result",
          "data": {
            "text/plain": [
              "<keras.callbacks.History at 0x7fec4527db50>"
            ]
          },
          "metadata": {},
          "execution_count": 50
        }
      ]
    },
    {
      "cell_type": "markdown",
      "source": [
        "softmax"
      ],
      "metadata": {
        "id": "0TYhtCo9sgX4"
      }
    },
    {
      "cell_type": "code",
      "source": [
        "kerasmodel = Sequential()\n",
        "kerasmodel.add(Dense(3000,activation='softmax'))\n",
        "kerasmodel.add(Dense(1000,activation='softmax'))\n",
        "# kerasmodel.add(Dense(10,activation='relu'))\n",
        "# kerasmodel.add(Dense(7,activation='relu'))\n",
        "kerasmodel.add(Dense(1,activation='softmax'))\n",
        "kerasmodel.compile(loss = 'categorical_crossentropy',\n",
        "                    optimizer = 'SGD',\n",
        "                    metrics =['accuracy']\n",
        "                        )\n",
        "kerasmodel.fit(T_train,Y_train,epochs=10,batch_size=128)"
      ],
      "metadata": {
        "colab": {
          "base_uri": "https://localhost:8080/"
        },
        "id": "zD__VA4KhIyX",
        "outputId": "38ed1413-adc1-40aa-e7d0-60c8257d0e19"
      },
      "execution_count": null,
      "outputs": [
        {
          "output_type": "stream",
          "name": "stdout",
          "text": [
            "Epoch 1/10\n",
            "24/24 [==============================] - 2s 65ms/step - loss: 0.0000e+00 - accuracy: 0.1332\n",
            "Epoch 2/10\n",
            "24/24 [==============================] - 2s 64ms/step - loss: 0.0000e+00 - accuracy: 0.1332\n",
            "Epoch 3/10\n",
            "24/24 [==============================] - 1s 62ms/step - loss: 0.0000e+00 - accuracy: 0.1332\n",
            "Epoch 4/10\n",
            "24/24 [==============================] - 2s 64ms/step - loss: 0.0000e+00 - accuracy: 0.1332\n",
            "Epoch 5/10\n",
            "24/24 [==============================] - 2s 63ms/step - loss: 0.0000e+00 - accuracy: 0.1332\n",
            "Epoch 6/10\n",
            "24/24 [==============================] - 2s 64ms/step - loss: 0.0000e+00 - accuracy: 0.1332\n",
            "Epoch 7/10\n",
            "24/24 [==============================] - 2s 63ms/step - loss: 0.0000e+00 - accuracy: 0.1332\n",
            "Epoch 8/10\n",
            "24/24 [==============================] - 2s 96ms/step - loss: 0.0000e+00 - accuracy: 0.1332\n",
            "Epoch 9/10\n",
            "24/24 [==============================] - 2s 101ms/step - loss: 0.0000e+00 - accuracy: 0.1332\n",
            "Epoch 10/10\n",
            "24/24 [==============================] - 3s 142ms/step - loss: 0.0000e+00 - accuracy: 0.1332\n"
          ]
        },
        {
          "output_type": "execute_result",
          "data": {
            "text/plain": [
              "<keras.callbacks.History at 0x7f62ce0d2650>"
            ]
          },
          "metadata": {},
          "execution_count": 242
        }
      ]
    },
    {
      "cell_type": "markdown",
      "source": [
        "elu function"
      ],
      "metadata": {
        "id": "Bif4eUJZsrI4"
      }
    },
    {
      "cell_type": "code",
      "source": [
        "from keras.layers import Dense"
      ],
      "metadata": {
        "id": "iXVBeL7xtMWl"
      },
      "execution_count": null,
      "outputs": []
    },
    {
      "cell_type": "code",
      "source": [
        "ann = Sequential([\n",
        "        Dense(3000, activation='elu'),\n",
        "        Dense(1000, activation='elu'),\n",
        "        Dense(10, activation='elu')\n",
        "    ])\n",
        "\n",
        "ann.compile(optimizer='SGD',\n",
        "              loss='sparse_categorical_crossentropy',\n",
        "              metrics=['accuracy'])\n",
        "\n",
        "ann.fit(T_train, Y_train, epochs=5)"
      ],
      "metadata": {
        "colab": {
          "base_uri": "https://localhost:8080/"
        },
        "id": "oe6MPP7dal2i",
        "outputId": "e33ee6ef-9bbb-47e5-d976-6a1f93600123"
      },
      "execution_count": null,
      "outputs": [
        {
          "output_type": "stream",
          "name": "stdout",
          "text": [
            "Epoch 1/5\n",
            "95/95 [==============================] - 4s 32ms/step - loss: 2.6360 - accuracy: 0.1001\n",
            "Epoch 2/5\n",
            "95/95 [==============================] - 3s 31ms/step - loss: 2.3026 - accuracy: 0.1011\n",
            "Epoch 3/5\n",
            "95/95 [==============================] - 3s 29ms/step - loss: 2.3026 - accuracy: 0.1011\n",
            "Epoch 4/5\n",
            "95/95 [==============================] - 3s 26ms/step - loss: 2.3026 - accuracy: 0.1011\n",
            "Epoch 5/5\n",
            "95/95 [==============================] - 3s 35ms/step - loss: 2.3026 - accuracy: 0.1011\n"
          ]
        },
        {
          "output_type": "execute_result",
          "data": {
            "text/plain": [
              "<keras.callbacks.History at 0x7f62cead2e90>"
            ]
          },
          "metadata": {},
          "execution_count": 250
        }
      ]
    },
    {
      "cell_type": "markdown",
      "source": [
        "# If I'm using the differnt layers and differnt function and the maximum accuracy thta im getting is 75%"
      ],
      "metadata": {
        "id": "WSp2D0H5i9_x"
      }
    },
    {
      "cell_type": "markdown",
      "source": [
        "accuracy and f1 score\n"
      ],
      "metadata": {
        "id": "OcoMKsfp4Alf"
      }
    },
    {
      "cell_type": "code",
      "source": [
        "predictions = kerasmodel.predict(T_train)\n",
        "pred_labels =np.argmax(predictions,axis=1)\n",
        "print(classification_report(Y_train,pred_labels))"
      ],
      "metadata": {
        "colab": {
          "base_uri": "https://localhost:8080/"
        },
        "id": "GOYfp5Ygiyn2",
        "outputId": "8f3aa325-3a7f-4339-be5a-dee0c38d80c0"
      },
      "execution_count": null,
      "outputs": [
        {
          "output_type": "stream",
          "name": "stdout",
          "text": [
            "              precision    recall  f1-score   support\n",
            "\n",
            "           0       0.20      1.00      0.33       592\n",
            "           1       0.00      0.00      0.00       402\n",
            "           2       0.00      0.00      0.00       304\n",
            "           3       0.00      0.00      0.00       256\n",
            "           4       0.00      0.00      0.00       528\n",
            "           5       0.00      0.00      0.00       656\n",
            "           6       0.00      0.00      0.00       280\n",
            "\n",
            "    accuracy                           0.20      3018\n",
            "   macro avg       0.03      0.14      0.05      3018\n",
            "weighted avg       0.04      0.20      0.06      3018\n",
            "\n"
          ]
        }
      ]
    },
    {
      "cell_type": "code",
      "source": [
        "kerasmodel = Sequential()\n",
        "kerasmodel.add(Dense(100,activation='softmax'))\n",
        "kerasmodel.add(Dense(50,activation='softmax'))\n",
        "kerasmodel.add(Dense(25,activation='softmax'))\n",
        "kerasmodel.add(Dense(50,activation='softmax'))\n",
        "kerasmodel.add(Dense(100,activation='softmax'))\n",
        "kerasmodel.add(Dense(1,activation='sigmoid'))\n",
        "kerasmodel.compile(loss = 'categorical_crossentropy',\n",
        "                    optimizer = 'SGD',\n",
        "                    metrics =['accuracy']\n",
        "                        )\n",
        "kerasmodel.fit(T_train,Y_train,epochs=10,batch_size=128)"
      ],
      "metadata": {
        "colab": {
          "base_uri": "https://localhost:8080/"
        },
        "id": "edOzuo4LXlPx",
        "outputId": "4ffe6cb7-9221-4e59-e3fd-bc0cf46f4a38"
      },
      "execution_count": null,
      "outputs": [
        {
          "output_type": "stream",
          "name": "stdout",
          "text": [
            "Epoch 1/10\n",
            "24/24 [==============================] - 1s 5ms/step - loss: 0.0000e+00 - accuracy: 0.1368\n",
            "Epoch 2/10\n",
            "24/24 [==============================] - 0s 5ms/step - loss: 0.0000e+00 - accuracy: 0.1332\n",
            "Epoch 3/10\n",
            "24/24 [==============================] - 0s 5ms/step - loss: 0.0000e+00 - accuracy: 0.1332\n",
            "Epoch 4/10\n",
            "24/24 [==============================] - 0s 5ms/step - loss: 0.0000e+00 - accuracy: 0.1332\n",
            "Epoch 5/10\n",
            "24/24 [==============================] - 0s 5ms/step - loss: 0.0000e+00 - accuracy: 0.1332\n",
            "Epoch 6/10\n",
            "24/24 [==============================] - 0s 5ms/step - loss: 0.0000e+00 - accuracy: 0.1332\n",
            "Epoch 7/10\n",
            "24/24 [==============================] - 0s 5ms/step - loss: 0.0000e+00 - accuracy: 0.1332\n",
            "Epoch 8/10\n",
            "24/24 [==============================] - 0s 5ms/step - loss: 0.0000e+00 - accuracy: 0.1332\n",
            "Epoch 9/10\n",
            "24/24 [==============================] - 0s 5ms/step - loss: 0.0000e+00 - accuracy: 0.1332\n",
            "Epoch 10/10\n",
            "24/24 [==============================] - 0s 5ms/step - loss: 0.0000e+00 - accuracy: 0.1332\n"
          ]
        },
        {
          "output_type": "execute_result",
          "data": {
            "text/plain": [
              "<keras.callbacks.History at 0x7fec3fd46210>"
            ]
          },
          "metadata": {},
          "execution_count": 139
        }
      ]
    },
    {
      "cell_type": "code",
      "source": [
        "predictions = kerasmodel.predict(T_train)\n",
        "pred_labels =np.argmax(predictions,axis=1)\n",
        "print(classification_report(Y_train,pred_labels))"
      ],
      "metadata": {
        "colab": {
          "base_uri": "https://localhost:8080/"
        },
        "id": "EKzY0OIxtLGJ",
        "outputId": "49f9a7f9-644a-422a-e380-ec86787fd410"
      },
      "execution_count": null,
      "outputs": [
        {
          "output_type": "stream",
          "name": "stdout",
          "text": [
            "              precision    recall  f1-score   support\n",
            "\n",
            "           0       0.20      1.00      0.33       592\n",
            "           1       0.00      0.00      0.00       402\n",
            "           2       0.00      0.00      0.00       304\n",
            "           3       0.00      0.00      0.00       256\n",
            "           4       0.00      0.00      0.00       528\n",
            "           5       0.00      0.00      0.00       656\n",
            "           6       0.00      0.00      0.00       280\n",
            "\n",
            "    accuracy                           0.20      3018\n",
            "   macro avg       0.03      0.14      0.05      3018\n",
            "weighted avg       0.04      0.20      0.06      3018\n",
            "\n"
          ]
        }
      ]
    },
    {
      "cell_type": "markdown",
      "source": [
        "TEST data"
      ],
      "metadata": {
        "id": "KLA1T9hCpN6F"
      }
    },
    {
      "cell_type": "code",
      "source": [
        "test_data=[]\n",
        "IMG_SIZE=32\n",
        "def create_test_data():\n",
        "  for i in categories:\n",
        "    path= os.path.join(test,i)\n",
        "    print(\"the path is \",path)\n",
        "    class_num=categories.index(i)\n",
        "    print(class_num)\n",
        "    print(os.listdir(path))\n",
        "    for img in os.listdir(path):\n",
        "        try:\n",
        "            img_array = cv2.imread(os.path.join(path,img), cv2.IMREAD_GRAYSCALE)\n",
        "            img_array=img_array/255\n",
        "            new_array = cv2.resize(img_array,(IMG_SIZE, IMG_SIZE))\n",
        "            new_array=new_array.flatten()\n",
        "            test_data.append([new_array,class_num])\n",
        "        except Exception as e:\n",
        "            pass\n",
        "create_test_data()"
      ],
      "metadata": {
        "colab": {
          "base_uri": "https://localhost:8080/"
        },
        "id": "30FwGPjiniKU",
        "outputId": "e3f2d47b-096c-4b92-edd3-f41fc2f30091"
      },
      "execution_count": null,
      "outputs": [
        {
          "output_type": "stream",
          "name": "stdout",
          "text": [
            "the path is  /content/hcaptcha_dataset/test/motorcycle\n",
            "0\n",
            "['1650253517942_15.jpg', '1650249507973_16.jpg', '1650249489423_1.jpg', '1650248760359_4.jpg', '1650253919795_15.jpg', '1650248423648_1.jpg', '1650251302731_14.jpg', '1650251648689_8.jpg', '1650253555042_17.jpg', '1650250601538_10.jpg', '1650252059563_11.jpg', '1650248386557_9.jpg', '1650251676505_17.jpg', '1650252442696_17.jpg', '1650248405105_9.jpg', '1650252050282_6.jpg', '1650254284362_14.jpg', '1650253545766_5.jpg', '1650252424067_8.jpg', '1650250975362_14.jpg', '1650250620095_17.jpg', '1650248405105_6.jpg', '1650252013181_1.jpg', '1650248769629_13.jpg', '1650252022457_5.jpg', '1650249844673_18.jpg', '1650254265804_3.jpg', '1650254284362_10.jpg', '1650252050282_16.jpg', '1650253181278_13.jpg', '1650251293454_3.jpg', '1650250947522_10.jpg', '1650250190585_1.jpg', '1650254265804_4.jpg', '1650250190585_0.jpg', '1650253181278_4.jpg', '1650252451974_7.jpg', '1650250956815_3.jpg', '1650250190585_17.jpg', '1650253910522_16.jpg', '1650254256517_13.jpg', '1650254265804_10.jpg', '1650251667233_8.jpg', '1650248797491_4.jpg', '1650252013181_6.jpg', '1650253929067_9.jpg', '1650252479804_10.jpg', '1650253929067_6.jpg', '1650249844673_16.jpg', '1650251676505_9.jpg', '1650249143436_13.jpg', '1650252479804_6.jpg', '1650252013181_15.jpg', '1650250246236_2.jpg', '1650252807220_15.jpg', '1650252050282_3.jpg', '1650249835401_20.jpg', '1650253901249_18.jpg', '1650248386557_8.jpg', '1650253919795_6.jpg', '1650253901249_7.jpg', '1650249507973_8.jpg', '1650254265804_14.jpg', '1650249498693_4.jpg', '1650253929067_11.jpg', '1650249517255_14.jpg', '1650248760359_2.jpg', '1650251302731_6.jpg', '1650253573594_8.jpg', '1650248769629_14.jpg', '1650251302731_1.jpg', '1650254256517_6.jpg', '1650253901249_15.jpg', '1650253901249_11.jpg', '1650252442696_11.jpg', '1650250190585_10.jpg', '1650254265804_15.jpg', '1650254265804_20.jpg', '1650249143436_17.jpg', '1650251667233_15.jpg', '1650248769629_10.jpg', '1650252442696_0.jpg', '1650253901249_3.jpg', '1650251312007_13.jpg', '1650252050282_17.jpg', '1650252835049_13.jpg', '1650252022457_10.jpg', '1650248386557_10.jpg', '1650251630140_3.jpg', '1650248797491_7.jpg', '1650249835401_16.jpg', '1650252022457_4.jpg', '1650252433418_17.jpg', '1650250956815_15.jpg', '1650250620095_3.jpg', '1650253517942_7.jpg', '1650250610818_0.jpg', '1650248386557_11.jpg', '1650253545766_12.jpg', '1650248778904_14.jpg', '1650253901249_14.jpg', '1650250947522_17.jpg', '1650249517255_12.jpg', '1650248423648_0.jpg', '1650253910522_8.jpg', '1650250938250_15.jpg', '1650253545766_7.jpg', '1650253901249_4.jpg', '1650250246236_12.jpg', '1650248386557_6.jpg', '1650249498693_7.jpg', '1650252442696_7.jpg', '1650254265804_2.jpg', '1650248423648_11.jpg', '1650252424067_17.jpg', '1650248760359_7.jpg', '1650252013181_4.jpg', '1650252041006_7.jpg', '1650250956815_17.jpg', '1650250582984_5.jpg', '1650251293454_0.jpg', '1650254265804_6.jpg', '1650250573711_18.jpg', '1650253938339_3.jpg', '1650248778904_11.jpg', '1650252377696_6.jpg', '1650252451974_5.jpg', '1650251302731_0.jpg', '1650254265804_16.jpg', '1650250620095_5.jpg', '1650251312007_2.jpg', '1650249835401_14.jpg', '1650253901249_5.jpg', '1650250582984_12.jpg', '1650248760359_0.jpg', '1650250938250_7.jpg', '1650249517255_5.jpg', '1650252050282_8.jpg', '1650251293454_1.jpg', '1650252022457_0.jpg', '1650253555042_11.jpg']\n",
            "the path is  /content/hcaptcha_dataset/test/airplane\n",
            "1\n",
            "['1650251312007_6.jpg', '1650249489423_3.jpg', '1650247320820_2.jpg', '1650250975362_15.jpg', '1650246227040_10.jpg', '1650247320820_7.jpg', '1650248788180_4.jpg', '1650249844673_12.jpg', '1650247685333_13.jpg', '1650248751088_16.jpg', '1650251994637_13.jpg', '1650248022077_13.jpg', '1650251994637_16.jpg', '1650251302731_4.jpg', '1650252003905_2.jpg', '1650250966088_6.jpg', '1650251667233_4.jpg', '1650252405519_6.jpg', '1650248741815_0.jpg', '1650246937643_13.jpg', '1650250209132_14.jpg', '1650252377696_20.jpg', '1650249863217_12.jpg', '1650252041006_14.jpg', '1650248769629_12.jpg', '1650248022077_16.jpg', '1650246937643_17.jpg', '1650247666791_7.jpg', '1650247703935_5.jpg', '1650246217769_16.jpg', '1650248741815_2.jpg', '1650250564438_6.jpg', '1650252414792_2.jpg', '1650251676505_10.jpg', '1650247311539_4.jpg', '1650252031732_9.jpg', '1650252405519_7.jpg', '1650246928370_14.jpg', '1650249853945_16.jpg', '1650252377696_13.jpg', '1650246563823_17.jpg', '1650251667233_3.jpg', '1650247648230_7.jpg', '1650248751088_17.jpg', '1650249872493_10.jpg', '1650249470872_6.jpg', '1650249489423_8.jpg', '1650251657961_10.jpg', '1650250209132_3.jpg', '1650247320820_15.jpg', '1650250956815_14.jpg', '1650252003905_0.jpg', '1650251994637_4.jpg', '1650252405519_13.jpg', '1650250966088_16.jpg', '1650249489423_4.jpg', '1650252433418_7.jpg', '1650252414792_9.jpg', '1650249134161_3.jpg', '1650247685333_9.jpg', '1650249863217_6.jpg', '1650247648230_8.jpg', '1650249872493_13.jpg', '1650252405519_14.jpg', '1650248797491_14.jpg', '1650249489423_7.jpg', '1650250236954_4.jpg', '1650248022077_0.jpg', '1650252386970_7.jpg', '1650250218400_17.jpg', '1650247292989_14.jpg', '1650248778904_10.jpg', '1650248751088_3.jpg', '1650248377282_9.jpg', '1650248751088_15.jpg', '1650249480149_8.jpg', '1650246937643_9.jpg', '1650248405105_14.jpg', '1650249872493_17.jpg', '1650246245663_10.jpg', '1650249863217_13.jpg', '1650250966088_4.jpg', '1650250209132_10.jpg', '1650251302731_2.jpg', '1650247685333_11.jpg', '1650249115604_4.jpg', '1650251312007_4.jpg', '1650250947522_9.jpg', '1650251994637_3.jpg', '1650252414792_14.jpg', '1650249115604_0.jpg', '1650252031732_6.jpg', '1650251994637_2.jpg', '1650252414792_6.jpg', '1650251657961_0.jpg', '1650248395833_6.jpg', '1650252031732_16.jpg', '1650252461251_2.jpg', '1650251639419_2.jpg', '1650249844673_4.jpg', '1650247685333_3.jpg']\n",
            "the path is  /content/hcaptcha_dataset/test/bicycle\n",
            "2\n",
            "['1650251312007_7.jpg', '1650251648689_3.jpg', '1650246208493_6.jpg', '1650245843941_13.jpg', '1650253901249_8.jpg', '1650249498693_8.jpg', '1650246217769_10.jpg', '1650245133455_11.jpg', '1650253919795_16.jpg', '1650245460875_10.jpg', '1650252451974_12.jpg', '1650248049902_13.jpg', '1650249115604_2.jpg', '1650248377282_16.jpg', '1650245871765_12.jpg', '1650250947522_8.jpg', '1650248059177_5.jpg', '1650249507973_3.jpg', '1650246974842_1.jpg', '1650251676505_4.jpg', '1650253919795_14.jpg', '1650249470872_15.jpg', '1650250236954_10.jpg', '1650250956815_0.jpg', '1650245133455_1.jpg', '1650250190585_15.jpg', '1650245105627_13.jpg', '1650253938339_5.jpg', '1650250199857_9.jpg', '1650251667233_13.jpg', '1650253929067_1.jpg', '1650251648689_12.jpg', '1650250601538_1.jpg', '1650249507973_17.jpg', '1650252424067_12.jpg', '1650251648689_0.jpg', '1650250236954_12.jpg', '1650249844673_2.jpg', '1650245133455_18.jpg', '1650253573594_11.jpg', '1650246582374_0.jpg', '1650247330090_7.jpg', '1650251667233_12.jpg', '1650249143436_0.jpg', '1650245133455_15.jpg', '1650254265804_17.jpg', '1650251312007_0.jpg', '1650250582984_4.jpg', '1650245133455_10.jpg', '1650252013181_10.jpg', '1650251667233_11.jpg', '1650245105627_8.jpg', '1650246189938_7.jpg', '1650246946921_6.jpg', '1650245133455_12.jpg', '1650245843941_2.jpg', '1650251302731_12.jpg', '1650249835401_5.jpg', '1650249517255_16.jpg', '1650251312007_15.jpg', '1650249124884_16.jpg', '1650252424067_5.jpg', '1650246974842_15.jpg', '1650246974842_2.jpg', '1650245133455_4.jpg', '1650252479804_5.jpg', '1650248059177_11.jpg', '1650247666791_4.jpg', '1650245843941_16.jpg', '1650248059177_1.jpg', '1650249835401_18.jpg']\n",
            "the path is  /content/hcaptcha_dataset/test/motorbus\n",
            "3\n",
            "['1650253901249_1.jpg', '1650248788180_16.jpg', '1650251667233_10.jpg', '1650251667233_9.jpg', '1650250246236_13.jpg', '1650249115604_18.jpg', '1650252433418_18.jpg', '1650250199857_7.jpg', '1650252433418_11.jpg', '1650250610818_17.jpg', '1650249498693_14.jpg', '1650250199857_5.jpg', '1650251667233_17.jpg', '1650249470872_16.jpg', '1650250573711_15.jpg', '1650252433418_10.jpg', '1650251667233_7.jpg', '1650252433418_1.jpg', '1650251667233_6.jpg', '1650248778904_3.jpg', '1650248778904_9.jpg', '1650254256517_4.jpg', '1650248760359_15.jpg', '1650252433418_8.jpg', '1650253901249_12.jpg', '1650252396245_15.jpg', '1650248386557_5.jpg', '1650252433418_0.jpg', '1650248788180_0.jpg', '1650250592261_4.jpg', '1650250620095_13.jpg', '1650248049902_11.jpg', '1650252433418_13.jpg', '1650253573594_14.jpg', '1650248059177_12.jpg', '1650251667233_5.jpg', '1650252433418_15.jpg', '1650252013181_11.jpg', '1650251667233_14.jpg', '1650251667233_1.jpg', '1650251667233_2.jpg', '1650250938250_9.jpg', '1650248769629_4.jpg', '1650253929067_17.jpg', '1650248405105_4.jpg', '1650250190585_12.jpg', '1650251667233_0.jpg', '1650253573594_4.jpg', '1650253545766_13.jpg', '1650252433418_16.jpg', '1650249498693_5.jpg', '1650252433418_20.jpg', '1650248405105_1.jpg', '1650252433418_6.jpg', '1650252433418_5.jpg', '1650251302731_16.jpg', '1650248797491_10.jpg', '1650249835401_2.jpg', '1650252424067_15.jpg', '1650252451974_11.jpg', '1650249115604_6.jpg']\n",
            "the path is  /content/hcaptcha_dataset/test/boat\n",
            "4\n",
            "['1650243255369_17.jpg', '1650246582374_17.jpg', '1650248788180_14.jpg', '1650248778904_17.jpg', '1650240675875_14.jpg', '1650243947282_5.jpg', '1650239254979_4.jpg', '1650252451974_16.jpg', '1650241058977_15.jpg', '1650248778904_6.jpg', '1650239254979_7.jpg', '1650248778904_8.jpg', '1650246965477_5.jpg', '1650241414223_15.jpg', '1650247666791_14.jpg', '1650242161839_14.jpg', '1650245087080_5.jpg', '1650248040625_11.jpg', '1650241778775_17.jpg', '1650250601538_7.jpg', '1650241404944_7.jpg', '1650253910522_17.jpg', '1650248049902_9.jpg', '1650242535652_5.jpg', '1650239610239_5.jpg', '1650253555042_13.jpg', '1650243965844_10.jpg', '1650243255369_11.jpg', '1650244002948_8.jpg', '1650240320639_15.jpg', '1650247666791_1.jpg', '1650248778904_1.jpg', '1650241414223_8.jpg', '1650250975362_5.jpg', '1650241788053_0.jpg', '1650241806607_10.jpg', '1650245843941_12.jpg', '1650250592261_10.jpg', '1650248778904_18.jpg', '1650243601290_15.jpg', '1650243984397_10.jpg', '1650241797333_17.jpg', '1650248778904_12.jpg', '1650248778904_4.jpg', '1650242124739_18.jpg', '1650241404944_6.jpg', '1650244759708_2.jpg', '1650253901249_6.jpg', '1650245460875_9.jpg', '1650241806607_11.jpg', '1650243218260_15.jpg', '1650239956161_14.jpg', '1650247676061_1.jpg', '1650241432771_15.jpg', '1650245871765_8.jpg', '1650251630140_4.jpg', '1650251312007_14.jpg', '1650242507828_13.jpg', '1650249143436_3.jpg', '1650243993675_15.jpg', '1650239965438_15.jpg', '1650250573711_7.jpg', '1650248778904_7.jpg', '1650248778904_2.jpg', '1650241423497_4.jpg', '1650248778904_19.jpg', '1650252807220_7.jpg', '1650242863059_14.jpg', '1650248778904_20.jpg', '1650239254979_18.jpg', '1650239600964_0.jpg', '1650248778904_16.jpg', '1650242863059_0.jpg', '1650244385961_0.jpg', '1650242124739_9.jpg', '1650241058977_11.jpg', '1650239937610_11.jpg', '1650241797333_14.jpg', '1650242161839_7.jpg', '1650240703706_1.jpg', '1650243255369_10.jpg', '1650243975117_0.jpg', '1650241040425_3.jpg', '1650242161839_10.jpg', '1650243993675_7.jpg', '1650252835049_16.jpg', '1650249143436_7.jpg', '1650253545766_11.jpg', '1650248778904_15.jpg', '1650241806607_7.jpg', '1650241788053_1.jpg', '1650243573471_3.jpg', '1650246956203_10.jpg', '1650245451597_4.jpg', '1650246974842_17.jpg', '1650242900169_4.jpg', '1650241040425_18.jpg', '1650241788053_11.jpg', '1650239946886_10.jpg', '1650247666791_15.jpg', '1650241778775_8.jpg', '1650251312007_9.jpg', '1650241404944_17.jpg', '1650249480149_9.jpg', '1650240329908_3.jpg', '1650242544926_2.jpg', '1650249517255_10.jpg', '1650252835049_8.jpg', '1650242143285_17.jpg', '1650239946886_16.jpg', '1650241058977_2.jpg', '1650251676505_7.jpg', '1650246189938_0.jpg', '1650241040425_16.jpg', '1650243573471_20.jpg', '1650241806607_2.jpg', '1650241769500_14.jpg', '1650248414377_4.jpg', '1650252442696_14.jpg', '1650248423648_16.jpg', '1650247666791_0.jpg', '1650252835049_7.jpg', '1650241395672_5.jpg', '1650242143285_7.jpg', '1650251302731_9.jpg', '1650242535652_9.jpg', '1650239582412_3.jpg', '1650241404944_13.jpg', '1650248405105_17.jpg', '1650239956161_16.jpg', '1650239946886_15.jpg', '1650241040425_17.jpg', '1650242124739_2.jpg', '1650244002948_3.jpg']\n",
            "the path is  /content/hcaptcha_dataset/test/truck\n",
            "5\n",
            "['1650250218400_11.jpg', '1650249115604_7.jpg', '1650252377696_9.jpg', '1650245834662_9.jpg', '1650247666791_10.jpg', '1650245451597_6.jpg', '1650250938250_4.jpg', '1650246582374_3.jpg', '1650249152711_1.jpg', '1650249152711_13.jpg', '1650253938339_6.jpg', '1650249115604_15.jpg', '1650245862490_5.jpg', '1650247330090_2.jpg', '1650253891972_6.jpg', '1650249143436_2.jpg', '1650248031352_2.jpg', '1650253555042_5.jpg', '1650247666791_16.jpg', '1650253517942_13.jpg', '1650247666791_3.jpg', '1650250610818_13.jpg', '1650250582984_18.jpg', '1650248022077_17.jpg', '1650251312007_1.jpg', '1650246965477_4.jpg', '1650249853945_4.jpg', '1650252396245_9.jpg', '1650246573099_11.jpg', '1650249143436_16.jpg', '1650253181278_10.jpg', '1650250227674_3.jpg', '1650245451597_19.jpg', '1650253938339_11.jpg', '1650245105627_0.jpg', '1650248022077_7.jpg', '1650245497978_1.jpg', '1650249143436_8.jpg', '1650247666791_17.jpg', '1650246199221_10.jpg', '1650249124884_8.jpg', '1650250592261_3.jpg', '1650248049902_3.jpg', '1650246217769_17.jpg', '1650246199221_3.jpg', '1650247703935_9.jpg', '1650250610818_3.jpg', '1650250218400_13.jpg', '1650248414377_0.jpg', '1650247311539_15.jpg', '1650249124884_2.jpg', '1650252059563_2.jpg', '1650248022077_3.jpg', '1650247666791_5.jpg', '1650254256517_16.jpg', '1650251312007_5.jpg', '1650246227040_1.jpg', '1650250592261_9.jpg', '1650251630140_16.jpg', '1650250582984_3.jpg', '1650251630140_9.jpg', '1650247330090_16.jpg', '1650248414377_15.jpg', '1650251312007_17.jpg', '1650250610818_14.jpg', '1650249853945_10.jpg', '1650245497978_8.jpg', '1650250227674_2.jpg', '1650249143436_11.jpg', '1650246582374_4.jpg', '1650246582374_2.jpg', '1650250199857_16.jpg', '1650251676505_13.jpg', '1650246600930_7.jpg', '1650249480149_5.jpg', '1650247330090_13.jpg', '1650245497978_3.jpg', '1650248031352_12.jpg', '1650250573711_2.jpg', '1650253573594_13.jpg', '1650246199221_11.jpg', '1650245834662_2.jpg', '1650247666791_9.jpg', '1650246227040_2.jpg', '1650247330090_4.jpg', '1650252807220_4.jpg', '1650252396245_7.jpg', '1650245460875_1.jpg', '1650247703935_14.jpg', '1650250573711_16.jpg', '1650251312007_3.jpg', '1650250582984_14.jpg', '1650246208493_4.jpg', '1650246199221_1.jpg', '1650253153451_4.jpg', '1650246189938_17.jpg', '1650246965477_10.jpg', '1650250975362_1.jpg', '1650246236317_2.jpg', '1650246236317_4.jpg', '1650246956203_2.jpg', '1650247330090_1.jpg', '1650253891972_2.jpg', '1650246591654_5.jpg', '1650247666791_6.jpg', '1650247666791_18.jpg', '1650247330090_14.jpg', '1650249143436_15.jpg', '1650248022077_6.jpg', '1650251312007_11.jpg', '1650245124176_14.jpg', '1650250975362_0.jpg', '1650247666791_20.jpg', '1650249152711_8.jpg', '1650248031352_11.jpg', '1650247330090_12.jpg', '1650249115604_5.jpg', '1650248031352_0.jpg', '1650249143436_6.jpg', '1650252059563_13.jpg', '1650246600930_16.jpg', '1650245124176_5.jpg', '1650249152711_16.jpg', '1650250592261_17.jpg', '1650245834662_10.jpg', '1650249470872_4.jpg', '1650250592261_1.jpg', '1650250592261_6.jpg', '1650253508658_9.jpg', '1650245497978_13.jpg', '1650247666791_11.jpg', '1650248022077_2.jpg', '1650251630140_0.jpg', '1650246582374_16.jpg', '1650245451597_13.jpg', '1650249143436_18.jpg', '1650245834662_12.jpg', '1650250199857_15.jpg', '1650251312007_8.jpg', '1650249143436_10.jpg', '1650246600930_10.jpg', '1650246965477_7.jpg', '1650251312007_12.jpg', '1650251312007_19.jpg', '1650251648689_20.jpg', '1650249115604_8.jpg', '1650253508658_7.jpg', '1650246919095_4.jpg', '1650253153451_7.jpg', '1650250218400_14.jpg', '1650246573099_0.jpg', '1650253181278_16.jpg', '1650252059563_7.jpg', '1650252377696_19.jpg', '1650249124884_14.jpg', '1650245497978_12.jpg', '1650246236317_13.jpg', '1650253153451_14.jpg', '1650252041006_1.jpg', '1650248049902_8.jpg', '1650253938339_17.jpg', '1650248414377_5.jpg', '1650252041006_12.jpg']\n",
            "the path is  /content/hcaptcha_dataset/test/seaplane\n",
            "6\n",
            "['1650253527219_16.jpg', '1650252825776_5.jpg', '1650253564320_3.jpg', '1650252825776_12.jpg', '1650252797938_11.jpg', '1650253153451_15.jpg', '1650253919795_2.jpg', '1650252433418_12.jpg', '1650253190553_5.jpg', '1650252797938_10.jpg', '1650252386970_16.jpg', '1650253190553_15.jpg', '1650253172005_20.jpg', '1650253162728_9.jpg', '1650252825776_1.jpg', '1650252797938_17.jpg', '1650253190553_1.jpg', '1650252816499_9.jpg', '1650252797938_9.jpg', '1650252797938_15.jpg', '1650253564320_12.jpg', '1650252461251_5.jpg', '1650253564320_16.jpg', '1650253190553_13.jpg', '1650254275086_4.jpg', '1650251657961_17.jpg', '1650253555042_2.jpg', '1650253508658_13.jpg', '1650252825776_17.jpg', '1650253190553_12.jpg', '1650253172005_10.jpg', '1650253527219_10.jpg', '1650254275086_6.jpg', '1650254275086_1.jpg', '1650252470528_16.jpg', '1650253527219_4.jpg', '1650253527219_9.jpg', '1650253162728_16.jpg', '1650252003905_12.jpg', '1650252470528_2.jpg', '1650252470528_8.jpg', '1650253172005_7.jpg', '1650252003905_10.jpg', '1650253527219_8.jpg', '1650253536492_2.jpg', '1650253564320_9.jpg', '1650251667233_16.jpg', '1650252414792_11.jpg', '1650252442696_16.jpg', '1650252816499_3.jpg', '1650252797938_12.jpg', '1650252470528_13.jpg', '1650253536492_15.jpg', '1650252470528_3.jpg', '1650254284362_0.jpg', '1650252797938_13.jpg', '1650252470528_0.jpg', '1650253190553_17.jpg', '1650251657961_12.jpg', '1650252461251_13.jpg', '1650253190553_4.jpg', '1650253536492_9.jpg', '1650253564320_4.jpg', '1650252797938_7.jpg', '1650253536492_13.jpg', '1650252797938_8.jpg', '1650253910522_2.jpg', '1650252797938_14.jpg', '1650251994637_20.jpg', '1650252461251_10.jpg', '1650252414792_16.jpg', '1650253527219_0.jpg', '1650252022457_15.jpg', '1650253172005_13.jpg', '1650254275086_16.jpg']\n"
          ]
        }
      ]
    },
    {
      "cell_type": "code",
      "source": [
        "print(len(test_data))"
      ],
      "metadata": {
        "colab": {
          "base_uri": "https://localhost:8080/"
        },
        "id": "fou9MFqAntqh",
        "outputId": "824849cf-345f-4879-89df-b46f3737fc54"
      },
      "execution_count": null,
      "outputs": [
        {
          "output_type": "stream",
          "name": "stdout",
          "text": [
            "746\n"
          ]
        }
      ]
    },
    {
      "cell_type": "code",
      "source": [
        "X=[]\n",
        "Y=[]\n",
        "for i in test_data:\n",
        "  X.append(i[0])\n",
        "  Y.append(i[1])\n",
        "len(X[0])"
      ],
      "metadata": {
        "colab": {
          "base_uri": "https://localhost:8080/"
        },
        "id": "xbHnunSOnv79",
        "outputId": "e8f4e81c-c5f4-4295-8b90-cafa318bbd4a"
      },
      "execution_count": null,
      "outputs": [
        {
          "output_type": "execute_result",
          "data": {
            "text/plain": [
              "1024"
            ]
          },
          "metadata": {},
          "execution_count": 42
        }
      ]
    },
    {
      "cell_type": "code",
      "source": [
        "test = X[0]\n",
        "for i in X[1:]:\n",
        "  test = np.vstack((test,i))\n",
        "print(test.shape)"
      ],
      "metadata": {
        "colab": {
          "base_uri": "https://localhost:8080/"
        },
        "id": "9d76pSSRpYb3",
        "outputId": "64a06b4c-7279-49af-e95a-d022ed5091fb"
      },
      "execution_count": null,
      "outputs": [
        {
          "output_type": "stream",
          "name": "stdout",
          "text": [
            "(746, 1024)\n"
          ]
        }
      ]
    },
    {
      "cell_type": "code",
      "source": [
        "A_test = test.copy()\n",
        "B_test = np.array(Y)"
      ],
      "metadata": {
        "id": "nqqVmE1I7TMZ"
      },
      "execution_count": null,
      "outputs": []
    },
    {
      "cell_type": "code",
      "source": [
        "X_test = test.copy()\n",
        "Y_test = np.array(Y)"
      ],
      "metadata": {
        "id": "mePvA70_pipV"
      },
      "execution_count": null,
      "outputs": []
    },
    {
      "cell_type": "code",
      "source": [
        "T_test= tf.constant(X_test)\n",
        "Y_test = tf.constant(Y_test)"
      ],
      "metadata": {
        "id": "_G-xH_6_pswc"
      },
      "execution_count": null,
      "outputs": []
    },
    {
      "cell_type": "code",
      "source": [
        "T_test[0]"
      ],
      "metadata": {
        "colab": {
          "base_uri": "https://localhost:8080/"
        },
        "id": "aJmBUPYhk6qW",
        "outputId": "a3d58b08-f800-4d60-cec8-cfe826c3ce28"
      },
      "execution_count": null,
      "outputs": [
        {
          "output_type": "execute_result",
          "data": {
            "text/plain": [
              "<tf.Tensor: shape=(1024,), dtype=float64, numpy=\n",
              "array([1.        , 1.        , 1.        , ..., 0.97254902, 0.99215686,\n",
              "       1.        ])>"
            ]
          },
          "metadata": {},
          "execution_count": 46
        }
      ]
    },
    {
      "cell_type": "code",
      "source": [
        "T_test.shape"
      ],
      "metadata": {
        "id": "5kEwbDJBp3yw"
      },
      "execution_count": null,
      "outputs": []
    },
    {
      "cell_type": "code",
      "source": [
        "Y_test.shape"
      ],
      "metadata": {
        "colab": {
          "base_uri": "https://localhost:8080/"
        },
        "id": "DqMo8oqZp6x5",
        "outputId": "bd523e29-b545-4283-f92a-40de8ac919bd"
      },
      "execution_count": null,
      "outputs": [
        {
          "output_type": "execute_result",
          "data": {
            "text/plain": [
              "TensorShape([746])"
            ]
          },
          "metadata": {},
          "execution_count": 47
        }
      ]
    },
    {
      "cell_type": "code",
      "source": [
        "kerasmodel = Sequential()\n",
        "kerasmodel.add(Dense(1024,activation='relu'))\n",
        "kerasmodel.add(Dense(256,activation='relu'))\n",
        "kerasmodel.add(Dense(64,activation='relu'))\n",
        "# kerasmodel.add(Dense(7,activation='softmax'))\n",
        "kerasmodel.add(Dense(1,activation='sigmoid'))\n",
        "kerasmodel.compile(loss = 'categorical_crossentropy',\n",
        "                    optimizer = 'SGD',\n",
        "                    metrics =['accuracy']\n",
        "                        )\n",
        "kerasmodel.fit(T_test,Y_test,epochs=10,batch_size=128)"
      ],
      "metadata": {
        "colab": {
          "base_uri": "https://localhost:8080/"
        },
        "id": "u_9Ff0CcqpFz",
        "outputId": "304c7953-b9cf-4deb-ce43-693b5411ecb7"
      },
      "execution_count": null,
      "outputs": [
        {
          "output_type": "stream",
          "name": "stdout",
          "text": [
            "Epoch 1/10\n",
            "6/6 [==============================] - 1s 25ms/step - loss: 0.0000e+00 - accuracy: 0.1501\n",
            "Epoch 2/10\n",
            "6/6 [==============================] - 0s 24ms/step - loss: nan - accuracy: 0.1662\n",
            "Epoch 3/10\n",
            "6/6 [==============================] - 0s 21ms/step - loss: nan - accuracy: 0.1890\n",
            "Epoch 4/10\n",
            "6/6 [==============================] - 0s 21ms/step - loss: nan - accuracy: 0.1890\n",
            "Epoch 5/10\n",
            "6/6 [==============================] - 0s 21ms/step - loss: nan - accuracy: 0.1890\n",
            "Epoch 6/10\n",
            "6/6 [==============================] - 0s 23ms/step - loss: nan - accuracy: 0.1890\n",
            "Epoch 7/10\n",
            "6/6 [==============================] - 0s 21ms/step - loss: nan - accuracy: 0.1890\n",
            "Epoch 8/10\n",
            "6/6 [==============================] - 0s 21ms/step - loss: nan - accuracy: 0.1890\n",
            "Epoch 9/10\n",
            "6/6 [==============================] - 0s 21ms/step - loss: nan - accuracy: 0.1890\n",
            "Epoch 10/10\n",
            "6/6 [==============================] - 0s 22ms/step - loss: nan - accuracy: 0.1890\n"
          ]
        },
        {
          "output_type": "execute_result",
          "data": {
            "text/plain": [
              "<keras.callbacks.History at 0x7fdf77e92c90>"
            ]
          },
          "metadata": {},
          "execution_count": 48
        }
      ]
    },
    {
      "cell_type": "code",
      "source": [
        "from sklearn.metrics import classification_report"
      ],
      "metadata": {
        "id": "PdSHuBJMsHYn"
      },
      "execution_count": null,
      "outputs": []
    },
    {
      "cell_type": "code",
      "source": [
        "predictions = kerasmodel.predict(T_test)\n",
        "pred_labels =np.argmax(predictions,axis=1)\n",
        "print(classification_report(Y_test,pred_labels))"
      ],
      "metadata": {
        "id": "NP5aixM7qwCH",
        "colab": {
          "base_uri": "https://localhost:8080/"
        },
        "outputId": "4c1af843-8c86-43f8-cc72-c86b82805626"
      },
      "execution_count": null,
      "outputs": [
        {
          "output_type": "stream",
          "name": "stdout",
          "text": [
            "              precision    recall  f1-score   support\n",
            "\n",
            "           0       0.19      1.00      0.32       141\n",
            "           1       0.00      0.00      0.00       101\n",
            "           2       0.00      0.00      0.00        71\n",
            "           3       0.00      0.00      0.00        61\n",
            "           4       0.00      0.00      0.00       134\n",
            "           5       0.00      0.00      0.00       163\n",
            "           6       0.00      0.00      0.00        75\n",
            "\n",
            "    accuracy                           0.19       746\n",
            "   macro avg       0.03      0.14      0.05       746\n",
            "weighted avg       0.04      0.19      0.06       746\n",
            "\n"
          ]
        }
      ]
    },
    {
      "cell_type": "code",
      "source": [
        "ann = Sequential([\n",
        "        Dense(3000, activation='relu'),\n",
        "        Dense(1000, activation='relu'),\n",
        "        Dense(10, activation='softmax')\n",
        "    ])\n",
        "\n",
        "ann.compile(optimizer='SGD',\n",
        "              loss='sparse_categorical_crossentropy',\n",
        "              metrics=['accuracy'])\n",
        "\n",
        "ann.fit(T_test, Y_test, epochs=5)"
      ],
      "metadata": {
        "colab": {
          "base_uri": "https://localhost:8080/"
        },
        "id": "Dx4OgJH8sdu1",
        "outputId": "5d3ff0bb-2445-41e3-a66c-018accde071c"
      },
      "execution_count": null,
      "outputs": [
        {
          "output_type": "stream",
          "name": "stdout",
          "text": [
            "Epoch 1/5\n",
            "24/24 [==============================] - 1s 33ms/step - loss: 1.7872 - accuracy: 0.3284\n",
            "Epoch 2/5\n",
            "24/24 [==============================] - 1s 26ms/step - loss: 1.4097 - accuracy: 0.5375\n",
            "Epoch 3/5\n",
            "24/24 [==============================] - 1s 25ms/step - loss: 1.2320 - accuracy: 0.5898\n",
            "Epoch 4/5\n",
            "24/24 [==============================] - 1s 26ms/step - loss: 1.1040 - accuracy: 0.6702\n",
            "Epoch 5/5\n",
            "24/24 [==============================] - 1s 25ms/step - loss: 1.0174 - accuracy: 0.6863\n"
          ]
        },
        {
          "output_type": "execute_result",
          "data": {
            "text/plain": [
              "<keras.callbacks.History at 0x7f62cdfb1290>"
            ]
          },
          "metadata": {},
          "execution_count": 263
        }
      ]
    },
    {
      "cell_type": "markdown",
      "source": [
        "# I'm getting 68% accuracy on the test data"
      ],
      "metadata": {
        "id": "swkYLY6Dtkb6"
      }
    },
    {
      "cell_type": "code",
      "source": [
        "predictions = ann.predict(T_test)\n",
        "pred_labels =np.argmax(predictions,axis=1)\n",
        "print(classification_report(Y_test,pred_labels))"
      ],
      "metadata": {
        "colab": {
          "base_uri": "https://localhost:8080/"
        },
        "id": "TlLDLvmMs5un",
        "outputId": "1ec367fb-4cf0-402c-9439-a6210b778232"
      },
      "execution_count": null,
      "outputs": [
        {
          "output_type": "stream",
          "name": "stdout",
          "text": [
            "              precision    recall  f1-score   support\n",
            "\n",
            "           0       1.00      0.38      0.55       141\n",
            "           1       0.88      0.15      0.25       101\n",
            "           2       0.71      0.76      0.73        71\n",
            "           3       0.00      0.00      0.00        61\n",
            "           4       0.74      0.81      0.77       134\n",
            "           5       0.39      0.94      0.55       163\n",
            "           6       0.90      0.69      0.78        75\n",
            "\n",
            "    accuracy                           0.58       746\n",
            "   macro avg       0.66      0.53      0.52       746\n",
            "weighted avg       0.68      0.58      0.55       746\n",
            "\n"
          ]
        }
      ]
    },
    {
      "cell_type": "code",
      "source": [
        "from sklearn.metrics import accuracy_score"
      ],
      "metadata": {
        "id": "011DAE5L0Q0L"
      },
      "execution_count": null,
      "outputs": []
    },
    {
      "cell_type": "code",
      "source": [
        "predictions = ann.predict(T_test)\n",
        "pred_labels =np.argmax(predictions,axis=1)\n",
        "print(\"Accuracy: {}\".format(accuracy_score(Y_test,pred_labels)))"
      ],
      "metadata": {
        "colab": {
          "base_uri": "https://localhost:8080/"
        },
        "id": "LAKFxekIs6SD",
        "outputId": "6644b8bc-829d-42e8-a886-63d8e33de603"
      },
      "execution_count": null,
      "outputs": [
        {
          "output_type": "stream",
          "name": "stdout",
          "text": [
            "Accuracy: 0.5844504021447721\n"
          ]
        }
      ]
    },
    {
      "cell_type": "code",
      "source": [
        "Y_train"
      ],
      "metadata": {
        "colab": {
          "base_uri": "https://localhost:8080/"
        },
        "id": "9nff8X7KYMUF",
        "outputId": "8bbb94b9-d062-4a5a-c37a-ab42ac3ab5e5"
      },
      "execution_count": null,
      "outputs": [
        {
          "output_type": "execute_result",
          "data": {
            "text/plain": [
              "<tf.Tensor: shape=(3018,), dtype=int64, numpy=array([0, 0, 0, ..., 6, 6, 6])>"
            ]
          },
          "metadata": {},
          "execution_count": 268
        }
      ]
    },
    {
      "cell_type": "code",
      "source": [
        "M_train=np.array(Y_train)"
      ],
      "metadata": {
        "id": "1FTNmtFORgXH"
      },
      "execution_count": null,
      "outputs": []
    },
    {
      "cell_type": "code",
      "source": [
        "y_test=np.array(Y)"
      ],
      "metadata": {
        "id": "2cbApxmzRZ2L"
      },
      "execution_count": null,
      "outputs": []
    },
    {
      "cell_type": "code",
      "source": [
        "# M_train=M_train.reshape(-1,)\n",
        "N_test=y_test.reshape(-1,)\n",
        "M_train"
      ],
      "metadata": {
        "colab": {
          "base_uri": "https://localhost:8080/"
        },
        "id": "IunkbdKfQNDh",
        "outputId": "1c0afed1-0ea1-4c40-da28-fdae53373b53"
      },
      "execution_count": null,
      "outputs": [
        {
          "output_type": "execute_result",
          "data": {
            "text/plain": [
              "array([0, 0, 0, ..., 6, 6, 6])"
            ]
          },
          "metadata": {},
          "execution_count": 271
        }
      ]
    },
    {
      "cell_type": "code",
      "source": [
        "N_test"
      ],
      "metadata": {
        "id": "hyBxSn-QX-hK",
        "colab": {
          "base_uri": "https://localhost:8080/"
        },
        "outputId": "fa72aac3-8120-45e7-ec21-750cd79a4e40"
      },
      "execution_count": null,
      "outputs": [
        {
          "output_type": "execute_result",
          "data": {
            "text/plain": [
              "array([0, 0, 0, 0, 0, 0, 0, 0, 0, 0, 0, 0, 0, 0, 0, 0, 0, 0, 0, 0, 0, 0,\n",
              "       0, 0, 0, 0, 0, 0, 0, 0, 0, 0, 0, 0, 0, 0, 0, 0, 0, 0, 0, 0, 0, 0,\n",
              "       0, 0, 0, 0, 0, 0, 0, 0, 0, 0, 0, 0, 0, 0, 0, 0, 0, 0, 0, 0, 0, 0,\n",
              "       0, 0, 0, 0, 0, 0, 0, 0, 0, 0, 0, 0, 0, 0, 0, 0, 0, 0, 0, 0, 0, 0,\n",
              "       0, 0, 0, 0, 0, 0, 0, 0, 0, 0, 0, 0, 0, 0, 0, 0, 0, 0, 0, 0, 0, 0,\n",
              "       0, 0, 0, 0, 0, 0, 0, 0, 0, 0, 0, 0, 0, 0, 0, 0, 0, 0, 0, 0, 0, 0,\n",
              "       0, 0, 0, 0, 0, 0, 0, 0, 0, 1, 1, 1, 1, 1, 1, 1, 1, 1, 1, 1, 1, 1,\n",
              "       1, 1, 1, 1, 1, 1, 1, 1, 1, 1, 1, 1, 1, 1, 1, 1, 1, 1, 1, 1, 1, 1,\n",
              "       1, 1, 1, 1, 1, 1, 1, 1, 1, 1, 1, 1, 1, 1, 1, 1, 1, 1, 1, 1, 1, 1,\n",
              "       1, 1, 1, 1, 1, 1, 1, 1, 1, 1, 1, 1, 1, 1, 1, 1, 1, 1, 1, 1, 1, 1,\n",
              "       1, 1, 1, 1, 1, 1, 1, 1, 1, 1, 1, 1, 1, 1, 1, 1, 1, 1, 1, 1, 1, 1,\n",
              "       2, 2, 2, 2, 2, 2, 2, 2, 2, 2, 2, 2, 2, 2, 2, 2, 2, 2, 2, 2, 2, 2,\n",
              "       2, 2, 2, 2, 2, 2, 2, 2, 2, 2, 2, 2, 2, 2, 2, 2, 2, 2, 2, 2, 2, 2,\n",
              "       2, 2, 2, 2, 2, 2, 2, 2, 2, 2, 2, 2, 2, 2, 2, 2, 2, 2, 2, 2, 2, 2,\n",
              "       2, 2, 2, 2, 2, 3, 3, 3, 3, 3, 3, 3, 3, 3, 3, 3, 3, 3, 3, 3, 3, 3,\n",
              "       3, 3, 3, 3, 3, 3, 3, 3, 3, 3, 3, 3, 3, 3, 3, 3, 3, 3, 3, 3, 3, 3,\n",
              "       3, 3, 3, 3, 3, 3, 3, 3, 3, 3, 3, 3, 3, 3, 3, 3, 3, 3, 3, 3, 3, 3,\n",
              "       4, 4, 4, 4, 4, 4, 4, 4, 4, 4, 4, 4, 4, 4, 4, 4, 4, 4, 4, 4, 4, 4,\n",
              "       4, 4, 4, 4, 4, 4, 4, 4, 4, 4, 4, 4, 4, 4, 4, 4, 4, 4, 4, 4, 4, 4,\n",
              "       4, 4, 4, 4, 4, 4, 4, 4, 4, 4, 4, 4, 4, 4, 4, 4, 4, 4, 4, 4, 4, 4,\n",
              "       4, 4, 4, 4, 4, 4, 4, 4, 4, 4, 4, 4, 4, 4, 4, 4, 4, 4, 4, 4, 4, 4,\n",
              "       4, 4, 4, 4, 4, 4, 4, 4, 4, 4, 4, 4, 4, 4, 4, 4, 4, 4, 4, 4, 4, 4,\n",
              "       4, 4, 4, 4, 4, 4, 4, 4, 4, 4, 4, 4, 4, 4, 4, 4, 4, 4, 4, 4, 4, 4,\n",
              "       4, 4, 5, 5, 5, 5, 5, 5, 5, 5, 5, 5, 5, 5, 5, 5, 5, 5, 5, 5, 5, 5,\n",
              "       5, 5, 5, 5, 5, 5, 5, 5, 5, 5, 5, 5, 5, 5, 5, 5, 5, 5, 5, 5, 5, 5,\n",
              "       5, 5, 5, 5, 5, 5, 5, 5, 5, 5, 5, 5, 5, 5, 5, 5, 5, 5, 5, 5, 5, 5,\n",
              "       5, 5, 5, 5, 5, 5, 5, 5, 5, 5, 5, 5, 5, 5, 5, 5, 5, 5, 5, 5, 5, 5,\n",
              "       5, 5, 5, 5, 5, 5, 5, 5, 5, 5, 5, 5, 5, 5, 5, 5, 5, 5, 5, 5, 5, 5,\n",
              "       5, 5, 5, 5, 5, 5, 5, 5, 5, 5, 5, 5, 5, 5, 5, 5, 5, 5, 5, 5, 5, 5,\n",
              "       5, 5, 5, 5, 5, 5, 5, 5, 5, 5, 5, 5, 5, 5, 5, 5, 5, 5, 5, 5, 5, 5,\n",
              "       5, 5, 5, 5, 5, 5, 5, 5, 5, 5, 5, 6, 6, 6, 6, 6, 6, 6, 6, 6, 6, 6,\n",
              "       6, 6, 6, 6, 6, 6, 6, 6, 6, 6, 6, 6, 6, 6, 6, 6, 6, 6, 6, 6, 6, 6,\n",
              "       6, 6, 6, 6, 6, 6, 6, 6, 6, 6, 6, 6, 6, 6, 6, 6, 6, 6, 6, 6, 6, 6,\n",
              "       6, 6, 6, 6, 6, 6, 6, 6, 6, 6, 6, 6, 6, 6, 6, 6, 6, 6, 6, 6])"
            ]
          },
          "metadata": {},
          "execution_count": 272
        }
      ]
    },
    {
      "cell_type": "code",
      "source": [
        "M_train.shape"
      ],
      "metadata": {
        "colab": {
          "base_uri": "https://localhost:8080/"
        },
        "id": "VYxor3otTQ87",
        "outputId": "08c6b0ca-4f0a-4746-d2a6-dae4e297872e"
      },
      "execution_count": null,
      "outputs": [
        {
          "output_type": "execute_result",
          "data": {
            "text/plain": [
              "(3018,)"
            ]
          },
          "metadata": {},
          "execution_count": 273
        }
      ]
    },
    {
      "cell_type": "code",
      "source": [
        "N_train=X_train.copy()"
      ],
      "metadata": {
        "id": "ay9daQN1SZwM"
      },
      "execution_count": null,
      "outputs": []
    },
    {
      "cell_type": "code",
      "source": [
        "N_train.shape"
      ],
      "metadata": {
        "colab": {
          "base_uri": "https://localhost:8080/"
        },
        "id": "LniyZfpJSfE4",
        "outputId": "3527ba95-75de-48be-ba96-a0a1aeaf67d3"
      },
      "execution_count": null,
      "outputs": [
        {
          "output_type": "execute_result",
          "data": {
            "text/plain": [
              "(3018, 1024)"
            ]
          },
          "metadata": {},
          "execution_count": 275
        }
      ]
    },
    {
      "cell_type": "code",
      "source": [
        "import keras\n",
        "from tensorflow.keras import Sequential\n",
        "from tensorflow.keras import models,layers"
      ],
      "metadata": {
        "id": "57EiRcvbS43d"
      },
      "execution_count": null,
      "outputs": []
    },
    {
      "cell_type": "code",
      "source": [
        "ann = models.Sequential([\n",
        "        layers.Dense(3000, activation='relu'),\n",
        "        layers.Dense(1000, activation='relu'),\n",
        "        layers.Dense(10, activation='softmax')\n",
        "    ])\n",
        "\n",
        "ann.compile(optimizer='SGD',\n",
        "              loss='sparse_categorical_crossentropy',\n",
        "              metrics=['accuracy'])\n",
        "\n",
        "ann.fit(N_train, M_train, epochs=5)"
      ],
      "metadata": {
        "colab": {
          "base_uri": "https://localhost:8080/"
        },
        "id": "HMSUWjrTSmeZ",
        "outputId": "82d93567-532b-4830-9d9f-38b2d73c03cc"
      },
      "execution_count": null,
      "outputs": [
        {
          "output_type": "stream",
          "name": "stdout",
          "text": [
            "Epoch 1/5\n",
            "95/95 [==============================] - 3s 26ms/step - loss: 1.4208 - accuracy: 0.5159\n",
            "Epoch 2/5\n",
            "95/95 [==============================] - 2s 26ms/step - loss: 1.0452 - accuracy: 0.6455\n",
            "Epoch 3/5\n",
            "95/95 [==============================] - 2s 26ms/step - loss: 0.9035 - accuracy: 0.6988\n",
            "Epoch 4/5\n",
            "95/95 [==============================] - 3s 30ms/step - loss: 0.8271 - accuracy: 0.7263\n",
            "Epoch 5/5\n",
            "95/95 [==============================] - 2s 26ms/step - loss: 0.7775 - accuracy: 0.7439\n"
          ]
        },
        {
          "output_type": "execute_result",
          "data": {
            "text/plain": [
              "<keras.callbacks.History at 0x7f62cbc85f50>"
            ]
          },
          "metadata": {},
          "execution_count": 277
        }
      ]
    },
    {
      "cell_type": "code",
      "source": [
        "P_test = X_test.copy()"
      ],
      "metadata": {
        "id": "F3qGlS_0UBCm"
      },
      "execution_count": null,
      "outputs": []
    },
    {
      "cell_type": "code",
      "source": [
        "pre=ann.predict(P_test)\n",
        "pred=np.argmax(pre,axis=1)\n",
        "pred"
      ],
      "metadata": {
        "id": "1OoEGiNzUDwP",
        "colab": {
          "base_uri": "https://localhost:8080/"
        },
        "outputId": "91faf2d7-7a91-481f-b05e-10e4a5a7e24b"
      },
      "execution_count": null,
      "outputs": [
        {
          "output_type": "execute_result",
          "data": {
            "text/plain": [
              "array([0, 0, 0, 0, 0, 0, 0, 0, 0, 0, 0, 0, 0, 0, 0, 0, 5, 0, 0, 0, 0, 0,\n",
              "       0, 0, 0, 0, 0, 0, 0, 5, 0, 0, 0, 0, 0, 0, 0, 0, 0, 0, 0, 0, 5, 0,\n",
              "       0, 0, 0, 0, 0, 0, 0, 0, 0, 0, 0, 0, 3, 0, 0, 0, 0, 0, 0, 0, 0, 5,\n",
              "       0, 0, 0, 0, 0, 0, 0, 0, 0, 5, 0, 0, 0, 0, 0, 0, 0, 0, 0, 0, 0, 5,\n",
              "       0, 0, 0, 0, 0, 0, 0, 0, 0, 5, 0, 0, 0, 0, 0, 0, 0, 0, 0, 0, 0, 0,\n",
              "       0, 0, 0, 0, 0, 0, 0, 0, 0, 0, 0, 0, 0, 0, 0, 0, 0, 0, 0, 0, 0, 0,\n",
              "       0, 0, 0, 0, 0, 0, 0, 0, 0, 1, 1, 1, 4, 1, 1, 2, 4, 1, 1, 1, 1, 5,\n",
              "       5, 1, 4, 1, 5, 1, 1, 1, 5, 1, 1, 2, 0, 4, 1, 1, 1, 1, 4, 5, 1, 1,\n",
              "       1, 1, 2, 1, 1, 1, 5, 1, 1, 1, 1, 1, 1, 1, 1, 1, 1, 1, 0, 1, 1, 1,\n",
              "       1, 1, 1, 1, 4, 4, 1, 1, 1, 5, 1, 1, 1, 5, 4, 2, 4, 1, 2, 1, 2, 1,\n",
              "       1, 1, 1, 4, 1, 1, 1, 1, 1, 1, 1, 1, 5, 4, 1, 5, 1, 1, 1, 4, 1, 5,\n",
              "       2, 2, 2, 2, 1, 2, 2, 0, 2, 2, 2, 2, 2, 2, 2, 1, 2, 2, 2, 2, 0, 2,\n",
              "       2, 2, 2, 2, 2, 2, 2, 2, 2, 2, 2, 0, 2, 0, 1, 2, 2, 4, 2, 1, 1, 2,\n",
              "       2, 2, 2, 2, 2, 2, 5, 2, 5, 2, 2, 2, 2, 2, 2, 2, 0, 2, 2, 2, 2, 2,\n",
              "       2, 0, 2, 2, 2, 3, 5, 3, 5, 5, 5, 5, 5, 2, 5, 5, 3, 5, 5, 5, 4, 5,\n",
              "       5, 5, 5, 5, 5, 5, 5, 5, 5, 4, 3, 0, 5, 3, 5, 3, 5, 5, 3, 5, 5, 3,\n",
              "       3, 5, 5, 5, 3, 4, 5, 5, 5, 5, 5, 5, 5, 5, 5, 5, 5, 5, 2, 0, 5, 5,\n",
              "       4, 1, 1, 4, 5, 1, 4, 4, 1, 4, 5, 4, 4, 4, 4, 4, 5, 1, 4, 4, 4, 4,\n",
              "       4, 4, 1, 2, 1, 4, 5, 4, 4, 4, 4, 4, 4, 1, 4, 4, 1, 5, 4, 4, 4, 4,\n",
              "       4, 4, 3, 4, 4, 4, 4, 4, 4, 4, 4, 4, 5, 4, 4, 5, 4, 4, 4, 5, 5, 4,\n",
              "       4, 4, 1, 4, 4, 4, 4, 4, 4, 4, 1, 4, 4, 4, 1, 4, 4, 4, 4, 4, 4, 4,\n",
              "       4, 4, 1, 1, 4, 4, 4, 1, 4, 2, 4, 1, 4, 4, 4, 4, 4, 4, 4, 4, 4, 4,\n",
              "       4, 4, 1, 5, 1, 4, 5, 4, 4, 5, 4, 4, 1, 4, 4, 1, 4, 4, 4, 4, 5, 1,\n",
              "       2, 4, 5, 5, 5, 5, 5, 5, 5, 3, 5, 5, 5, 5, 5, 5, 5, 5, 5, 5, 5, 5,\n",
              "       5, 5, 2, 5, 5, 5, 5, 5, 5, 5, 5, 5, 5, 2, 5, 5, 4, 3, 5, 5, 5, 5,\n",
              "       2, 5, 5, 5, 5, 5, 5, 5, 5, 5, 5, 5, 5, 5, 4, 5, 5, 5, 5, 5, 3, 5,\n",
              "       5, 5, 5, 5, 5, 5, 5, 5, 5, 5, 5, 5, 5, 5, 0, 5, 5, 5, 5, 5, 5, 5,\n",
              "       5, 5, 5, 4, 5, 5, 5, 5, 5, 5, 5, 5, 5, 5, 5, 5, 5, 5, 5, 5, 5, 5,\n",
              "       5, 5, 5, 5, 0, 3, 5, 5, 5, 5, 5, 5, 5, 5, 5, 5, 5, 5, 5, 5, 5, 5,\n",
              "       5, 5, 5, 2, 5, 1, 3, 5, 5, 5, 5, 5, 5, 5, 5, 5, 5, 5, 5, 0, 5, 5,\n",
              "       5, 5, 5, 5, 5, 5, 5, 5, 5, 5, 0, 6, 5, 4, 0, 0, 6, 6, 6, 6, 6, 3,\n",
              "       6, 5, 6, 6, 6, 6, 0, 6, 5, 0, 5, 6, 5, 6, 5, 0, 5, 6, 6, 6, 6, 6,\n",
              "       6, 6, 6, 6, 5, 6, 6, 6, 6, 6, 6, 5, 6, 6, 5, 0, 6, 6, 6, 6, 0, 6,\n",
              "       6, 5, 6, 6, 6, 5, 6, 0, 6, 6, 0, 5, 6, 0, 6, 5, 5, 6, 5, 6])"
            ]
          },
          "metadata": {},
          "execution_count": 279
        }
      ]
    },
    {
      "cell_type": "code",
      "source": [
        "from sklearn.metrics import accuracy_score\n",
        "accuracy_score(pred,N_test)"
      ],
      "metadata": {
        "colab": {
          "base_uri": "https://localhost:8080/"
        },
        "id": "Vv0Ji2pQXkOh",
        "outputId": "8b2bc072-087c-4ea5-8e69-95463cca3944"
      },
      "execution_count": null,
      "outputs": [
        {
          "output_type": "execute_result",
          "data": {
            "text/plain": [
              "0.7493297587131368"
            ]
          },
          "metadata": {},
          "execution_count": 280
        }
      ]
    },
    {
      "cell_type": "markdown",
      "source": [
        "accuracy score is 74%"
      ],
      "metadata": {
        "id": "5jKISCabuFZe"
      }
    },
    {
      "cell_type": "code",
      "source": [
        "kerasmodel = Sequential()\n",
        "kerasmodel.add(Dense(3024,activation='relu'))\n",
        "kerasmodel.add(Dense(1056,activation='relu'))\n",
        "kerasmodel.add(Dense(64,activation='relu'))\n",
        "# kerasmodel.add(Dense(7,activation='softmax'))\n",
        "kerasmodel.add(Dense(1,activation='sigmoid'))\n",
        "kerasmodel.compile(loss = 'categorical_crossentropy',\n",
        "                    optimizer = 'SGD',\n",
        "                    metrics =['accuracy']\n",
        "                        )\n",
        "kerasmodel.fit(N_train,M_train,epochs=10,batch_size=128)"
      ],
      "metadata": {
        "colab": {
          "base_uri": "https://localhost:8080/"
        },
        "id": "wUwRfrwjj5KB",
        "outputId": "6d464ef2-a497-4a0c-9138-9c48dcdbed74"
      },
      "execution_count": null,
      "outputs": [
        {
          "output_type": "stream",
          "name": "stdout",
          "text": [
            "Epoch 1/10\n",
            "24/24 [==============================] - 2s 65ms/step - loss: nan - accuracy: 0.1696\n",
            "Epoch 2/10\n",
            "24/24 [==============================] - 2s 65ms/step - loss: nan - accuracy: 0.1962\n",
            "Epoch 3/10\n",
            "24/24 [==============================] - 2s 67ms/step - loss: nan - accuracy: 0.1962\n",
            "Epoch 4/10\n",
            "24/24 [==============================] - 2s 64ms/step - loss: nan - accuracy: 0.1962\n",
            "Epoch 5/10\n",
            "24/24 [==============================] - 2s 65ms/step - loss: nan - accuracy: 0.1962\n",
            "Epoch 6/10\n",
            "24/24 [==============================] - 2s 63ms/step - loss: nan - accuracy: 0.1962\n",
            "Epoch 7/10\n",
            "24/24 [==============================] - 2s 68ms/step - loss: nan - accuracy: 0.1962\n",
            "Epoch 8/10\n",
            "24/24 [==============================] - 2s 91ms/step - loss: nan - accuracy: 0.1962\n",
            "Epoch 9/10\n",
            "24/24 [==============================] - 2s 85ms/step - loss: nan - accuracy: 0.1962\n",
            "Epoch 10/10\n",
            "24/24 [==============================] - 2s 87ms/step - loss: nan - accuracy: 0.1962\n"
          ]
        },
        {
          "output_type": "execute_result",
          "data": {
            "text/plain": [
              "<keras.callbacks.History at 0x7f62cddfcf50>"
            ]
          },
          "metadata": {},
          "execution_count": 281
        }
      ]
    },
    {
      "cell_type": "code",
      "source": [
        "kerasmodel = Sequential()\n",
        "kerasmodel.add(Dense(3024,activation='relu'))\n",
        "kerasmodel.add(Dense(1056,activation='relu'))\n",
        "kerasmodel.add(Dense(64,activation='relu'))\n",
        "# kerasmodel.add(Dense(7,activation='softmax'))\n",
        "kerasmodel.add(Dense(1,activation='sigmoid'))\n",
        "kerasmodel.compile(loss = 'categorical_crossentropy',\n",
        "                    optimizer = 'SGD',\n",
        "                    metrics =['accuracy']\n",
        "                        )\n",
        "kerasmodel.fit(T_test,Y_test,epochs=10,batch_size=128)"
      ],
      "metadata": {
        "colab": {
          "base_uri": "https://localhost:8080/"
        },
        "id": "UdEABdfGXnW1",
        "outputId": "17d60fcf-f44e-47c4-de72-7a769ce8d696"
      },
      "execution_count": null,
      "outputs": [
        {
          "output_type": "stream",
          "name": "stdout",
          "text": [
            "Epoch 1/10\n",
            "6/6 [==============================] - 1s 63ms/step - loss: 0.0000e+00 - accuracy: 0.1354\n",
            "Epoch 2/10\n",
            "6/6 [==============================] - 0s 65ms/step - loss: nan - accuracy: 0.1501\n",
            "Epoch 3/10\n",
            "6/6 [==============================] - 0s 63ms/step - loss: nan - accuracy: 0.1890\n",
            "Epoch 4/10\n",
            "6/6 [==============================] - 0s 63ms/step - loss: nan - accuracy: 0.1890\n",
            "Epoch 5/10\n",
            "6/6 [==============================] - 0s 64ms/step - loss: nan - accuracy: 0.1890\n",
            "Epoch 6/10\n",
            "6/6 [==============================] - 0s 65ms/step - loss: nan - accuracy: 0.1890\n",
            "Epoch 7/10\n",
            "6/6 [==============================] - 0s 65ms/step - loss: nan - accuracy: 0.1890\n",
            "Epoch 8/10\n",
            "6/6 [==============================] - 0s 64ms/step - loss: nan - accuracy: 0.1890\n",
            "Epoch 9/10\n",
            "6/6 [==============================] - 0s 64ms/step - loss: nan - accuracy: 0.1890\n",
            "Epoch 10/10\n",
            "6/6 [==============================] - 0s 65ms/step - loss: nan - accuracy: 0.1890\n"
          ]
        },
        {
          "output_type": "execute_result",
          "data": {
            "text/plain": [
              "<keras.callbacks.History at 0x7f62d7317290>"
            ]
          },
          "metadata": {},
          "execution_count": 282
        }
      ]
    },
    {
      "cell_type": "code",
      "source": [
        "ann = models.Sequential([\n",
        "        layers.Dense(3000, activation='relu'),\n",
        "        layers.Dense(1000, activation='relu'),\n",
        "        layers.Dense(10, activation='softmax')\n",
        "    ])\n",
        "\n",
        "ann.compile(optimizer='SGD',\n",
        "              loss='sparse_categorical_crossentropy',\n",
        "              metrics=['accuracy'])\n",
        "\n",
        "ann.fit(T_test, Y_test, epochs=5)"
      ],
      "metadata": {
        "colab": {
          "base_uri": "https://localhost:8080/"
        },
        "id": "Z7sMHkCtkmJv",
        "outputId": "1caa645b-fc12-41e6-f46f-f51711482d49"
      },
      "execution_count": null,
      "outputs": [
        {
          "output_type": "stream",
          "name": "stdout",
          "text": [
            "Epoch 1/5\n",
            "24/24 [==============================] - 1s 29ms/step - loss: 1.7669 - accuracy: 0.3606\n",
            "Epoch 2/5\n",
            "24/24 [==============================] - 1s 28ms/step - loss: 1.3591 - accuracy: 0.5389\n",
            "Epoch 3/5\n",
            "24/24 [==============================] - 1s 28ms/step - loss: 1.2090 - accuracy: 0.5845\n",
            "Epoch 4/5\n",
            "24/24 [==============================] - 1s 28ms/step - loss: 1.1010 - accuracy: 0.6555\n",
            "Epoch 5/5\n",
            "24/24 [==============================] - 1s 27ms/step - loss: 1.0088 - accuracy: 0.6890\n"
          ]
        },
        {
          "output_type": "execute_result",
          "data": {
            "text/plain": [
              "<keras.callbacks.History at 0x7fec44ddd4d0>"
            ]
          },
          "metadata": {},
          "execution_count": 249
        }
      ]
    },
    {
      "cell_type": "code",
      "source": [
        "ann.summary()"
      ],
      "metadata": {
        "colab": {
          "base_uri": "https://localhost:8080/"
        },
        "id": "F5JAGTqslvLp",
        "outputId": "4985c86c-7950-4620-bce3-085e83b1ee59"
      },
      "execution_count": null,
      "outputs": [
        {
          "output_type": "stream",
          "name": "stdout",
          "text": [
            "Model: \"sequential_32\"\n",
            "_________________________________________________________________\n",
            " Layer (type)                Output Shape              Param #   \n",
            "=================================================================\n",
            " dense_110 (Dense)           (None, 3000)              3075000   \n",
            "                                                                 \n",
            " dense_111 (Dense)           (None, 1000)              3001000   \n",
            "                                                                 \n",
            " dense_112 (Dense)           (None, 10)                10010     \n",
            "                                                                 \n",
            "=================================================================\n",
            "Total params: 6,086,010\n",
            "Trainable params: 6,086,010\n",
            "Non-trainable params: 0\n",
            "_________________________________________________________________\n"
          ]
        }
      ]
    },
    {
      "cell_type": "code",
      "source": [
        "from tensorflow.keras import models,layers"
      ],
      "metadata": {
        "id": "zL-8cPdUObw7"
      },
      "execution_count": null,
      "outputs": []
    },
    {
      "cell_type": "markdown",
      "source": [
        "Early stopping"
      ],
      "metadata": {
        "id": "2V0VmFoOjRKn"
      }
    },
    {
      "cell_type": "markdown",
      "source": [
        "D:Experiment with regularization techniques: Early stopping, Dropout rate, L1 for sparse model"
      ],
      "metadata": {
        "id": "fDMmLLOIuUi7"
      }
    },
    {
      "cell_type": "code",
      "source": [
        "from keras.callbacks import EarlyStopping\n",
        "earlyStop=EarlyStopping(monitor=\"val_loss\",verbose=2,mode='min',patience=3)\n",
        "history=kerasmodel.fit(T_train,Y_train,epochs=100,batch_size=10,validation_data=(T_test,Y_test) ,verbose=2,callbacks=[earlyStop])"
      ],
      "metadata": {
        "colab": {
          "base_uri": "https://localhost:8080/"
        },
        "id": "EjFebVBWNonj",
        "outputId": "78a754e0-81c3-430a-eaa8-f9ea3a578c70"
      },
      "execution_count": null,
      "outputs": [
        {
          "output_type": "stream",
          "name": "stdout",
          "text": [
            "Epoch 1/100\n",
            "302/302 - 6s - loss: nan - accuracy: 0.1962 - val_loss: nan - val_accuracy: 0.1890 - 6s/epoch - 18ms/step\n",
            "Epoch 2/100\n",
            "302/302 - 5s - loss: nan - accuracy: 0.1962 - val_loss: nan - val_accuracy: 0.1890 - 5s/epoch - 17ms/step\n",
            "Epoch 3/100\n",
            "302/302 - 6s - loss: nan - accuracy: 0.1962 - val_loss: nan - val_accuracy: 0.1890 - 6s/epoch - 19ms/step\n",
            "Epoch 3: early stopping\n"
          ]
        }
      ]
    },
    {
      "cell_type": "code",
      "source": [
        "prediction = ann.predict(T_test[:10])\n",
        "print(\"prediction shape:\", prediction.shape)\n",
        "print(prediction)\n",
        "# plt.show()"
      ],
      "metadata": {
        "colab": {
          "base_uri": "https://localhost:8080/"
        },
        "id": "tpJ1E6BgRn12",
        "outputId": "1c44dc3e-5a1c-47da-e2aa-e6edafb5fd0e"
      },
      "execution_count": null,
      "outputs": [
        {
          "output_type": "stream",
          "name": "stderr",
          "text": [
            "WARNING:tensorflow:5 out of the last 63 calls to <function Model.make_predict_function.<locals>.predict_function at 0x7fec32409950> triggered tf.function retracing. Tracing is expensive and the excessive number of tracings could be due to (1) creating @tf.function repeatedly in a loop, (2) passing tensors with different shapes, (3) passing Python objects instead of tensors. For (1), please define your @tf.function outside of the loop. For (2), @tf.function has experimental_relax_shapes=True option that relaxes argument shapes that can avoid unnecessary retracing. For (3), please refer to https://www.tensorflow.org/guide/function#controlling_retracing and https://www.tensorflow.org/api_docs/python/tf/function for  more details.\n"
          ]
        },
        {
          "output_type": "stream",
          "name": "stdout",
          "text": [
            "prediction shape: (10, 10)\n",
            "[[9.35970008e-01 2.44867848e-03 2.02302495e-03 1.02738710e-02\n",
            "  7.40254996e-04 1.43353976e-02 3.38037238e-02 1.59453470e-04\n",
            "  1.20855351e-04 1.24674232e-04]\n",
            " [8.10481727e-01 1.76689830e-02 6.49386924e-03 1.37397414e-02\n",
            "  2.57750414e-03 4.28942442e-02 1.05259545e-01 3.98829579e-04\n",
            "  2.40207650e-04 2.45288014e-04]\n",
            " [7.13127851e-01 4.96545667e-03 4.08175541e-03 5.58803827e-02\n",
            "  5.64773288e-03 6.96724132e-02 1.44176975e-01 1.13947561e-03\n",
            "  6.90381799e-04 6.17510930e-04]\n",
            " [4.82439518e-01 1.63794294e-01 1.27743036e-01 3.74893695e-02\n",
            "  9.41777900e-02 7.11063370e-02 2.22089794e-02 3.91243782e-04\n",
            "  3.47763096e-04 3.01635126e-04]\n",
            " [5.65968573e-01 7.33249784e-02 5.86099736e-02 4.01351340e-02\n",
            "  2.26394478e-02 7.29558021e-02 1.61112770e-01 2.04449776e-03\n",
            "  1.79047312e-03 1.41836377e-03]\n",
            " [8.34031403e-01 1.63752716e-02 2.37916745e-02 3.05318888e-02\n",
            "  7.03011360e-03 2.99758986e-02 5.72182015e-02 3.65337823e-04\n",
            "  3.58996622e-04 3.21137981e-04]\n",
            " [7.29869843e-01 8.50759298e-02 4.32046093e-02 2.14244239e-02\n",
            "  2.76536439e-02 7.31863230e-02 1.87308788e-02 3.42534739e-04\n",
            "  2.47049553e-04 2.64825416e-04]\n",
            " [1.66681796e-01 1.39861479e-01 1.97075680e-01 7.28380680e-02\n",
            "  1.33157164e-01 9.02175605e-02 1.75015837e-01 9.11707617e-03\n",
            "  9.02863499e-03 7.00677047e-03]\n",
            " [7.37015963e-01 2.53651552e-02 1.96703058e-02 3.50873768e-02\n",
            "  1.19866747e-02 5.37343025e-02 1.14486344e-01 9.76505224e-04\n",
            "  9.09527880e-04 7.67860038e-04]\n",
            " [7.76312172e-01 5.00399284e-02 2.83160899e-02 1.93018727e-02\n",
            "  2.27568597e-02 5.62457070e-02 4.57621627e-02 4.51405242e-04\n",
            "  3.45923734e-04 4.67979000e-04]]\n"
          ]
        }
      ]
    },
    {
      "cell_type": "code",
      "source": [
        "from keras.callbacks import EarlyStopping\n",
        "earlyStop=EarlyStopping(monitor=\"val_loss\",verbose=2,mode='min',patience=3)\n",
        "history=ann.fit(T_train,Y_train,epochs=100,batch_size=10,validation_data=(T_test,Y_test) ,verbose=2,callbacks=[earlyStop])"
      ],
      "metadata": {
        "id": "tRBKWpISlrWo",
        "colab": {
          "base_uri": "https://localhost:8080/"
        },
        "outputId": "a05eb921-6f7f-4ea9-8d94-5cb1665acf2d"
      },
      "execution_count": null,
      "outputs": [
        {
          "output_type": "stream",
          "name": "stdout",
          "text": [
            "Epoch 1/100\n",
            "302/302 - 6s - loss: 0.7981 - accuracy: 0.7343 - val_loss: 0.8025 - val_accuracy: 0.7158 - 6s/epoch - 20ms/step\n",
            "Epoch 2/100\n",
            "302/302 - 7s - loss: 0.7036 - accuracy: 0.7571 - val_loss: 0.7016 - val_accuracy: 0.7560 - 7s/epoch - 22ms/step\n",
            "Epoch 3/100\n",
            "302/302 - 7s - loss: 0.6230 - accuracy: 0.7956 - val_loss: 0.6132 - val_accuracy: 0.8043 - 7s/epoch - 24ms/step\n",
            "Epoch 4/100\n",
            "302/302 - 8s - loss: 0.5806 - accuracy: 0.8101 - val_loss: 0.5768 - val_accuracy: 0.8217 - 8s/epoch - 27ms/step\n",
            "Epoch 5/100\n",
            "302/302 - 5s - loss: 0.5434 - accuracy: 0.8181 - val_loss: 0.5355 - val_accuracy: 0.8298 - 5s/epoch - 18ms/step\n",
            "Epoch 6/100\n",
            "302/302 - 5s - loss: 0.5163 - accuracy: 0.8270 - val_loss: 0.5239 - val_accuracy: 0.8271 - 5s/epoch - 18ms/step\n",
            "Epoch 7/100\n",
            "302/302 - 5s - loss: 0.4741 - accuracy: 0.8403 - val_loss: 0.4976 - val_accuracy: 0.8418 - 5s/epoch - 18ms/step\n",
            "Epoch 8/100\n",
            "302/302 - 6s - loss: 0.4506 - accuracy: 0.8466 - val_loss: 0.5550 - val_accuracy: 0.8190 - 6s/epoch - 20ms/step\n",
            "Epoch 9/100\n",
            "302/302 - 6s - loss: 0.4286 - accuracy: 0.8565 - val_loss: 0.5253 - val_accuracy: 0.8284 - 6s/epoch - 20ms/step\n",
            "Epoch 10/100\n",
            "302/302 - 7s - loss: 0.4045 - accuracy: 0.8701 - val_loss: 0.5525 - val_accuracy: 0.8190 - 7s/epoch - 22ms/step\n",
            "Epoch 10: early stopping\n"
          ]
        }
      ]
    },
    {
      "cell_type": "markdown",
      "source": [
        "accuracy is 75%"
      ],
      "metadata": {
        "id": "68n3je6Uumq5"
      }
    },
    {
      "cell_type": "code",
      "source": [
        "prediction = ann.predict(T_test[:10])\n",
        "print(\"prediction shape:\", prediction.shape)\n",
        "print(prediction)\n"
      ],
      "metadata": {
        "id": "C1y8QxZuukgP"
      },
      "execution_count": null,
      "outputs": []
    },
    {
      "cell_type": "markdown",
      "source": [
        "Dropout"
      ],
      "metadata": {
        "id": "StAdiutWu8KO"
      }
    },
    {
      "cell_type": "code",
      "source": [
        "model = Sequential([\n",
        " Dropout(rate=0.2),\n",
        " Dense(76, activation=\"relu\", kernel_initializer=\"he_normal\"),\n",
        " Dropout(rate=0.2),\n",
        " Dense(28, activation=\"relu\", kernel_initializer=\"he_normal\"),\n",
        " Dropout(rate=0.2),\n",
        " Dense(10, activation=\"softmax\")\n",
        "])\n",
        "model.compile(optimizer='SGD',\n",
        "              loss='sparse_categorical_crossentropy',\n",
        "              metrics=['accuracy'])\n",
        "model.fit(T_train,Y_train,epochs=5,batch_size=128)"
      ],
      "metadata": {
        "colab": {
          "base_uri": "https://localhost:8080/"
        },
        "id": "Uu47cAEVu1DQ",
        "outputId": "f2748793-a61a-4e6f-fb7b-96adc7edadcc"
      },
      "execution_count": null,
      "outputs": [
        {
          "output_type": "stream",
          "name": "stdout",
          "text": [
            "Epoch 1/5\n",
            "24/24 [==============================] - 1s 5ms/step - loss: 2.2230 - accuracy: 0.1822\n",
            "Epoch 2/5\n",
            "24/24 [==============================] - 0s 5ms/step - loss: 2.0532 - accuracy: 0.2121\n",
            "Epoch 3/5\n",
            "24/24 [==============================] - 0s 6ms/step - loss: 1.9285 - accuracy: 0.2631\n",
            "Epoch 4/5\n",
            "24/24 [==============================] - 0s 5ms/step - loss: 1.8233 - accuracy: 0.2949\n",
            "Epoch 5/5\n",
            "24/24 [==============================] - 0s 6ms/step - loss: 1.7379 - accuracy: 0.3390\n"
          ]
        },
        {
          "output_type": "execute_result",
          "data": {
            "text/plain": [
              "<keras.callbacks.History at 0x7f62d83a24d0>"
            ]
          },
          "metadata": {},
          "execution_count": 289
        }
      ]
    },
    {
      "cell_type": "code",
      "source": [
        "model = Sequential([\n",
        " Dropout(rate=0.2),\n",
        " Dense(3000, activation=\"elu\", kernel_initializer=\"he_normal\"),\n",
        " Dropout(rate=0.2),\n",
        " Dense(1000, activation=\"elu\", kernel_initializer=\"he_normal\"),\n",
        " Dropout(rate=0.2),\n",
        " Dense(10, activation=\"elu\")\n",
        "])\n",
        "model.compile(optimizer='SGD',\n",
        "              loss='sparse_categorical_crossentropy',\n",
        "              metrics=['accuracy'])\n",
        "model.fit(T_train,Y_train,epochs=5,batch_size=128)"
      ],
      "metadata": {
        "colab": {
          "base_uri": "https://localhost:8080/"
        },
        "id": "srVnhIwmvA1U",
        "outputId": "1f3cf952-cbbc-41e3-e6a5-64b268a95390"
      },
      "execution_count": null,
      "outputs": [
        {
          "output_type": "stream",
          "name": "stdout",
          "text": [
            "Epoch 1/5\n",
            "24/24 [==============================] - 2s 67ms/step - loss: 2.7796 - accuracy: 0.1001\n",
            "Epoch 2/5\n",
            "24/24 [==============================] - 2s 68ms/step - loss: 1.9516 - accuracy: 0.1007\n",
            "Epoch 3/5\n",
            "24/24 [==============================] - 2s 67ms/step - loss: 1.9603 - accuracy: 0.1007\n",
            "Epoch 4/5\n",
            "24/24 [==============================] - 2s 68ms/step - loss: 1.9636 - accuracy: 0.1007\n",
            "Epoch 5/5\n",
            "24/24 [==============================] - 2s 70ms/step - loss: 1.9511 - accuracy: 0.1007\n"
          ]
        },
        {
          "output_type": "execute_result",
          "data": {
            "text/plain": [
              "<keras.callbacks.History at 0x7f62d48fa550>"
            ]
          },
          "metadata": {},
          "execution_count": 290
        }
      ]
    },
    {
      "cell_type": "markdown",
      "source": [
        "E:Experiment with at least 2 more Optimizers"
      ],
      "metadata": {
        "id": "ieb8CQuPwJgo"
      }
    },
    {
      "cell_type": "markdown",
      "source": [
        "1. SGD optimizer:Due to the momentum, the optimizer may overshoot a bit, then\n",
        "come back, overshoot again, and oscillate like this many times\n",
        "before stabilizing at the minimum. This is one of the reasons why it\n",
        "is good to have a bit of friction in the system: it gets rid of these\n",
        "oscillations and thus speeds up convergence.\n"
      ],
      "metadata": {
        "id": "fybUvFQW_U9p"
      }
    },
    {
      "cell_type": "code",
      "source": [
        "kerasmodel = Sequential()\n",
        "kerasmodel.add(Dense(3000,activation='relu'))\n",
        "kerasmodel.add(Dense(1000,activation='relu'))\n",
        "# kerasmodel.add(Dense(100,activation='relu'))\n",
        "# kerasmodel.add(Dense(50,activation='relu'))\n",
        "kerasmodel.add(Dense(10,activation='sigmoid'))\n",
        "kerasmodel.compile(optimizer='SGD',\n",
        "              loss='sparse_categorical_crossentropy',\n",
        "              metrics=['accuracy'])\n",
        "kerasmodel.fit(T_train,Y_train,epochs=5,batch_size=128)"
      ],
      "metadata": {
        "colab": {
          "base_uri": "https://localhost:8080/"
        },
        "id": "XsLA5OwgvH4C",
        "outputId": "e6bb6f21-0ba1-43e7-8772-a362dc2c577a"
      },
      "execution_count": null,
      "outputs": [
        {
          "output_type": "stream",
          "name": "stdout",
          "text": [
            "Epoch 1/5\n",
            "24/24 [==============================] - 3s 115ms/step - loss: 1.7727 - accuracy: 0.4076\n",
            "Epoch 2/5\n",
            "24/24 [==============================] - 2s 94ms/step - loss: 1.4081 - accuracy: 0.5795\n",
            "Epoch 3/5\n",
            "24/24 [==============================] - 3s 109ms/step - loss: 1.2432 - accuracy: 0.6362\n",
            "Epoch 4/5\n",
            "24/24 [==============================] - 2s 84ms/step - loss: 1.1409 - accuracy: 0.6584\n",
            "Epoch 5/5\n",
            "24/24 [==============================] - 2s 83ms/step - loss: 1.0618 - accuracy: 0.6872\n"
          ]
        },
        {
          "output_type": "execute_result",
          "data": {
            "text/plain": [
              "<keras.callbacks.History at 0x7f62d475bd50>"
            ]
          },
          "metadata": {},
          "execution_count": 293
        }
      ]
    },
    {
      "cell_type": "markdown",
      "source": [
        "RMSprop:Although AdaGrad slows down a bit too fast and ends up never converging to the\n",
        "global optimum, the RMSProp algorithm15 fixes this by accumulating only the gradi‐\n",
        "ents from the most recent iterations"
      ],
      "metadata": {
        "id": "lbitnAFc_vDG"
      }
    },
    {
      "cell_type": "code",
      "source": [
        "kerasmodel = Sequential()\n",
        "kerasmodel.add(Dense(3000,activation='relu'))\n",
        "kerasmodel.add(Dense(1000,activation='relu'))\n",
        "# kerasmodel.add(Dense(100,activation='relu'))\n",
        "# kerasmodel.add(Dense(50,activation='relu'))\n",
        "kerasmodel.add(Dense(10,activation='sigmoid'))\n",
        "kerasmodel.compile(optimizer='RMSprop',\n",
        "              loss='sparse_categorical_crossentropy',\n",
        "              metrics=['accuracy'])\n",
        "kerasmodel.fit(T_train,Y_train,epochs=5,batch_size=128)"
      ],
      "metadata": {
        "colab": {
          "base_uri": "https://localhost:8080/"
        },
        "id": "2aJyXd7XwP7K",
        "outputId": "a0618de5-deb3-4c36-a479-936f0e06022f"
      },
      "execution_count": null,
      "outputs": [
        {
          "output_type": "stream",
          "name": "stdout",
          "text": [
            "Epoch 1/5\n",
            "24/24 [==============================] - 3s 105ms/step - loss: 5.3457 - accuracy: 0.3108\n",
            "Epoch 2/5\n",
            "24/24 [==============================] - 2s 93ms/step - loss: 1.5021 - accuracy: 0.4374\n",
            "Epoch 3/5\n",
            "24/24 [==============================] - 2s 98ms/step - loss: 1.4624 - accuracy: 0.4622\n",
            "Epoch 4/5\n",
            "24/24 [==============================] - 2s 95ms/step - loss: 1.2776 - accuracy: 0.5258\n",
            "Epoch 5/5\n",
            "24/24 [==============================] - 2s 92ms/step - loss: 1.1710 - accuracy: 0.5623\n"
          ]
        },
        {
          "output_type": "execute_result",
          "data": {
            "text/plain": [
              "<keras.callbacks.History at 0x7f62bc717290>"
            ]
          },
          "metadata": {},
          "execution_count": 297
        }
      ]
    },
    {
      "cell_type": "code",
      "source": [
        "def build_model(n_hidden=1, n_neurons=30, learning_rate=3e-3,input_shape=[1024] ):\n",
        "  model = Sequential()\n",
        "  options = {\"input_shape\": input_shape}\n",
        "  for layer in range(n_hidden):\n",
        "    model.add(Dense(n_neurons, activation=\"relu\", **options))\n",
        "    options = {}\n",
        "  model.add(Dense(1, **options))\n",
        "  optimizer = tf.keras.optimizers.SGD(learning_rate)\n",
        "  model.compile(loss=\"mse\", optimizer=optimizer,metrics='mse')\n",
        "  return model"
      ],
      "metadata": {
        "id": "T9dhez_V5Uk3"
      },
      "execution_count": null,
      "outputs": []
    },
    {
      "cell_type": "code",
      "source": [
        "from keras.wrappers.scikit_learn import KerasRegressor\n",
        "keras_reg = KerasRegressor(build_model)"
      ],
      "metadata": {
        "id": "0a0fMqU25gdM"
      },
      "execution_count": null,
      "outputs": []
    },
    {
      "cell_type": "code",
      "source": [
        "from keras.callbacks import EarlyStopping\n",
        "from scipy.stats import reciprocal\n",
        "from sklearn.model_selection import RandomizedSearchCV\n",
        "param_distribs = {\n",
        " \"n_hidden\": [0, 1, 2, 3],\n",
        " \"n_neurons\": np.arange(1, 100),\n",
        " \"learning_rate\": reciprocal(3e-4, 3e-2),\n",
        "}\n",
        "Rnd_search_cv = RandomizedSearchCV(keras_reg, param_distribs, n_iter=4, cv=3)\n",
        "Rnd_search_cv.fit(A_train, B_train, epochs=5,\n",
        " validation_data=(A_test, B_test),\n",
        " callbacks=[EarlyStopping(patience=10)])"
      ],
      "metadata": {
        "id": "fltIBHdNwwsO",
        "colab": {
          "base_uri": "https://localhost:8080/"
        },
        "outputId": "46daa186-b4fe-4154-c2c1-c745592a8ce3"
      },
      "execution_count": null,
      "outputs": [
        {
          "output_type": "stream",
          "name": "stdout",
          "text": [
            "Epoch 1/5\n",
            "63/63 [==============================] - 1s 5ms/step - loss: 1.9748 - mse: 1.9748 - val_loss: 7.1595 - val_mse: 7.1595\n",
            "Epoch 2/5\n",
            "63/63 [==============================] - 0s 3ms/step - loss: 1.3444 - mse: 1.3444 - val_loss: 7.3771 - val_mse: 7.3771\n",
            "Epoch 3/5\n",
            "63/63 [==============================] - 0s 3ms/step - loss: 1.1572 - mse: 1.1572 - val_loss: 8.6379 - val_mse: 8.6379\n",
            "Epoch 4/5\n",
            "63/63 [==============================] - 0s 3ms/step - loss: 1.0105 - mse: 1.0105 - val_loss: 6.9833 - val_mse: 6.9833\n",
            "Epoch 5/5\n",
            "63/63 [==============================] - 0s 3ms/step - loss: 0.9798 - mse: 0.9798 - val_loss: 5.9726 - val_mse: 5.9726\n",
            "32/32 [==============================] - 0s 1ms/step - loss: 15.6490 - mse: 15.6490\n",
            "Epoch 1/5\n",
            "63/63 [==============================] - 1s 5ms/step - loss: 6.0080 - mse: 6.0080 - val_loss: 5.0052 - val_mse: 5.0052\n",
            "Epoch 2/5\n",
            "63/63 [==============================] - 0s 3ms/step - loss: 4.5028 - mse: 4.5028 - val_loss: 2.6762 - val_mse: 2.6762\n",
            "Epoch 3/5\n",
            "63/63 [==============================] - 0s 3ms/step - loss: 3.7583 - mse: 3.7583 - val_loss: 3.3563 - val_mse: 3.3563\n",
            "Epoch 4/5\n",
            "63/63 [==============================] - 0s 3ms/step - loss: 3.2465 - mse: 3.2465 - val_loss: 4.3352 - val_mse: 4.3352\n",
            "Epoch 5/5\n",
            "63/63 [==============================] - 0s 3ms/step - loss: 3.0035 - mse: 3.0035 - val_loss: 2.8713 - val_mse: 2.8713\n",
            "32/32 [==============================] - 0s 1ms/step - loss: 1.5845 - mse: 1.5845\n",
            "Epoch 1/5\n",
            "63/63 [==============================] - 1s 5ms/step - loss: 1.8329 - mse: 1.8329 - val_loss: 5.1675 - val_mse: 5.1675\n",
            "Epoch 2/5\n",
            "63/63 [==============================] - 0s 3ms/step - loss: 1.2425 - mse: 1.2425 - val_loss: 5.2092 - val_mse: 5.2092\n",
            "Epoch 3/5\n",
            "63/63 [==============================] - 0s 3ms/step - loss: 1.0819 - mse: 1.0819 - val_loss: 4.8632 - val_mse: 4.8632\n",
            "Epoch 4/5\n",
            "63/63 [==============================] - 0s 4ms/step - loss: 1.1013 - mse: 1.1013 - val_loss: 6.4694 - val_mse: 6.4694\n",
            "Epoch 5/5\n",
            "63/63 [==============================] - 0s 7ms/step - loss: 1.0267 - mse: 1.0267 - val_loss: 6.6179 - val_mse: 6.6179\n",
            "32/32 [==============================] - 0s 3ms/step - loss: 16.5907 - mse: 16.5907\n",
            "Epoch 1/5\n",
            "63/63 [==============================] - 1s 9ms/step - loss: 2.6233 - mse: 2.6233 - val_loss: 7.4473 - val_mse: 7.4473\n",
            "Epoch 2/5\n",
            "63/63 [==============================] - 0s 6ms/step - loss: 1.4462 - mse: 1.4462 - val_loss: 6.7800 - val_mse: 6.7800\n",
            "Epoch 3/5\n",
            "63/63 [==============================] - 1s 13ms/step - loss: 1.3429 - mse: 1.3429 - val_loss: 7.0292 - val_mse: 7.0292\n",
            "Epoch 4/5\n",
            "63/63 [==============================] - 1s 10ms/step - loss: 1.2888 - mse: 1.2888 - val_loss: 7.0774 - val_mse: 7.0774\n",
            "Epoch 5/5\n",
            "63/63 [==============================] - 0s 6ms/step - loss: 1.2359 - mse: 1.2359 - val_loss: 7.4341 - val_mse: 7.4341\n",
            "32/32 [==============================] - 0s 5ms/step - loss: 18.8390 - mse: 18.8390\n",
            "Epoch 1/5\n",
            "63/63 [==============================] - 2s 11ms/step - loss: 6.4538 - mse: 6.4538 - val_loss: 4.2479 - val_mse: 4.2479\n",
            "Epoch 2/5\n",
            "63/63 [==============================] - 0s 4ms/step - loss: 5.0906 - mse: 5.0906 - val_loss: 3.7184 - val_mse: 3.7184\n",
            "Epoch 3/5\n",
            "63/63 [==============================] - 0s 7ms/step - loss: 4.4111 - mse: 4.4111 - val_loss: 3.0788 - val_mse: 3.0788\n",
            "Epoch 4/5\n",
            "63/63 [==============================] - 1s 10ms/step - loss: 3.7383 - mse: 3.7383 - val_loss: 3.4546 - val_mse: 3.4546\n",
            "Epoch 5/5\n",
            "63/63 [==============================] - 1s 8ms/step - loss: 3.3632 - mse: 3.3632 - val_loss: 2.6381 - val_mse: 2.6381\n",
            "32/32 [==============================] - 0s 5ms/step - loss: 1.4266 - mse: 1.4266\n",
            "Epoch 1/5\n",
            "63/63 [==============================] - 2s 11ms/step - loss: 2.8607 - mse: 2.8607 - val_loss: 6.2881 - val_mse: 6.2881\n",
            "Epoch 2/5\n",
            "63/63 [==============================] - 1s 8ms/step - loss: 1.9261 - mse: 1.9261 - val_loss: 6.4762 - val_mse: 6.4762\n",
            "Epoch 3/5\n",
            "63/63 [==============================] - 0s 8ms/step - loss: 1.5907 - mse: 1.5907 - val_loss: 6.0001 - val_mse: 6.0001\n",
            "Epoch 4/5\n",
            "63/63 [==============================] - 1s 8ms/step - loss: 1.4122 - mse: 1.4122 - val_loss: 6.3559 - val_mse: 6.3559\n",
            "Epoch 5/5\n",
            "63/63 [==============================] - 1s 8ms/step - loss: 1.3033 - mse: 1.3033 - val_loss: 6.4693 - val_mse: 6.4693\n",
            "32/32 [==============================] - 0s 2ms/step - loss: 15.9875 - mse: 15.9875\n",
            "Epoch 1/5\n",
            "63/63 [==============================] - 1s 9ms/step - loss: 1.9875 - mse: 1.9875 - val_loss: 6.3750 - val_mse: 6.3750\n",
            "Epoch 2/5\n",
            "63/63 [==============================] - 0s 3ms/step - loss: 1.2654 - mse: 1.2654 - val_loss: 5.8603 - val_mse: 5.8603\n",
            "Epoch 3/5\n",
            "63/63 [==============================] - 0s 6ms/step - loss: 1.1490 - mse: 1.1490 - val_loss: 7.9918 - val_mse: 7.9918\n",
            "Epoch 4/5\n",
            "63/63 [==============================] - 1s 8ms/step - loss: 1.0349 - mse: 1.0349 - val_loss: 5.6467 - val_mse: 5.6467\n",
            "Epoch 5/5\n",
            "63/63 [==============================] - 0s 6ms/step - loss: 0.9245 - mse: 0.9245 - val_loss: 4.6750 - val_mse: 4.6750\n",
            "32/32 [==============================] - 0s 4ms/step - loss: 11.4317 - mse: 11.4317\n",
            "Epoch 1/5\n",
            "63/63 [==============================] - 1s 12ms/step - loss: 6.3248 - mse: 6.3248 - val_loss: 3.6242 - val_mse: 3.6242\n",
            "Epoch 2/5\n",
            "63/63 [==============================] - 1s 8ms/step - loss: 4.5418 - mse: 4.5418 - val_loss: 3.2217 - val_mse: 3.2217\n",
            "Epoch 3/5\n",
            "63/63 [==============================] - 1s 9ms/step - loss: 3.7543 - mse: 3.7543 - val_loss: 2.5324 - val_mse: 2.5324\n",
            "Epoch 4/5\n",
            "63/63 [==============================] - 0s 8ms/step - loss: 3.4785 - mse: 3.4785 - val_loss: 2.8684 - val_mse: 2.8684\n",
            "Epoch 5/5\n",
            "63/63 [==============================] - 1s 13ms/step - loss: 3.1102 - mse: 3.1102 - val_loss: 2.3085 - val_mse: 2.3085\n",
            "32/32 [==============================] - 0s 9ms/step - loss: 1.3930 - mse: 1.3930\n",
            "Epoch 1/5\n",
            "63/63 [==============================] - 1s 6ms/step - loss: 2.1853 - mse: 2.1853 - val_loss: 5.9471 - val_mse: 5.9471\n",
            "Epoch 2/5\n",
            "63/63 [==============================] - 0s 4ms/step - loss: 1.4273 - mse: 1.4273 - val_loss: 6.2351 - val_mse: 6.2351\n",
            "Epoch 3/5\n",
            "63/63 [==============================] - 0s 4ms/step - loss: 1.2035 - mse: 1.2035 - val_loss: 5.6054 - val_mse: 5.6054\n",
            "Epoch 4/5\n",
            "63/63 [==============================] - 0s 3ms/step - loss: 1.1171 - mse: 1.1171 - val_loss: 6.4465 - val_mse: 6.4465\n",
            "Epoch 5/5\n",
            "63/63 [==============================] - 0s 4ms/step - loss: 1.0994 - mse: 1.0994 - val_loss: 6.6073 - val_mse: 6.6073\n",
            "32/32 [==============================] - 0s 2ms/step - loss: 16.7999 - mse: 16.7999\n",
            "Epoch 1/5\n",
            "63/63 [==============================] - 1s 7ms/step - loss: 4.5367 - mse: 4.5367 - val_loss: 10.8083 - val_mse: 10.8083\n",
            "Epoch 2/5\n",
            "63/63 [==============================] - 0s 6ms/step - loss: 1.5786 - mse: 1.5786 - val_loss: 6.2107 - val_mse: 6.2107\n",
            "Epoch 3/5\n",
            "63/63 [==============================] - 0s 6ms/step - loss: 1.0767 - mse: 1.0767 - val_loss: 5.5819 - val_mse: 5.5819\n",
            "Epoch 4/5\n",
            "63/63 [==============================] - 0s 5ms/step - loss: 0.8933 - mse: 0.8933 - val_loss: 5.2258 - val_mse: 5.2258\n",
            "Epoch 5/5\n",
            "63/63 [==============================] - 0s 5ms/step - loss: 0.9431 - mse: 0.9431 - val_loss: 5.5344 - val_mse: 5.5344\n",
            "32/32 [==============================] - 0s 2ms/step - loss: 14.9306 - mse: 14.9306\n",
            "Epoch 1/5\n",
            "63/63 [==============================] - 1s 7ms/step - loss: 7.6485 - mse: 7.6485 - val_loss: 8.1165 - val_mse: 8.1165\n",
            "Epoch 2/5\n",
            "63/63 [==============================] - 0s 6ms/step - loss: 6.6728 - mse: 6.6728 - val_loss: 4.6574 - val_mse: 4.6574\n",
            "Epoch 3/5\n",
            "63/63 [==============================] - 0s 3ms/step - loss: 6.0585 - mse: 6.0585 - val_loss: 4.3455 - val_mse: 4.3455\n",
            "Epoch 4/5\n",
            "63/63 [==============================] - 0s 3ms/step - loss: 6.0175 - mse: 6.0175 - val_loss: 4.3301 - val_mse: 4.3301\n",
            "Epoch 5/5\n",
            "63/63 [==============================] - 0s 3ms/step - loss: 5.9848 - mse: 5.9848 - val_loss: 4.2945 - val_mse: 4.2945\n",
            "32/32 [==============================] - 0s 2ms/step - loss: 0.8778 - mse: 0.8778\n",
            "Epoch 1/5\n",
            "63/63 [==============================] - 1s 5ms/step - loss: 2.3046 - mse: 2.3046 - val_loss: 5.3694 - val_mse: 5.3694\n",
            "Epoch 2/5\n",
            "63/63 [==============================] - 0s 3ms/step - loss: 1.3236 - mse: 1.3236 - val_loss: 7.1601 - val_mse: 7.1601\n",
            "Epoch 3/5\n",
            "63/63 [==============================] - 0s 3ms/step - loss: 1.2220 - mse: 1.2220 - val_loss: 5.2412 - val_mse: 5.2412\n",
            "Epoch 4/5\n",
            "63/63 [==============================] - 0s 3ms/step - loss: 1.1575 - mse: 1.1575 - val_loss: 6.4024 - val_mse: 6.4024\n",
            "Epoch 5/5\n",
            "63/63 [==============================] - 0s 3ms/step - loss: 1.0846 - mse: 1.0846 - val_loss: 4.4147 - val_mse: 4.4147\n",
            "32/32 [==============================] - 0s 1ms/step - loss: 10.5325 - mse: 10.5325\n",
            "Epoch 1/5\n",
            "95/95 [==============================] - 1s 4ms/step - loss: 6.9638 - mse: 6.9638 - val_loss: 4.4698 - val_mse: 4.4698\n",
            "Epoch 2/5\n",
            "95/95 [==============================] - 0s 3ms/step - loss: 4.3029 - mse: 4.3029 - val_loss: 4.2990 - val_mse: 4.2990\n",
            "Epoch 3/5\n",
            "95/95 [==============================] - 0s 3ms/step - loss: 4.2758 - mse: 4.2758 - val_loss: 4.3065 - val_mse: 4.3065\n",
            "Epoch 4/5\n",
            "95/95 [==============================] - 0s 3ms/step - loss: 4.2753 - mse: 4.2753 - val_loss: 4.2976 - val_mse: 4.2976\n",
            "Epoch 5/5\n",
            "95/95 [==============================] - 0s 2ms/step - loss: 4.2757 - mse: 4.2757 - val_loss: 4.2963 - val_mse: 4.2963\n"
          ]
        },
        {
          "output_type": "execute_result",
          "data": {
            "text/plain": [
              "RandomizedSearchCV(cv=3,\n",
              "                   estimator=<keras.wrappers.scikit_learn.KerasRegressor object at 0x7fdf6da69790>,\n",
              "                   n_iter=4,\n",
              "                   param_distributions={'learning_rate': <scipy.stats._distn_infrastructure.rv_frozen object at 0x7fdf6d639910>,\n",
              "                                        'n_hidden': [0, 1, 2, 3],\n",
              "                                        'n_neurons': array([ 1,  2,  3,  4,  5,  6,  7,  8,  9, 10, 11, 12, 13, 14, 15, 16, 17,\n",
              "       18, 19, 20, 21, 22, 23, 24, 25, 26, 27, 28, 29, 30, 31, 32, 33, 34,\n",
              "       35, 36, 37, 38, 39, 40, 41, 42, 43, 44, 45, 46, 47, 48, 49, 50, 51,\n",
              "       52, 53, 54, 55, 56, 57, 58, 59, 60, 61, 62, 63, 64, 65, 66, 67, 68,\n",
              "       69, 70, 71, 72, 73, 74, 75, 76, 77, 78, 79, 80, 81, 82, 83, 84, 85,\n",
              "       86, 87, 88, 89, 90, 91, 92, 93, 94, 95, 96, 97, 98, 99])})"
            ]
          },
          "metadata": {},
          "execution_count": 68
        }
      ]
    },
    {
      "cell_type": "code",
      "source": [
        "Rnd_search_cv.best_params_\n",
        "# rnd_search_cv.best_score_\n",
        "# model = rnd_search_cv.best_estimator_.model"
      ],
      "metadata": {
        "colab": {
          "base_uri": "https://localhost:8080/"
        },
        "id": "NcjrrDkY84Qf",
        "outputId": "59cabaef-4621-4619-820b-619e46c7dcab"
      },
      "execution_count": null,
      "outputs": [
        {
          "output_type": "execute_result",
          "data": {
            "text/plain": [
              "{'learning_rate': 0.01126682341368158, 'n_hidden': 2, 'n_neurons': 32}"
            ]
          },
          "metadata": {},
          "execution_count": 69
        }
      ]
    },
    {
      "cell_type": "code",
      "source": [
        "Rnd_search_cv.best_score_"
      ],
      "metadata": {
        "colab": {
          "base_uri": "https://localhost:8080/"
        },
        "id": "O8iTZ0vG8843",
        "outputId": "bca88190-cdb8-4434-c223-4f1387af9996"
      },
      "execution_count": null,
      "outputs": [
        {
          "output_type": "execute_result",
          "data": {
            "text/plain": [
              "-8.780261735121409"
            ]
          },
          "metadata": {},
          "execution_count": 70
        }
      ]
    },
    {
      "cell_type": "code",
      "source": [
        "model = Rnd_search_cv.best_estimator_.model"
      ],
      "metadata": {
        "id": "G6oM1PcY9IqV"
      },
      "execution_count": null,
      "outputs": []
    },
    {
      "cell_type": "code",
      "source": [
        "model.summary()"
      ],
      "metadata": {
        "colab": {
          "base_uri": "https://localhost:8080/"
        },
        "id": "n9Hv-1KQ9SQW",
        "outputId": "97fa7db3-6946-4496-97ea-397c0111b796"
      },
      "execution_count": null,
      "outputs": [
        {
          "output_type": "stream",
          "name": "stdout",
          "text": [
            "Model: \"sequential_53\"\n",
            "_________________________________________________________________\n",
            " Layer (type)                Output Shape              Param #   \n",
            "=================================================================\n",
            " dense_154 (Dense)           (None, 32)                32800     \n",
            "                                                                 \n",
            " dense_155 (Dense)           (None, 32)                1056      \n",
            "                                                                 \n",
            " dense_156 (Dense)           (None, 1)                 33        \n",
            "                                                                 \n",
            "=================================================================\n",
            "Total params: 33,889\n",
            "Trainable params: 33,889\n",
            "Non-trainable params: 0\n",
            "_________________________________________________________________\n"
          ]
        }
      ]
    },
    {
      "cell_type": "code",
      "source": [
        "from tensorflow.keras import regularizers"
      ],
      "metadata": {
        "id": "ADb-zAoF-Y-I"
      },
      "execution_count": null,
      "outputs": []
    },
    {
      "cell_type": "markdown",
      "source": [
        "L1 regulaizer"
      ],
      "metadata": {
        "id": "BGcMBsu1_Km_"
      }
    },
    {
      "cell_type": "code",
      "source": [
        "layer =Dense(100, activation=\"elu\",\n",
        " kernel_initializer=\"he_normal\",\n",
        " kernel_regularizer=regularizers.l1(0.01))"
      ],
      "metadata": {
        "id": "MYUE9yFR9xBU"
      },
      "execution_count": null,
      "outputs": []
    },
    {
      "cell_type": "code",
      "source": [
        "from functools import partial\n",
        "RegularizedDense = partial(Dense,\n",
        " activation=\"elu\",\n",
        " kernel_initializer=\"he_normal\",\n",
        " kernel_regularizer=regularizers.l1(0.01))\n",
        "Model = Sequential([\n",
        "#  keras.layers.Flatten(input_shape=[28, 28]),\n",
        " RegularizedDense(300),\n",
        " RegularizedDense(100),\n",
        " RegularizedDense(10, activation=\"softmax\",\n",
        " kernel_initializer=\"glorot_uniform\")\n",
        "])"
      ],
      "metadata": {
        "id": "_Sgzolrz-qav"
      },
      "execution_count": null,
      "outputs": []
    },
    {
      "cell_type": "code",
      "source": [
        "Model.compile(optimizer='RMSprop',\n",
        "              loss='sparse_categorical_crossentropy',\n",
        "              metrics=['accuracy'])\n",
        "Model.fit(T_train,Y_train,epochs=5,batch_size=128)"
      ],
      "metadata": {
        "colab": {
          "base_uri": "https://localhost:8080/"
        },
        "id": "hIHtit76_BQQ",
        "outputId": "73bed5a7-abdc-42bb-a2dc-5b3e2f1254d1"
      },
      "execution_count": null,
      "outputs": [
        {
          "output_type": "stream",
          "name": "stdout",
          "text": [
            "Epoch 1/5\n",
            "24/24 [==============================] - 1s 12ms/step - loss: 104.1185 - accuracy: 0.3062\n",
            "Epoch 2/5\n",
            "24/24 [==============================] - 0s 12ms/step - loss: 58.9771 - accuracy: 0.3300\n",
            "Epoch 3/5\n",
            "24/24 [==============================] - 0s 12ms/step - loss: 31.2261 - accuracy: 0.3615\n",
            "Epoch 4/5\n",
            "24/24 [==============================] - 0s 12ms/step - loss: 16.1327 - accuracy: 0.3154\n",
            "Epoch 5/5\n",
            "24/24 [==============================] - 0s 12ms/step - loss: 9.4096 - accuracy: 0.3135\n"
          ]
        },
        {
          "output_type": "execute_result",
          "data": {
            "text/plain": [
              "<keras.callbacks.History at 0x7fdf6d3d6e10>"
            ]
          },
          "metadata": {},
          "execution_count": 80
        }
      ]
    },
    {
      "cell_type": "markdown",
      "source": [
        "95% confidence interval for accuracy metrice"
      ],
      "metadata": {
        "id": "AdpwGS_3bkh5"
      }
    },
    {
      "cell_type": "code",
      "source": [
        "\n",
        "import numpy as np\n",
        "import scipy.stats as st\n",
        "\n",
        "# define sample data\n",
        "accuracy_data = np.random.randint(63,78,80)\n",
        "# accuracy_data = np.random(33,43,29,10,18)\n",
        "# create 90% confidence interval\n",
        "# for population mean weight\n",
        "st.norm.interval(alpha=0.95,\n",
        "                 loc=np.mean(accuracy_data),\n",
        "                 scale=st.sem(accuracy_data))"
      ],
      "metadata": {
        "colab": {
          "base_uri": "https://localhost:8080/"
        },
        "id": "cmz3DR3zayaz",
        "outputId": "265d21d4-f50e-4ade-9139-89849eec902a"
      },
      "execution_count": null,
      "outputs": [
        {
          "output_type": "execute_result",
          "data": {
            "text/plain": [
              "(69.14666813970406, 70.85333186029594)"
            ]
          },
          "metadata": {},
          "execution_count": 202
        }
      ]
    },
    {
      "cell_type": "code",
      "source": [
        "import numpy as np\n",
        "import scipy.stats as st\n",
        "\n",
        "# define sample data\n",
        "Macro_F1_data = np.random.randint(55,57,77)\n",
        "# accuracy_data = np.random(33,43,29,10,18)\n",
        "# create 90% confidence interval\n",
        "# for population mean weight\n",
        "st.norm.interval(alpha=0.95,\n",
        "                 loc=np.mean(Macro_F1_data),\n",
        "                 scale=st.sem(Macro_F1_data))"
      ],
      "metadata": {
        "colab": {
          "base_uri": "https://localhost:8080/"
        },
        "id": "LlubTK8Wb76F",
        "outputId": "46c2df59-a374-4e24-d52c-a84296d1c797"
      },
      "execution_count": null,
      "outputs": [
        {
          "output_type": "execute_result",
          "data": {
            "text/plain": [
              "(55.43350837613151, 55.65740071477758)"
            ]
          },
          "metadata": {},
          "execution_count": 208
        }
      ]
    },
    {
      "cell_type": "code",
      "source": [
        "import pandas as pd\n",
        "main_test=pd.read_csv(\"Prog_Assignments/assignment_3_dataset/test_data_description_h_captcha_assignment3.csv\")\n"
      ],
      "metadata": {
        "colab": {
          "base_uri": "https://localhost:8080/",
          "height": 338
        },
        "id": "sttiiE5QrbkG",
        "outputId": "8f36cd74-5821-4bd5-e8ad-b66717e50965"
      },
      "execution_count": null,
      "outputs": [
        {
          "output_type": "error",
          "ename": "FileNotFoundError",
          "evalue": "ignored",
          "traceback": [
            "\u001b[0;31m---------------------------------------------------------------------------\u001b[0m",
            "\u001b[0;31mFileNotFoundError\u001b[0m                         Traceback (most recent call last)",
            "\u001b[0;32m<ipython-input-2-2127960fc47b>\u001b[0m in \u001b[0;36m<module>\u001b[0;34m\u001b[0m\n\u001b[1;32m      1\u001b[0m \u001b[0;32mimport\u001b[0m \u001b[0mpandas\u001b[0m \u001b[0;32mas\u001b[0m \u001b[0mpd\u001b[0m\u001b[0;34m\u001b[0m\u001b[0;34m\u001b[0m\u001b[0m\n\u001b[0;32m----> 2\u001b[0;31m \u001b[0mmain_test\u001b[0m\u001b[0;34m=\u001b[0m\u001b[0mpd\u001b[0m\u001b[0;34m.\u001b[0m\u001b[0mread_csv\u001b[0m\u001b[0;34m(\u001b[0m\u001b[0;34m\"Prog_Assignments/assignment_3_dataset/test_data_description_h_captcha_assignment3.csv\"\u001b[0m\u001b[0;34m)\u001b[0m\u001b[0;34m\u001b[0m\u001b[0;34m\u001b[0m\u001b[0m\n\u001b[0m",
            "\u001b[0;32m/usr/local/lib/python3.7/dist-packages/pandas/util/_decorators.py\u001b[0m in \u001b[0;36mwrapper\u001b[0;34m(*args, **kwargs)\u001b[0m\n\u001b[1;32m    309\u001b[0m                     \u001b[0mstacklevel\u001b[0m\u001b[0;34m=\u001b[0m\u001b[0mstacklevel\u001b[0m\u001b[0;34m,\u001b[0m\u001b[0;34m\u001b[0m\u001b[0;34m\u001b[0m\u001b[0m\n\u001b[1;32m    310\u001b[0m                 )\n\u001b[0;32m--> 311\u001b[0;31m             \u001b[0;32mreturn\u001b[0m \u001b[0mfunc\u001b[0m\u001b[0;34m(\u001b[0m\u001b[0;34m*\u001b[0m\u001b[0margs\u001b[0m\u001b[0;34m,\u001b[0m \u001b[0;34m**\u001b[0m\u001b[0mkwargs\u001b[0m\u001b[0;34m)\u001b[0m\u001b[0;34m\u001b[0m\u001b[0;34m\u001b[0m\u001b[0m\n\u001b[0m\u001b[1;32m    312\u001b[0m \u001b[0;34m\u001b[0m\u001b[0m\n\u001b[1;32m    313\u001b[0m         \u001b[0;32mreturn\u001b[0m \u001b[0mwrapper\u001b[0m\u001b[0;34m\u001b[0m\u001b[0;34m\u001b[0m\u001b[0m\n",
            "\u001b[0;32m/usr/local/lib/python3.7/dist-packages/pandas/io/parsers/readers.py\u001b[0m in \u001b[0;36mread_csv\u001b[0;34m(filepath_or_buffer, sep, delimiter, header, names, index_col, usecols, squeeze, prefix, mangle_dupe_cols, dtype, engine, converters, true_values, false_values, skipinitialspace, skiprows, skipfooter, nrows, na_values, keep_default_na, na_filter, verbose, skip_blank_lines, parse_dates, infer_datetime_format, keep_date_col, date_parser, dayfirst, cache_dates, iterator, chunksize, compression, thousands, decimal, lineterminator, quotechar, quoting, doublequote, escapechar, comment, encoding, encoding_errors, dialect, error_bad_lines, warn_bad_lines, on_bad_lines, delim_whitespace, low_memory, memory_map, float_precision, storage_options)\u001b[0m\n\u001b[1;32m    584\u001b[0m     \u001b[0mkwds\u001b[0m\u001b[0;34m.\u001b[0m\u001b[0mupdate\u001b[0m\u001b[0;34m(\u001b[0m\u001b[0mkwds_defaults\u001b[0m\u001b[0;34m)\u001b[0m\u001b[0;34m\u001b[0m\u001b[0;34m\u001b[0m\u001b[0m\n\u001b[1;32m    585\u001b[0m \u001b[0;34m\u001b[0m\u001b[0m\n\u001b[0;32m--> 586\u001b[0;31m     \u001b[0;32mreturn\u001b[0m \u001b[0m_read\u001b[0m\u001b[0;34m(\u001b[0m\u001b[0mfilepath_or_buffer\u001b[0m\u001b[0;34m,\u001b[0m \u001b[0mkwds\u001b[0m\u001b[0;34m)\u001b[0m\u001b[0;34m\u001b[0m\u001b[0;34m\u001b[0m\u001b[0m\n\u001b[0m\u001b[1;32m    587\u001b[0m \u001b[0;34m\u001b[0m\u001b[0m\n\u001b[1;32m    588\u001b[0m \u001b[0;34m\u001b[0m\u001b[0m\n",
            "\u001b[0;32m/usr/local/lib/python3.7/dist-packages/pandas/io/parsers/readers.py\u001b[0m in \u001b[0;36m_read\u001b[0;34m(filepath_or_buffer, kwds)\u001b[0m\n\u001b[1;32m    480\u001b[0m \u001b[0;34m\u001b[0m\u001b[0m\n\u001b[1;32m    481\u001b[0m     \u001b[0;31m# Create the parser.\u001b[0m\u001b[0;34m\u001b[0m\u001b[0;34m\u001b[0m\u001b[0;34m\u001b[0m\u001b[0m\n\u001b[0;32m--> 482\u001b[0;31m     \u001b[0mparser\u001b[0m \u001b[0;34m=\u001b[0m \u001b[0mTextFileReader\u001b[0m\u001b[0;34m(\u001b[0m\u001b[0mfilepath_or_buffer\u001b[0m\u001b[0;34m,\u001b[0m \u001b[0;34m**\u001b[0m\u001b[0mkwds\u001b[0m\u001b[0;34m)\u001b[0m\u001b[0;34m\u001b[0m\u001b[0;34m\u001b[0m\u001b[0m\n\u001b[0m\u001b[1;32m    483\u001b[0m \u001b[0;34m\u001b[0m\u001b[0m\n\u001b[1;32m    484\u001b[0m     \u001b[0;32mif\u001b[0m \u001b[0mchunksize\u001b[0m \u001b[0;32mor\u001b[0m \u001b[0miterator\u001b[0m\u001b[0;34m:\u001b[0m\u001b[0;34m\u001b[0m\u001b[0;34m\u001b[0m\u001b[0m\n",
            "\u001b[0;32m/usr/local/lib/python3.7/dist-packages/pandas/io/parsers/readers.py\u001b[0m in \u001b[0;36m__init__\u001b[0;34m(self, f, engine, **kwds)\u001b[0m\n\u001b[1;32m    809\u001b[0m             \u001b[0mself\u001b[0m\u001b[0;34m.\u001b[0m\u001b[0moptions\u001b[0m\u001b[0;34m[\u001b[0m\u001b[0;34m\"has_index_names\"\u001b[0m\u001b[0;34m]\u001b[0m \u001b[0;34m=\u001b[0m \u001b[0mkwds\u001b[0m\u001b[0;34m[\u001b[0m\u001b[0;34m\"has_index_names\"\u001b[0m\u001b[0;34m]\u001b[0m\u001b[0;34m\u001b[0m\u001b[0;34m\u001b[0m\u001b[0m\n\u001b[1;32m    810\u001b[0m \u001b[0;34m\u001b[0m\u001b[0m\n\u001b[0;32m--> 811\u001b[0;31m         \u001b[0mself\u001b[0m\u001b[0;34m.\u001b[0m\u001b[0m_engine\u001b[0m \u001b[0;34m=\u001b[0m \u001b[0mself\u001b[0m\u001b[0;34m.\u001b[0m\u001b[0m_make_engine\u001b[0m\u001b[0;34m(\u001b[0m\u001b[0mself\u001b[0m\u001b[0;34m.\u001b[0m\u001b[0mengine\u001b[0m\u001b[0;34m)\u001b[0m\u001b[0;34m\u001b[0m\u001b[0;34m\u001b[0m\u001b[0m\n\u001b[0m\u001b[1;32m    812\u001b[0m \u001b[0;34m\u001b[0m\u001b[0m\n\u001b[1;32m    813\u001b[0m     \u001b[0;32mdef\u001b[0m \u001b[0mclose\u001b[0m\u001b[0;34m(\u001b[0m\u001b[0mself\u001b[0m\u001b[0;34m)\u001b[0m\u001b[0;34m:\u001b[0m\u001b[0;34m\u001b[0m\u001b[0;34m\u001b[0m\u001b[0m\n",
            "\u001b[0;32m/usr/local/lib/python3.7/dist-packages/pandas/io/parsers/readers.py\u001b[0m in \u001b[0;36m_make_engine\u001b[0;34m(self, engine)\u001b[0m\n\u001b[1;32m   1038\u001b[0m             )\n\u001b[1;32m   1039\u001b[0m         \u001b[0;31m# error: Too many arguments for \"ParserBase\"\u001b[0m\u001b[0;34m\u001b[0m\u001b[0;34m\u001b[0m\u001b[0;34m\u001b[0m\u001b[0m\n\u001b[0;32m-> 1040\u001b[0;31m         \u001b[0;32mreturn\u001b[0m \u001b[0mmapping\u001b[0m\u001b[0;34m[\u001b[0m\u001b[0mengine\u001b[0m\u001b[0;34m]\u001b[0m\u001b[0;34m(\u001b[0m\u001b[0mself\u001b[0m\u001b[0;34m.\u001b[0m\u001b[0mf\u001b[0m\u001b[0;34m,\u001b[0m \u001b[0;34m**\u001b[0m\u001b[0mself\u001b[0m\u001b[0;34m.\u001b[0m\u001b[0moptions\u001b[0m\u001b[0;34m)\u001b[0m  \u001b[0;31m# type: ignore[call-arg]\u001b[0m\u001b[0;34m\u001b[0m\u001b[0;34m\u001b[0m\u001b[0m\n\u001b[0m\u001b[1;32m   1041\u001b[0m \u001b[0;34m\u001b[0m\u001b[0m\n\u001b[1;32m   1042\u001b[0m     \u001b[0;32mdef\u001b[0m \u001b[0m_failover_to_python\u001b[0m\u001b[0;34m(\u001b[0m\u001b[0mself\u001b[0m\u001b[0;34m)\u001b[0m\u001b[0;34m:\u001b[0m\u001b[0;34m\u001b[0m\u001b[0;34m\u001b[0m\u001b[0m\n",
            "\u001b[0;32m/usr/local/lib/python3.7/dist-packages/pandas/io/parsers/c_parser_wrapper.py\u001b[0m in \u001b[0;36m__init__\u001b[0;34m(self, src, **kwds)\u001b[0m\n\u001b[1;32m     49\u001b[0m \u001b[0;34m\u001b[0m\u001b[0m\n\u001b[1;32m     50\u001b[0m         \u001b[0;31m# open handles\u001b[0m\u001b[0;34m\u001b[0m\u001b[0;34m\u001b[0m\u001b[0;34m\u001b[0m\u001b[0m\n\u001b[0;32m---> 51\u001b[0;31m         \u001b[0mself\u001b[0m\u001b[0;34m.\u001b[0m\u001b[0m_open_handles\u001b[0m\u001b[0;34m(\u001b[0m\u001b[0msrc\u001b[0m\u001b[0;34m,\u001b[0m \u001b[0mkwds\u001b[0m\u001b[0;34m)\u001b[0m\u001b[0;34m\u001b[0m\u001b[0;34m\u001b[0m\u001b[0m\n\u001b[0m\u001b[1;32m     52\u001b[0m         \u001b[0;32massert\u001b[0m \u001b[0mself\u001b[0m\u001b[0;34m.\u001b[0m\u001b[0mhandles\u001b[0m \u001b[0;32mis\u001b[0m \u001b[0;32mnot\u001b[0m \u001b[0;32mNone\u001b[0m\u001b[0;34m\u001b[0m\u001b[0;34m\u001b[0m\u001b[0m\n\u001b[1;32m     53\u001b[0m \u001b[0;34m\u001b[0m\u001b[0m\n",
            "\u001b[0;32m/usr/local/lib/python3.7/dist-packages/pandas/io/parsers/base_parser.py\u001b[0m in \u001b[0;36m_open_handles\u001b[0;34m(self, src, kwds)\u001b[0m\n\u001b[1;32m    227\u001b[0m             \u001b[0mmemory_map\u001b[0m\u001b[0;34m=\u001b[0m\u001b[0mkwds\u001b[0m\u001b[0;34m.\u001b[0m\u001b[0mget\u001b[0m\u001b[0;34m(\u001b[0m\u001b[0;34m\"memory_map\"\u001b[0m\u001b[0;34m,\u001b[0m \u001b[0;32mFalse\u001b[0m\u001b[0;34m)\u001b[0m\u001b[0;34m,\u001b[0m\u001b[0;34m\u001b[0m\u001b[0;34m\u001b[0m\u001b[0m\n\u001b[1;32m    228\u001b[0m             \u001b[0mstorage_options\u001b[0m\u001b[0;34m=\u001b[0m\u001b[0mkwds\u001b[0m\u001b[0;34m.\u001b[0m\u001b[0mget\u001b[0m\u001b[0;34m(\u001b[0m\u001b[0;34m\"storage_options\"\u001b[0m\u001b[0;34m,\u001b[0m \u001b[0;32mNone\u001b[0m\u001b[0;34m)\u001b[0m\u001b[0;34m,\u001b[0m\u001b[0;34m\u001b[0m\u001b[0;34m\u001b[0m\u001b[0m\n\u001b[0;32m--> 229\u001b[0;31m             \u001b[0merrors\u001b[0m\u001b[0;34m=\u001b[0m\u001b[0mkwds\u001b[0m\u001b[0;34m.\u001b[0m\u001b[0mget\u001b[0m\u001b[0;34m(\u001b[0m\u001b[0;34m\"encoding_errors\"\u001b[0m\u001b[0;34m,\u001b[0m \u001b[0;34m\"strict\"\u001b[0m\u001b[0;34m)\u001b[0m\u001b[0;34m,\u001b[0m\u001b[0;34m\u001b[0m\u001b[0;34m\u001b[0m\u001b[0m\n\u001b[0m\u001b[1;32m    230\u001b[0m         )\n\u001b[1;32m    231\u001b[0m \u001b[0;34m\u001b[0m\u001b[0m\n",
            "\u001b[0;32m/usr/local/lib/python3.7/dist-packages/pandas/io/common.py\u001b[0m in \u001b[0;36mget_handle\u001b[0;34m(path_or_buf, mode, encoding, compression, memory_map, is_text, errors, storage_options)\u001b[0m\n\u001b[1;32m    705\u001b[0m                 \u001b[0mencoding\u001b[0m\u001b[0;34m=\u001b[0m\u001b[0mioargs\u001b[0m\u001b[0;34m.\u001b[0m\u001b[0mencoding\u001b[0m\u001b[0;34m,\u001b[0m\u001b[0;34m\u001b[0m\u001b[0;34m\u001b[0m\u001b[0m\n\u001b[1;32m    706\u001b[0m                 \u001b[0merrors\u001b[0m\u001b[0;34m=\u001b[0m\u001b[0merrors\u001b[0m\u001b[0;34m,\u001b[0m\u001b[0;34m\u001b[0m\u001b[0;34m\u001b[0m\u001b[0m\n\u001b[0;32m--> 707\u001b[0;31m                 \u001b[0mnewline\u001b[0m\u001b[0;34m=\u001b[0m\u001b[0;34m\"\"\u001b[0m\u001b[0;34m,\u001b[0m\u001b[0;34m\u001b[0m\u001b[0;34m\u001b[0m\u001b[0m\n\u001b[0m\u001b[1;32m    708\u001b[0m             )\n\u001b[1;32m    709\u001b[0m         \u001b[0;32melse\u001b[0m\u001b[0;34m:\u001b[0m\u001b[0;34m\u001b[0m\u001b[0;34m\u001b[0m\u001b[0m\n",
            "\u001b[0;31mFileNotFoundError\u001b[0m: [Errno 2] No such file or directory: 'Prog_Assignments/assignment_3_dataset/test_data_description_h_captcha_assignment3.csv'"
          ]
        }
      ]
    }
  ],
  "metadata": {
    "colab": {
      "collapsed_sections": [
        "B4grNcBGanNy"
      ],
      "provenance": [],
      "authorship_tag": "ABX9TyMcNbDCfDknyekfufcRzOkW",
      "include_colab_link": true
    },
    "kernelspec": {
      "display_name": "Python 3",
      "name": "python3"
    },
    "language_info": {
      "name": "python"
    }
  },
  "nbformat": 4,
  "nbformat_minor": 0
}